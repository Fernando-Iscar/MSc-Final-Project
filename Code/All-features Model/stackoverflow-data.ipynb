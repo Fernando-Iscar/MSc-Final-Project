{
 "cells": [
  {
   "cell_type": "code",
   "execution_count": 2,
   "id": "e1cd1735-bb6a-46e1-a64d-82e1acb74f17",
   "metadata": {},
   "outputs": [
    {
     "name": "stdout",
     "output_type": "stream",
     "text": [
      "c:\\Users\\fenan\\OneDrive\\Desktop\\MSc DATA SCIENCE 22-23\\Final Thesis\n"
     ]
    }
   ],
   "source": [
    "import os\n",
    "print(os.getcwd())"
   ]
  },
  {
   "cell_type": "code",
   "execution_count": 7,
   "id": "cd47f764-dbf0-4297-8feb-c0ef5d100955",
   "metadata": {},
   "outputs": [],
   "source": [
    "import numpy as np\n",
    "import pandas as pd\n",
    "\n",
    "df = pd.read_excel(\"Potential Datasets\\stack-overflow-developer-survey-2022\\survey_results_public3.0.xlsx\")\n",
    "#df.sample(5)"
   ]
  },
  {
   "cell_type": "code",
   "execution_count": 17,
   "id": "1cf8dce2-d3cf-4fc1-9930-c06ad22d490d",
   "metadata": {},
   "outputs": [
    {
     "name": "stdout",
     "output_type": "stream",
     "text": [
      "the number of columns =  81\n",
      "the number of rows =  73267\n"
     ]
    }
   ],
   "source": [
    "print(\"the number of columns = \", df.columns.value_counts().sum())\n",
    "print(\"the number of rows = \", df.index.max())"
   ]
  },
  {
   "cell_type": "code",
   "execution_count": 298,
   "id": "47045755-7285-4a58-b3ab-3f40628d44cb",
   "metadata": {},
   "outputs": [],
   "source": [
    "#df.info()"
   ]
  },
  {
   "cell_type": "code",
   "execution_count": 299,
   "id": "3bcb288c-f496-41b9-af8d-6854be802a22",
   "metadata": {},
   "outputs": [],
   "source": [
    "\"\"\"interesting_cols = ['Employment','RemoteWork','CodingActivities','EdLevel', 'LearnCodeCoursesCert', 'DevType', 'OrgSize',\n",
    "                   'Country','Age', 'Gender', 'Trans', 'Sexuality', 'Ethnicity',\n",
    "                    'Accessibility', 'MentalHealth',  'WorkExp', 'ConvertedCompYearly' ]\"\"\""
   ]
  },
  {
   "cell_type": "code",
   "execution_count": 31,
   "id": "349d8f1c",
   "metadata": {},
   "outputs": [
    {
     "data": {
      "text/plain": [
       "[(0, 'Employment'),\n",
       " (1, 'RemoteWork'),\n",
       " (2, 'CodingActivities'),\n",
       " (3, 'YearsCode'),\n",
       " (4, 'EdLevel'),\n",
       " (5, 'LearnCodeCoursesCert'),\n",
       " (6, 'DevType'),\n",
       " (7, 'OrgSize'),\n",
       " (8, 'Country'),\n",
       " (9, 'Age'),\n",
       " (10, 'Gender'),\n",
       " (11, 'Trans'),\n",
       " (12, 'Sexuality'),\n",
       " (13, 'Ethnicity'),\n",
       " (14, 'Accessibility'),\n",
       " (15, 'MentalHealth'),\n",
       " (16, 'WorkExp'),\n",
       " (17, 'ConvertedCompYearly')]"
      ]
     },
     "execution_count": 31,
     "metadata": {},
     "output_type": "execute_result"
    }
   ],
   "source": [
    "interesting_cols = ['Employment','RemoteWork','CodingActivities','YearsCode','EdLevel', 'LearnCodeCoursesCert', 'DevType', 'OrgSize',\n",
    "                   'Country','Age', 'Gender', 'Trans', 'Sexuality', 'Ethnicity',\n",
    "                    'Accessibility', 'MentalHealth',  'WorkExp', 'ConvertedCompYearly' ]\n",
    "cols_to_use = [i for i in enumerate (interesting_cols)]\n",
    "\n",
    "cols_to_use\n"
   ]
  },
  {
   "cell_type": "code",
   "execution_count": 18,
   "id": "586f9991-1ee9-4dc1-96a7-fa485a4e9bb7",
   "metadata": {},
   "outputs": [],
   "source": [
    "for col in df.columns:\n",
    "    if col not in interesting_cols:\n",
    "        df = df.drop([col], axis=1)"
   ]
  },
  {
   "cell_type": "markdown",
   "id": "51794d5e-7a10-444b-a03d-14a46cc89d28",
   "metadata": {},
   "source": [
    "## Punto de guardado"
   ]
  },
  {
   "cell_type": "code",
   "execution_count": 20,
   "id": "e87f2a23-ff3f-495d-be82-8bdb2b8a4f9d",
   "metadata": {},
   "outputs": [],
   "source": [
    "# First save\n",
    "\n",
    "df.to_csv('1cleanST-OV.csv', index=False)"
   ]
  },
  {
   "cell_type": "code",
   "execution_count": 52,
   "id": "d2996341-d420-45c8-9c8a-8b4fa1fe9ddf",
   "metadata": {},
   "outputs": [
    {
     "data": {
      "text/html": [
       "<div>\n",
       "<style scoped>\n",
       "    .dataframe tbody tr th:only-of-type {\n",
       "        vertical-align: middle;\n",
       "    }\n",
       "\n",
       "    .dataframe tbody tr th {\n",
       "        vertical-align: top;\n",
       "    }\n",
       "\n",
       "    .dataframe thead th {\n",
       "        text-align: right;\n",
       "    }\n",
       "</style>\n",
       "<table border=\"1\" class=\"dataframe\">\n",
       "  <thead>\n",
       "    <tr style=\"text-align: right;\">\n",
       "      <th></th>\n",
       "      <th>CodingActivities</th>\n",
       "      <th>YearsCode</th>\n",
       "      <th>LearnCodeCoursesCert</th>\n",
       "      <th>Gender</th>\n",
       "      <th>Trans</th>\n",
       "      <th>Sexuality</th>\n",
       "      <th>Ethnicity</th>\n",
       "      <th>Accessibility</th>\n",
       "      <th>MentalHealth</th>\n",
       "    </tr>\n",
       "  </thead>\n",
       "  <tbody>\n",
       "    <tr>\n",
       "      <th>41827</th>\n",
       "      <td>Hobby;Bootstrapping a business</td>\n",
       "      <td>20</td>\n",
       "      <td>NaN</td>\n",
       "      <td>Man</td>\n",
       "      <td>No</td>\n",
       "      <td>Straight / Heterosexual</td>\n",
       "      <td>European</td>\n",
       "      <td>None of the above</td>\n",
       "      <td>None of the above</td>\n",
       "    </tr>\n",
       "    <tr>\n",
       "      <th>58638</th>\n",
       "      <td>NaN</td>\n",
       "      <td>6</td>\n",
       "      <td>NaN</td>\n",
       "      <td>Man</td>\n",
       "      <td>No</td>\n",
       "      <td>Straight / Heterosexual</td>\n",
       "      <td>White;European</td>\n",
       "      <td>None of the above</td>\n",
       "      <td>None of the above</td>\n",
       "    </tr>\n",
       "    <tr>\n",
       "      <th>56880</th>\n",
       "      <td>Hobby</td>\n",
       "      <td>7</td>\n",
       "      <td>NaN</td>\n",
       "      <td>Woman</td>\n",
       "      <td>No</td>\n",
       "      <td>Bisexual</td>\n",
       "      <td>White;Black;Multiracial;Biracial</td>\n",
       "      <td>None of the above</td>\n",
       "      <td>I have a mood or emotional disorder (e.g., dep...</td>\n",
       "    </tr>\n",
       "    <tr>\n",
       "      <th>29054</th>\n",
       "      <td>I donâ€™t code outside of work</td>\n",
       "      <td>7</td>\n",
       "      <td>Udemy</td>\n",
       "      <td>Woman</td>\n",
       "      <td>No</td>\n",
       "      <td>Straight / Heterosexual</td>\n",
       "      <td>Indian</td>\n",
       "      <td>None of the above</td>\n",
       "      <td>None of the above</td>\n",
       "    </tr>\n",
       "    <tr>\n",
       "      <th>19778</th>\n",
       "      <td>Hobby;Bootstrapping a business</td>\n",
       "      <td>10</td>\n",
       "      <td>NaN</td>\n",
       "      <td>Man</td>\n",
       "      <td>No</td>\n",
       "      <td>Straight / Heterosexual</td>\n",
       "      <td>White</td>\n",
       "      <td>None of the above</td>\n",
       "      <td>None of the above</td>\n",
       "    </tr>\n",
       "  </tbody>\n",
       "</table>\n",
       "</div>"
      ],
      "text/plain": [
       "                     CodingActivities YearsCode LearnCodeCoursesCert Gender  \\\n",
       "41827  Hobby;Bootstrapping a business        20                  NaN    Man   \n",
       "58638                             NaN         6                  NaN    Man   \n",
       "56880                           Hobby         7                  NaN  Woman   \n",
       "29054  I donâ€™t code outside of work         7                Udemy  Woman   \n",
       "19778  Hobby;Bootstrapping a business        10                  NaN    Man   \n",
       "\n",
       "      Trans                Sexuality                         Ethnicity  \\\n",
       "41827    No  Straight / Heterosexual                          European   \n",
       "58638    No  Straight / Heterosexual                    White;European   \n",
       "56880    No                 Bisexual  White;Black;Multiracial;Biracial   \n",
       "29054    No  Straight / Heterosexual                            Indian   \n",
       "19778    No  Straight / Heterosexual                             White   \n",
       "\n",
       "           Accessibility                                       MentalHealth  \n",
       "41827  None of the above                                  None of the above  \n",
       "58638  None of the above                                  None of the above  \n",
       "56880  None of the above  I have a mood or emotional disorder (e.g., dep...  \n",
       "29054  None of the above                                  None of the above  \n",
       "19778  None of the above                                  None of the above  "
      ]
     },
     "execution_count": 52,
     "metadata": {},
     "output_type": "execute_result"
    }
   ],
   "source": [
    "df1 = pd.read_csv('1cleanST-OV.csv')\n",
    "df.loc[:,['CodingActivities','YearsCode','LearnCodeCoursesCert','Gender','Trans','Sexuality','Ethnicity', 'Accessibility', 'MentalHealth']].sample(5)"
   ]
  },
  {
   "cell_type": "code",
   "execution_count": null,
   "id": "b614c031",
   "metadata": {},
   "outputs": [],
   "source": [
    "df1 = pd.read_csv('1cleanST-OV.csv')\n",
    "baseline_model = df.loc[:,['Country','Employment','EdLevel','DevType','OrgSize', 'Age','WorkExp','ConvertedCompYearly']].head()"
   ]
  },
  {
   "cell_type": "code",
   "execution_count": 304,
   "id": "361d1d44-ea28-463d-a623-87c33f10c7d4",
   "metadata": {},
   "outputs": [
    {
     "data": {
      "text/plain": [
       "'for col in df1.columns:\\n        print(\"-\"*len(col))\\n        print(col, \"({})\".format(len(df1[col].unique())))\\n        if len(df1[col].unique()) > 4:\\n            print(df1[col].unique()[:4], \"AND MORE\")\\n        else:\\n            print(df1[col].unique())'"
      ]
     },
     "execution_count": 304,
     "metadata": {},
     "output_type": "execute_result"
    }
   ],
   "source": [
    "'''for col in df1.columns:\n",
    "        print(\"-\"*len(col))\n",
    "        print(col, \"({})\".format(len(df1[col].unique())))\n",
    "        if len(df1[col].unique()) > 4:\n",
    "            print(df1[col].unique()[:4], \"AND MORE\")\n",
    "        else:\n",
    "            print(df1[col].unique())'''"
   ]
  },
  {
   "cell_type": "code",
   "execution_count": 305,
   "id": "1d103a29-1911-4e91-87a5-4c4c84c2458b",
   "metadata": {},
   "outputs": [
    {
     "name": "stdout",
     "output_type": "stream",
     "text": [
      "<class 'pandas.core.frame.DataFrame'>\n",
      "RangeIndex: 73268 entries, 0 to 73267\n",
      "Data columns (total 17 columns):\n",
      " #   Column                Non-Null Count  Dtype  \n",
      "---  ------                --------------  -----  \n",
      " 0   Employment            71709 non-null  object \n",
      " 1   RemoteWork            58958 non-null  object \n",
      " 2   CodingActivities      58899 non-null  object \n",
      " 3   EdLevel               71571 non-null  object \n",
      " 4   LearnCodeCoursesCert  29389 non-null  object \n",
      " 5   DevType               61302 non-null  object \n",
      " 6   OrgSize               51039 non-null  object \n",
      " 7   Country               71771 non-null  object \n",
      " 8   Age                   70946 non-null  object \n",
      " 9   Gender                70853 non-null  object \n",
      " 10  Trans                 70315 non-null  object \n",
      " 11  Sexuality             66565 non-null  object \n",
      " 12  Ethnicity             69474 non-null  object \n",
      " 13  Accessibility         67244 non-null  object \n",
      " 14  MentalHealth          66447 non-null  object \n",
      " 15  WorkExp               36769 non-null  float64\n",
      " 16  ConvertedCompYearly   38071 non-null  float64\n",
      "dtypes: float64(2), object(15)\n",
      "memory usage: 9.5+ MB\n"
     ]
    }
   ],
   "source": [
    "df1.info()"
   ]
  },
  {
   "cell_type": "code",
   "execution_count": 306,
   "id": "bdba6764-b557-44c8-9c95-68b4b5ab94ad",
   "metadata": {},
   "outputs": [
    {
     "data": {
      "text/plain": [
       "array([nan, 'Fully remote', 'Hybrid (some remote, some in-person)',\n",
       "       'Full in-person'], dtype=object)"
      ]
     },
     "execution_count": 306,
     "metadata": {},
     "output_type": "execute_result"
    }
   ],
   "source": [
    "df1['RemoteWork'].unique()"
   ]
  },
  {
   "cell_type": "code",
   "execution_count": 307,
   "id": "96126e5f-a808-4c43-a791-da4eb8ff13b1",
   "metadata": {},
   "outputs": [
    {
     "data": {
      "text/plain": [
       "array(['remote', 'hybrid', 'presential'], dtype=object)"
      ]
     },
     "execution_count": 307,
     "metadata": {},
     "output_type": "execute_result"
    }
   ],
   "source": [
    "df1['RemoteWork'] = df1['RemoteWork'].map(lambda x: x.replace('Fully remote', 'remote').replace('Hybrid (some remote, some in-person)', 'hybrid').replace('Full in-person', 'in-person') if isinstance(x, str) else x)\n",
    "df1.dropna(subset=['RemoteWork'], inplace=True)\n",
    "df1['RemoteWork'].unique()"
   ]
  },
  {
   "cell_type": "code",
   "execution_count": 308,
   "id": "fdae0879-3124-4457-8b44-962dbbe7f093",
   "metadata": {},
   "outputs": [
    {
     "name": "stdout",
     "output_type": "stream",
     "text": [
      "Employment              58958\n",
      "RemoteWork              58958\n",
      "CodingActivities        58865\n",
      "EdLevel                 58861\n",
      "LearnCodeCoursesCert    24301\n",
      "DevType                 58688\n",
      "OrgSize                 50782\n",
      "Country                 58958\n",
      "Age                     58430\n",
      "Gender                  58294\n",
      "Trans                   57900\n",
      "Sexuality               55172\n",
      "Ethnicity               57248\n",
      "Accessibility           55462\n",
      "MentalHealth            54840\n",
      "WorkExp                 36711\n",
      "ConvertedCompYearly     38015\n",
      "dtype: int64\n"
     ]
    }
   ],
   "source": [
    "filas_por_columna = df1.count()\n",
    "print(filas_por_columna)"
   ]
  },
  {
   "cell_type": "code",
   "execution_count": 309,
   "id": "97615c87-0404-4eea-80d3-e6e6d8473312",
   "metadata": {},
   "outputs": [
    {
     "data": {
      "text/plain": [
       "Employment                  0\n",
       "RemoteWork                  0\n",
       "CodingActivities           93\n",
       "EdLevel                    97\n",
       "LearnCodeCoursesCert    34657\n",
       "DevType                   270\n",
       "OrgSize                  8176\n",
       "Country                     0\n",
       "Age                       528\n",
       "Gender                    664\n",
       "Trans                    1058\n",
       "Sexuality                3786\n",
       "Ethnicity                1710\n",
       "Accessibility            3496\n",
       "MentalHealth             4118\n",
       "WorkExp                 22247\n",
       "ConvertedCompYearly     20943\n",
       "dtype: int64"
      ]
     },
     "execution_count": 309,
     "metadata": {},
     "output_type": "execute_result"
    }
   ],
   "source": [
    "df1.isnull().sum()"
   ]
  },
  {
   "cell_type": "code",
   "execution_count": 310,
   "id": "38dc95f9-d831-4ae3-8fda-c58ca6b4e441",
   "metadata": {},
   "outputs": [
    {
     "data": {
      "text/plain": [
       "Employment                  0\n",
       "RemoteWork                  0\n",
       "CodingActivities           93\n",
       "EdLevel                    97\n",
       "LearnCodeCoursesCert    34657\n",
       "DevType                   270\n",
       "OrgSize                  8176\n",
       "Country                     0\n",
       "Age                       528\n",
       "Gender                    664\n",
       "Trans                    1058\n",
       "Sexuality                3786\n",
       "Ethnicity                1710\n",
       "Accessibility            3496\n",
       "MentalHealth             4118\n",
       "WorkExp                 22247\n",
       "ConvertedCompYearly     20943\n",
       "dtype: int64"
      ]
     },
     "execution_count": 310,
     "metadata": {},
     "output_type": "execute_result"
    }
   ],
   "source": [
    "df1.isnull().sum()"
   ]
  },
  {
   "cell_type": "code",
   "execution_count": 311,
   "id": "33a2fe91-b17a-4b23-ab95-bdaa7725fca7",
   "metadata": {},
   "outputs": [],
   "source": [
    "df1.dropna(subset=['CodingActivities'], inplace=True)"
   ]
  },
  {
   "cell_type": "code",
   "execution_count": 312,
   "id": "ff5e558e-8b8f-421b-96f0-b49fc30263b3",
   "metadata": {},
   "outputs": [
    {
     "data": {
      "text/plain": [
       "Employment                  0\n",
       "RemoteWork                  0\n",
       "CodingActivities            0\n",
       "EdLevel                    88\n",
       "LearnCodeCoursesCert    34590\n",
       "DevType                   259\n",
       "OrgSize                  8153\n",
       "Country                     0\n",
       "Age                       514\n",
       "Gender                    648\n",
       "Trans                    1036\n",
       "Sexuality                3752\n",
       "Ethnicity                1688\n",
       "Accessibility            3465\n",
       "MentalHealth             4084\n",
       "WorkExp                 22200\n",
       "ConvertedCompYearly     20874\n",
       "dtype: int64"
      ]
     },
     "execution_count": 312,
     "metadata": {},
     "output_type": "execute_result"
    }
   ],
   "source": [
    "df1.isnull().sum()"
   ]
  },
  {
   "cell_type": "code",
   "execution_count": 313,
   "id": "2f79bed1-23ec-4748-b38f-778cdab4cd99",
   "metadata": {},
   "outputs": [
    {
     "data": {
      "text/plain": [
       "array(['yes', 'no'], dtype=object)"
      ]
     },
     "execution_count": 313,
     "metadata": {},
     "output_type": "execute_result"
    }
   ],
   "source": [
    "def hobbyfinder(value):\n",
    "    if 'hobby' in str(value.lower()):\n",
    "        return 'yes'\n",
    "    else:\n",
    "        return 'no'\n",
    "\n",
    "df1['CodingActivities'] = df1['CodingActivities'].astype(str)\n",
    "df1['CodingForHobby'] = df1['CodingActivities'].apply(hobbyfinder)\n",
    "df1['CodingForHobby'].unique()"
   ]
  },
  {
   "cell_type": "code",
   "execution_count": 314,
   "id": "fbc46109-f47e-42b8-9303-83ece7c4db85",
   "metadata": {},
   "outputs": [
    {
     "data": {
      "text/plain": [
       "13050                                        no\n",
       "41121                                        no\n",
       "49642    Coursera;Udemy;Pluralsight;edX;Udacity\n",
       "51377                                        no\n",
       "37987                                     Other\n",
       "63722                 Coursera;Udemy;Codecademy\n",
       "4379                                         no\n",
       "40412                                        no\n",
       "25609                                     Udemy\n",
       "59415                                        no\n",
       "Name: LearnCodeCoursesCert, dtype: object"
      ]
     },
     "execution_count": 314,
     "metadata": {},
     "output_type": "execute_result"
    }
   ],
   "source": [
    "# en este caso los nan se refiere a los que no tienen curso\n",
    "\n",
    "df1['LearnCodeCoursesCert']= df1['LearnCodeCoursesCert'].fillna('no')\n",
    "df1['LearnCodeCoursesCert'].sample(10)"
   ]
  },
  {
   "cell_type": "code",
   "execution_count": 315,
   "id": "26d6ac70-b68e-4b62-9bc8-7b330b422d90",
   "metadata": {
    "tags": []
   },
   "outputs": [
    {
     "data": {
      "text/plain": [
       "array(['no', 'yes'], dtype=object)"
      ]
     },
     "execution_count": 315,
     "metadata": {},
     "output_type": "execute_result"
    }
   ],
   "source": [
    "# en este caso los nan se refiere a los que no tienen curso\n",
    "\n",
    "def certification_status(x):\n",
    "    if pd.isnull(x):\n",
    "        return x\n",
    "    else:\n",
    "        return \"yes\"\n",
    "\n",
    "df1['Courses/Certifications'] = df1['LearnCodeCoursesCert'].apply(certifications)\n",
    "df1['Courses/Certifications'].unique()"
   ]
  },
  {
   "cell_type": "code",
   "execution_count": 316,
   "id": "32096075-97c1-42d8-895a-1fe15485e552",
   "metadata": {},
   "outputs": [],
   "source": [
    "df1.dropna(subset=[\"Trans\", \"Gender\", \"Ethnicity\", \"Sexuality\"], inplace=True)"
   ]
  },
  {
   "cell_type": "code",
   "execution_count": 317,
   "id": "4e9cdfe1-d4b6-4dcf-b622-7fec90cb5525",
   "metadata": {},
   "outputs": [
    {
     "data": {
      "text/plain": [
       "Employment                    0\n",
       "RemoteWork                    0\n",
       "CodingActivities              0\n",
       "EdLevel                      36\n",
       "LearnCodeCoursesCert          0\n",
       "DevType                     142\n",
       "OrgSize                    7449\n",
       "Country                       0\n",
       "Age                          63\n",
       "Gender                        0\n",
       "Trans                         0\n",
       "Sexuality                     0\n",
       "Ethnicity                     0\n",
       "Accessibility              1672\n",
       "MentalHealth               2031\n",
       "WorkExp                   20034\n",
       "ConvertedCompYearly       18108\n",
       "CodingForHobby                0\n",
       "Courses/Certifications        0\n",
       "dtype: int64"
      ]
     },
     "execution_count": 317,
     "metadata": {},
     "output_type": "execute_result"
    }
   ],
   "source": [
    "df1.isnull().sum()"
   ]
  },
  {
   "cell_type": "code",
   "execution_count": 318,
   "id": "63f1f810-117f-4bfd-8aa9-6db9ccb87bba",
   "metadata": {
    "collapsed": true,
    "jupyter": {
     "outputs_hidden": true
    },
    "tags": []
   },
   "outputs": [
    {
     "data": {
      "text/plain": [
       "array(['None of the above', 'Or, in your own words:',\n",
       "       'I am deaf / hard of hearing', nan, 'Prefer not to say',\n",
       "       'I am blind / have difficulty seeing',\n",
       "       'I am unable to / find it difficult to type',\n",
       "       'I am unable to / find it difficult to walk or stand without assistance',\n",
       "       'I am unable to / find it difficult to type;I am unable to / find it difficult to walk or stand without assistance',\n",
       "       'I am deaf / hard of hearing;I am unable to / find it difficult to walk or stand without assistance',\n",
       "       'I am deaf / hard of hearing;I am blind / have difficulty seeing',\n",
       "       'Or, in your own words:;I am blind / have difficulty seeing',\n",
       "       'I am deaf / hard of hearing;I am blind / have difficulty seeing;I am unable to / find it difficult to type;I am unable to / find it difficult to walk or stand without assistance',\n",
       "       'Or, in your own words:;I am deaf / hard of hearing;I am blind / have difficulty seeing',\n",
       "       'I am deaf / hard of hearing;I am unable to / find it difficult to type',\n",
       "       'Or, in your own words:;I am unable to / find it difficult to walk or stand without assistance',\n",
       "       'I am blind / have difficulty seeing;I am unable to / find it difficult to type',\n",
       "       'Or, in your own words:;I am deaf / hard of hearing',\n",
       "       'I am blind / have difficulty seeing;I am unable to / find it difficult to walk or stand without assistance',\n",
       "       'I am deaf / hard of hearing;I am blind / have difficulty seeing;I am unable to / find it difficult to walk or stand without assistance',\n",
       "       'Or, in your own words:;I am deaf / hard of hearing;I am blind / have difficulty seeing;I am unable to / find it difficult to type;I am unable to / find it difficult to walk or stand without assistance',\n",
       "       'I am deaf / hard of hearing;I am blind / have difficulty seeing;I am unable to / find it difficult to type',\n",
       "       'Or, in your own words:;I am unable to / find it difficult to type',\n",
       "       'Or, in your own words:;I am blind / have difficulty seeing;I am unable to / find it difficult to type',\n",
       "       'I am deaf / hard of hearing;I am unable to / find it difficult to type;I am unable to / find it difficult to walk or stand without assistance',\n",
       "       'Or, in your own words:;I am unable to / find it difficult to type;I am unable to / find it difficult to walk or stand without assistance',\n",
       "       'Or, in your own words:;I am blind / have difficulty seeing;I am unable to / find it difficult to type;I am unable to / find it difficult to walk or stand without assistance'],\n",
       "      dtype=object)"
      ]
     },
     "execution_count": 318,
     "metadata": {},
     "output_type": "execute_result"
    }
   ],
   "source": [
    "df1.Accessibility.unique()"
   ]
  },
  {
   "cell_type": "markdown",
   "id": "bc987ea8-7659-4af0-abba-36bff0af182b",
   "metadata": {},
   "source": [
    "## Aqui habria que ver que consideramos phyical dissability y que no"
   ]
  },
  {
   "cell_type": "code",
   "execution_count": 319,
   "id": "7ee49f49-aec9-4aeb-ac42-c05ead83727f",
   "metadata": {},
   "outputs": [],
   "source": [
    "df1['Accessibility']= df1['Accessibility'].fillna('no')\n",
    "df1['MentalHealth']= df1['MentalHealth'].fillna('no')"
   ]
  },
  {
   "cell_type": "code",
   "execution_count": 320,
   "id": "3bb6e84a-3d43-4778-aee9-4ad4e425f6f0",
   "metadata": {},
   "outputs": [
    {
     "data": {
      "text/plain": [
       "array(['no', 'yes'], dtype=object)"
      ]
     },
     "execution_count": 320,
     "metadata": {},
     "output_type": "execute_result"
    }
   ],
   "source": [
    "# EN ACCESSIBILITY Y MENTAL HEALTH LA MEDIAN/MEDIA DEL NaN seria \"no\", osea que seria logico sustituir NaN = \"no\"\n",
    "\n",
    "to_transform = ['None of the above']\n",
    "\n",
    "def physicaldissability(value):\n",
    "    if value in to_transform:\n",
    "        return \"no\"\n",
    "    else:\n",
    "        return \"yes\"\n",
    "\n",
    "df1['PhysicalLimitations'] = df1['Accessibility'].apply(physicaldissability)\n",
    "df1['PhysicalLimitations'].unique()"
   ]
  },
  {
   "cell_type": "code",
   "execution_count": 374,
   "id": "1f79e22d-2eee-4fc0-8ef1-fb6c640d8b0d",
   "metadata": {
    "tags": []
   },
   "outputs": [
    {
     "data": {
      "text/plain": [
       "array(['20 to 99 employees', '100 to 499 employees', 'I donâ€™t know',\n",
       "       'Just me - I am a freelancer, sole proprietor, etc.',\n",
       "       '2 to 9 employees', '5,000 to 9,999 employees',\n",
       "       '1,000 to 4,999 employees', nan, '10,000 or more employees',\n",
       "       '500 to 999 employees', '10 to 19 employees'], dtype=object)"
      ]
     },
     "execution_count": 374,
     "metadata": {},
     "output_type": "execute_result"
    }
   ],
   "source": [
    "df1.OrgSize.unique()"
   ]
  },
  {
   "cell_type": "code",
   "execution_count": 375,
   "id": "6acabceb-8656-451a-8592-04bf2dd6e610",
   "metadata": {},
   "outputs": [],
   "source": [
    "# Preprocess OrgSize column, soruce: https://www.kaggle.com/code/do1likethis/which-devs-get-paid-more-and-why#Modeling:-how-well-can-we-predict-earning?-What-variables-matter-most?\n",
    "\n",
    "df['OrgSize'] = df['OrgSize'].fillna(\"None\").replace({\"10,000 or more employees\": \"XL\",\n",
    "                                      \"20 to 99 employees\": \"S\",\n",
    "                                      \"100 to 499 employees\": \"M\",\n",
    "                                      \"1,000 to 4,999 employees\": \"L\",\n",
    "                                      \"5,000 to 9,999 employees\": \"XL\",\n",
    "                                      \"2 to 9 employees\": \"XS\",\n",
    "                                      \"10 to 19 employees\": \"XS\",\n",
    "                                      \"500 to 999 employees\": \"M\",\n",
    "                                      \"Just me - I am a freelancer, sole proprietor, etc.\": \"XS\",\n",
    "                                      \"I don’t know\": \"None\",\n",
    "                                      \"I prefer not to answer\": \"None\"})"
   ]
  },
  {
   "cell_type": "code",
   "execution_count": 322,
   "id": "7fc22b69-22d6-46a8-af3e-d6fe68d71a6d",
   "metadata": {},
   "outputs": [
    {
     "data": {
      "text/plain": [
       "array(['no', 'yes'], dtype=object)"
      ]
     },
     "execution_count": 322,
     "metadata": {},
     "output_type": "execute_result"
    }
   ],
   "source": [
    "to_transform = ['None of the above']\n",
    "\n",
    "def mentaldissability(value):\n",
    "    if value in to_transform:\n",
    "        return \"no\"\n",
    "    else:\n",
    "        return \"yes\"\n",
    "\n",
    "df1['PhysicalLimitations'] = df1['Accessibility'].apply(mentaldissability)\n",
    "df1['PhysicalLimitations'].unique()"
   ]
  },
  {
   "cell_type": "code",
   "execution_count": 323,
   "id": "55a25032-caa0-48cf-9e11-b8f3179db863",
   "metadata": {},
   "outputs": [
    {
     "data": {
      "text/plain": [
       "Employment                    0\n",
       "RemoteWork                    0\n",
       "CodingActivities              0\n",
       "EdLevel                      36\n",
       "LearnCodeCoursesCert          0\n",
       "DevType                     142\n",
       "OrgSize                    7449\n",
       "Country                       0\n",
       "Age                          63\n",
       "Gender                        0\n",
       "Trans                         0\n",
       "Sexuality                     0\n",
       "Ethnicity                     0\n",
       "Accessibility                 0\n",
       "MentalHealth                  0\n",
       "WorkExp                   20034\n",
       "ConvertedCompYearly       18108\n",
       "CodingForHobby                0\n",
       "Courses/Certifications        0\n",
       "PhysicalLimitations           0\n",
       "dtype: int64"
      ]
     },
     "execution_count": 323,
     "metadata": {},
     "output_type": "execute_result"
    }
   ],
   "source": [
    "df1.isnull().sum()"
   ]
  },
  {
   "cell_type": "code",
   "execution_count": 398,
   "id": "2433855e-c07b-413c-9569-196a0607cac5",
   "metadata": {
    "tags": []
   },
   "outputs": [
    {
     "data": {
      "text/plain": [
       "{'25-34 years old': 24671,\n",
       " '35-44 years old': 12700,\n",
       " '18-24 years old': 9739,\n",
       " '45-54 years old': 4678,\n",
       " '55-64 years old': 1662,\n",
       " 'Under 18 years old': 457,\n",
       " '65 years or older': 302,\n",
       " 'Prefer not to say': 192}"
      ]
     },
     "execution_count": 398,
     "metadata": {},
     "output_type": "execute_result"
    }
   ],
   "source": [
    "age_dict = dict(df1.Age.value_counts().sort_values(ascending=False))\n",
    "age_dict"
   ]
  },
  {
   "cell_type": "code",
   "execution_count": 390,
   "id": "4f782ee0-56f0-4514-9620-f7c934d61226",
   "metadata": {
    "tags": []
   },
   "outputs": [
    {
     "data": {
      "text/plain": [
       "['Data scientist or machine learning specialist',\n",
       " 'Developer, front-end',\n",
       " 'Engineer, data',\n",
       " 'Engineer, site reliability',\n",
       " 'Developer, full-stack',\n",
       " 'Developer, back-end',\n",
       " 'Developer, desktop or enterprise applications',\n",
       " 'Developer, mobile',\n",
       " 'Educator',\n",
       " 'Engineering manager',\n",
       " 'Database administrator',\n",
       " 'Academic researcher',\n",
       " 'DevOps specialist',\n",
       " 'Student',\n",
       " 'Developer, embedded applications or devices',\n",
       " 'Developer, game or graphics',\n",
       " 'Project manager',\n",
       " 'Cloud infrastructure engineer',\n",
       " 'Data or business analyst',\n",
       " 'Developer, QA or test',\n",
       " 'Designer',\n",
       " 'Scientist',\n",
       " 'Product manager',\n",
       " 'Senior Executive (C-Suite, VP, etc.)',\n",
       " 'System administrator',\n",
       " 'Blockchain',\n",
       " 'Marketing or sales professional',\n",
       " 'Security professional']"
      ]
     },
     "execution_count": 390,
     "metadata": {},
     "output_type": "execute_result"
    }
   ],
   "source": [
    "devs_list = []\n",
    "\n",
    "# Itera sobre cada valor en la columna 'DevType'\n",
    "for dev_type in df1['DevType']:\n",
    "    # Si el valor actual no es nulo\n",
    "    if not pd.isnull(dev_type):\n",
    "        # Itera sobre cada subvalor del valor actual de 'DevType'\n",
    "        for dev_sub_type in dev_type.split(';'):\n",
    "            # Si el subvalor actual no está en devs_list y no contiene 'Other (please specify):', lo agrega\n",
    "            if dev_sub_type.strip() not in devs_list and 'Other (please specify):' not in dev_sub_type:\n",
    "                devs_list.append(dev_sub_type.strip())\n",
    "\n",
    "devs_list"
   ]
  },
  {
   "cell_type": "code",
   "execution_count": 397,
   "id": "e644239a-f8c7-49be-bb1e-a6fb024a1590",
   "metadata": {
    "tags": []
   },
   "outputs": [
    {
     "data": {
      "text/html": [
       "<div>\n",
       "<style scoped>\n",
       "    .dataframe tbody tr th:only-of-type {\n",
       "        vertical-align: middle;\n",
       "    }\n",
       "\n",
       "    .dataframe tbody tr th {\n",
       "        vertical-align: top;\n",
       "    }\n",
       "\n",
       "    .dataframe thead th {\n",
       "        text-align: right;\n",
       "    }\n",
       "</style>\n",
       "<table border=\"1\" class=\"dataframe\">\n",
       "  <thead>\n",
       "    <tr style=\"text-align: right;\">\n",
       "      <th></th>\n",
       "      <th>job_title</th>\n",
       "    </tr>\n",
       "  </thead>\n",
       "  <tbody>\n",
       "    <tr>\n",
       "      <th>Data Engineer</th>\n",
       "      <td>711</td>\n",
       "    </tr>\n",
       "    <tr>\n",
       "      <th>Data Scientist</th>\n",
       "      <td>601</td>\n",
       "    </tr>\n",
       "    <tr>\n",
       "      <th>Data Analyst</th>\n",
       "      <td>402</td>\n",
       "    </tr>\n",
       "    <tr>\n",
       "      <th>Machine Learning Engineer</th>\n",
       "      <td>186</td>\n",
       "    </tr>\n",
       "    <tr>\n",
       "      <th>Data Architect</th>\n",
       "      <td>71</td>\n",
       "    </tr>\n",
       "    <tr>\n",
       "      <th>Analytics Engineer</th>\n",
       "      <td>63</td>\n",
       "    </tr>\n",
       "    <tr>\n",
       "      <th>Research Scientist</th>\n",
       "      <td>51</td>\n",
       "    </tr>\n",
       "    <tr>\n",
       "      <th>Data Science Manager</th>\n",
       "      <td>43</td>\n",
       "    </tr>\n",
       "    <tr>\n",
       "      <th>Applied Scientist</th>\n",
       "      <td>28</td>\n",
       "    </tr>\n",
       "    <tr>\n",
       "      <th>ML Engineer</th>\n",
       "      <td>28</td>\n",
       "    </tr>\n",
       "  </tbody>\n",
       "</table>\n",
       "</div>"
      ],
      "text/plain": [
       "                           job_title\n",
       "Data Engineer                    711\n",
       "Data Scientist                   601\n",
       "Data Analyst                     402\n",
       "Machine Learning Engineer        186\n",
       "Data Architect                    71\n",
       "Analytics Engineer                63\n",
       "Research Scientist                51\n",
       "Data Science Manager              43\n",
       "Applied Scientist                 28\n",
       "ML Engineer                       28"
      ]
     },
     "execution_count": 397,
     "metadata": {},
     "output_type": "execute_result"
    }
   ],
   "source": [
    "df = pd.read_csv(\"salaries.csv\")\n",
    "top_10_AI_ML_jobs = pd.DataFrame(df['job_title'].value_counts().sort_values(ascending=False).head(10))\n",
    "top_10_AI_ML_jobsb"
   ]
  },
  {
   "cell_type": "code",
   "execution_count": 406,
   "id": "b00e9a76-a4de-4c91-bdd1-7c677ae75a4d",
   "metadata": {
    "tags": []
   },
   "outputs": [
    {
     "data": {
      "text/plain": [
       "24318    Data scientist or machine learning specialist;...\n",
       "56710    Engineer, data;Developer, full-stack;Student;D...\n",
       "62796    Data scientist or machine learning specialist;...\n",
       "17165    Data scientist or machine learning specialist;...\n",
       "60121                   Engineer, data;Engineering manager\n",
       "35765    Data scientist or machine learning specialist;...\n",
       "24413    Developer, full-stack;Developer, mobile;Academ...\n",
       "21655    Data scientist or machine learning specialist;...\n",
       "10739    Data scientist or machine learning specialist;...\n",
       "10445    Data scientist or machine learning specialist;...\n",
       "Name: DevType, dtype: object"
      ]
     },
     "execution_count": 406,
     "metadata": {},
     "output_type": "execute_result"
    }
   ],
   "source": [
    "AI_ML_devs = ['Data scientist or machine learning specialist',\n",
    " 'Engineer, data',\n",
    " 'Data or business analyst',\n",
    " 'Scientist']\n",
    "\n",
    "def check_AI_ML_dev(row):\n",
    "    if pd.isna(row['DevType']) or row['DevType'] == '':\n",
    "        return False\n",
    "    dev_types = row['DevType'].split(';')\n",
    "    for dev in AI_ML_devs:\n",
    "        if dev in dev_types:\n",
    "            return True\n",
    "    return False\n",
    "\n",
    "# Filtrar el DataFrame eliminando las filas donde check_AI_ML_dev es False\n",
    "df1 = df1[df1.apply(check_AI_ML_dev, axis=1)]\n",
    "df1.DevType.sample(10)"
   ]
  },
  {
   "cell_type": "code",
   "execution_count": 410,
   "id": "01a4c45e-7992-435a-9e4c-15328e2ca142",
   "metadata": {},
   "outputs": [
    {
     "data": {
      "text/html": [
       "<div>\n",
       "<style scoped>\n",
       "    .dataframe tbody tr th:only-of-type {\n",
       "        vertical-align: middle;\n",
       "    }\n",
       "\n",
       "    .dataframe tbody tr th {\n",
       "        vertical-align: top;\n",
       "    }\n",
       "\n",
       "    .dataframe thead th {\n",
       "        text-align: right;\n",
       "    }\n",
       "</style>\n",
       "<table border=\"1\" class=\"dataframe\">\n",
       "  <thead>\n",
       "    <tr style=\"text-align: right;\">\n",
       "      <th></th>\n",
       "      <th>Employment</th>\n",
       "      <th>RemoteWork</th>\n",
       "      <th>CodingActivities</th>\n",
       "      <th>EdLevel</th>\n",
       "      <th>LearnCodeCoursesCert</th>\n",
       "      <th>DevType</th>\n",
       "      <th>OrgSize</th>\n",
       "      <th>Country</th>\n",
       "      <th>Age</th>\n",
       "      <th>Gender</th>\n",
       "      <th>...</th>\n",
       "      <th>Sexuality</th>\n",
       "      <th>Ethnicity</th>\n",
       "      <th>Accessibility</th>\n",
       "      <th>MentalHealth</th>\n",
       "      <th>WorkExp</th>\n",
       "      <th>ConvertedCompYearly</th>\n",
       "      <th>CodingForHobby</th>\n",
       "      <th>Courses/Certifications</th>\n",
       "      <th>PhysicalLimitations</th>\n",
       "      <th>DevType_len</th>\n",
       "    </tr>\n",
       "  </thead>\n",
       "  <tbody>\n",
       "    <tr>\n",
       "      <th>2</th>\n",
       "      <td>Employed, full-time</td>\n",
       "      <td>hybrid</td>\n",
       "      <td>Hobby</td>\n",
       "      <td>Masterâ€™s degree (M.A., M.S., M.Eng., MBA, etc.)</td>\n",
       "      <td>no</td>\n",
       "      <td>Data scientist or machine learning specialist;...</td>\n",
       "      <td>20 to 99 employees</td>\n",
       "      <td>United Kingdom of Great Britain and Northern I...</td>\n",
       "      <td>25-34 years old</td>\n",
       "      <td>Man</td>\n",
       "      <td>...</td>\n",
       "      <td>Bisexual</td>\n",
       "      <td>White</td>\n",
       "      <td>None of the above</td>\n",
       "      <td>I have a mood or emotional disorder (e.g., dep...</td>\n",
       "      <td>NaN</td>\n",
       "      <td>40205.0</td>\n",
       "      <td>yes</td>\n",
       "      <td>no</td>\n",
       "      <td>no</td>\n",
       "      <td>4</td>\n",
       "    </tr>\n",
       "    <tr>\n",
       "      <th>17</th>\n",
       "      <td>Employed, full-time</td>\n",
       "      <td>remote</td>\n",
       "      <td>Hobby</td>\n",
       "      <td>Masterâ€™s degree (M.A., M.S., M.Eng., MBA, etc.)</td>\n",
       "      <td>Coursera;Pluralsight</td>\n",
       "      <td>Engineer, data</td>\n",
       "      <td>1,000 to 4,999 employees</td>\n",
       "      <td>Austria</td>\n",
       "      <td>25-34 years old</td>\n",
       "      <td>Woman</td>\n",
       "      <td>...</td>\n",
       "      <td>Straight / Heterosexual</td>\n",
       "      <td>European</td>\n",
       "      <td>None of the above</td>\n",
       "      <td>None of the above</td>\n",
       "      <td>NaN</td>\n",
       "      <td>202623.0</td>\n",
       "      <td>yes</td>\n",
       "      <td>yes</td>\n",
       "      <td>no</td>\n",
       "      <td>1</td>\n",
       "    </tr>\n",
       "    <tr>\n",
       "      <th>41</th>\n",
       "      <td>Employed, full-time</td>\n",
       "      <td>hybrid</td>\n",
       "      <td>I donâ€™t code outside of work</td>\n",
       "      <td>Secondary school (e.g. American high school, G...</td>\n",
       "      <td>Coursera;Udemy;Udacity</td>\n",
       "      <td>Data scientist or machine learning specialist;...</td>\n",
       "      <td>20 to 99 employees</td>\n",
       "      <td>Israel</td>\n",
       "      <td>18-24 years old</td>\n",
       "      <td>Man</td>\n",
       "      <td>...</td>\n",
       "      <td>Straight / Heterosexual</td>\n",
       "      <td>Middle Eastern</td>\n",
       "      <td>None of the above</td>\n",
       "      <td>I have an anxiety disorder</td>\n",
       "      <td>3.0</td>\n",
       "      <td>68160.0</td>\n",
       "      <td>no</td>\n",
       "      <td>yes</td>\n",
       "      <td>no</td>\n",
       "      <td>3</td>\n",
       "    </tr>\n",
       "    <tr>\n",
       "      <th>50</th>\n",
       "      <td>Employed, full-time;Student, full-time</td>\n",
       "      <td>presential</td>\n",
       "      <td>Contribute to open-source projects</td>\n",
       "      <td>Masterâ€™s degree (M.A., M.S., M.Eng., MBA, etc.)</td>\n",
       "      <td>no</td>\n",
       "      <td>Data scientist or machine learning specialist;...</td>\n",
       "      <td>NaN</td>\n",
       "      <td>Czech Republic</td>\n",
       "      <td>25-34 years old</td>\n",
       "      <td>Man</td>\n",
       "      <td>...</td>\n",
       "      <td>Straight / Heterosexual</td>\n",
       "      <td>White;European</td>\n",
       "      <td>None of the above</td>\n",
       "      <td>None of the above</td>\n",
       "      <td>4.0</td>\n",
       "      <td>NaN</td>\n",
       "      <td>no</td>\n",
       "      <td>no</td>\n",
       "      <td>no</td>\n",
       "      <td>4</td>\n",
       "    </tr>\n",
       "    <tr>\n",
       "      <th>85</th>\n",
       "      <td>Employed, full-time</td>\n",
       "      <td>hybrid</td>\n",
       "      <td>Hobby</td>\n",
       "      <td>Bachelorâ€™s degree (B.A., B.S., B.Eng., etc.)</td>\n",
       "      <td>no</td>\n",
       "      <td>Data scientist or machine learning specialist;...</td>\n",
       "      <td>100 to 499 employees</td>\n",
       "      <td>United States of America</td>\n",
       "      <td>25-34 years old</td>\n",
       "      <td>Man</td>\n",
       "      <td>...</td>\n",
       "      <td>Straight / Heterosexual</td>\n",
       "      <td>White</td>\n",
       "      <td>None of the above</td>\n",
       "      <td>Prefer not to say</td>\n",
       "      <td>7.0</td>\n",
       "      <td>95000.0</td>\n",
       "      <td>yes</td>\n",
       "      <td>no</td>\n",
       "      <td>no</td>\n",
       "      <td>4</td>\n",
       "    </tr>\n",
       "    <tr>\n",
       "      <th>90</th>\n",
       "      <td>Employed, full-time</td>\n",
       "      <td>remote</td>\n",
       "      <td>I donâ€™t code outside of work</td>\n",
       "      <td>Masterâ€™s degree (M.A., M.S., M.Eng., MBA, etc.)</td>\n",
       "      <td>Other</td>\n",
       "      <td>Engineer, data</td>\n",
       "      <td>20 to 99 employees</td>\n",
       "      <td>France</td>\n",
       "      <td>25-34 years old</td>\n",
       "      <td>Man</td>\n",
       "      <td>...</td>\n",
       "      <td>Straight / Heterosexual</td>\n",
       "      <td>White;European</td>\n",
       "      <td>None of the above</td>\n",
       "      <td>None of the above</td>\n",
       "      <td>9.0</td>\n",
       "      <td>63986.0</td>\n",
       "      <td>no</td>\n",
       "      <td>yes</td>\n",
       "      <td>no</td>\n",
       "      <td>1</td>\n",
       "    </tr>\n",
       "    <tr>\n",
       "      <th>92</th>\n",
       "      <td>Employed, full-time</td>\n",
       "      <td>hybrid</td>\n",
       "      <td>Other (please specify):</td>\n",
       "      <td>Other doctoral degree (Ph.D., Ed.D., etc.)</td>\n",
       "      <td>Coursera;edX</td>\n",
       "      <td>Developer, back-end;Academic researcher;Scientist</td>\n",
       "      <td>10,000 or more employees</td>\n",
       "      <td>Israel</td>\n",
       "      <td>25-34 years old</td>\n",
       "      <td>Man</td>\n",
       "      <td>...</td>\n",
       "      <td>Straight / Heterosexual</td>\n",
       "      <td>White;Middle Eastern</td>\n",
       "      <td>None of the above</td>\n",
       "      <td>None of the above</td>\n",
       "      <td>NaN</td>\n",
       "      <td>NaN</td>\n",
       "      <td>no</td>\n",
       "      <td>yes</td>\n",
       "      <td>no</td>\n",
       "      <td>3</td>\n",
       "    </tr>\n",
       "    <tr>\n",
       "      <th>94</th>\n",
       "      <td>Employed, full-time</td>\n",
       "      <td>hybrid</td>\n",
       "      <td>Hobby</td>\n",
       "      <td>Other doctoral degree (Ph.D., Ed.D., etc.)</td>\n",
       "      <td>no</td>\n",
       "      <td>Data scientist or machine learning specialist;...</td>\n",
       "      <td>20 to 99 employees</td>\n",
       "      <td>United Kingdom of Great Britain and Northern I...</td>\n",
       "      <td>25-34 years old</td>\n",
       "      <td>Man</td>\n",
       "      <td>...</td>\n",
       "      <td>Straight / Heterosexual</td>\n",
       "      <td>White;European</td>\n",
       "      <td>None of the above</td>\n",
       "      <td>None of the above</td>\n",
       "      <td>NaN</td>\n",
       "      <td>52769.0</td>\n",
       "      <td>yes</td>\n",
       "      <td>no</td>\n",
       "      <td>no</td>\n",
       "      <td>2</td>\n",
       "    </tr>\n",
       "    <tr>\n",
       "      <th>121</th>\n",
       "      <td>Employed, full-time</td>\n",
       "      <td>remote</td>\n",
       "      <td>Hobby</td>\n",
       "      <td>Masterâ€™s degree (M.A., M.S., M.Eng., MBA, etc.)</td>\n",
       "      <td>Coursera;Udemy;Other</td>\n",
       "      <td>Engineer, data</td>\n",
       "      <td>20 to 99 employees</td>\n",
       "      <td>Sweden</td>\n",
       "      <td>25-34 years old</td>\n",
       "      <td>Woman</td>\n",
       "      <td>...</td>\n",
       "      <td>Straight / Heterosexual</td>\n",
       "      <td>White</td>\n",
       "      <td>None of the above</td>\n",
       "      <td>None of the above</td>\n",
       "      <td>5.0</td>\n",
       "      <td>81672.0</td>\n",
       "      <td>yes</td>\n",
       "      <td>yes</td>\n",
       "      <td>no</td>\n",
       "      <td>1</td>\n",
       "    </tr>\n",
       "    <tr>\n",
       "      <th>126</th>\n",
       "      <td>Employed, full-time</td>\n",
       "      <td>remote</td>\n",
       "      <td>Hobby</td>\n",
       "      <td>Bachelorâ€™s degree (B.A., B.S., B.Eng., etc.)</td>\n",
       "      <td>no</td>\n",
       "      <td>Engineer, data;Data or business analyst</td>\n",
       "      <td>10,000 or more employees</td>\n",
       "      <td>Canada</td>\n",
       "      <td>25-34 years old</td>\n",
       "      <td>Man</td>\n",
       "      <td>...</td>\n",
       "      <td>Straight / Heterosexual</td>\n",
       "      <td>East Asian</td>\n",
       "      <td>None of the above</td>\n",
       "      <td>None of the above</td>\n",
       "      <td>5.0</td>\n",
       "      <td>78084.0</td>\n",
       "      <td>yes</td>\n",
       "      <td>no</td>\n",
       "      <td>no</td>\n",
       "      <td>2</td>\n",
       "    </tr>\n",
       "  </tbody>\n",
       "</table>\n",
       "<p>10 rows × 21 columns</p>\n",
       "</div>"
      ],
      "text/plain": [
       "                                 Employment  RemoteWork  \\\n",
       "2                       Employed, full-time      hybrid   \n",
       "17                      Employed, full-time      remote   \n",
       "41                      Employed, full-time      hybrid   \n",
       "50   Employed, full-time;Student, full-time  presential   \n",
       "85                      Employed, full-time      hybrid   \n",
       "90                      Employed, full-time      remote   \n",
       "92                      Employed, full-time      hybrid   \n",
       "94                      Employed, full-time      hybrid   \n",
       "121                     Employed, full-time      remote   \n",
       "126                     Employed, full-time      remote   \n",
       "\n",
       "                       CodingActivities  \\\n",
       "2                                 Hobby   \n",
       "17                                Hobby   \n",
       "41       I donâ€™t code outside of work   \n",
       "50   Contribute to open-source projects   \n",
       "85                                Hobby   \n",
       "90       I donâ€™t code outside of work   \n",
       "92              Other (please specify):   \n",
       "94                                Hobby   \n",
       "121                               Hobby   \n",
       "126                               Hobby   \n",
       "\n",
       "                                               EdLevel  \\\n",
       "2    Masterâ€™s degree (M.A., M.S., M.Eng., MBA, etc.)   \n",
       "17   Masterâ€™s degree (M.A., M.S., M.Eng., MBA, etc.)   \n",
       "41   Secondary school (e.g. American high school, G...   \n",
       "50   Masterâ€™s degree (M.A., M.S., M.Eng., MBA, etc.)   \n",
       "85      Bachelorâ€™s degree (B.A., B.S., B.Eng., etc.)   \n",
       "90   Masterâ€™s degree (M.A., M.S., M.Eng., MBA, etc.)   \n",
       "92          Other doctoral degree (Ph.D., Ed.D., etc.)   \n",
       "94          Other doctoral degree (Ph.D., Ed.D., etc.)   \n",
       "121  Masterâ€™s degree (M.A., M.S., M.Eng., MBA, etc.)   \n",
       "126     Bachelorâ€™s degree (B.A., B.S., B.Eng., etc.)   \n",
       "\n",
       "       LearnCodeCoursesCert  \\\n",
       "2                        no   \n",
       "17     Coursera;Pluralsight   \n",
       "41   Coursera;Udemy;Udacity   \n",
       "50                       no   \n",
       "85                       no   \n",
       "90                    Other   \n",
       "92             Coursera;edX   \n",
       "94                       no   \n",
       "121    Coursera;Udemy;Other   \n",
       "126                      no   \n",
       "\n",
       "                                               DevType  \\\n",
       "2    Data scientist or machine learning specialist;...   \n",
       "17                                      Engineer, data   \n",
       "41   Data scientist or machine learning specialist;...   \n",
       "50   Data scientist or machine learning specialist;...   \n",
       "85   Data scientist or machine learning specialist;...   \n",
       "90                                      Engineer, data   \n",
       "92   Developer, back-end;Academic researcher;Scientist   \n",
       "94   Data scientist or machine learning specialist;...   \n",
       "121                                     Engineer, data   \n",
       "126            Engineer, data;Data or business analyst   \n",
       "\n",
       "                      OrgSize  \\\n",
       "2          20 to 99 employees   \n",
       "17   1,000 to 4,999 employees   \n",
       "41         20 to 99 employees   \n",
       "50                        NaN   \n",
       "85       100 to 499 employees   \n",
       "90         20 to 99 employees   \n",
       "92   10,000 or more employees   \n",
       "94         20 to 99 employees   \n",
       "121        20 to 99 employees   \n",
       "126  10,000 or more employees   \n",
       "\n",
       "                                               Country              Age  \\\n",
       "2    United Kingdom of Great Britain and Northern I...  25-34 years old   \n",
       "17                                             Austria  25-34 years old   \n",
       "41                                              Israel  18-24 years old   \n",
       "50                                      Czech Republic  25-34 years old   \n",
       "85                            United States of America  25-34 years old   \n",
       "90                                              France  25-34 years old   \n",
       "92                                              Israel  25-34 years old   \n",
       "94   United Kingdom of Great Britain and Northern I...  25-34 years old   \n",
       "121                                             Sweden  25-34 years old   \n",
       "126                                             Canada  25-34 years old   \n",
       "\n",
       "    Gender  ...                Sexuality             Ethnicity  \\\n",
       "2      Man  ...                 Bisexual                 White   \n",
       "17   Woman  ...  Straight / Heterosexual              European   \n",
       "41     Man  ...  Straight / Heterosexual        Middle Eastern   \n",
       "50     Man  ...  Straight / Heterosexual        White;European   \n",
       "85     Man  ...  Straight / Heterosexual                 White   \n",
       "90     Man  ...  Straight / Heterosexual        White;European   \n",
       "92     Man  ...  Straight / Heterosexual  White;Middle Eastern   \n",
       "94     Man  ...  Straight / Heterosexual        White;European   \n",
       "121  Woman  ...  Straight / Heterosexual                 White   \n",
       "126    Man  ...  Straight / Heterosexual            East Asian   \n",
       "\n",
       "         Accessibility                                       MentalHealth  \\\n",
       "2    None of the above  I have a mood or emotional disorder (e.g., dep...   \n",
       "17   None of the above                                  None of the above   \n",
       "41   None of the above                         I have an anxiety disorder   \n",
       "50   None of the above                                  None of the above   \n",
       "85   None of the above                                  Prefer not to say   \n",
       "90   None of the above                                  None of the above   \n",
       "92   None of the above                                  None of the above   \n",
       "94   None of the above                                  None of the above   \n",
       "121  None of the above                                  None of the above   \n",
       "126  None of the above                                  None of the above   \n",
       "\n",
       "    WorkExp  ConvertedCompYearly  CodingForHobby Courses/Certifications  \\\n",
       "2       NaN              40205.0             yes                     no   \n",
       "17      NaN             202623.0             yes                    yes   \n",
       "41      3.0              68160.0              no                    yes   \n",
       "50      4.0                  NaN              no                     no   \n",
       "85      7.0              95000.0             yes                     no   \n",
       "90      9.0              63986.0              no                    yes   \n",
       "92      NaN                  NaN              no                    yes   \n",
       "94      NaN              52769.0             yes                     no   \n",
       "121     5.0              81672.0             yes                    yes   \n",
       "126     5.0              78084.0             yes                     no   \n",
       "\n",
       "    PhysicalLimitations DevType_len  \n",
       "2                    no           4  \n",
       "17                   no           1  \n",
       "41                   no           3  \n",
       "50                   no           4  \n",
       "85                   no           4  \n",
       "90                   no           1  \n",
       "92                   no           3  \n",
       "94                   no           2  \n",
       "121                  no           1  \n",
       "126                  no           2  \n",
       "\n",
       "[10 rows x 21 columns]"
      ]
     },
     "execution_count": 410,
     "metadata": {},
     "output_type": "execute_result"
    }
   ],
   "source": [
    "df1['DevType_len'] = df1['DevType'].apply(lambda x: len(x.split(';')))\n",
    "df1 = df1.loc[df1['DevType_len'] <= 4]\n",
    "# Mostrar el DataFrame con la columna \"DevType_len\"\n",
    "df1.head(10)"
   ]
  },
  {
   "cell_type": "code",
   "execution_count": 343,
   "id": "602cc50d-4559-4e96-8e85-7d42e74fb962",
   "metadata": {},
   "outputs": [
    {
     "name": "stdout",
     "output_type": "stream",
     "text": [
      "Checking... Q1\n",
      "Q1: 25 percentile of the ConvertedCompYearly values is, nan\n",
      "Checking... Q2\n",
      "Q2: 50 percentile of the ConvertedCompYearly values is, nan\n",
      "Checking... Q3\n",
      "Q3: 75 percentile of the ConvertedCompYearly values is, nan\n",
      "Interquartile range is nan\n",
      " \n",
      "Checking limits\n",
      "low_limit is nan\n",
      "up_limit is nan\n",
      "\n",
      "Outliers are being added to list. Please wait!\n",
      "\n",
      "Outliers in the df1set is []\n"
     ]
    }
   ],
   "source": [
    "# Outlier Detection, source = https://www.kaggle.com/code/yasergirit/ds-job-salaries-detection-of-outliers#Detecting-Outliers \n",
    "\n",
    "import matplotlib.pyplot as plt\n",
    "%matplotlib inline\n",
    "import seaborn as sns\n",
    "#from wordcloud import WordCloud\n",
    "import time\n",
    "\n",
    "def find_outliers(df1):\n",
    "    global q_list\n",
    "    q_list = []\n",
    "    sorted_df1 = df1.sort_values()\n",
    "    \n",
    "    for q, p in {\"Q1\": 25, \"Q2\": 50, \"Q3\": 75}.items():\n",
    "        \n",
    "        # Calculate Q1, Q2, Q3 and IQR.\n",
    "        Q = np.percentile(sorted_df1, p, interpolation = 'midpoint')\n",
    "        q_list.append(Q)\n",
    "        \n",
    "        print(\"Checking...\", q)\n",
    "        time.sleep(2) \n",
    "        print(\"{}: {} percentile of the {} values is,\".format(q,p,df1.name), Q)\n",
    "    \n",
    "    global Q1, Q2, Q3\n",
    "    \n",
    "    Q1 = q_list[0]\n",
    "    Q2 = q_list[1]\n",
    "    Q3 = q_list[2]\n",
    "    \n",
    "    IQR = Q3 - Q1 \n",
    "    print(\"Interquartile range is\", IQR)\n",
    "    \n",
    "    # Find the lower and upper limits as Q1 – 1.5 IQR and Q3 + 1.5 IQR, respectively\n",
    "    global low_lim, up_lim\n",
    "    \n",
    "    low_lim = Q1 - 1.5 * IQR\n",
    "    up_lim = Q3 + 1.5 * IQR\n",
    "    \n",
    "    time.sleep(1)\n",
    "    print(\" \")\n",
    "    print(\"Checking limits\")\n",
    "    time.sleep(2)\n",
    "    print(\"low_limit is\", low_lim)\n",
    "    print(\"up_limit is\", up_lim)\n",
    "    \n",
    "    \n",
    "    time.sleep(1)\n",
    "    # Find outliers in the df1set\n",
    "    outliers =[]\n",
    "    for x in sorted_df1:\n",
    "        if ((x> up_lim) or (x<low_lim)):\n",
    "             outliers.append(x)\n",
    "    print(\"\\nOutliers are being added to list. Please wait!\")\n",
    "    time.sleep(3)\n",
    "    print(\"\\nOutliers in the df1set is\", outliers)\n",
    "\n",
    "\n",
    "find_outliers(df1.ConvertedCompYearly)"
   ]
  },
  {
   "cell_type": "code",
   "execution_count": 36,
   "id": "3739b6db-a2ac-4e60-a1db-a2b73ecfd0e6",
   "metadata": {},
   "outputs": [],
   "source": [
    "import seaborn as sns"
   ]
  },
  {
   "cell_type": "code",
   "execution_count": 37,
   "id": "523326dd-88a6-4dfe-ab9c-6f0ef7f16772",
   "metadata": {},
   "outputs": [
    {
     "data": {
      "image/png": "[encoded data removed]",
      "text/plain": [
       "<Figure size 432x288 with 2 Axes>"
      ]
     },
     "metadata": {
      "needs_background": "light"
     },
     "output_type": "display_data"
    }
   ],
   "source": [
    "corr = df.corr() \n",
    "sns.heatmap(corr, cmap='viridis') # Creates a heatmap graph with configuration 'viridis'\n",
    "plt.show()"
   ]
  },
  {
   "cell_type": "code",
   "execution_count": null,
   "id": "8c987757-4bbf-4f67-a585-d6f76fd88d04",
   "metadata": {},
   "outputs": [],
   "source": []
  }
 ],
 "metadata": {
  "kernelspec": {
   "display_name": "base",
   "language": "python",
   "name": "python3"
  },
  "language_info": {
   "codemirror_mode": {
    "name": "ipython",
    "version": 3
   },
   "file_extension": ".py",
   "mimetype": "text/x-python",
   "name": "python",
   "nbconvert_exporter": "python",
   "pygments_lexer": "ipython3",
   "version": "3.9.12"
  },
  "vscode": {
   "interpreter": {
    "hash": "bb04cf8ae90a962192c1ba30dd442a3acf4745e72f6beeb0c6c1932c1d839d66"
   }
  }
 },
 "nbformat": 4,
 "nbformat_minor": 5
}
