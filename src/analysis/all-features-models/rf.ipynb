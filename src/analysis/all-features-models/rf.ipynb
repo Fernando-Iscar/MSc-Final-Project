{
 "cells": [
  {
   "cell_type": "markdown",
   "metadata": {},
   "source": [
    "# **Random Forests**"
   ]
  },
  {
   "cell_type": "markdown",
   "metadata": {},
   "source": [
    "---"
   ]
  },
  {
   "cell_type": "markdown",
   "metadata": {},
   "source": [
    "## 0. Importing dependencies"
   ]
  },
  {
   "cell_type": "code",
   "execution_count": 1,
   "metadata": {},
   "outputs": [],
   "source": [
    "%matplotlib inline\n",
    "\n",
    "# needed libraries\n",
    "import numpy as np\n",
    "import pandas as pd\n",
    "import matplotlib.pyplot as plt\n",
    "import seaborn as sns\n",
    "from sklearn.ensemble import RandomForestRegressor\n",
    "from sklearn.model_selection import KFold, RandomizedSearchCV\n",
    "from sklearn.compose import ColumnTransformer\n",
    "from sklearn.preprocessing import OneHotEncoder, StandardScaler\n",
    "from sklearn.pipeline import Pipeline\n",
    "from scipy.stats import randint, uniform\n",
    "from sklearn.metrics import r2_score, mean_squared_error, mean_absolute_error, make_scorer\n",
    "\n",
    "\n",
    "import warnings\n",
    "warnings.filterwarnings('ignore')"
   ]
  },
  {
   "cell_type": "markdown",
   "metadata": {},
   "source": [
    "## 1. Loading data"
   ]
  },
  {
   "cell_type": "markdown",
   "metadata": {},
   "source": [
    "It is already splitted:"
   ]
  },
  {
   "cell_type": "code",
   "execution_count": 2,
   "metadata": {},
   "outputs": [],
   "source": [
    "train_df = pd.read_csv('../../input/clean_train_df.csv')\n",
    "test_df = pd.read_csv('../../input/clean_test_df.csv')"
   ]
  },
  {
   "cell_type": "markdown",
   "metadata": {},
   "source": [
    "## 2. Processing Train and Test sets"
   ]
  },
  {
   "cell_type": "markdown",
   "metadata": {},
   "source": [
    "Due to class imbalace, there's still few unrelevant countries which aren't in both sets, since data is already one-hot encoded, we should find those countries and drop them off."
   ]
  },
  {
   "cell_type": "code",
   "execution_count": 3,
   "metadata": {},
   "outputs": [
    {
     "name": "stdout",
     "output_type": "stream",
     "text": [
      "Columns in the train set that aren't in the test set: {'Country_Jordan', 'Country_Malta', 'Country_North Macedonia', 'Country_Sri Lanka', 'Country_Estonia', 'Country_Botswana', 'Country_Philippines', 'Country_Lebanon', 'Country_Mongolia', 'Country_Serbia', 'Country_Slovakia', 'Country_Armenia', 'Country_Paraguay', 'Country_El Salvador', 'Country_Croatia', 'Ethnicity_North American / Central American', 'Country_Bangladesh', 'Country_Saudi Arabia', 'Country_Angola', 'Country_Azerbaijan', 'Country_Venezuela', 'Country_Kenya', 'Country_Kosovo', 'Country_Viet Nam', 'Country_Latvia', 'Country_Georgia', 'Country_Zimbabwe', 'Country_Tanzania', 'Country_Peru', 'Country_Nomadic', 'Country_Yemen', 'Country_Bosnia-Herz.', 'Country_Uzbekistan', 'Country_Costa Rica', 'Country_New Zealand', 'Country_Cyprus', 'Country_United Arab Emirates', 'Country_Andorra'}\n",
      "Columns in the test set that aren't in the train set: {'Country_Republic of Korea', 'Country_Senegal', 'Country_Qatar', 'Country_Belarus', \"Country_CÃ´te d'Ivoire\", 'Country_Trinidad and Tobago', 'Country_Barbados', 'Country_Guinea'}\n",
      "(2258, 130) (553, 130)\n"
     ]
    }
   ],
   "source": [
    "# Extract unique columns (features) from the train and test sets\n",
    "train_countries = set(train_df.columns)\n",
    "test_countries = set(test_df.columns)\n",
    "\n",
    "# Find columns that are in the train set but not in the test set\n",
    "missing_in_test = train_countries - test_countries\n",
    "print(\"Columns in the train set that aren't in the test set:\", missing_in_test)\n",
    "\n",
    "missing_in_train = test_countries - train_countries\n",
    "print(\"Columns in the test set that aren't in the train set:\", missing_in_train)\n",
    "\n",
    "# Drop columns that are in 'missing_in_test' from the training set\n",
    "train_df = train_df.drop(columns=missing_in_test)\n",
    "\n",
    "# Drop columns that are in 'missing_in_train' from the test set\n",
    "test_df = test_df.drop(columns=missing_in_train)\n",
    "\n",
    "print(train_df.shape, test_df.shape)"
   ]
  },
  {
   "cell_type": "markdown",
   "metadata": {},
   "source": [
    "___"
   ]
  },
  {
   "cell_type": "markdown",
   "metadata": {},
   "source": [
    "### 2.1. Feature selection:"
   ]
  },
  {
   "cell_type": "markdown",
   "metadata": {},
   "source": [
    "These cells may be needed to edit the amount of features the model will count with:"
   ]
  },
  {
   "cell_type": "code",
   "execution_count": 4,
   "metadata": {},
   "outputs": [
    {
     "data": {
      "text/plain": [
       "'# Assuming you have a DataFrame called \\'df\\'\\nbaseline_cols = [\"Country\", \"Job_type\", \"Education\", \"Company_size\", \"Age\", \"Work_experience\", \"Annual_salary\"]\\n\\n# Add Job_title columns to the baseline_cols list\\nJob_title = [\\'Developer, game or graphics\\', \\'Blockchain\\', \\'Developer, QA or test\\', \\'Developer, back-end\\', \\'Student\\', \\n             \\'Project manager\\', \\'Data or business analyst\\', \\'Cloud infrastructure engineer\\', \\'Engineer, data\\', \\n             \\'Educator\\', \\'Developer, desktop or enterprise applications\\', \\'Developer, front-end\\', \\'Designer\\', \\n             \\'Security professional\\', \\'Developer, embedded applications or devices\\', \\'Product manager\\', \\'Developer, mobile\\', \\n             \\'Developer, full-stack\\', \\'Scientist\\', \\'Database administrator\\', \\'Academic researcher\\', \\'Senior Executive (C-Suite, VP, etc.)\\', \\n             \\'Marketing or sales professional\\', \\'System administrator\\', \\'Data scientist or machine learning specialist\\', \\n             \\'Engineer, site reliability\\', \\'DevOps specialist\\', \\'Engineering manager\\']\\n\\nbaseline_cols.extend(Job_title)\\n\\n# Iterate through the columns and keep only those containing the specified keywords\\ncolumns_to_keep_train = [col for col in train_df.columns if any(keyword in col for keyword in baseline_cols)]\\ncolumns_to_keep_test = [col for col in test_df.columns if any(keyword in col for keyword in baseline_cols)]\\n\\n# Filter the DataFrame, keeping only the selected columns\\nbaseline_train_df = train_df[columns_to_keep_train]\\nbaseline_test_df = test_df[columns_to_keep_test]\\n\\nbaseline_train_df.head()'"
      ]
     },
     "execution_count": 4,
     "metadata": {},
     "output_type": "execute_result"
    }
   ],
   "source": [
    "'''# Assuming you have a DataFrame called 'df'\n",
    "baseline_cols = [\"Country\", \"Job_type\", \"Education\", \"Company_size\", \"Age\", \"Work_experience\", \"Annual_salary\"]\n",
    "\n",
    "# Add Job_title columns to the baseline_cols list\n",
    "Job_title = ['Developer, game or graphics', 'Blockchain', 'Developer, QA or test', 'Developer, back-end', 'Student', \n",
    "             'Project manager', 'Data or business analyst', 'Cloud infrastructure engineer', 'Engineer, data', \n",
    "             'Educator', 'Developer, desktop or enterprise applications', 'Developer, front-end', 'Designer', \n",
    "             'Security professional', 'Developer, embedded applications or devices', 'Product manager', 'Developer, mobile', \n",
    "             'Developer, full-stack', 'Scientist', 'Database administrator', 'Academic researcher', 'Senior Executive (C-Suite, VP, etc.)', \n",
    "             'Marketing or sales professional', 'System administrator', 'Data scientist or machine learning specialist', \n",
    "             'Engineer, site reliability', 'DevOps specialist', 'Engineering manager']\n",
    "\n",
    "baseline_cols.extend(Job_title)\n",
    "\n",
    "# Iterate through the columns and keep only those containing the specified keywords\n",
    "columns_to_keep_train = [col for col in train_df.columns if any(keyword in col for keyword in baseline_cols)]\n",
    "columns_to_keep_test = [col for col in test_df.columns if any(keyword in col for keyword in baseline_cols)]\n",
    "\n",
    "# Filter the DataFrame, keeping only the selected columns\n",
    "baseline_train_df = train_df[columns_to_keep_train]\n",
    "baseline_test_df = test_df[columns_to_keep_test]\n",
    "\n",
    "baseline_train_df.head()'''"
   ]
  },
  {
   "cell_type": "code",
   "execution_count": 5,
   "metadata": {},
   "outputs": [
    {
     "data": {
      "text/plain": [
       "\"X_train = baseline_train_df.drop('Annual_salary', axis=1)\\nX_test = baseline_test_df.drop('Annual_salary', axis=1)\\ny_train = baseline_train_df['Annual_salary']\\ny_test = baseline_test_df['Annual_salary']\\n\\nprint(X_train.shape)\\nprint(y_train.shape)\\nprint()\\nprint(X_test.shape)\\nprint(y_test.shape)\""
      ]
     },
     "execution_count": 5,
     "metadata": {},
     "output_type": "execute_result"
    }
   ],
   "source": [
    "'''X_train = baseline_train_df.drop('Annual_salary', axis=1)\n",
    "X_test = baseline_test_df.drop('Annual_salary', axis=1)\n",
    "y_train = baseline_train_df['Annual_salary']\n",
    "y_test = baseline_test_df['Annual_salary']\n",
    "\n",
    "print(X_train.shape)\n",
    "print(y_train.shape)\n",
    "print()\n",
    "print(X_test.shape)\n",
    "print(y_test.shape)'''"
   ]
  },
  {
   "cell_type": "markdown",
   "metadata": {},
   "source": [
    "---"
   ]
  },
  {
   "cell_type": "markdown",
   "metadata": {},
   "source": [
    "### 2.2. Identifying the target"
   ]
  },
  {
   "cell_type": "code",
   "execution_count": 6,
   "metadata": {},
   "outputs": [],
   "source": [
    "X_train = train_df.drop('Annual_salary', axis=1)\n",
    "X_test = test_df.drop('Annual_salary', axis=1)\n",
    "y_train = train_df['Annual_salary']\n",
    "y_test = test_df['Annual_salary']\n",
    "#y_train = y_train.reset_index(drop=True)"
   ]
  },
  {
   "cell_type": "markdown",
   "metadata": {},
   "source": [
    "### 2.3. Standardazing data"
   ]
  },
  {
   "cell_type": "markdown",
   "metadata": {},
   "source": [
    "We will standardize the data to improve model's interpretability"
   ]
  },
  {
   "cell_type": "code",
   "execution_count": 7,
   "metadata": {},
   "outputs": [],
   "source": [
    "scaler = StandardScaler()\n",
    "X_train_scaled = scaler.fit_transform(X_train)\n",
    "X_test_scaled = scaler.transform(X_test)\n",
    "\n",
    "# This will respect col names when plotting importnce\n",
    "X_train_scaled = pd.DataFrame(X_train_scaled, columns=X_train.columns)\n",
    "X_test_scaled = pd.DataFrame(X_test_scaled, columns=X_test.columns)"
   ]
  },
  {
   "cell_type": "markdown",
   "metadata": {},
   "source": [
    "## 3. Modeling"
   ]
  },
  {
   "cell_type": "markdown",
   "metadata": {},
   "source": [
    "### 3.1. Hyperparameter tunning (K-fold CV)"
   ]
  },
  {
   "cell_type": "code",
   "execution_count": 8,
   "metadata": {},
   "outputs": [
    {
     "name": "stdout",
     "output_type": "stream",
     "text": [
      "Fitting 4 folds for each of 10 candidates, totalling 40 fits\n"
     ]
    },
    {
     "name": "stdout",
     "output_type": "stream",
     "text": [
      "Best parameters found: {'bootstrap': True, 'max_depth': 27, 'max_features': 59, 'min_samples_leaf': 3, 'min_samples_split': 5, 'n_estimators': 64}\n"
     ]
    }
   ],
   "source": [
    "model = RandomForestRegressor(random_state=42)\n",
    "\n",
    "kf = KFold(n_splits=4, shuffle=True, random_state=42)\n",
    "\n",
    "parameters = {\n",
    "    \"n_estimators\": randint(10, 200),\n",
    "    \"max_features\": randint(1, X_train_scaled.shape[1]),\n",
    "    \"max_depth\": randint(1, 30),\n",
    "    \"min_samples_split\": randint(2, 10),\n",
    "    \"min_samples_leaf\": randint(1, 10),\n",
    "    \"bootstrap\": [True, False],\n",
    "}\n",
    "\n",
    "scorer = {'r2': make_scorer(r2_score, greater_is_better=True), \n",
    "          'rmse': make_scorer(mean_squared_error, squared=False, greater_is_better=False)}\n",
    "\n",
    "clf = RandomizedSearchCV(model, parameters, refit='rmse',\n",
    "                   cv=kf, scoring=scorer, return_train_score=True,\n",
    "                   n_jobs=-1, random_state=42, verbose=2)  \n",
    "clf.fit(X_train_scaled, y_train)\n",
    "\n",
    "\n",
    "best_params = clf.best_params_\n",
    "print(f\"Best parameters found: {best_params}\")"
   ]
  },
  {
   "cell_type": "markdown",
   "metadata": {},
   "source": [
    "#### 3.1.1. CV results"
   ]
  },
  {
   "cell_type": "markdown",
   "metadata": {},
   "source": [
    "Let's look at results per parameter combination"
   ]
  },
  {
   "cell_type": "code",
   "execution_count": 9,
   "metadata": {},
   "outputs": [
    {
     "data": {
      "text/html": [
       "<div>\n",
       "<style scoped>\n",
       "    .dataframe tbody tr th:only-of-type {\n",
       "        vertical-align: middle;\n",
       "    }\n",
       "\n",
       "    .dataframe tbody tr th {\n",
       "        vertical-align: top;\n",
       "    }\n",
       "\n",
       "    .dataframe thead th {\n",
       "        text-align: right;\n",
       "    }\n",
       "</style>\n",
       "<table border=\"1\" class=\"dataframe\">\n",
       "  <thead>\n",
       "    <tr style=\"text-align: right;\">\n",
       "      <th></th>\n",
       "      <th>mean_train_r2</th>\n",
       "      <th>mean_test_r2</th>\n",
       "      <th>mean_train_rmse</th>\n",
       "      <th>mean_test_rmse</th>\n",
       "    </tr>\n",
       "  </thead>\n",
       "  <tbody>\n",
       "    <tr>\n",
       "      <th>0</th>\n",
       "      <td>0.731305</td>\n",
       "      <td>0.617283</td>\n",
       "      <td>26358.176356</td>\n",
       "      <td>31419.012425</td>\n",
       "    </tr>\n",
       "    <tr>\n",
       "      <th>1</th>\n",
       "      <td>0.746871</td>\n",
       "      <td>0.621631</td>\n",
       "      <td>25584.203408</td>\n",
       "      <td>31238.582538</td>\n",
       "    </tr>\n",
       "    <tr>\n",
       "      <th>2</th>\n",
       "      <td>0.596687</td>\n",
       "      <td>0.559665</td>\n",
       "      <td>32292.238947</td>\n",
       "      <td>33690.735567</td>\n",
       "    </tr>\n",
       "    <tr>\n",
       "      <th>3</th>\n",
       "      <td>0.504966</td>\n",
       "      <td>0.495950</td>\n",
       "      <td>35775.192887</td>\n",
       "      <td>36048.024648</td>\n",
       "    </tr>\n",
       "    <tr>\n",
       "      <th>4</th>\n",
       "      <td>0.378859</td>\n",
       "      <td>0.374726</td>\n",
       "      <td>40075.317030</td>\n",
       "      <td>40164.574115</td>\n",
       "    </tr>\n",
       "    <tr>\n",
       "      <th>5</th>\n",
       "      <td>0.841916</td>\n",
       "      <td>0.628540</td>\n",
       "      <td>20216.017386</td>\n",
       "      <td>30950.519009</td>\n",
       "    </tr>\n",
       "    <tr>\n",
       "      <th>6</th>\n",
       "      <td>0.383039</td>\n",
       "      <td>0.337288</td>\n",
       "      <td>39940.376479</td>\n",
       "      <td>41358.611940</td>\n",
       "    </tr>\n",
       "    <tr>\n",
       "      <th>7</th>\n",
       "      <td>0.739942</td>\n",
       "      <td>0.608559</td>\n",
       "      <td>25931.065503</td>\n",
       "      <td>31764.104321</td>\n",
       "    </tr>\n",
       "    <tr>\n",
       "      <th>8</th>\n",
       "      <td>0.752511</td>\n",
       "      <td>0.593319</td>\n",
       "      <td>25299.016832</td>\n",
       "      <td>32386.182097</td>\n",
       "    </tr>\n",
       "    <tr>\n",
       "      <th>9</th>\n",
       "      <td>0.802223</td>\n",
       "      <td>0.604000</td>\n",
       "      <td>22614.776402</td>\n",
       "      <td>31966.931256</td>\n",
       "    </tr>\n",
       "  </tbody>\n",
       "</table>\n",
       "</div>"
      ],
      "text/plain": [
       "   mean_train_r2  mean_test_r2  mean_train_rmse  mean_test_rmse\n",
       "0       0.731305      0.617283     26358.176356    31419.012425\n",
       "1       0.746871      0.621631     25584.203408    31238.582538\n",
       "2       0.596687      0.559665     32292.238947    33690.735567\n",
       "3       0.504966      0.495950     35775.192887    36048.024648\n",
       "4       0.378859      0.374726     40075.317030    40164.574115\n",
       "5       0.841916      0.628540     20216.017386    30950.519009\n",
       "6       0.383039      0.337288     39940.376479    41358.611940\n",
       "7       0.739942      0.608559     25931.065503    31764.104321\n",
       "8       0.752511      0.593319     25299.016832    32386.182097\n",
       "9       0.802223      0.604000     22614.776402    31966.931256"
      ]
     },
     "execution_count": 9,
     "metadata": {},
     "output_type": "execute_result"
    }
   ],
   "source": [
    "pd.set_option('display.max_columns', None)\n",
    "\n",
    "df_cv_results = pd.DataFrame(clf.cv_results_)\n",
    "\n",
    "df_cv_results['mean_train_rmse'] = -1 * df_cv_results['mean_train_rmse']\n",
    "df_cv_results['mean_test_rmse'] = -1 * df_cv_results['mean_test_rmse']\n",
    "\n",
    "df_cv_results[['mean_train_r2', 'mean_test_r2' ,'mean_train_rmse', 'mean_test_rmse']]"
   ]
  },
  {
   "cell_type": "markdown",
   "metadata": {},
   "source": [
    "Now, the average of folds:"
   ]
  },
  {
   "cell_type": "code",
   "execution_count": 10,
   "metadata": {},
   "outputs": [
    {
     "name": "stdout",
     "output_type": "stream",
     "text": [
      "Mean CV Test R2: 0.5440960909219588\n",
      "Mean CV Test RMSE: 34098.72779150598\n"
     ]
    }
   ],
   "source": [
    "mean_test_r2 = np.mean(df_cv_results['mean_test_r2']) \n",
    "mean_test_rmse = np.mean(df_cv_results['mean_test_rmse'])  \n",
    "\n",
    "print(f\"Mean CV Test R2: {mean_test_r2}\")\n",
    "print(f\"Mean CV Test RMSE: {mean_test_rmse}\")"
   ]
  },
  {
   "cell_type": "code",
   "execution_count": 11,
   "metadata": {},
   "outputs": [
    {
     "data": {
      "text/html": [
       "<div>\n",
       "<style scoped>\n",
       "    .dataframe tbody tr th:only-of-type {\n",
       "        vertical-align: middle;\n",
       "    }\n",
       "\n",
       "    .dataframe tbody tr th {\n",
       "        vertical-align: top;\n",
       "    }\n",
       "\n",
       "    .dataframe thead th {\n",
       "        text-align: right;\n",
       "    }\n",
       "</style>\n",
       "<table border=\"1\" class=\"dataframe\">\n",
       "  <thead>\n",
       "    <tr style=\"text-align: right;\">\n",
       "      <th></th>\n",
       "      <th>train_r2</th>\n",
       "      <th>test_r2</th>\n",
       "      <th>train_rmse</th>\n",
       "      <th>test_rmse</th>\n",
       "    </tr>\n",
       "    <tr>\n",
       "      <th>Fold</th>\n",
       "      <th></th>\n",
       "      <th></th>\n",
       "      <th></th>\n",
       "      <th></th>\n",
       "    </tr>\n",
       "  </thead>\n",
       "  <tbody>\n",
       "    <tr>\n",
       "      <th>1</th>\n",
       "      <td>0.73358</td>\n",
       "      <td>0.603896</td>\n",
       "      <td>26472.197121</td>\n",
       "      <td>31157.502721</td>\n",
       "    </tr>\n",
       "    <tr>\n",
       "      <th>2</th>\n",
       "      <td>0.749641</td>\n",
       "      <td>0.605736</td>\n",
       "      <td>25661.865732</td>\n",
       "      <td>31085.037377</td>\n",
       "    </tr>\n",
       "    <tr>\n",
       "      <th>3</th>\n",
       "      <td>0.604186</td>\n",
       "      <td>0.537128</td>\n",
       "      <td>32266.505408</td>\n",
       "      <td>33681.255968</td>\n",
       "    </tr>\n",
       "    <tr>\n",
       "      <th>4</th>\n",
       "      <td>0.515142</td>\n",
       "      <td>0.480595</td>\n",
       "      <td>35711.972788</td>\n",
       "      <td>35678.861724</td>\n",
       "    </tr>\n",
       "    <tr>\n",
       "      <th>5</th>\n",
       "      <td>0.383831</td>\n",
       "      <td>0.374452</td>\n",
       "      <td>40258.391875</td>\n",
       "      <td>39155.076948</td>\n",
       "    </tr>\n",
       "    <tr>\n",
       "      <th>6</th>\n",
       "      <td>0.846582</td>\n",
       "      <td>0.610648</td>\n",
       "      <td>20088.343649</td>\n",
       "      <td>30890.794405</td>\n",
       "    </tr>\n",
       "    <tr>\n",
       "      <th>7</th>\n",
       "      <td>0.389059</td>\n",
       "      <td>0.33206</td>\n",
       "      <td>40087.238973</td>\n",
       "      <td>40460.07245</td>\n",
       "    </tr>\n",
       "    <tr>\n",
       "      <th>8</th>\n",
       "      <td>0.743348</td>\n",
       "      <td>0.585501</td>\n",
       "      <td>25982.400352</td>\n",
       "      <td>31872.76054</td>\n",
       "    </tr>\n",
       "    <tr>\n",
       "      <th>9</th>\n",
       "      <td>0.752001</td>\n",
       "      <td>0.579046</td>\n",
       "      <td>25540.625399</td>\n",
       "      <td>32119.980334</td>\n",
       "    </tr>\n",
       "    <tr>\n",
       "      <th>10</th>\n",
       "      <td>0.80706</td>\n",
       "      <td>0.588705</td>\n",
       "      <td>22527.751475</td>\n",
       "      <td>31749.345267</td>\n",
       "    </tr>\n",
       "    <tr>\n",
       "      <th>11</th>\n",
       "      <td>0.727056</td>\n",
       "      <td>0.619802</td>\n",
       "      <td>26191.39483</td>\n",
       "      <td>32658.997394</td>\n",
       "    </tr>\n",
       "    <tr>\n",
       "      <th>12</th>\n",
       "      <td>0.745369</td>\n",
       "      <td>0.629981</td>\n",
       "      <td>25297.475666</td>\n",
       "      <td>32218.830647</td>\n",
       "    </tr>\n",
       "    <tr>\n",
       "      <th>13</th>\n",
       "      <td>0.592637</td>\n",
       "      <td>0.570723</td>\n",
       "      <td>31997.253439</td>\n",
       "      <td>34702.983573</td>\n",
       "    </tr>\n",
       "    <tr>\n",
       "      <th>14</th>\n",
       "      <td>0.497517</td>\n",
       "      <td>0.504068</td>\n",
       "      <td>35537.157231</td>\n",
       "      <td>37299.99907</td>\n",
       "    </tr>\n",
       "    <tr>\n",
       "      <th>15</th>\n",
       "      <td>0.371476</td>\n",
       "      <td>0.372352</td>\n",
       "      <td>39745.015517</td>\n",
       "      <td>41961.972108</td>\n",
       "    </tr>\n",
       "    <tr>\n",
       "      <th>16</th>\n",
       "      <td>0.838545</td>\n",
       "      <td>0.637028</td>\n",
       "      <td>20144.075107</td>\n",
       "      <td>31910.570766</td>\n",
       "    </tr>\n",
       "    <tr>\n",
       "      <th>17</th>\n",
       "      <td>0.373999</td>\n",
       "      <td>0.323698</td>\n",
       "      <td>39665.184612</td>\n",
       "      <td>43558.028712</td>\n",
       "    </tr>\n",
       "    <tr>\n",
       "      <th>18</th>\n",
       "      <td>0.737655</td>\n",
       "      <td>0.613143</td>\n",
       "      <td>25677.836161</td>\n",
       "      <td>32943.770686</td>\n",
       "    </tr>\n",
       "    <tr>\n",
       "      <th>19</th>\n",
       "      <td>0.75816</td>\n",
       "      <td>0.609135</td>\n",
       "      <td>24653.91851</td>\n",
       "      <td>33113.968936</td>\n",
       "    </tr>\n",
       "    <tr>\n",
       "      <th>20</th>\n",
       "      <td>0.80427</td>\n",
       "      <td>0.606808</td>\n",
       "      <td>22179.433023</td>\n",
       "      <td>33212.389463</td>\n",
       "    </tr>\n",
       "    <tr>\n",
       "      <th>21</th>\n",
       "      <td>0.732705</td>\n",
       "      <td>0.621013</td>\n",
       "      <td>26055.158321</td>\n",
       "      <td>32149.624943</td>\n",
       "    </tr>\n",
       "    <tr>\n",
       "      <th>22</th>\n",
       "      <td>0.747647</td>\n",
       "      <td>0.619341</td>\n",
       "      <td>25316.439219</td>\n",
       "      <td>32220.460097</td>\n",
       "    </tr>\n",
       "    <tr>\n",
       "      <th>23</th>\n",
       "      <td>0.592869</td>\n",
       "      <td>0.568093</td>\n",
       "      <td>32156.223621</td>\n",
       "      <td>34320.91621</td>\n",
       "    </tr>\n",
       "    <tr>\n",
       "      <th>24</th>\n",
       "      <td>0.499586</td>\n",
       "      <td>0.507909</td>\n",
       "      <td>35650.258154</td>\n",
       "      <td>36634.17567</td>\n",
       "    </tr>\n",
       "    <tr>\n",
       "      <th>25</th>\n",
       "      <td>0.376741</td>\n",
       "      <td>0.377628</td>\n",
       "      <td>39786.211385</td>\n",
       "      <td>41199.211216</td>\n",
       "    </tr>\n",
       "    <tr>\n",
       "      <th>26</th>\n",
       "      <td>0.840533</td>\n",
       "      <td>0.627849</td>\n",
       "      <td>20124.896469</td>\n",
       "      <td>31858.358061</td>\n",
       "    </tr>\n",
       "    <tr>\n",
       "      <th>27</th>\n",
       "      <td>0.383776</td>\n",
       "      <td>0.336157</td>\n",
       "      <td>39561.006416</td>\n",
       "      <td>42549.684679</td>\n",
       "    </tr>\n",
       "    <tr>\n",
       "      <th>28</th>\n",
       "      <td>0.738504</td>\n",
       "      <td>0.622844</td>\n",
       "      <td>25770.960992</td>\n",
       "      <td>32071.884826</td>\n",
       "    </tr>\n",
       "    <tr>\n",
       "      <th>29</th>\n",
       "      <td>0.751966</td>\n",
       "      <td>0.579063</td>\n",
       "      <td>25098.823701</td>\n",
       "      <td>33882.276845</td>\n",
       "    </tr>\n",
       "    <tr>\n",
       "      <th>30</th>\n",
       "      <td>0.802722</td>\n",
       "      <td>0.592159</td>\n",
       "      <td>22383.991107</td>\n",
       "      <td>33351.036256</td>\n",
       "    </tr>\n",
       "    <tr>\n",
       "      <th>31</th>\n",
       "      <td>0.731881</td>\n",
       "      <td>0.624422</td>\n",
       "      <td>26713.955151</td>\n",
       "      <td>29709.924643</td>\n",
       "    </tr>\n",
       "    <tr>\n",
       "      <th>32</th>\n",
       "      <td>0.744827</td>\n",
       "      <td>0.631466</td>\n",
       "      <td>26061.033013</td>\n",
       "      <td>29430.00203</td>\n",
       "    </tr>\n",
       "    <tr>\n",
       "      <th>33</th>\n",
       "      <td>0.597054</td>\n",
       "      <td>0.562715</td>\n",
       "      <td>32748.973321</td>\n",
       "      <td>32057.786516</td>\n",
       "    </tr>\n",
       "    <tr>\n",
       "      <th>34</th>\n",
       "      <td>0.507619</td>\n",
       "      <td>0.491227</td>\n",
       "      <td>36201.383372</td>\n",
       "      <td>34579.062126</td>\n",
       "    </tr>\n",
       "    <tr>\n",
       "      <th>35</th>\n",
       "      <td>0.383389</td>\n",
       "      <td>0.37447</td>\n",
       "      <td>40511.649343</td>\n",
       "      <td>38342.036188</td>\n",
       "    </tr>\n",
       "    <tr>\n",
       "      <th>36</th>\n",
       "      <td>0.842004</td>\n",
       "      <td>0.638634</td>\n",
       "      <td>20506.754318</td>\n",
       "      <td>29142.352804</td>\n",
       "    </tr>\n",
       "    <tr>\n",
       "      <th>37</th>\n",
       "      <td>0.385323</td>\n",
       "      <td>0.357235</td>\n",
       "      <td>40448.075915</td>\n",
       "      <td>38866.661917</td>\n",
       "    </tr>\n",
       "    <tr>\n",
       "      <th>38</th>\n",
       "      <td>0.740263</td>\n",
       "      <td>0.612751</td>\n",
       "      <td>26293.064508</td>\n",
       "      <td>30168.001231</td>\n",
       "    </tr>\n",
       "    <tr>\n",
       "      <th>39</th>\n",
       "      <td>0.747918</td>\n",
       "      <td>0.606034</td>\n",
       "      <td>25902.69972</td>\n",
       "      <td>30428.502273</td>\n",
       "    </tr>\n",
       "    <tr>\n",
       "      <th>40</th>\n",
       "      <td>0.79484</td>\n",
       "      <td>0.628329</td>\n",
       "      <td>23367.930003</td>\n",
       "      <td>29554.954038</td>\n",
       "    </tr>\n",
       "  </tbody>\n",
       "</table>\n",
       "</div>"
      ],
      "text/plain": [
       "      train_r2   test_r2    train_rmse     test_rmse\n",
       "Fold                                                \n",
       "1      0.73358  0.603896  26472.197121  31157.502721\n",
       "2     0.749641  0.605736  25661.865732  31085.037377\n",
       "3     0.604186  0.537128  32266.505408  33681.255968\n",
       "4     0.515142  0.480595  35711.972788  35678.861724\n",
       "5     0.383831  0.374452  40258.391875  39155.076948\n",
       "6     0.846582  0.610648  20088.343649  30890.794405\n",
       "7     0.389059   0.33206  40087.238973   40460.07245\n",
       "8     0.743348  0.585501  25982.400352   31872.76054\n",
       "9     0.752001  0.579046  25540.625399  32119.980334\n",
       "10     0.80706  0.588705  22527.751475  31749.345267\n",
       "11    0.727056  0.619802   26191.39483  32658.997394\n",
       "12    0.745369  0.629981  25297.475666  32218.830647\n",
       "13    0.592637  0.570723  31997.253439  34702.983573\n",
       "14    0.497517  0.504068  35537.157231   37299.99907\n",
       "15    0.371476  0.372352  39745.015517  41961.972108\n",
       "16    0.838545  0.637028  20144.075107  31910.570766\n",
       "17    0.373999  0.323698  39665.184612  43558.028712\n",
       "18    0.737655  0.613143  25677.836161  32943.770686\n",
       "19     0.75816  0.609135   24653.91851  33113.968936\n",
       "20     0.80427  0.606808  22179.433023  33212.389463\n",
       "21    0.732705  0.621013  26055.158321  32149.624943\n",
       "22    0.747647  0.619341  25316.439219  32220.460097\n",
       "23    0.592869  0.568093  32156.223621   34320.91621\n",
       "24    0.499586  0.507909  35650.258154   36634.17567\n",
       "25    0.376741  0.377628  39786.211385  41199.211216\n",
       "26    0.840533  0.627849  20124.896469  31858.358061\n",
       "27    0.383776  0.336157  39561.006416  42549.684679\n",
       "28    0.738504  0.622844  25770.960992  32071.884826\n",
       "29    0.751966  0.579063  25098.823701  33882.276845\n",
       "30    0.802722  0.592159  22383.991107  33351.036256\n",
       "31    0.731881  0.624422  26713.955151  29709.924643\n",
       "32    0.744827  0.631466  26061.033013   29430.00203\n",
       "33    0.597054  0.562715  32748.973321  32057.786516\n",
       "34    0.507619  0.491227  36201.383372  34579.062126\n",
       "35    0.383389   0.37447  40511.649343  38342.036188\n",
       "36    0.842004  0.638634  20506.754318  29142.352804\n",
       "37    0.385323  0.357235  40448.075915  38866.661917\n",
       "38    0.740263  0.612751  26293.064508  30168.001231\n",
       "39    0.747918  0.606034   25902.69972  30428.502273\n",
       "40     0.79484  0.628329  23367.930003  29554.954038"
      ]
     },
     "execution_count": 11,
     "metadata": {},
     "output_type": "execute_result"
    }
   ],
   "source": [
    "# Creando un DataFrame vacío\n",
    "results_df = pd.DataFrame(columns=['train_r2', 'test_r2', 'train_rmse', 'test_rmse'])\n",
    "\n",
    "num_splits = kf.get_n_splits()  # Obtiene el número de splits directamente del objeto KFold\n",
    "\n",
    "# Llenando el DataFrame con los resultados\n",
    "for i in range(num_splits):\n",
    "    train_r2_key = f\"split{i}_train_r2\"\n",
    "    test_r2_key = f\"split{i}_test_r2\"\n",
    "    train_rmse_key = f\"split{i}_train_rmse\"\n",
    "    test_rmse_key = f\"split{i}_test_rmse\"\n",
    "    \n",
    "    for j in range(len(df_cv_results)):\n",
    "        fold_results = {\n",
    "            'train_r2': df_cv_results.loc[j, train_r2_key],\n",
    "            'test_r2': df_cv_results.loc[j, test_r2_key],\n",
    "            'train_rmse': -df_cv_results.loc[j, train_rmse_key],  # RMSE se multiplica por -1\n",
    "            'test_rmse': -df_cv_results.loc[j, test_rmse_key]    # RMSE se multiplica por -1\n",
    "        }\n",
    "        results_df = results_df.append(fold_results, ignore_index=True)\n",
    "\n",
    "# Ajustando el índice para que muestre el número de fold\n",
    "results_df.index += 1\n",
    "results_df.index.name = 'Fold'\n",
    "results_df"
   ]
  },
  {
   "cell_type": "code",
   "execution_count": 12,
   "metadata": {},
   "outputs": [
    {
     "data": {
      "image/png": "[encoded data removed]",
      "text/plain": [
       "<Figure size 864x576 with 4 Axes>"
      ]
     },
     "metadata": {
      "needs_background": "light"
     },
     "output_type": "display_data"
    }
   ],
   "source": [
    "fold_num = 1\n",
    "plt.figure(figsize=(12, 8))\n",
    "for train_index, test_index in kf.split(X_train_scaled):\n",
    "    \n",
    "    # Extrae los datos para este fold específico\n",
    "    X_fold_test = X_train_scaled.iloc[test_index]\n",
    "    y_fold_true = y_train.iloc[test_index]\n",
    "    \n",
    "    # Realiza las predicciones para este fold\n",
    "    y_fold_pred = clf.predict(X_fold_test)\n",
    "\n",
    "    # Crear un subplot para cada fold\n",
    "    plt.subplot(2, 2, fold_num)\n",
    "    sns.kdeplot(y_fold_pred, color='blue', label='Predicted Values')\n",
    "    sns.kdeplot(y_fold_true, color='red', label='True Values')\n",
    "    plt.title(f'Fold {fold_num} Predicted vs True Distribution')\n",
    "    plt.legend()\n",
    "\n",
    "    fold_num += 1\n",
    "\n",
    "plt.tight_layout()\n",
    "plt.show()\n"
   ]
  },
  {
   "cell_type": "markdown",
   "metadata": {},
   "source": [
    "### 3.2. Train and Test sets predictions"
   ]
  },
  {
   "cell_type": "markdown",
   "metadata": {},
   "source": [
    "First, let's update model with the best parameters found in CV:"
   ]
  },
  {
   "cell_type": "markdown",
   "metadata": {},
   "source": [
    "Now, we will define our metrics for train and test sets:"
   ]
  },
  {
   "cell_type": "code",
   "execution_count": 13,
   "metadata": {},
   "outputs": [],
   "source": [
    "def adjusted_r2(r2, n, p):\n",
    "    \"\"\"Calculate adjusted R^2 given R^2, number of observations (n) and number of predictors (p)\"\"\"\n",
    "    return 1 - (1 - r2) * (n - 1) / (n - p - 1)\n",
    "    \n",
    "    \n",
    "def metrics(model, X, y):\n",
    "    \"\"\"\n",
    "    Calculate average metrics (R^2, RMSE, Adjusted R^2) and predictions from cross-validation results\n",
    "    and return them\n",
    "    \"\"\"\n",
    "    y_pred = model.predict(X)\n",
    "    mse = mean_squared_error(y, y_pred)\n",
    "    rmse = np.sqrt(mse)\n",
    "    r2 = r2_score(y, y_pred)\n",
    "    adj_r2 = adjusted_r2(r2, X.shape[0], X.shape[1])\n",
    "    \n",
    "    return {'R^2': r2, 'RMSE': rmse, 'Adjusted R^2': adj_r2, 'Predictions': y_pred}"
   ]
  },
  {
   "cell_type": "markdown",
   "metadata": {},
   "source": [
    "#### 3.2.1. Train set results"
   ]
  },
  {
   "cell_type": "code",
   "execution_count": 14,
   "metadata": {},
   "outputs": [
    {
     "name": "stdout",
     "output_type": "stream",
     "text": [
      "\n",
      "Train set metrics:\n",
      "R^2: 0.844265069217054\n",
      "RMSE: 20070.55259922859\n",
      "Adjusted R^2: 0.8348243708754186\n"
     ]
    }
   ],
   "source": [
    "train_results = metrics(clf.best_estimator_, X_train_scaled, y_train)\n",
    "\n",
    "print(\"\\nTrain set metrics:\")\n",
    "for key in list(train_results.keys())[:3]:\n",
    "    print(f\"{key}: {train_results[key]}\")"
   ]
  },
  {
   "cell_type": "code",
   "execution_count": 15,
   "metadata": {},
   "outputs": [
    {
     "name": "stdout",
     "output_type": "stream",
     "text": [
      "\n",
      "Test set metrics:\n",
      "R^2: 0.6369069343954143\n",
      "RMSE: 29859.062161647078\n",
      "Adjusted R^2: 0.5261764250266401\n"
     ]
    }
   ],
   "source": [
    "test_results = metrics(clf.best_estimator_, X_test_scaled, y_test)\n",
    "\n",
    "print(\"\\nTest set metrics:\")\n",
    "for key in list(test_results.keys())[:3]:\n",
    "    print(f\"{key}: {test_results[key]}\")"
   ]
  },
  {
   "cell_type": "code",
   "execution_count": 16,
   "metadata": {},
   "outputs": [],
   "source": [
    "y_pred_train = train_results['Predictions']\n",
    "y_pred_test = test_results['Predictions']"
   ]
  },
  {
   "cell_type": "markdown",
   "metadata": {},
   "source": [
    "## 4. Plotting results"
   ]
  },
  {
   "cell_type": "markdown",
   "metadata": {},
   "source": [
    "### 4.1. Residuals Plot"
   ]
  },
  {
   "cell_type": "code",
   "execution_count": 17,
   "metadata": {},
   "outputs": [
    {
     "data": {
      "image/png": "[encoded data removed]",
      "text/plain": [
       "<Figure size 720x360 with 1 Axes>"
      ]
     },
     "metadata": {},
     "output_type": "display_data"
    }
   ],
   "source": [
    "sns.set_theme(style='darkgrid')\n",
    "\n",
    "residuals = y_test - y_pred_test\n",
    "\n",
    "plt.figure(figsize=(10,5))\n",
    "\n",
    "sns.residplot(x=y_test, y=residuals, lowess=True, line_kws={'color': 'red', 'lw': 2.5})\n",
    "\n",
    "plt.title('RF Residuals', weight='bold', fontsize=20, pad=10)\n",
    "plt.xlabel('True Values', weight='bold', fontsize=15, labelpad= 15)\n",
    "plt.ylabel('Residuals', weight='bold', fontsize=15, labelpad= 15)\n",
    "plt.axhline(y=0, color='black', linestyle='--')\n",
    "plt.savefig(\"../../paper/models/rf-test-residuals.pdf\");"
   ]
  },
  {
   "cell_type": "markdown",
   "metadata": {},
   "source": [
    "### 4.2. Test set performance"
   ]
  },
  {
   "cell_type": "code",
   "execution_count": 18,
   "metadata": {},
   "outputs": [
    {
     "data": {
      "text/plain": [
       "<Figure size 720x432 with 0 Axes>"
      ]
     },
     "metadata": {},
     "output_type": "display_data"
    },
    {
     "data": {
      "image/png": "[encoded data removed]",
      "text/plain": [
       "<Figure size 504x504 with 3 Axes>"
      ]
     },
     "metadata": {},
     "output_type": "display_data"
    }
   ],
   "source": [
    "sns.set_theme(style='darkgrid')\n",
    "\n",
    "plt.figure(figsize=(10, 6))\n",
    "\n",
    "sns.jointplot(x=y_test, y=y_pred_test, kind='reg', \n",
    "              joint_kws={'color':'grey', 'line_kws':{'color':'purple'}},\n",
    "              marginal_kws=dict(bins=30, fill=True, color='m'), height=7)\n",
    "\n",
    "plt.suptitle('RF Performance - Test set', weight='bold', y=1.03, fontsize=20)\n",
    "plt.xlabel('True Values', weight='bold', labelpad=15, fontsize=15)\n",
    "plt.ylabel('Predictions', weight='bold', labelpad=15, fontsize=15)\n",
    "\n",
    "plt.savefig(\"../../paper/models/rf-test-predictions.pdf\");"
   ]
  },
  {
   "cell_type": "markdown",
   "metadata": {},
   "source": [
    "## 6. Saving results"
   ]
  },
  {
   "cell_type": "markdown",
   "metadata": {},
   "source": [
    "Saving CV results"
   ]
  },
  {
   "cell_type": "code",
   "execution_count": 19,
   "metadata": {},
   "outputs": [],
   "source": [
    "df_cv_results.to_csv(\"../../output/rf-cv-results.csv\")"
   ]
  },
  {
   "cell_type": "markdown",
   "metadata": {},
   "source": [
    "Saving train and test sets predictions"
   ]
  },
  {
   "cell_type": "code",
   "execution_count": 20,
   "metadata": {},
   "outputs": [],
   "source": [
    "np.savetxt(\"../../output/rf-train-predictions.csv\", y_pred_train, delimiter=\",\")\n",
    "\n",
    "np.savetxt(\"../../output/rf-test-predictions.csv\", y_pred_test, delimiter=\",\")"
   ]
  },
  {
   "cell_type": "code",
   "execution_count": 21,
   "metadata": {},
   "outputs": [
    {
     "data": {
      "text/html": [
       "<div>\n",
       "<style scoped>\n",
       "    .dataframe tbody tr th:only-of-type {\n",
       "        vertical-align: middle;\n",
       "    }\n",
       "\n",
       "    .dataframe tbody tr th {\n",
       "        vertical-align: top;\n",
       "    }\n",
       "\n",
       "    .dataframe thead th {\n",
       "        text-align: right;\n",
       "    }\n",
       "</style>\n",
       "<table border=\"1\" class=\"dataframe\">\n",
       "  <thead>\n",
       "    <tr style=\"text-align: right;\">\n",
       "      <th></th>\n",
       "      <th>params</th>\n",
       "      <th>mean_train_r2</th>\n",
       "      <th>mean_test_r2</th>\n",
       "    </tr>\n",
       "  </thead>\n",
       "  <tbody>\n",
       "    <tr>\n",
       "      <th>0</th>\n",
       "      <td>{'bootstrap': True, 'max_depth': 20, 'max_features': 93, 'min_samples_leaf': 8, 'min_samples_split': 6, 'n_estimators': 30}</td>\n",
       "      <td>0.731305</td>\n",
       "      <td>0.617283</td>\n",
       "    </tr>\n",
       "    <tr>\n",
       "      <th>1</th>\n",
       "      <td>{'bootstrap': True, 'max_depth': 26, 'max_features': 83, 'min_samples_leaf': 7, 'min_samples_split': 4, 'n_estimators': 97}</td>\n",
       "      <td>0.746871</td>\n",
       "      <td>0.621631</td>\n",
       "    </tr>\n",
       "    <tr>\n",
       "      <th>2</th>\n",
       "      <td>{'bootstrap': True, 'max_depth': 4, 'max_features': 104, 'min_samples_leaf': 8, 'min_samples_split': 4, 'n_estimators': 159}</td>\n",
       "      <td>0.596687</td>\n",
       "      <td>0.559665</td>\n",
       "    </tr>\n",
       "    <tr>\n",
       "      <th>3</th>\n",
       "      <td>{'bootstrap': True, 'max_depth': 2, 'max_features': 88, 'min_samples_leaf': 6, 'min_samples_split': 3, 'n_estimators': 197}</td>\n",
       "      <td>0.504966</td>\n",
       "      <td>0.495950</td>\n",
       "    </tr>\n",
       "    <tr>\n",
       "      <th>4</th>\n",
       "      <td>{'bootstrap': True, 'max_depth': 1, 'max_features': 76, 'min_samples_leaf': 6, 'min_samples_split': 6, 'n_estimators': 98}</td>\n",
       "      <td>0.378859</td>\n",
       "      <td>0.374726</td>\n",
       "    </tr>\n",
       "    <tr>\n",
       "      <th>5</th>\n",
       "      <td>{'bootstrap': True, 'max_depth': 27, 'max_features': 59, 'min_samples_leaf': 3, 'min_samples_split': 5, 'n_estimators': 64}</td>\n",
       "      <td>0.841916</td>\n",
       "      <td>0.628540</td>\n",
       "    </tr>\n",
       "    <tr>\n",
       "      <th>6</th>\n",
       "      <td>{'bootstrap': False, 'max_depth': 25, 'max_features': 3, 'min_samples_leaf': 5, 'min_samples_split': 4, 'n_estimators': 144}</td>\n",
       "      <td>0.383039</td>\n",
       "      <td>0.337288</td>\n",
       "    </tr>\n",
       "    <tr>\n",
       "      <th>7</th>\n",
       "      <td>{'bootstrap': True, 'max_depth': 9, 'max_features': 39, 'min_samples_leaf': 2, 'min_samples_split': 5, 'n_estimators': 98}</td>\n",
       "      <td>0.739942</td>\n",
       "      <td>0.608559</td>\n",
       "    </tr>\n",
       "    <tr>\n",
       "      <th>8</th>\n",
       "      <td>{'bootstrap': False, 'max_depth': 14, 'max_features': 114, 'min_samples_leaf': 9, 'min_samples_split': 3, 'n_estimators': 62}</td>\n",
       "      <td>0.752511</td>\n",
       "      <td>0.593319</td>\n",
       "    </tr>\n",
       "    <tr>\n",
       "      <th>9</th>\n",
       "      <td>{'bootstrap': False, 'max_depth': 20, 'max_features': 92, 'min_samples_leaf': 7, 'min_samples_split': 5, 'n_estimators': 17}</td>\n",
       "      <td>0.802223</td>\n",
       "      <td>0.604000</td>\n",
       "    </tr>\n",
       "  </tbody>\n",
       "</table>\n",
       "</div>"
      ],
      "text/plain": [
       "                                                                                                                          params  \\\n",
       "0    {'bootstrap': True, 'max_depth': 20, 'max_features': 93, 'min_samples_leaf': 8, 'min_samples_split': 6, 'n_estimators': 30}   \n",
       "1    {'bootstrap': True, 'max_depth': 26, 'max_features': 83, 'min_samples_leaf': 7, 'min_samples_split': 4, 'n_estimators': 97}   \n",
       "2   {'bootstrap': True, 'max_depth': 4, 'max_features': 104, 'min_samples_leaf': 8, 'min_samples_split': 4, 'n_estimators': 159}   \n",
       "3    {'bootstrap': True, 'max_depth': 2, 'max_features': 88, 'min_samples_leaf': 6, 'min_samples_split': 3, 'n_estimators': 197}   \n",
       "4     {'bootstrap': True, 'max_depth': 1, 'max_features': 76, 'min_samples_leaf': 6, 'min_samples_split': 6, 'n_estimators': 98}   \n",
       "5    {'bootstrap': True, 'max_depth': 27, 'max_features': 59, 'min_samples_leaf': 3, 'min_samples_split': 5, 'n_estimators': 64}   \n",
       "6   {'bootstrap': False, 'max_depth': 25, 'max_features': 3, 'min_samples_leaf': 5, 'min_samples_split': 4, 'n_estimators': 144}   \n",
       "7     {'bootstrap': True, 'max_depth': 9, 'max_features': 39, 'min_samples_leaf': 2, 'min_samples_split': 5, 'n_estimators': 98}   \n",
       "8  {'bootstrap': False, 'max_depth': 14, 'max_features': 114, 'min_samples_leaf': 9, 'min_samples_split': 3, 'n_estimators': 62}   \n",
       "9   {'bootstrap': False, 'max_depth': 20, 'max_features': 92, 'min_samples_leaf': 7, 'min_samples_split': 5, 'n_estimators': 17}   \n",
       "\n",
       "   mean_train_r2  mean_test_r2  \n",
       "0       0.731305      0.617283  \n",
       "1       0.746871      0.621631  \n",
       "2       0.596687      0.559665  \n",
       "3       0.504966      0.495950  \n",
       "4       0.378859      0.374726  \n",
       "5       0.841916      0.628540  \n",
       "6       0.383039      0.337288  \n",
       "7       0.739942      0.608559  \n",
       "8       0.752511      0.593319  \n",
       "9       0.802223      0.604000  "
      ]
     },
     "execution_count": 21,
     "metadata": {},
     "output_type": "execute_result"
    }
   ],
   "source": [
    "pd.set_option('display.max_colwidth', None)\n",
    "\n",
    "\n",
    "df_cv_results[['params', 'mean_train_r2', 'mean_test_r2' ]]"
   ]
  }
 ],
 "metadata": {
  "kernelspec": {
   "display_name": "base",
   "language": "python",
   "name": "python3"
  },
  "language_info": {
   "codemirror_mode": {
    "name": "ipython",
    "version": 3
   },
   "file_extension": ".py",
   "mimetype": "text/x-python",
   "name": "python",
   "nbconvert_exporter": "python",
   "pygments_lexer": "ipython3",
   "version": "3.9.12"
  }
 },
 "nbformat": 4,
 "nbformat_minor": 2
}
