{
 "cells": [
  {
   "attachments": {},
   "cell_type": "markdown",
   "metadata": {},
   "source": [
    "OJO: one-hot funciona bien en general, aunque si pusiera label encoder en ciertas variables en las que usé one-hot podría ser mejorpara arboles"
   ]
  },
  {
   "attachments": {},
   "cell_type": "markdown",
   "metadata": {},
   "source": [
    "OJO2: si los modelos son un cagarro, corregir colver a data_cleaning y corregir class imbalance puede ayudar"
   ]
  },
  {
   "cell_type": "code",
   "execution_count": null,
   "metadata": {},
   "outputs": [],
   "source": [
    "%matplotlib inline\n",
    "\n",
    "import numpy as np\n",
    "import pandas as pd\n",
    "import matplotlib.pyplot as plt\n",
    "import seaborn as sns\n",
    "from sklearn.model_selection import train_test_split, KFold, cross_val_score, cross_validate, StratifiedKFold\n",
    "from sklearn.compose import ColumnTransformer\n",
    "from sklearn.preprocessing import OneHotEncoder, StandardScaler\n",
    "from sklearn.pipeline import Pipeline\n",
    "from sklearn.metrics import r2_score, mean_squared_error, mean_absolute_error, make_scorer\n",
    "import xgboost as xgb\n",
    "from scipy.stats import randint, uniform\n",
    "from sklearn.model_selection import RandomizedSearchCV\n",
    "\n",
    "import warnings\n",
    "warnings.filterwarnings('ignore')"
   ]
  },
  {
   "cell_type": "code",
   "execution_count": null,
   "metadata": {},
   "outputs": [
    {
     "data": {
      "text/plain": [
       "((2244, 76), (568, 76))"
      ]
     },
     "execution_count": 22,
     "metadata": {},
     "output_type": "execute_result"
    }
   ],
   "source": [
    "train_df = pd.read_csv('../../input/clean_train_df.csv')\n",
    "test_df = pd.read_csv('../../input/clean_test_df.csv')\n",
    "train_df.shape, test_df.shape"
   ]
  },
  {
   "cell_type": "markdown",
   "metadata": {},
   "source": [
    "## Baseline features:"
   ]
  },
  {
   "cell_type": "code",
   "execution_count": null,
   "metadata": {},
   "outputs": [
    {
     "data": {
      "text/plain": [
       "'# Assuming you have a DataFrame called \\'df\\'\\nbaseline_cols = [\"Country\", \"Job_type\", \"Education\", \"Company_size\", \"Age\", \"Work_experience\", \"Annual_salary\"]\\n\\n# Add Job_title columns to the baseline_cols list\\nJob_title = [\\'Developer, game or graphics\\', \\'Blockchain\\', \\'Developer, QA or test\\', \\'Developer, back-end\\', \\'Student\\', \\n             \\'Project manager\\', \\'Data or business analyst\\', \\'Cloud infrastructure engineer\\', \\'Engineer, data\\', \\n             \\'Educator\\', \\'Developer, desktop or enterprise applications\\', \\'Developer, front-end\\', \\'Designer\\', \\n             \\'Security professional\\', \\'Developer, embedded applications or devices\\', \\'Product manager\\', \\'Developer, mobile\\', \\n             \\'Developer, full-stack\\', \\'Scientist\\', \\'Database administrator\\', \\'Academic researcher\\', \\'Senior Executive (C-Suite, VP, etc.)\\', \\n             \\'Marketing or sales professional\\', \\'System administrator\\', \\'Data scientist or machine learning specialist\\', \\n             \\'Engineer, site reliability\\', \\'DevOps specialist\\', \\'Engineering manager\\']\\n\\nbaseline_cols.extend(Job_title)\\n\\n# Iterate through the columns and keep only those containing the specified keywords\\ncolumns_to_keep_train = [col for col in train_df.columns if any(keyword in col for keyword in baseline_cols)]\\ncolumns_to_keep_test = [col for col in test_df.columns if any(keyword in col for keyword in baseline_cols)]\\n\\n# Filter the DataFrame, keeping only the selected columns\\nbaseline_train_df = train_df[columns_to_keep_train]\\nbaseline_test_df = test_df[columns_to_keep_test]\\n\\nbaseline_train_df.head()'"
      ]
     },
     "execution_count": 23,
     "metadata": {},
     "output_type": "execute_result"
    }
   ],
   "source": [
    "'''# Assuming you have a DataFrame called 'df'\n",
    "baseline_cols = [\"Country\", \"Job_type\", \"Education\", \"Company_size\", \"Age\", \"Work_experience\", \"Annual_salary\"]\n",
    "\n",
    "# Add Job_title columns to the baseline_cols list\n",
    "Job_title = ['Developer, game or graphics', 'Blockchain', 'Developer, QA or test', 'Developer, back-end', 'Student', \n",
    "             'Project manager', 'Data or business analyst', 'Cloud infrastructure engineer', 'Engineer, data', \n",
    "             'Educator', 'Developer, desktop or enterprise applications', 'Developer, front-end', 'Designer', \n",
    "             'Security professional', 'Developer, embedded applications or devices', 'Product manager', 'Developer, mobile', \n",
    "             'Developer, full-stack', 'Scientist', 'Database administrator', 'Academic researcher', 'Senior Executive (C-Suite, VP, etc.)', \n",
    "             'Marketing or sales professional', 'System administrator', 'Data scientist or machine learning specialist', \n",
    "             'Engineer, site reliability', 'DevOps specialist', 'Engineering manager']\n",
    "\n",
    "baseline_cols.extend(Job_title)\n",
    "\n",
    "# Iterate through the columns and keep only those containing the specified keywords\n",
    "columns_to_keep_train = [col for col in train_df.columns if any(keyword in col for keyword in baseline_cols)]\n",
    "columns_to_keep_test = [col for col in test_df.columns if any(keyword in col for keyword in baseline_cols)]\n",
    "\n",
    "# Filter the DataFrame, keeping only the selected columns\n",
    "baseline_train_df = train_df[columns_to_keep_train]\n",
    "baseline_test_df = test_df[columns_to_keep_test]\n",
    "\n",
    "baseline_train_df.head()'''"
   ]
  },
  {
   "cell_type": "code",
   "execution_count": null,
   "metadata": {},
   "outputs": [],
   "source": [
    "X_train = train_df.drop('Annual_salary', axis=1)\n",
    "X_test = test_df.drop('Annual_salary', axis=1)\n",
    "y_train = train_df['Annual_salary']\n",
    "y_test = test_df['Annual_salary']"
   ]
  },
  {
   "cell_type": "code",
   "execution_count": null,
   "metadata": {},
   "outputs": [
    {
     "data": {
      "text/plain": [
       "\"X_train = baseline_train_df.drop('Annual_salary', axis=1)\\nX_test = baseline_test_df.drop('Annual_salary', axis=1)\\ny_train = baseline_train_df['Annual_salary']\\ny_test = baseline_test_df['Annual_salary']\\n\\nprint(X_train.shape)\\nprint(y_train.shape)\\nprint()\\nprint(X_test.shape)\\nprint(y_test.shape)\""
      ]
     },
     "execution_count": 25,
     "metadata": {},
     "output_type": "execute_result"
    }
   ],
   "source": [
    "'''X_train = baseline_train_df.drop('Annual_salary', axis=1)\n",
    "X_test = baseline_test_df.drop('Annual_salary', axis=1)\n",
    "y_train = baseline_train_df['Annual_salary']\n",
    "y_test = baseline_test_df['Annual_salary']\n",
    "\n",
    "print(X_train.shape)\n",
    "print(y_train.shape)\n",
    "print()\n",
    "print(X_test.shape)\n",
    "print(y_test.shape)'''"
   ]
  },
  {
   "cell_type": "markdown",
   "metadata": {},
   "source": [
    "### Hyperparameter tunning"
   ]
  },
  {
   "cell_type": "code",
   "execution_count": 26,
   "metadata": {},
   "outputs": [
    {
     "name": "stdout",
     "output_type": "stream",
     "text": [
      "Fitting 5 folds for each of 50 candidates, totalling 250 fits\n"
     ]
    },
    {
     "ename": "KeyboardInterrupt",
     "evalue": "",
     "output_type": "error",
     "traceback": [
      "\u001b[1;31m---------------------------------------------------------------------------\u001b[0m",
      "\u001b[1;31mKeyboardInterrupt\u001b[0m                         Traceback (most recent call last)",
      "\u001b[1;32mc:\\Users\\fenan\\OneDrive\\Desktop\\NETHERLANDS\\msc-data-science\\Final Thesis\\AAA-FINAL-THESIS\\src\\analysis\\baseline-models\\(7th) Model-XGBoost.ipynb Cell 10\u001b[0m line \u001b[0;36m<cell line: 40>\u001b[1;34m()\u001b[0m\n\u001b[0;32m     <a href='vscode-notebook-cell:/c%3A/Users/fenan/OneDrive/Desktop/NETHERLANDS/msc-data-science/Final%20Thesis/AAA-FINAL-THESIS/src/analysis/baseline-models/%287th%29%20Model-XGBoost.ipynb#X10sZmlsZQ%3D%3D?line=30'>31</a>\u001b[0m \u001b[39m'''y_bins = pd.qcut(y_train, q=20, labels=False)\u001b[39;00m\n\u001b[0;32m     <a href='vscode-notebook-cell:/c%3A/Users/fenan/OneDrive/Desktop/NETHERLANDS/msc-data-science/Final%20Thesis/AAA-FINAL-THESIS/src/analysis/baseline-models/%287th%29%20Model-XGBoost.ipynb#X10sZmlsZQ%3D%3D?line=31'>32</a>\u001b[0m \n\u001b[0;32m     <a href='vscode-notebook-cell:/c%3A/Users/fenan/OneDrive/Desktop/NETHERLANDS/msc-data-science/Final%20Thesis/AAA-FINAL-THESIS/src/analysis/baseline-models/%287th%29%20Model-XGBoost.ipynb#X10sZmlsZQ%3D%3D?line=32'>33</a>\u001b[0m \u001b[39mrandom_search = RandomizedSearchCV(\u001b[39;00m\n\u001b[1;32m   (...)\u001b[0m\n\u001b[0;32m     <a href='vscode-notebook-cell:/c%3A/Users/fenan/OneDrive/Desktop/NETHERLANDS/msc-data-science/Final%20Thesis/AAA-FINAL-THESIS/src/analysis/baseline-models/%287th%29%20Model-XGBoost.ipynb#X10sZmlsZQ%3D%3D?line=35'>36</a>\u001b[0m \u001b[39m    scoring=\"r2\", n_jobs=-1, random_state=42, verbose=2\u001b[39;00m\n\u001b[0;32m     <a href='vscode-notebook-cell:/c%3A/Users/fenan/OneDrive/Desktop/NETHERLANDS/msc-data-science/Final%20Thesis/AAA-FINAL-THESIS/src/analysis/baseline-models/%287th%29%20Model-XGBoost.ipynb#X10sZmlsZQ%3D%3D?line=36'>37</a>\u001b[0m \u001b[39m)'''\u001b[39;00m\n\u001b[0;32m     <a href='vscode-notebook-cell:/c%3A/Users/fenan/OneDrive/Desktop/NETHERLANDS/msc-data-science/Final%20Thesis/AAA-FINAL-THESIS/src/analysis/baseline-models/%287th%29%20Model-XGBoost.ipynb#X10sZmlsZQ%3D%3D?line=38'>39</a>\u001b[0m \u001b[39m# Fit the model using RandomizedSearchCV\u001b[39;00m\n\u001b[1;32m---> <a href='vscode-notebook-cell:/c%3A/Users/fenan/OneDrive/Desktop/NETHERLANDS/msc-data-science/Final%20Thesis/AAA-FINAL-THESIS/src/analysis/baseline-models/%287th%29%20Model-XGBoost.ipynb#X10sZmlsZQ%3D%3D?line=39'>40</a>\u001b[0m random_search\u001b[39m.\u001b[39;49mfit(X_train, y_train, model__eval_metric \u001b[39m=\u001b[39;49m \u001b[39m'\u001b[39;49m\u001b[39mrmse\u001b[39;49m\u001b[39m'\u001b[39;49m)\n\u001b[0;32m     <a href='vscode-notebook-cell:/c%3A/Users/fenan/OneDrive/Desktop/NETHERLANDS/msc-data-science/Final%20Thesis/AAA-FINAL-THESIS/src/analysis/baseline-models/%287th%29%20Model-XGBoost.ipynb#X10sZmlsZQ%3D%3D?line=41'>42</a>\u001b[0m \u001b[39m# Print the best hyperparameters found\u001b[39;00m\n\u001b[0;32m     <a href='vscode-notebook-cell:/c%3A/Users/fenan/OneDrive/Desktop/NETHERLANDS/msc-data-science/Final%20Thesis/AAA-FINAL-THESIS/src/analysis/baseline-models/%287th%29%20Model-XGBoost.ipynb#X10sZmlsZQ%3D%3D?line=42'>43</a>\u001b[0m \u001b[39mprint\u001b[39m(\u001b[39m\"\u001b[39m\u001b[39mBest hyperparameters found:\u001b[39m\u001b[39m\"\u001b[39m)\n",
      "File \u001b[1;32mc:\\Users\\fenan\\anaconda3\\lib\\site-packages\\sklearn\\model_selection\\_search.py:875\u001b[0m, in \u001b[0;36mBaseSearchCV.fit\u001b[1;34m(self, X, y, groups, **fit_params)\u001b[0m\n\u001b[0;32m    869\u001b[0m     results \u001b[39m=\u001b[39m \u001b[39mself\u001b[39m\u001b[39m.\u001b[39m_format_results(\n\u001b[0;32m    870\u001b[0m         all_candidate_params, n_splits, all_out, all_more_results\n\u001b[0;32m    871\u001b[0m     )\n\u001b[0;32m    873\u001b[0m     \u001b[39mreturn\u001b[39;00m results\n\u001b[1;32m--> 875\u001b[0m \u001b[39mself\u001b[39;49m\u001b[39m.\u001b[39;49m_run_search(evaluate_candidates)\n\u001b[0;32m    877\u001b[0m \u001b[39m# multimetric is determined here because in the case of a callable\u001b[39;00m\n\u001b[0;32m    878\u001b[0m \u001b[39m# self.scoring the return type is only known after calling\u001b[39;00m\n\u001b[0;32m    879\u001b[0m first_test_score \u001b[39m=\u001b[39m all_out[\u001b[39m0\u001b[39m][\u001b[39m\"\u001b[39m\u001b[39mtest_scores\u001b[39m\u001b[39m\"\u001b[39m]\n",
      "File \u001b[1;32mc:\\Users\\fenan\\anaconda3\\lib\\site-packages\\sklearn\\model_selection\\_search.py:1753\u001b[0m, in \u001b[0;36mRandomizedSearchCV._run_search\u001b[1;34m(self, evaluate_candidates)\u001b[0m\n\u001b[0;32m   1751\u001b[0m \u001b[39mdef\u001b[39;00m \u001b[39m_run_search\u001b[39m(\u001b[39mself\u001b[39m, evaluate_candidates):\n\u001b[0;32m   1752\u001b[0m     \u001b[39m\"\"\"Search n_iter candidates from param_distributions\"\"\"\u001b[39;00m\n\u001b[1;32m-> 1753\u001b[0m     evaluate_candidates(\n\u001b[0;32m   1754\u001b[0m         ParameterSampler(\n\u001b[0;32m   1755\u001b[0m             \u001b[39mself\u001b[39;49m\u001b[39m.\u001b[39;49mparam_distributions, \u001b[39mself\u001b[39;49m\u001b[39m.\u001b[39;49mn_iter, random_state\u001b[39m=\u001b[39;49m\u001b[39mself\u001b[39;49m\u001b[39m.\u001b[39;49mrandom_state\n\u001b[0;32m   1756\u001b[0m         )\n\u001b[0;32m   1757\u001b[0m     )\n",
      "File \u001b[1;32mc:\\Users\\fenan\\anaconda3\\lib\\site-packages\\sklearn\\model_selection\\_search.py:822\u001b[0m, in \u001b[0;36mBaseSearchCV.fit.<locals>.evaluate_candidates\u001b[1;34m(candidate_params, cv, more_results)\u001b[0m\n\u001b[0;32m    814\u001b[0m \u001b[39mif\u001b[39;00m \u001b[39mself\u001b[39m\u001b[39m.\u001b[39mverbose \u001b[39m>\u001b[39m \u001b[39m0\u001b[39m:\n\u001b[0;32m    815\u001b[0m     \u001b[39mprint\u001b[39m(\n\u001b[0;32m    816\u001b[0m         \u001b[39m\"\u001b[39m\u001b[39mFitting \u001b[39m\u001b[39m{0}\u001b[39;00m\u001b[39m folds for each of \u001b[39m\u001b[39m{1}\u001b[39;00m\u001b[39m candidates,\u001b[39m\u001b[39m\"\u001b[39m\n\u001b[0;32m    817\u001b[0m         \u001b[39m\"\u001b[39m\u001b[39m totalling \u001b[39m\u001b[39m{2}\u001b[39;00m\u001b[39m fits\u001b[39m\u001b[39m\"\u001b[39m\u001b[39m.\u001b[39mformat(\n\u001b[0;32m    818\u001b[0m             n_splits, n_candidates, n_candidates \u001b[39m*\u001b[39m n_splits\n\u001b[0;32m    819\u001b[0m         )\n\u001b[0;32m    820\u001b[0m     )\n\u001b[1;32m--> 822\u001b[0m out \u001b[39m=\u001b[39m parallel(\n\u001b[0;32m    823\u001b[0m     delayed(_fit_and_score)(\n\u001b[0;32m    824\u001b[0m         clone(base_estimator),\n\u001b[0;32m    825\u001b[0m         X,\n\u001b[0;32m    826\u001b[0m         y,\n\u001b[0;32m    827\u001b[0m         train\u001b[39m=\u001b[39;49mtrain,\n\u001b[0;32m    828\u001b[0m         test\u001b[39m=\u001b[39;49mtest,\n\u001b[0;32m    829\u001b[0m         parameters\u001b[39m=\u001b[39;49mparameters,\n\u001b[0;32m    830\u001b[0m         split_progress\u001b[39m=\u001b[39;49m(split_idx, n_splits),\n\u001b[0;32m    831\u001b[0m         candidate_progress\u001b[39m=\u001b[39;49m(cand_idx, n_candidates),\n\u001b[0;32m    832\u001b[0m         \u001b[39m*\u001b[39;49m\u001b[39m*\u001b[39;49mfit_and_score_kwargs,\n\u001b[0;32m    833\u001b[0m     )\n\u001b[0;32m    834\u001b[0m     \u001b[39mfor\u001b[39;49;00m (cand_idx, parameters), (split_idx, (train, test)) \u001b[39min\u001b[39;49;00m product(\n\u001b[0;32m    835\u001b[0m         \u001b[39menumerate\u001b[39;49m(candidate_params), \u001b[39menumerate\u001b[39;49m(cv\u001b[39m.\u001b[39;49msplit(X, y, groups))\n\u001b[0;32m    836\u001b[0m     )\n\u001b[0;32m    837\u001b[0m )\n\u001b[0;32m    839\u001b[0m \u001b[39mif\u001b[39;00m \u001b[39mlen\u001b[39m(out) \u001b[39m<\u001b[39m \u001b[39m1\u001b[39m:\n\u001b[0;32m    840\u001b[0m     \u001b[39mraise\u001b[39;00m \u001b[39mValueError\u001b[39;00m(\n\u001b[0;32m    841\u001b[0m         \u001b[39m\"\u001b[39m\u001b[39mNo fits were performed. \u001b[39m\u001b[39m\"\u001b[39m\n\u001b[0;32m    842\u001b[0m         \u001b[39m\"\u001b[39m\u001b[39mWas the CV iterator empty? \u001b[39m\u001b[39m\"\u001b[39m\n\u001b[0;32m    843\u001b[0m         \u001b[39m\"\u001b[39m\u001b[39mWere there no candidates?\u001b[39m\u001b[39m\"\u001b[39m\n\u001b[0;32m    844\u001b[0m     )\n",
      "File \u001b[1;32mc:\\Users\\fenan\\anaconda3\\lib\\site-packages\\joblib\\parallel.py:1056\u001b[0m, in \u001b[0;36mParallel.__call__\u001b[1;34m(self, iterable)\u001b[0m\n\u001b[0;32m   1053\u001b[0m     \u001b[39mself\u001b[39m\u001b[39m.\u001b[39m_iterating \u001b[39m=\u001b[39m \u001b[39mFalse\u001b[39;00m\n\u001b[0;32m   1055\u001b[0m \u001b[39mwith\u001b[39;00m \u001b[39mself\u001b[39m\u001b[39m.\u001b[39m_backend\u001b[39m.\u001b[39mretrieval_context():\n\u001b[1;32m-> 1056\u001b[0m     \u001b[39mself\u001b[39;49m\u001b[39m.\u001b[39;49mretrieve()\n\u001b[0;32m   1057\u001b[0m \u001b[39m# Make sure that we get a last message telling us we are done\u001b[39;00m\n\u001b[0;32m   1058\u001b[0m elapsed_time \u001b[39m=\u001b[39m time\u001b[39m.\u001b[39mtime() \u001b[39m-\u001b[39m \u001b[39mself\u001b[39m\u001b[39m.\u001b[39m_start_time\n",
      "File \u001b[1;32mc:\\Users\\fenan\\anaconda3\\lib\\site-packages\\joblib\\parallel.py:935\u001b[0m, in \u001b[0;36mParallel.retrieve\u001b[1;34m(self)\u001b[0m\n\u001b[0;32m    933\u001b[0m \u001b[39mtry\u001b[39;00m:\n\u001b[0;32m    934\u001b[0m     \u001b[39mif\u001b[39;00m \u001b[39mgetattr\u001b[39m(\u001b[39mself\u001b[39m\u001b[39m.\u001b[39m_backend, \u001b[39m'\u001b[39m\u001b[39msupports_timeout\u001b[39m\u001b[39m'\u001b[39m, \u001b[39mFalse\u001b[39;00m):\n\u001b[1;32m--> 935\u001b[0m         \u001b[39mself\u001b[39m\u001b[39m.\u001b[39m_output\u001b[39m.\u001b[39mextend(job\u001b[39m.\u001b[39;49mget(timeout\u001b[39m=\u001b[39;49m\u001b[39mself\u001b[39;49m\u001b[39m.\u001b[39;49mtimeout))\n\u001b[0;32m    936\u001b[0m     \u001b[39melse\u001b[39;00m:\n\u001b[0;32m    937\u001b[0m         \u001b[39mself\u001b[39m\u001b[39m.\u001b[39m_output\u001b[39m.\u001b[39mextend(job\u001b[39m.\u001b[39mget())\n",
      "File \u001b[1;32mc:\\Users\\fenan\\anaconda3\\lib\\site-packages\\joblib\\_parallel_backends.py:542\u001b[0m, in \u001b[0;36mLokyBackend.wrap_future_result\u001b[1;34m(future, timeout)\u001b[0m\n\u001b[0;32m    539\u001b[0m \u001b[39m\"\"\"Wrapper for Future.result to implement the same behaviour as\u001b[39;00m\n\u001b[0;32m    540\u001b[0m \u001b[39mAsyncResults.get from multiprocessing.\"\"\"\u001b[39;00m\n\u001b[0;32m    541\u001b[0m \u001b[39mtry\u001b[39;00m:\n\u001b[1;32m--> 542\u001b[0m     \u001b[39mreturn\u001b[39;00m future\u001b[39m.\u001b[39;49mresult(timeout\u001b[39m=\u001b[39;49mtimeout)\n\u001b[0;32m    543\u001b[0m \u001b[39mexcept\u001b[39;00m CfTimeoutError \u001b[39mas\u001b[39;00m e:\n\u001b[0;32m    544\u001b[0m     \u001b[39mraise\u001b[39;00m \u001b[39mTimeoutError\u001b[39;00m \u001b[39mfrom\u001b[39;00m \u001b[39me\u001b[39;00m\n",
      "File \u001b[1;32mc:\\Users\\fenan\\anaconda3\\lib\\concurrent\\futures\\_base.py:441\u001b[0m, in \u001b[0;36mFuture.result\u001b[1;34m(self, timeout)\u001b[0m\n\u001b[0;32m    438\u001b[0m \u001b[39melif\u001b[39;00m \u001b[39mself\u001b[39m\u001b[39m.\u001b[39m_state \u001b[39m==\u001b[39m FINISHED:\n\u001b[0;32m    439\u001b[0m     \u001b[39mreturn\u001b[39;00m \u001b[39mself\u001b[39m\u001b[39m.\u001b[39m__get_result()\n\u001b[1;32m--> 441\u001b[0m \u001b[39mself\u001b[39;49m\u001b[39m.\u001b[39;49m_condition\u001b[39m.\u001b[39;49mwait(timeout)\n\u001b[0;32m    443\u001b[0m \u001b[39mif\u001b[39;00m \u001b[39mself\u001b[39m\u001b[39m.\u001b[39m_state \u001b[39min\u001b[39;00m [CANCELLED, CANCELLED_AND_NOTIFIED]:\n\u001b[0;32m    444\u001b[0m     \u001b[39mraise\u001b[39;00m CancelledError()\n",
      "File \u001b[1;32mc:\\Users\\fenan\\anaconda3\\lib\\threading.py:312\u001b[0m, in \u001b[0;36mCondition.wait\u001b[1;34m(self, timeout)\u001b[0m\n\u001b[0;32m    310\u001b[0m \u001b[39mtry\u001b[39;00m:    \u001b[39m# restore state no matter what (e.g., KeyboardInterrupt)\u001b[39;00m\n\u001b[0;32m    311\u001b[0m     \u001b[39mif\u001b[39;00m timeout \u001b[39mis\u001b[39;00m \u001b[39mNone\u001b[39;00m:\n\u001b[1;32m--> 312\u001b[0m         waiter\u001b[39m.\u001b[39;49macquire()\n\u001b[0;32m    313\u001b[0m         gotit \u001b[39m=\u001b[39m \u001b[39mTrue\u001b[39;00m\n\u001b[0;32m    314\u001b[0m     \u001b[39melse\u001b[39;00m:\n",
      "\u001b[1;31mKeyboardInterrupt\u001b[0m: "
     ]
    }
   ],
   "source": [
    "# Define column transformer\n",
    "preprocessor = ColumnTransformer(\n",
    "    transformers=[\n",
    "        ('num', StandardScaler(), [i for i in range(X_train.shape[1]) if i != X_train.columns.get_loc(\"Country\")]),\n",
    "        ('cat', OneHotEncoder(handle_unknown='ignore'), [X_train.columns.get_loc(\"Country\")])\n",
    "    ])\n",
    "\n",
    "# Create a pipeline with preprocessing and XGBoost model\n",
    "xgb_pipeline = Pipeline(steps=[\n",
    "    ('preprocessor', preprocessor),\n",
    "    ('model', xgb.XGBRegressor(objective='reg:squarederror', random_state=42))\n",
    "])\n",
    "\n",
    "# Define the parameter distribution you want to explore\n",
    "param_dist = {\n",
    "    \"model__n_estimators\": randint(50, 500),\n",
    "    \"model__learning_rate\": uniform(0.01, 0.3),\n",
    "    \"model__max_depth\": randint(1, 20),\n",
    "    \"model__min_child_weight\": randint(1, 10),\n",
    "    \"model__gamma\": uniform(0, 1),\n",
    "    \"model__subsample\": uniform(0.5, 0.5),\n",
    "    \"model__colsample_bytree\": uniform(0.5, 0.5),\n",
    "}\n",
    "\n",
    "# with normal KFold\n",
    "random_search = RandomizedSearchCV(\n",
    "    xgb_pipeline, param_distributions=param_dist, n_iter=50, cv=KFold(n_splits=5, shuffle=True, random_state=42), scoring=\"r2\", n_jobs=-1, random_state=42, verbose=2\n",
    ")\n",
    "\n",
    "# Fit the model using RandomizedSearchCV\n",
    "random_search.fit(X_train, y_train, model__eval_metric = 'rmse')\n",
    "\n",
    "# Print the best hyperparameters found\n",
    "print(\"Best hyperparameters found:\")\n",
    "best_params = random_search.best_params_\n",
    "print(best_params)\n"
   ]
  },
  {
   "cell_type": "code",
   "execution_count": null,
   "metadata": {},
   "outputs": [
    {
     "name": "stdout",
     "output_type": "stream",
     "text": [
      "[18:35:07] WARNING: C:\\buildkite-agent\\builds\\buildkite-windows-cpu-autoscaling-group-i-07593ffd91cd9da33-1\\xgboost\\xgboost-ci-windows\\src\\learner.cc:767: \n",
      "Parameters: { \"model__colsample_bytree\", \"model__gamma\", \"model__learning_rate\", \"model__max_depth\", \"model__min_child_weight\", \"model__n_estimators\", \"model__subsample\" } are not used.\n",
      "\n",
      "[18:35:08] WARNING: C:\\buildkite-agent\\builds\\buildkite-windows-cpu-autoscaling-group-i-07593ffd91cd9da33-1\\xgboost\\xgboost-ci-windows\\src\\learner.cc:767: \n",
      "Parameters: { \"model__colsample_bytree\", \"model__gamma\", \"model__learning_rate\", \"model__max_depth\", \"model__min_child_weight\", \"model__n_estimators\", \"model__subsample\" } are not used.\n",
      "\n",
      "[18:35:08] WARNING: C:\\buildkite-agent\\builds\\buildkite-windows-cpu-autoscaling-group-i-07593ffd91cd9da33-1\\xgboost\\xgboost-ci-windows\\src\\learner.cc:767: \n",
      "Parameters: { \"model__colsample_bytree\", \"model__gamma\", \"model__learning_rate\", \"model__max_depth\", \"model__min_child_weight\", \"model__n_estimators\", \"model__subsample\" } are not used.\n",
      "\n",
      "[18:35:09] WARNING: C:\\buildkite-agent\\builds\\buildkite-windows-cpu-autoscaling-group-i-07593ffd91cd9da33-1\\xgboost\\xgboost-ci-windows\\src\\learner.cc:767: \n",
      "Parameters: { \"model__colsample_bytree\", \"model__gamma\", \"model__learning_rate\", \"model__max_depth\", \"model__min_child_weight\", \"model__n_estimators\", \"model__subsample\" } are not used.\n",
      "\n",
      "[18:35:10] WARNING: C:\\buildkite-agent\\builds\\buildkite-windows-cpu-autoscaling-group-i-07593ffd91cd9da33-1\\xgboost\\xgboost-ci-windows\\src\\learner.cc:767: \n",
      "Parameters: { \"model__colsample_bytree\", \"model__gamma\", \"model__learning_rate\", \"model__max_depth\", \"model__min_child_weight\", \"model__n_estimators\", \"model__subsample\" } are not used.\n",
      "\n",
      "Cross-validation performance:\n",
      "Average R2 (XGBoost): 0.618 (+/- 0.028)\n",
      "Average RMSE (XGBoost): 30856.873 (+/- 877.856)\n",
      "Average MAE (XGBoost): 22316.695 (+/- 669.220)\n",
      "[18:35:11] WARNING: C:\\buildkite-agent\\builds\\buildkite-windows-cpu-autoscaling-group-i-07593ffd91cd9da33-1\\xgboost\\xgboost-ci-windows\\src\\learner.cc:767: \n",
      "Parameters: { \"model__colsample_bytree\", \"model__gamma\", \"model__learning_rate\", \"model__max_depth\", \"model__min_child_weight\", \"model__n_estimators\", \"model__subsample\" } are not used.\n",
      "\n",
      "\n",
      "Test dataset performance:\n",
      "R2 (XGBoost): 0.655\n",
      "Adjusted R2 (XGBoost): 0.603\n",
      "RMSE (XGBoost): 30703.961\n",
      "MAE (XGBoost): 22578.917\n"
     ]
    }
   ],
   "source": [
    "# Create the pipeline: preprocessing and model\n",
    "pipeline = Pipeline(steps=[\n",
    "    ('preprocessor', preprocessor),\n",
    "    ('model', xgb.XGBRegressor(objective='reg:squarederror', random_state=42, **best_params))\n",
    "])\n",
    "\n",
    "# Define scoring metrics for cross-validation\n",
    "scoring = {'r2': make_scorer(r2_score), 'rmse': make_scorer(mean_squared_error, squared=False), 'mae': make_scorer(mean_absolute_error)}\n",
    "\n",
    "# Perform cross-validation using KFold\n",
    "scores = cross_validate(pipeline, X_train, y_train, cv=KFold(n_splits=5, shuffle=True, random_state=42), scoring=scoring)\n",
    "\n",
    "# Using StratifiedKFold\n",
    "'''scores = cross_validate(pipeline, X_train, y_train, \n",
    "    cv=StratifiedKFold(n_splits=5, shuffle=True, random_state=42).split(X_train, y_bins), \n",
    "    scoring=scoring\n",
    ")'''\n",
    "\n",
    "\n",
    "print(\"Cross-validation performance:\")\n",
    "print(f\"Average R2 (XGBoost): {scores['test_r2'].mean():.3f} (+/- {scores['test_r2'].std():.3f})\")\n",
    "print(f\"Average RMSE (XGBoost): {scores['test_rmse'].mean():.3f} (+/- {scores['test_rmse'].std():.3f})\")\n",
    "print(f\"Average MAE (XGBoost): {scores['test_mae'].mean():.3f} (+/- {scores['test_mae'].std():.3f})\")\n",
    "\n",
    "# Train the model using the full training dataset\n",
    "pipeline.fit(X_train, y_train)\n",
    "\n",
    "# Make predictions on the test dataset\n",
    "y_pred = pipeline.predict(X_test)\n",
    "\n",
    "# Compute performance metrics on the test dataset\n",
    "r2_test = r2_score(y_test, y_pred)\n",
    "rmse_test = np.sqrt(mean_squared_error(y_test, y_pred))\n",
    "mae_test = mean_absolute_error(y_test, y_pred)\n",
    "n_test = X_test.shape[0]\n",
    "p_test = X_train.shape[1]  # use the original training data shape for the number of predictors\n",
    "adjusted_r2_test = 1 - (1 - r2_test) * (n_test - 1) / (n_test - p_test - 1)\n",
    "\n",
    "print(\"\\nTest dataset performance:\")\n",
    "print(f\"R2 (XGBoost): {r2_test:.3f}\")\n",
    "print(f\"Adjusted R2 (XGBoost): {adjusted_r2_test:.3f}\")\n",
    "print(f\"RMSE (XGBoost): {rmse_test:.3f}\")\n",
    "print(f\"MAE (XGBoost): {mae_test:.3f}\")"
   ]
  },
  {
   "cell_type": "markdown",
   "metadata": {},
   "source": [
    "### Best parameters"
   ]
  },
  {
   "cell_type": "code",
   "execution_count": null,
   "metadata": {},
   "outputs": [
    {
     "data": {
      "text/plain": [
       "{'model__colsample_bytree': 0.5077283082644337,\n",
       " 'model__gamma': 0.9283185625877254,\n",
       " 'model__learning_rate': 0.1384552444951943,\n",
       " 'model__max_depth': 3,\n",
       " 'model__min_child_weight': 1,\n",
       " 'model__n_estimators': 165,\n",
       " 'model__subsample': 0.6472244460347929}"
      ]
     },
     "execution_count": 19,
     "metadata": {},
     "output_type": "execute_result"
    }
   ],
   "source": [
    "# best_params"
   ]
  },
  {
   "cell_type": "markdown",
   "metadata": {},
   "source": [
    "### Residual plot"
   ]
  },
  {
   "cell_type": "code",
   "execution_count": null,
   "metadata": {},
   "outputs": [
    {
     "data": {
      "image/png": "[encoded data removed]",
      "text/plain": [
       "<Figure size 720x432 with 1 Axes>"
      ]
     },
     "metadata": {
      "needs_background": "light"
     },
     "output_type": "display_data"
    }
   ],
   "source": [
    "residuals = y_test - y_pred\n",
    "plt.figure(figsize=(10, 6))\n",
    "plt.scatter(y_test, residuals)\n",
    "plt.axhline(y=0, color='r', linestyle='-')\n",
    "plt.xlabel('True Values')\n",
    "plt.ylabel('Residuals')\n",
    "plt.title('Residual Plot')\n",
    "plt.show()"
   ]
  },
  {
   "cell_type": "code",
   "execution_count": null,
   "metadata": {},
   "outputs": [
    {
     "ename": "ValueError",
     "evalue": "All arrays must be of the same length",
     "output_type": "error",
     "traceback": [
      "\u001b[1;31m---------------------------------------------------------------------------\u001b[0m",
      "\u001b[1;31mValueError\u001b[0m                                Traceback (most recent call last)",
      "\u001b[1;32mc:\\Users\\fenan\\OneDrive\\Desktop\\NETHERLANDS\\msc-data-science\\Final Thesis\\AAA-FINAL-THESIS\\src\\analysis\\baseline-models\\(7th) Model-XGBoost.ipynb Cell 12\u001b[0m line \u001b[0;36m<cell line: 4>\u001b[1;34m()\u001b[0m\n\u001b[0;32m      <a href='vscode-notebook-cell:/c%3A/Users/fenan/OneDrive/Desktop/NETHERLANDS/msc-data-science/Final%20Thesis/AAA-FINAL-THESIS/src/analysis/baseline-models/%287th%29%20Model-XGBoost.ipynb#X13sZmlsZQ%3D%3D?line=0'>1</a>\u001b[0m importances \u001b[39m=\u001b[39m pipeline\u001b[39m.\u001b[39mnamed_steps[\u001b[39m'\u001b[39m\u001b[39mmodel\u001b[39m\u001b[39m'\u001b[39m]\u001b[39m.\u001b[39mfeature_importances_\n\u001b[0;32m      <a href='vscode-notebook-cell:/c%3A/Users/fenan/OneDrive/Desktop/NETHERLANDS/msc-data-science/Final%20Thesis/AAA-FINAL-THESIS/src/analysis/baseline-models/%287th%29%20Model-XGBoost.ipynb#X13sZmlsZQ%3D%3D?line=2'>3</a>\u001b[0m \u001b[39m# Create a DataFrame with features and importances\u001b[39;00m\n\u001b[1;32m----> <a href='vscode-notebook-cell:/c%3A/Users/fenan/OneDrive/Desktop/NETHERLANDS/msc-data-science/Final%20Thesis/AAA-FINAL-THESIS/src/analysis/baseline-models/%287th%29%20Model-XGBoost.ipynb#X13sZmlsZQ%3D%3D?line=3'>4</a>\u001b[0m importance_df \u001b[39m=\u001b[39m pd\u001b[39m.\u001b[39;49mDataFrame({\u001b[39m'\u001b[39;49m\u001b[39mfeature\u001b[39;49m\u001b[39m'\u001b[39;49m: X_train\u001b[39m.\u001b[39;49mcolumns, \u001b[39m'\u001b[39;49m\u001b[39mimportance\u001b[39;49m\u001b[39m'\u001b[39;49m: importances})\n\u001b[0;32m      <a href='vscode-notebook-cell:/c%3A/Users/fenan/OneDrive/Desktop/NETHERLANDS/msc-data-science/Final%20Thesis/AAA-FINAL-THESIS/src/analysis/baseline-models/%287th%29%20Model-XGBoost.ipynb#X13sZmlsZQ%3D%3D?line=5'>6</a>\u001b[0m \u001b[39m# Sort by importance\u001b[39;00m\n\u001b[0;32m      <a href='vscode-notebook-cell:/c%3A/Users/fenan/OneDrive/Desktop/NETHERLANDS/msc-data-science/Final%20Thesis/AAA-FINAL-THESIS/src/analysis/baseline-models/%287th%29%20Model-XGBoost.ipynb#X13sZmlsZQ%3D%3D?line=6'>7</a>\u001b[0m importance_df \u001b[39m=\u001b[39m importance_df\u001b[39m.\u001b[39msort_values(\u001b[39m'\u001b[39m\u001b[39mimportance\u001b[39m\u001b[39m'\u001b[39m, ascending\u001b[39m=\u001b[39m\u001b[39mFalse\u001b[39;00m)\n",
      "File \u001b[1;32mc:\\Users\\fenan\\anaconda3\\lib\\site-packages\\pandas\\core\\frame.py:636\u001b[0m, in \u001b[0;36mDataFrame.__init__\u001b[1;34m(self, data, index, columns, dtype, copy)\u001b[0m\n\u001b[0;32m    630\u001b[0m     mgr \u001b[39m=\u001b[39m \u001b[39mself\u001b[39m\u001b[39m.\u001b[39m_init_mgr(\n\u001b[0;32m    631\u001b[0m         data, axes\u001b[39m=\u001b[39m{\u001b[39m\"\u001b[39m\u001b[39mindex\u001b[39m\u001b[39m\"\u001b[39m: index, \u001b[39m\"\u001b[39m\u001b[39mcolumns\u001b[39m\u001b[39m\"\u001b[39m: columns}, dtype\u001b[39m=\u001b[39mdtype, copy\u001b[39m=\u001b[39mcopy\n\u001b[0;32m    632\u001b[0m     )\n\u001b[0;32m    634\u001b[0m \u001b[39melif\u001b[39;00m \u001b[39misinstance\u001b[39m(data, \u001b[39mdict\u001b[39m):\n\u001b[0;32m    635\u001b[0m     \u001b[39m# GH#38939 de facto copy defaults to False only in non-dict cases\u001b[39;00m\n\u001b[1;32m--> 636\u001b[0m     mgr \u001b[39m=\u001b[39m dict_to_mgr(data, index, columns, dtype\u001b[39m=\u001b[39;49mdtype, copy\u001b[39m=\u001b[39;49mcopy, typ\u001b[39m=\u001b[39;49mmanager)\n\u001b[0;32m    637\u001b[0m \u001b[39melif\u001b[39;00m \u001b[39misinstance\u001b[39m(data, ma\u001b[39m.\u001b[39mMaskedArray):\n\u001b[0;32m    638\u001b[0m     \u001b[39mimport\u001b[39;00m \u001b[39mnumpy\u001b[39;00m\u001b[39m.\u001b[39;00m\u001b[39mma\u001b[39;00m\u001b[39m.\u001b[39;00m\u001b[39mmrecords\u001b[39;00m \u001b[39mas\u001b[39;00m \u001b[39mmrecords\u001b[39;00m\n",
      "File \u001b[1;32mc:\\Users\\fenan\\anaconda3\\lib\\site-packages\\pandas\\core\\internals\\construction.py:502\u001b[0m, in \u001b[0;36mdict_to_mgr\u001b[1;34m(data, index, columns, dtype, typ, copy)\u001b[0m\n\u001b[0;32m    494\u001b[0m     arrays \u001b[39m=\u001b[39m [\n\u001b[0;32m    495\u001b[0m         x\n\u001b[0;32m    496\u001b[0m         \u001b[39mif\u001b[39;00m \u001b[39mnot\u001b[39;00m \u001b[39mhasattr\u001b[39m(x, \u001b[39m\"\u001b[39m\u001b[39mdtype\u001b[39m\u001b[39m\"\u001b[39m) \u001b[39mor\u001b[39;00m \u001b[39mnot\u001b[39;00m \u001b[39misinstance\u001b[39m(x\u001b[39m.\u001b[39mdtype, ExtensionDtype)\n\u001b[0;32m    497\u001b[0m         \u001b[39melse\u001b[39;00m x\u001b[39m.\u001b[39mcopy()\n\u001b[0;32m    498\u001b[0m         \u001b[39mfor\u001b[39;00m x \u001b[39min\u001b[39;00m arrays\n\u001b[0;32m    499\u001b[0m     ]\n\u001b[0;32m    500\u001b[0m     \u001b[39m# TODO: can we get rid of the dt64tz special case above?\u001b[39;00m\n\u001b[1;32m--> 502\u001b[0m \u001b[39mreturn\u001b[39;00m arrays_to_mgr(arrays, columns, index, dtype\u001b[39m=\u001b[39;49mdtype, typ\u001b[39m=\u001b[39;49mtyp, consolidate\u001b[39m=\u001b[39;49mcopy)\n",
      "File \u001b[1;32mc:\\Users\\fenan\\anaconda3\\lib\\site-packages\\pandas\\core\\internals\\construction.py:120\u001b[0m, in \u001b[0;36marrays_to_mgr\u001b[1;34m(arrays, columns, index, dtype, verify_integrity, typ, consolidate)\u001b[0m\n\u001b[0;32m    117\u001b[0m \u001b[39mif\u001b[39;00m verify_integrity:\n\u001b[0;32m    118\u001b[0m     \u001b[39m# figure out the index, if necessary\u001b[39;00m\n\u001b[0;32m    119\u001b[0m     \u001b[39mif\u001b[39;00m index \u001b[39mis\u001b[39;00m \u001b[39mNone\u001b[39;00m:\n\u001b[1;32m--> 120\u001b[0m         index \u001b[39m=\u001b[39m _extract_index(arrays)\n\u001b[0;32m    121\u001b[0m     \u001b[39melse\u001b[39;00m:\n\u001b[0;32m    122\u001b[0m         index \u001b[39m=\u001b[39m ensure_index(index)\n",
      "File \u001b[1;32mc:\\Users\\fenan\\anaconda3\\lib\\site-packages\\pandas\\core\\internals\\construction.py:674\u001b[0m, in \u001b[0;36m_extract_index\u001b[1;34m(data)\u001b[0m\n\u001b[0;32m    672\u001b[0m lengths \u001b[39m=\u001b[39m \u001b[39mlist\u001b[39m(\u001b[39mset\u001b[39m(raw_lengths))\n\u001b[0;32m    673\u001b[0m \u001b[39mif\u001b[39;00m \u001b[39mlen\u001b[39m(lengths) \u001b[39m>\u001b[39m \u001b[39m1\u001b[39m:\n\u001b[1;32m--> 674\u001b[0m     \u001b[39mraise\u001b[39;00m \u001b[39mValueError\u001b[39;00m(\u001b[39m\"\u001b[39m\u001b[39mAll arrays must be of the same length\u001b[39m\u001b[39m\"\u001b[39m)\n\u001b[0;32m    676\u001b[0m \u001b[39mif\u001b[39;00m have_dicts:\n\u001b[0;32m    677\u001b[0m     \u001b[39mraise\u001b[39;00m \u001b[39mValueError\u001b[39;00m(\n\u001b[0;32m    678\u001b[0m         \u001b[39m\"\u001b[39m\u001b[39mMixing dicts with non-Series may lead to ambiguous ordering.\u001b[39m\u001b[39m\"\u001b[39m\n\u001b[0;32m    679\u001b[0m     )\n",
      "\u001b[1;31mValueError\u001b[0m: All arrays must be of the same length"
     ]
    }
   ],
   "source": [
    "importances = pipeline.named_steps['model'].feature_importances_\n",
    "\n",
    "# Create a DataFrame with features and importances\n",
    "importance_df = pd.DataFrame({'feature': X_train.columns, 'importance': importances})\n",
    "\n",
    "# Sort by importance\n",
    "importance_df = importance_df.sort_values('importance', ascending=False)\n",
    "\n",
    "# Select only the top n features with the highest importance scores\n",
    "n = len(X_train.columns)\n",
    "importance_df = importance_df[:n]\n",
    "\n",
    "# Plot feature importances\n",
    "plt.figure(figsize=(10, 6))\n",
    "sns.barplot(x='importance', y='feature', data=importance_df[:n])\n",
    "plt.title('Feature Importances')\n",
    "plt.show()\n"
   ]
  },
  {
   "cell_type": "code",
   "execution_count": null,
   "metadata": {},
   "outputs": [
    {
     "data": {
      "text/plain": [
       "'import numpy as np\\nimport xgboost as xgb\\nfrom sklearn.model_selection import RandomizedSearchCV\\nfrom scipy.stats import randint, uniform\\n\\n# Definir la distribución de los hiperparámetros que deseas explorar\\nparam_dist = {\\n    \"n_estimators\": randint(50, 500),\\n    \"learning_rate\": uniform(0.01, 0.3),\\n    \"max_depth\": randint(1, 20),\\n    \"min_child_weight\": randint(1, 10),\\n    \"gamma\": uniform(0, 1),\\n    \"subsample\": uniform(0.5, 0.5),\\n    \"colsample_bytree\": uniform(0.5, 0.5),\\n}\\n\\n# Crear el objeto del modelo XGBoost\\nxgb_model = xgb.XGBRegressor(objective=\\'reg:squarederror\\', random_state=42)\\n\\n# Crear el objeto RandomizedSearchCV\\nrandom_search = RandomizedSearchCV(\\n    xgb_model, param_distributions=param_dist, n_iter=50, cv=5, scoring=\"r2\", n_jobs=-1, random_state=42, verbose=2\\n)\\n\\n# Ajustar el modelo utilizando RandomizedSearchCV\\nrandom_search.fit(X_train_scaled, y_train)\\n\\n# Mostrar los mejores hiperparámetros encontrados\\nprint(\"Mejores hiperparámetros encontrados:\")\\nprint(random_search.best_params_)\\n\\n# Crear el modelo con los mejores hiperparámetros\\nbest_xgb_model = random_search.best_estimator_'"
      ]
     },
     "execution_count": 301,
     "metadata": {},
     "output_type": "execute_result"
    }
   ],
   "source": [
    "'''import numpy as np\n",
    "import xgboost as xgb\n",
    "from sklearn.model_selection import RandomizedSearchCV\n",
    "from scipy.stats import randint, uniform\n",
    "\n",
    "# Definir la distribución de los hiperparámetros que deseas explorar\n",
    "param_dist = {\n",
    "    \"n_estimators\": randint(50, 500),\n",
    "    \"learning_rate\": uniform(0.01, 0.3),\n",
    "    \"max_depth\": randint(1, 20),\n",
    "    \"min_child_weight\": randint(1, 10),\n",
    "    \"gamma\": uniform(0, 1),\n",
    "    \"subsample\": uniform(0.5, 0.5),\n",
    "    \"colsample_bytree\": uniform(0.5, 0.5),\n",
    "}\n",
    "\n",
    "# Crear el objeto del modelo XGBoost\n",
    "xgb_model = xgb.XGBRegressor(objective='reg:squarederror', random_state=42)\n",
    "\n",
    "# Crear el objeto RandomizedSearchCV\n",
    "random_search = RandomizedSearchCV(\n",
    "    xgb_model, param_distributions=param_dist, n_iter=50, cv=5, scoring=\"r2\", n_jobs=-1, random_state=42, verbose=2\n",
    ")\n",
    "\n",
    "# Ajustar el modelo utilizando RandomizedSearchCV\n",
    "random_search.fit(X_train_scaled, y_train)\n",
    "\n",
    "# Mostrar los mejores hiperparámetros encontrados\n",
    "print(\"Mejores hiperparámetros encontrados:\")\n",
    "print(random_search.best_params_)\n",
    "\n",
    "# Crear el modelo con los mejores hiperparámetros\n",
    "best_xgb_model = random_search.best_estimator_'''\n"
   ]
  },
  {
   "cell_type": "code",
   "execution_count": null,
   "metadata": {},
   "outputs": [
    {
     "name": "stdout",
     "output_type": "stream",
     "text": [
      "processing fold # 0\n"
     ]
    },
    {
     "ename": "XGBoostError",
     "evalue": "[13:46:55] C:\\buildkite-agent\\builds\\buildkite-windows-cpu-autoscaling-group-i-07593ffd91cd9da33-1\\xgboost\\xgboost-ci-windows\\src\\data\\data.cc:455: Check failed: this->labels.Size() % this->num_row_ == 0 (1798 vs. 0) : Incorrect size for labels.",
     "output_type": "error",
     "traceback": [
      "\u001b[1;31m---------------------------------------------------------------------------\u001b[0m",
      "\u001b[1;31mXGBoostError\u001b[0m                              Traceback (most recent call last)",
      "\u001b[1;32mc:\\Users\\fenan\\OneDrive\\Desktop\\NETHERLANDS\\MSc DATA SCIENCE 22-23\\Final Thesis\\AA - Thesis Process\\Code-copy-12052023\\Baseline_Models\\(7th) Model-XGBoost.ipynb Cell 10\u001b[0m in \u001b[0;36m<cell line: 21>\u001b[1;34m()\u001b[0m\n\u001b[0;32m     <a href='vscode-notebook-cell:/c%3A/Users/fenan/OneDrive/Desktop/NETHERLANDS/MSc%20DATA%20SCIENCE%2022-23/Final%20Thesis/AA%20-%20Thesis%20Process/Code-copy-12052023/Baseline_Models/%287th%29%20Model-XGBoost.ipynb#X10sZmlsZQ%3D%3D?line=27'>28</a>\u001b[0m partial_train_targets \u001b[39m=\u001b[39m pd\u001b[39m.\u001b[39mconcat([y_train[:i \u001b[39m*\u001b[39m num_val_samples],\n\u001b[0;32m     <a href='vscode-notebook-cell:/c%3A/Users/fenan/OneDrive/Desktop/NETHERLANDS/MSc%20DATA%20SCIENCE%2022-23/Final%20Thesis/AA%20-%20Thesis%20Process/Code-copy-12052023/Baseline_Models/%287th%29%20Model-XGBoost.ipynb#X10sZmlsZQ%3D%3D?line=28'>29</a>\u001b[0m                                    y_train[(i \u001b[39m+\u001b[39m \u001b[39m1\u001b[39m) \u001b[39m*\u001b[39m num_val_samples:]])\n\u001b[0;32m     <a href='vscode-notebook-cell:/c%3A/Users/fenan/OneDrive/Desktop/NETHERLANDS/MSc%20DATA%20SCIENCE%2022-23/Final%20Thesis/AA%20-%20Thesis%20Process/Code-copy-12052023/Baseline_Models/%287th%29%20Model-XGBoost.ipynb#X10sZmlsZQ%3D%3D?line=30'>31</a>\u001b[0m model \u001b[39m=\u001b[39m xgb\u001b[39m.\u001b[39mXGBRegressor(objective\u001b[39m=\u001b[39m\u001b[39m'\u001b[39m\u001b[39mreg:squarederror\u001b[39m\u001b[39m'\u001b[39m, random_state\u001b[39m=\u001b[39m\u001b[39m42\u001b[39m, \u001b[39m*\u001b[39m\u001b[39m*\u001b[39mbest_params)\n\u001b[1;32m---> <a href='vscode-notebook-cell:/c%3A/Users/fenan/OneDrive/Desktop/NETHERLANDS/MSc%20DATA%20SCIENCE%2022-23/Final%20Thesis/AA%20-%20Thesis%20Process/Code-copy-12052023/Baseline_Models/%287th%29%20Model-XGBoost.ipynb#X10sZmlsZQ%3D%3D?line=31'>32</a>\u001b[0m model\u001b[39m.\u001b[39;49mfit(partial_train_data, partial_train_targets)\n\u001b[0;32m     <a href='vscode-notebook-cell:/c%3A/Users/fenan/OneDrive/Desktop/NETHERLANDS/MSc%20DATA%20SCIENCE%2022-23/Final%20Thesis/AA%20-%20Thesis%20Process/Code-copy-12052023/Baseline_Models/%287th%29%20Model-XGBoost.ipynb#X10sZmlsZQ%3D%3D?line=33'>34</a>\u001b[0m val_preds \u001b[39m=\u001b[39m model\u001b[39m.\u001b[39mpredict(val_data)\n\u001b[0;32m     <a href='vscode-notebook-cell:/c%3A/Users/fenan/OneDrive/Desktop/NETHERLANDS/MSc%20DATA%20SCIENCE%2022-23/Final%20Thesis/AA%20-%20Thesis%20Process/Code-copy-12052023/Baseline_Models/%287th%29%20Model-XGBoost.ipynb#X10sZmlsZQ%3D%3D?line=34'>35</a>\u001b[0m r2_val \u001b[39m=\u001b[39m r2_score(val_targets, val_preds)\n",
      "File \u001b[1;32mc:\\Users\\fenan\\anaconda3\\lib\\site-packages\\xgboost\\core.py:620\u001b[0m, in \u001b[0;36mrequire_keyword_args.<locals>.throw_if.<locals>.inner_f\u001b[1;34m(*args, **kwargs)\u001b[0m\n\u001b[0;32m    618\u001b[0m \u001b[39mfor\u001b[39;00m k, arg \u001b[39min\u001b[39;00m \u001b[39mzip\u001b[39m(sig\u001b[39m.\u001b[39mparameters, args):\n\u001b[0;32m    619\u001b[0m     kwargs[k] \u001b[39m=\u001b[39m arg\n\u001b[1;32m--> 620\u001b[0m \u001b[39mreturn\u001b[39;00m func(\u001b[39m*\u001b[39m\u001b[39m*\u001b[39mkwargs)\n",
      "File \u001b[1;32mc:\\Users\\fenan\\anaconda3\\lib\\site-packages\\xgboost\\sklearn.py:988\u001b[0m, in \u001b[0;36mXGBModel.fit\u001b[1;34m(self, X, y, sample_weight, base_margin, eval_set, eval_metric, early_stopping_rounds, verbose, xgb_model, sample_weight_eval_set, base_margin_eval_set, feature_weights, callbacks)\u001b[0m\n\u001b[0;32m    986\u001b[0m \u001b[39mwith\u001b[39;00m config_context(verbosity\u001b[39m=\u001b[39m\u001b[39mself\u001b[39m\u001b[39m.\u001b[39mverbosity):\n\u001b[0;32m    987\u001b[0m     evals_result: TrainingCallback\u001b[39m.\u001b[39mEvalsLog \u001b[39m=\u001b[39m {}\n\u001b[1;32m--> 988\u001b[0m     train_dmatrix, evals \u001b[39m=\u001b[39m _wrap_evaluation_matrices(\n\u001b[0;32m    989\u001b[0m         missing\u001b[39m=\u001b[39;49m\u001b[39mself\u001b[39;49m\u001b[39m.\u001b[39;49mmissing,\n\u001b[0;32m    990\u001b[0m         X\u001b[39m=\u001b[39;49mX,\n\u001b[0;32m    991\u001b[0m         y\u001b[39m=\u001b[39;49my,\n\u001b[0;32m    992\u001b[0m         group\u001b[39m=\u001b[39;49m\u001b[39mNone\u001b[39;49;00m,\n\u001b[0;32m    993\u001b[0m         qid\u001b[39m=\u001b[39;49m\u001b[39mNone\u001b[39;49;00m,\n\u001b[0;32m    994\u001b[0m         sample_weight\u001b[39m=\u001b[39;49msample_weight,\n\u001b[0;32m    995\u001b[0m         base_margin\u001b[39m=\u001b[39;49mbase_margin,\n\u001b[0;32m    996\u001b[0m         feature_weights\u001b[39m=\u001b[39;49mfeature_weights,\n\u001b[0;32m    997\u001b[0m         eval_set\u001b[39m=\u001b[39;49meval_set,\n\u001b[0;32m    998\u001b[0m         sample_weight_eval_set\u001b[39m=\u001b[39;49msample_weight_eval_set,\n\u001b[0;32m    999\u001b[0m         base_margin_eval_set\u001b[39m=\u001b[39;49mbase_margin_eval_set,\n\u001b[0;32m   1000\u001b[0m         eval_group\u001b[39m=\u001b[39;49m\u001b[39mNone\u001b[39;49;00m,\n\u001b[0;32m   1001\u001b[0m         eval_qid\u001b[39m=\u001b[39;49m\u001b[39mNone\u001b[39;49;00m,\n\u001b[0;32m   1002\u001b[0m         create_dmatrix\u001b[39m=\u001b[39;49m\u001b[39mself\u001b[39;49m\u001b[39m.\u001b[39;49m_create_dmatrix,\n\u001b[0;32m   1003\u001b[0m         enable_categorical\u001b[39m=\u001b[39;49m\u001b[39mself\u001b[39;49m\u001b[39m.\u001b[39;49menable_categorical,\n\u001b[0;32m   1004\u001b[0m         feature_types\u001b[39m=\u001b[39;49m\u001b[39mself\u001b[39;49m\u001b[39m.\u001b[39;49mfeature_types,\n\u001b[0;32m   1005\u001b[0m     )\n\u001b[0;32m   1006\u001b[0m     params \u001b[39m=\u001b[39m \u001b[39mself\u001b[39m\u001b[39m.\u001b[39mget_xgb_params()\n\u001b[0;32m   1008\u001b[0m     \u001b[39mif\u001b[39;00m callable(\u001b[39mself\u001b[39m\u001b[39m.\u001b[39mobjective):\n",
      "File \u001b[1;32mc:\\Users\\fenan\\anaconda3\\lib\\site-packages\\xgboost\\sklearn.py:448\u001b[0m, in \u001b[0;36m_wrap_evaluation_matrices\u001b[1;34m(missing, X, y, group, qid, sample_weight, base_margin, feature_weights, eval_set, sample_weight_eval_set, base_margin_eval_set, eval_group, eval_qid, create_dmatrix, enable_categorical, feature_types)\u001b[0m\n\u001b[0;32m    428\u001b[0m \u001b[39mdef\u001b[39;00m \u001b[39m_wrap_evaluation_matrices\u001b[39m(\n\u001b[0;32m    429\u001b[0m     missing: \u001b[39mfloat\u001b[39m,\n\u001b[0;32m    430\u001b[0m     X: Any,\n\u001b[1;32m   (...)\u001b[0m\n\u001b[0;32m    444\u001b[0m     feature_types: Optional[FeatureTypes],\n\u001b[0;32m    445\u001b[0m ) \u001b[39m-\u001b[39m\u001b[39m>\u001b[39m Tuple[Any, List[Tuple[Any, \u001b[39mstr\u001b[39m]]]:\n\u001b[0;32m    446\u001b[0m     \u001b[39m\"\"\"Convert array_like evaluation matrices into DMatrix.  Perform validation on the\u001b[39;00m\n\u001b[0;32m    447\u001b[0m \u001b[39m    way.\"\"\"\u001b[39;00m\n\u001b[1;32m--> 448\u001b[0m     train_dmatrix \u001b[39m=\u001b[39m create_dmatrix(\n\u001b[0;32m    449\u001b[0m         data\u001b[39m=\u001b[39;49mX,\n\u001b[0;32m    450\u001b[0m         label\u001b[39m=\u001b[39;49my,\n\u001b[0;32m    451\u001b[0m         group\u001b[39m=\u001b[39;49mgroup,\n\u001b[0;32m    452\u001b[0m         qid\u001b[39m=\u001b[39;49mqid,\n\u001b[0;32m    453\u001b[0m         weight\u001b[39m=\u001b[39;49msample_weight,\n\u001b[0;32m    454\u001b[0m         base_margin\u001b[39m=\u001b[39;49mbase_margin,\n\u001b[0;32m    455\u001b[0m         feature_weights\u001b[39m=\u001b[39;49mfeature_weights,\n\u001b[0;32m    456\u001b[0m         missing\u001b[39m=\u001b[39;49mmissing,\n\u001b[0;32m    457\u001b[0m         enable_categorical\u001b[39m=\u001b[39;49menable_categorical,\n\u001b[0;32m    458\u001b[0m         feature_types\u001b[39m=\u001b[39;49mfeature_types,\n\u001b[0;32m    459\u001b[0m         ref\u001b[39m=\u001b[39;49m\u001b[39mNone\u001b[39;49;00m,\n\u001b[0;32m    460\u001b[0m     )\n\u001b[0;32m    462\u001b[0m     n_validation \u001b[39m=\u001b[39m \u001b[39m0\u001b[39m \u001b[39mif\u001b[39;00m eval_set \u001b[39mis\u001b[39;00m \u001b[39mNone\u001b[39;00m \u001b[39melse\u001b[39;00m \u001b[39mlen\u001b[39m(eval_set)\n\u001b[0;32m    464\u001b[0m     \u001b[39mdef\u001b[39;00m \u001b[39mvalidate_or_none\u001b[39m(meta: Optional[Sequence], name: \u001b[39mstr\u001b[39m) \u001b[39m-\u001b[39m\u001b[39m>\u001b[39m Sequence:\n",
      "File \u001b[1;32mc:\\Users\\fenan\\anaconda3\\lib\\site-packages\\xgboost\\sklearn.py:908\u001b[0m, in \u001b[0;36mXGBModel._create_dmatrix\u001b[1;34m(self, ref, **kwargs)\u001b[0m\n\u001b[0;32m    906\u001b[0m     \u001b[39mexcept\u001b[39;00m \u001b[39mTypeError\u001b[39;00m:  \u001b[39m# `QuantileDMatrix` supports lesser types than DMatrix\u001b[39;00m\n\u001b[0;32m    907\u001b[0m         \u001b[39mpass\u001b[39;00m\n\u001b[1;32m--> 908\u001b[0m \u001b[39mreturn\u001b[39;00m DMatrix(\u001b[39m*\u001b[39m\u001b[39m*\u001b[39mkwargs, nthread\u001b[39m=\u001b[39m\u001b[39mself\u001b[39m\u001b[39m.\u001b[39mn_jobs)\n",
      "File \u001b[1;32mc:\\Users\\fenan\\anaconda3\\lib\\site-packages\\xgboost\\core.py:620\u001b[0m, in \u001b[0;36mrequire_keyword_args.<locals>.throw_if.<locals>.inner_f\u001b[1;34m(*args, **kwargs)\u001b[0m\n\u001b[0;32m    618\u001b[0m \u001b[39mfor\u001b[39;00m k, arg \u001b[39min\u001b[39;00m \u001b[39mzip\u001b[39m(sig\u001b[39m.\u001b[39mparameters, args):\n\u001b[0;32m    619\u001b[0m     kwargs[k] \u001b[39m=\u001b[39m arg\n\u001b[1;32m--> 620\u001b[0m \u001b[39mreturn\u001b[39;00m func(\u001b[39m*\u001b[39m\u001b[39m*\u001b[39mkwargs)\n",
      "File \u001b[1;32mc:\\Users\\fenan\\anaconda3\\lib\\site-packages\\xgboost\\core.py:754\u001b[0m, in \u001b[0;36mDMatrix.__init__\u001b[1;34m(self, data, label, weight, base_margin, missing, silent, feature_names, feature_types, nthread, group, qid, label_lower_bound, label_upper_bound, feature_weights, enable_categorical)\u001b[0m\n\u001b[0;32m    751\u001b[0m \u001b[39massert\u001b[39;00m handle \u001b[39mis\u001b[39;00m \u001b[39mnot\u001b[39;00m \u001b[39mNone\u001b[39;00m\n\u001b[0;32m    752\u001b[0m \u001b[39mself\u001b[39m\u001b[39m.\u001b[39mhandle \u001b[39m=\u001b[39m handle\n\u001b[1;32m--> 754\u001b[0m \u001b[39mself\u001b[39;49m\u001b[39m.\u001b[39;49mset_info(\n\u001b[0;32m    755\u001b[0m     label\u001b[39m=\u001b[39;49mlabel,\n\u001b[0;32m    756\u001b[0m     weight\u001b[39m=\u001b[39;49mweight,\n\u001b[0;32m    757\u001b[0m     base_margin\u001b[39m=\u001b[39;49mbase_margin,\n\u001b[0;32m    758\u001b[0m     group\u001b[39m=\u001b[39;49mgroup,\n\u001b[0;32m    759\u001b[0m     qid\u001b[39m=\u001b[39;49mqid,\n\u001b[0;32m    760\u001b[0m     label_lower_bound\u001b[39m=\u001b[39;49mlabel_lower_bound,\n\u001b[0;32m    761\u001b[0m     label_upper_bound\u001b[39m=\u001b[39;49mlabel_upper_bound,\n\u001b[0;32m    762\u001b[0m     feature_weights\u001b[39m=\u001b[39;49mfeature_weights,\n\u001b[0;32m    763\u001b[0m )\n\u001b[0;32m    765\u001b[0m \u001b[39mif\u001b[39;00m feature_names \u001b[39mis\u001b[39;00m \u001b[39mnot\u001b[39;00m \u001b[39mNone\u001b[39;00m:\n\u001b[0;32m    766\u001b[0m     \u001b[39mself\u001b[39m\u001b[39m.\u001b[39mfeature_names \u001b[39m=\u001b[39m feature_names\n",
      "File \u001b[1;32mc:\\Users\\fenan\\anaconda3\\lib\\site-packages\\xgboost\\core.py:620\u001b[0m, in \u001b[0;36mrequire_keyword_args.<locals>.throw_if.<locals>.inner_f\u001b[1;34m(*args, **kwargs)\u001b[0m\n\u001b[0;32m    618\u001b[0m \u001b[39mfor\u001b[39;00m k, arg \u001b[39min\u001b[39;00m \u001b[39mzip\u001b[39m(sig\u001b[39m.\u001b[39mparameters, args):\n\u001b[0;32m    619\u001b[0m     kwargs[k] \u001b[39m=\u001b[39m arg\n\u001b[1;32m--> 620\u001b[0m \u001b[39mreturn\u001b[39;00m func(\u001b[39m*\u001b[39m\u001b[39m*\u001b[39mkwargs)\n",
      "File \u001b[1;32mc:\\Users\\fenan\\anaconda3\\lib\\site-packages\\xgboost\\core.py:819\u001b[0m, in \u001b[0;36mDMatrix.set_info\u001b[1;34m(self, label, weight, base_margin, group, qid, label_lower_bound, label_upper_bound, feature_names, feature_types, feature_weights)\u001b[0m\n\u001b[0;32m    816\u001b[0m \u001b[39mfrom\u001b[39;00m \u001b[39m.\u001b[39;00m\u001b[39mdata\u001b[39;00m \u001b[39mimport\u001b[39;00m dispatch_meta_backend\n\u001b[0;32m    818\u001b[0m \u001b[39mif\u001b[39;00m label \u001b[39mis\u001b[39;00m \u001b[39mnot\u001b[39;00m \u001b[39mNone\u001b[39;00m:\n\u001b[1;32m--> 819\u001b[0m     \u001b[39mself\u001b[39;49m\u001b[39m.\u001b[39;49mset_label(label)\n\u001b[0;32m    820\u001b[0m \u001b[39mif\u001b[39;00m weight \u001b[39mis\u001b[39;00m \u001b[39mnot\u001b[39;00m \u001b[39mNone\u001b[39;00m:\n\u001b[0;32m    821\u001b[0m     \u001b[39mself\u001b[39m\u001b[39m.\u001b[39mset_weight(weight)\n",
      "File \u001b[1;32mc:\\Users\\fenan\\anaconda3\\lib\\site-packages\\xgboost\\core.py:950\u001b[0m, in \u001b[0;36mDMatrix.set_label\u001b[1;34m(self, label)\u001b[0m\n\u001b[0;32m    942\u001b[0m \u001b[39m\"\"\"Set label of dmatrix\u001b[39;00m\n\u001b[0;32m    943\u001b[0m \n\u001b[0;32m    944\u001b[0m \u001b[39mParameters\u001b[39;00m\n\u001b[1;32m   (...)\u001b[0m\n\u001b[0;32m    947\u001b[0m \u001b[39m    The label information to be set into DMatrix\u001b[39;00m\n\u001b[0;32m    948\u001b[0m \u001b[39m\"\"\"\u001b[39;00m\n\u001b[0;32m    949\u001b[0m \u001b[39mfrom\u001b[39;00m \u001b[39m.\u001b[39;00m\u001b[39mdata\u001b[39;00m \u001b[39mimport\u001b[39;00m dispatch_meta_backend\n\u001b[1;32m--> 950\u001b[0m dispatch_meta_backend(\u001b[39mself\u001b[39;49m, label, \u001b[39m'\u001b[39;49m\u001b[39mlabel\u001b[39;49m\u001b[39m'\u001b[39;49m, \u001b[39m'\u001b[39;49m\u001b[39mfloat\u001b[39;49m\u001b[39m'\u001b[39;49m)\n",
      "File \u001b[1;32mc:\\Users\\fenan\\anaconda3\\lib\\site-packages\\xgboost\\data.py:1134\u001b[0m, in \u001b[0;36mdispatch_meta_backend\u001b[1;34m(matrix, data, name, dtype)\u001b[0m\n\u001b[0;32m   1132\u001b[0m     \u001b[39mreturn\u001b[39;00m\n\u001b[0;32m   1133\u001b[0m \u001b[39mif\u001b[39;00m _is_pandas_series(data):\n\u001b[1;32m-> 1134\u001b[0m     _meta_from_pandas_series(data, name, dtype, handle)\n\u001b[0;32m   1135\u001b[0m     \u001b[39mreturn\u001b[39;00m\n\u001b[0;32m   1136\u001b[0m \u001b[39mif\u001b[39;00m _is_dlpack(data):\n",
      "File \u001b[1;32mc:\\Users\\fenan\\anaconda3\\lib\\site-packages\\xgboost\\data.py:443\u001b[0m, in \u001b[0;36m_meta_from_pandas_series\u001b[1;34m(data, name, dtype, handle)\u001b[0m\n\u001b[0;32m    441\u001b[0m     data \u001b[39m=\u001b[39m data\u001b[39m.\u001b[39mto_dense()  \u001b[39m# type: ignore\u001b[39;00m\n\u001b[0;32m    442\u001b[0m \u001b[39massert\u001b[39;00m \u001b[39mlen\u001b[39m(data\u001b[39m.\u001b[39mshape) \u001b[39m==\u001b[39m \u001b[39m1\u001b[39m \u001b[39mor\u001b[39;00m data\u001b[39m.\u001b[39mshape[\u001b[39m1\u001b[39m] \u001b[39m==\u001b[39m \u001b[39m0\u001b[39m \u001b[39mor\u001b[39;00m data\u001b[39m.\u001b[39mshape[\u001b[39m1\u001b[39m] \u001b[39m==\u001b[39m \u001b[39m1\u001b[39m\n\u001b[1;32m--> 443\u001b[0m _meta_from_numpy(data, name, dtype, handle)\n",
      "File \u001b[1;32mc:\\Users\\fenan\\anaconda3\\lib\\site-packages\\xgboost\\data.py:1050\u001b[0m, in \u001b[0;36m_meta_from_numpy\u001b[1;34m(data, field, dtype, handle)\u001b[0m\n\u001b[0;32m   1048\u001b[0m     \u001b[39mraise\u001b[39;00m \u001b[39mValueError\u001b[39;00m(\u001b[39m\"\u001b[39m\u001b[39mMasked array is not supported.\u001b[39m\u001b[39m\"\u001b[39m)\n\u001b[0;32m   1049\u001b[0m interface_str \u001b[39m=\u001b[39m _array_interface(data)\n\u001b[1;32m-> 1050\u001b[0m _check_call(_LIB\u001b[39m.\u001b[39;49mXGDMatrixSetInfoFromInterface(handle, c_str(field), interface_str))\n",
      "File \u001b[1;32mc:\\Users\\fenan\\anaconda3\\lib\\site-packages\\xgboost\\core.py:279\u001b[0m, in \u001b[0;36m_check_call\u001b[1;34m(ret)\u001b[0m\n\u001b[0;32m    268\u001b[0m \u001b[39m\"\"\"Check the return value of C API call\u001b[39;00m\n\u001b[0;32m    269\u001b[0m \n\u001b[0;32m    270\u001b[0m \u001b[39mThis function will raise exception when error occurs.\u001b[39;00m\n\u001b[1;32m   (...)\u001b[0m\n\u001b[0;32m    276\u001b[0m \u001b[39m    return value from API calls\u001b[39;00m\n\u001b[0;32m    277\u001b[0m \u001b[39m\"\"\"\u001b[39;00m\n\u001b[0;32m    278\u001b[0m \u001b[39mif\u001b[39;00m ret \u001b[39m!=\u001b[39m \u001b[39m0\u001b[39m:\n\u001b[1;32m--> 279\u001b[0m     \u001b[39mraise\u001b[39;00m XGBoostError(py_str(_LIB\u001b[39m.\u001b[39mXGBGetLastError()))\n",
      "\u001b[1;31mXGBoostError\u001b[0m: [13:46:55] C:\\buildkite-agent\\builds\\buildkite-windows-cpu-autoscaling-group-i-07593ffd91cd9da33-1\\xgboost\\xgboost-ci-windows\\src\\data\\data.cc:455: Check failed: this->labels.Size() % this->num_row_ == 0 (1798 vs. 0) : Incorrect size for labels."
     ]
    }
   ],
   "source": [
    "import xgboost as xgb\n",
    "from sklearn.metrics import r2_score, mean_squared_error, mean_absolute_error\n",
    "\n",
    "'''best_params = {'colsample_bytree': 0.9828160165372797, \n",
    "               'gamma': 0.8083973481164611, 'learning_rate': 0.10138413075201119, \n",
    "               'max_depth': 2, 'min_child_weight': 4, 'n_estimators': 141, 'subsample': 0.7200762468698007}'''\n",
    "\n",
    "best_params = {'colsample_bytree': 0.9828160165372797, \n",
    "               'gamma': 0.8083973481164611, 'learning_rate': 0.10138413075201119, \n",
    "               'max_depth': 2, 'min_child_weight': 4, 'n_estimators': 141, 'subsample': 0.7200762468698007}\n",
    "\n",
    "k = 5\n",
    "num_val_samples = X_train_scaled.shape[0] // k\n",
    "all_scores_r2 = []\n",
    "all_scores_adjusted_r2 = []\n",
    "all_scores_rmse = []\n",
    "all_scores_mae = []\n",
    "\n",
    "from scipy.sparse import vstack\n",
    "\n",
    "for i in range(k):\n",
    "    print('processing fold #', i)\n",
    "    val_data = X_train_scaled[i * num_val_samples: (i + 1) * num_val_samples]\n",
    "    val_targets = y_train[i * num_val_samples: (i + 1) * num_val_samples]\n",
    "\n",
    "    partial_train_data = vstack([X_train_scaled[:i * num_val_samples],\n",
    "                                 X_train_scaled[(i + 1) * num_val_samples:]])\n",
    "    partial_train_targets = pd.concat([y_train[:i * num_val_samples],\n",
    "                                       y_train[(i + 1) * num_val_samples:]])\n",
    "\n",
    "    model = xgb.XGBRegressor(objective='reg:squarederror', random_state=42, **best_params)\n",
    "    model.fit(partial_train_data, partial_train_targets)\n",
    "\n",
    "    val_preds = model.predict(val_data)\n",
    "    r2_val = r2_score(val_targets, val_preds)\n",
    "    n = val_data.shape[0]\n",
    "    p = val_data.shape[1]\n",
    "    adjusted_r2_val = 1 - (1 - r2_val) * (n - 1) / (n - p - 1)\n",
    "    rmse_val = np.sqrt(mean_squared_error(val_targets, val_preds))\n",
    "    mae_val = mean_absolute_error(val_targets, val_preds)\n",
    "\n",
    "    all_scores_r2.append(r2_val)\n",
    "    all_scores_adjusted_r2.append(adjusted_r2_val)\n",
    "    all_scores_rmse.append(rmse_val)\n",
    "    all_scores_mae.append(mae_val)\n",
    "\n",
    "mean_r2 = np.mean(all_scores_r2)\n",
    "std_r2 = np.std(all_scores_r2)\n",
    "mean_adjusted_r2 = np.mean(all_scores_adjusted_r2)\n",
    "std_adjusted_r2 = np.std(all_scores_adjusted_r2)\n",
    "mean_rmse = np.mean(all_scores_rmse)\n",
    "std_rmse = np.std(all_scores_rmse)\n",
    "mean_mae = np.mean(all_scores_mae)\n",
    "std_mae = np.std(all_scores_mae)\n",
    "print(f\"Rendimiento promedio R2 (XGBoost): {mean_r2:.3f} (+/- {std_r2:.3f})\")\n",
    "print(f\"Rendimiento promedio R2 ajustado (XGBoost): {mean_adjusted_r2:.3f} (+/- {std_adjusted_r2:.3f})\")\n",
    "print(f\"Rendimiento promedio RMSE (XGBoost): {mean_rmse:.3f} (+/- {std_rmse:.3f})\")\n",
    "print(f\"Rendimiento promedio MAE (XGBoost): {mean_mae:.3f} (+/- {std_mae:.3f})\")\n"
   ]
  },
  {
   "cell_type": "code",
   "execution_count": null,
   "metadata": {},
   "outputs": [
    {
     "data": {
      "text/html": [
       "<div>\n",
       "<style scoped>\n",
       "    .dataframe tbody tr th:only-of-type {\n",
       "        vertical-align: middle;\n",
       "    }\n",
       "\n",
       "    .dataframe tbody tr th {\n",
       "        vertical-align: top;\n",
       "    }\n",
       "\n",
       "    .dataframe thead th {\n",
       "        text-align: right;\n",
       "    }\n",
       "</style>\n",
       "<table border=\"1\" class=\"dataframe\">\n",
       "  <thead>\n",
       "    <tr style=\"text-align: right;\">\n",
       "      <th></th>\n",
       "      <th>R2</th>\n",
       "      <th>Adj R2</th>\n",
       "      <th>RMSE</th>\n",
       "      <th>MAE</th>\n",
       "    </tr>\n",
       "  </thead>\n",
       "  <tbody>\n",
       "    <tr>\n",
       "      <th>XGBoost</th>\n",
       "      <td>0.115466</td>\n",
       "      <td>-0.24664</td>\n",
       "      <td>36554.813989</td>\n",
       "      <td>28225.270313</td>\n",
       "    </tr>\n",
       "  </tbody>\n",
       "</table>\n",
       "</div>"
      ],
      "text/plain": [
       "               R2   Adj R2          RMSE           MAE\n",
       "XGBoost  0.115466 -0.24664  36554.813989  28225.270313"
      ]
     },
     "execution_count": 273,
     "metadata": {},
     "output_type": "execute_result"
    }
   ],
   "source": [
    "xgb_results_dic = {}\n",
    "\n",
    "xgb_results_dic['XGBoost'] = {'R2': mean_r2, 'Adj R2': mean_adjusted_r2, 'RMSE': mean_rmse, 'MAE': mean_mae}\n",
    "xgb_results  = pd.DataFrame.from_dict(xgb_results_dic, orient='index')\n",
    "xgb_results "
   ]
  },
  {
   "cell_type": "code",
   "execution_count": null,
   "metadata": {},
   "outputs": [],
   "source": [
    "xgb_results.to_csv('xgb_results.csv', index=True)"
   ]
  },
  {
   "cell_type": "code",
   "execution_count": 20,
   "metadata": {},
   "outputs": [
    {
     "ename": "NameError",
     "evalue": "name 'X_train_scaled' is not defined",
     "output_type": "error",
     "traceback": [
      "\u001b[1;31m---------------------------------------------------------------------------\u001b[0m",
      "\u001b[1;31mNameError\u001b[0m                                 Traceback (most recent call last)",
      "\u001b[1;32mc:\\Users\\fenan\\OneDrive\\Desktop\\NETHERLANDS\\msc-data-science\\Final Thesis\\AAA-FINAL-THESIS\\src\\analysis\\baseline-models\\(7th) Model-XGBoost.ipynb Cell 21\u001b[0m line \u001b[0;36m<cell line: 3>\u001b[1;34m()\u001b[0m\n\u001b[0;32m      <a href='vscode-notebook-cell:/c%3A/Users/fenan/OneDrive/Desktop/NETHERLANDS/msc-data-science/Final%20Thesis/AAA-FINAL-THESIS/src/analysis/baseline-models/%287th%29%20Model-XGBoost.ipynb#X21sZmlsZQ%3D%3D?line=0'>1</a>\u001b[0m \u001b[39m# Entrenar el modelo utilizando el conjunto de datos de entrenamiento completo\u001b[39;00m\n\u001b[0;32m      <a href='vscode-notebook-cell:/c%3A/Users/fenan/OneDrive/Desktop/NETHERLANDS/msc-data-science/Final%20Thesis/AAA-FINAL-THESIS/src/analysis/baseline-models/%287th%29%20Model-XGBoost.ipynb#X21sZmlsZQ%3D%3D?line=1'>2</a>\u001b[0m model \u001b[39m=\u001b[39m xgb\u001b[39m.\u001b[39mXGBRegressor(objective\u001b[39m=\u001b[39m\u001b[39m'\u001b[39m\u001b[39mreg:squarederror\u001b[39m\u001b[39m'\u001b[39m, random_state\u001b[39m=\u001b[39m\u001b[39m42\u001b[39m, \u001b[39m*\u001b[39m\u001b[39m*\u001b[39mbest_params)\n\u001b[1;32m----> <a href='vscode-notebook-cell:/c%3A/Users/fenan/OneDrive/Desktop/NETHERLANDS/msc-data-science/Final%20Thesis/AAA-FINAL-THESIS/src/analysis/baseline-models/%287th%29%20Model-XGBoost.ipynb#X21sZmlsZQ%3D%3D?line=2'>3</a>\u001b[0m model\u001b[39m.\u001b[39mfit(X_train_scaled, y_train)\n\u001b[0;32m      <a href='vscode-notebook-cell:/c%3A/Users/fenan/OneDrive/Desktop/NETHERLANDS/msc-data-science/Final%20Thesis/AAA-FINAL-THESIS/src/analysis/baseline-models/%287th%29%20Model-XGBoost.ipynb#X21sZmlsZQ%3D%3D?line=4'>5</a>\u001b[0m \u001b[39m# Hacer predicciones en el conjunto de datos de prueba\u001b[39;00m\n\u001b[0;32m      <a href='vscode-notebook-cell:/c%3A/Users/fenan/OneDrive/Desktop/NETHERLANDS/msc-data-science/Final%20Thesis/AAA-FINAL-THESIS/src/analysis/baseline-models/%287th%29%20Model-XGBoost.ipynb#X21sZmlsZQ%3D%3D?line=5'>6</a>\u001b[0m y_pred \u001b[39m=\u001b[39m model\u001b[39m.\u001b[39mpredict(X_test_scaled)\n",
      "\u001b[1;31mNameError\u001b[0m: name 'X_train_scaled' is not defined"
     ]
    }
   ],
   "source": [
    "# Entrenar el modelo utilizando el conjunto de datos de entrenamiento completo\n",
    "model = xgb.XGBRegressor(objective='reg:squarederror', random_state=42, **best_params)\n",
    "model.fit(X_train_scaled, y_train)\n",
    "\n",
    "# Hacer predicciones en el conjunto de datos de prueba\n",
    "y_pred = model.predict(X_test_scaled)\n",
    "\n",
    "# Calcular métricas de rendimiento en el conjunto de datos de prueba\n",
    "r2_test = r2_score(y_test, y_pred)\n",
    "rmse_test = np.sqrt(mean_squared_error(y_test, y_pred))\n",
    "mae_test = mean_absolute_error(y_test, y_pred)\n",
    "n_test = X_test_scaled.shape[0]  # change this line\n",
    "p_test = X_train_scaled.shape[1]  # use the original training data shape for the number of predictors\n",
    "adjusted_r2_test = 1 - (1 - r2_test) * (n_test - 1) / (n_test - p_test - 1)\n",
    "\n",
    "print(f\"Rendimiento R2 en el conjunto de prueba (XGBoost): {r2_test:.3f}\")\n",
    "print(f\"Rendimiento adjusted R2 en el conjunto de prueba (XGBoost): {adjusted_r2_test:.3f}\")\n",
    "print(f\"Rendimiento RMSE en el conjunto de prueba (XGBoost): {rmse_test:.3f}\")\n",
    "print(f\"Rendimiento MAE en el conjunto de prueba (XGBoost): {mae_test:.3f}\")\n",
    "\n"
   ]
  },
  {
   "cell_type": "code",
   "execution_count": 18,
   "metadata": {},
   "outputs": [
    {
     "data": {
      "image/png": "[encoded data removed]",
      "text/plain": [
       "<Figure size 360x360 with 3 Axes>"
      ]
     },
     "metadata": {
      "needs_background": "light"
     },
     "output_type": "display_data"
    }
   ],
   "source": [
    "import seaborn as sns\n",
    "import matplotlib.pyplot as plt\n",
    "\n",
    "# Crear una cuadrícula de gráficos conjunta y configurar los ejes para los histogramas\n",
    "g = sns.JointGrid(x=y_test, y=y_pred, height=5)\n",
    "\n",
    "# Crear un gráfico de dispersión y ajustar una línea de regresión lineal a los datos\n",
    "g.plot_joint(sns.regplot, scatter_kws={'color': 'grey'}, line_kws={'color': 'purple'})\n",
    "\n",
    "# Agregar histogramas en la parte superior y en el lado derecho del gráfico\n",
    "g.plot_marginals(sns.histplot, kde=False, color='grey')\n",
    "\n",
    "# Ajustar el espacio entre los subgráficos y mover el título hacia arriba\n",
    "g.fig.subplots_adjust(top=0.9)\n",
    "\n",
    "# Agregar título\n",
    "g.fig.suptitle(\"XGBoost performance - Test set\")\n",
    "\n",
    "# Etiquetar los ejes\n",
    "g.ax_joint.set_xlabel(\"Truth\")\n",
    "g.ax_joint.set_ylabel(\"Predictions\")\n",
    "\n",
    "plt.show()\n"
   ]
  }
 ],
 "metadata": {
  "kernelspec": {
   "display_name": "base",
   "language": "python",
   "name": "python3"
  },
  "language_info": {
   "codemirror_mode": {
    "name": "ipython",
    "version": 3
   },
   "file_extension": ".py",
   "mimetype": "text/x-python",
   "name": "python",
   "nbconvert_exporter": "python",
   "pygments_lexer": "ipython3",
   "version": "3.9.12"
  },
  "orig_nbformat": 4
 },
 "nbformat": 4,
 "nbformat_minor": 2
}
