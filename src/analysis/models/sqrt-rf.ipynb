{
 "cells": [
  {
   "cell_type": "markdown",
   "metadata": {},
   "source": [
    "# (sqrt) **Random Forest** "
   ]
  },
  {
   "cell_type": "markdown",
   "metadata": {},
   "source": [
    "---"
   ]
  },
  {
   "cell_type": "markdown",
   "metadata": {},
   "source": [
    "## 0. Importing dependencies"
   ]
  },
  {
   "cell_type": "code",
   "execution_count": 1,
   "metadata": {},
   "outputs": [],
   "source": [
    "%matplotlib inline\n",
    "\n",
    "# needed libraries\n",
    "import numpy as np\n",
    "import pandas as pd\n",
    "import matplotlib.pyplot as plt\n",
    "import seaborn as sns\n",
    "from sklearn.ensemble import RandomForestRegressor\n",
    "from sklearn.model_selection import KFold, RandomizedSearchCV\n",
    "from sklearn.compose import ColumnTransformer\n",
    "from sklearn.preprocessing import OneHotEncoder, StandardScaler\n",
    "from sklearn.pipeline import Pipeline\n",
    "from scipy.stats import randint, uniform\n",
    "from sklearn.metrics import r2_score, mean_squared_error, mean_absolute_error, make_scorer\n",
    "\n",
    "\n",
    "import warnings\n",
    "warnings.filterwarnings('ignore')"
   ]
  },
  {
   "cell_type": "markdown",
   "metadata": {},
   "source": [
    "## 1. Loading data"
   ]
  },
  {
   "cell_type": "markdown",
   "metadata": {},
   "source": [
    "It is already splitted:"
   ]
  },
  {
   "cell_type": "code",
   "execution_count": 2,
   "metadata": {},
   "outputs": [],
   "source": [
    "train_df = pd.read_csv('../../input/clean_train_df.csv')\n",
    "test_df = pd.read_csv('../../input/clean_test_df.csv')"
   ]
  },
  {
   "cell_type": "markdown",
   "metadata": {},
   "source": [
    "## 2. Processing Train and Test sets"
   ]
  },
  {
   "cell_type": "markdown",
   "metadata": {},
   "source": [
    "Due to class imbalace, there's still few unrelevant countries which aren't in both sets, since data is already one-hot encoded, we should find those countries and drop them off."
   ]
  },
  {
   "cell_type": "code",
   "execution_count": 3,
   "metadata": {},
   "outputs": [
    {
     "name": "stdout",
     "output_type": "stream",
     "text": [
      "Columns in the train set that aren't in the test set: {'Country_Bangladesh', 'Country_Armenia', 'Country_Philippines', 'Country_Azerbaijan', 'Country_Venezuela', 'Country_Botswana', 'Country_Lebanon', 'Country_Nomadic', 'Country_Yemen', 'Country_Croatia', 'Country_Jordan', 'Country_Serbia', 'Country_Angola', 'Country_United Arab Emirates', 'Country_Kenya', 'Country_Cyprus', 'Country_Costa Rica', 'Country_Paraguay', 'Country_Bosnia-Herz.', 'Country_Tanzania', 'Country_New Zealand', 'Country_Zimbabwe', 'Country_Viet Nam', 'Country_Malta', 'Country_Saudi Arabia', 'Country_Estonia', 'Country_Slovakia', 'Country_Mongolia', 'Country_Peru', 'Country_El Salvador', 'Country_Latvia', 'Country_Georgia', 'Country_Andorra', 'Country_Sri Lanka', 'Country_Kosovo', 'Country_Uzbekistan', 'Ethnicity_North American / Central American', 'Country_North Macedonia'}\n",
      "Columns in the test set that aren't in the train set: {\"Country_CÃ´te d'Ivoire\", 'Country_Barbados', 'Country_Qatar', 'Country_Senegal', 'Country_Trinidad and Tobago', 'Country_Guinea', 'Country_Republic of Korea', 'Country_Belarus'}\n",
      "(2258, 130) (553, 130)\n"
     ]
    }
   ],
   "source": [
    "# Extract unique columns (features) from the train and test sets\n",
    "train_countries = set(train_df.columns)\n",
    "test_countries = set(test_df.columns)\n",
    "\n",
    "# Find columns that are in the train set but not in the test set\n",
    "missing_in_test = train_countries - test_countries\n",
    "print(\"Columns in the train set that aren't in the test set:\", missing_in_test)\n",
    "\n",
    "missing_in_train = test_countries - train_countries\n",
    "print(\"Columns in the test set that aren't in the train set:\", missing_in_train)\n",
    "\n",
    "# Drop columns that are in 'missing_in_test' from the training set\n",
    "train_df = train_df.drop(columns=missing_in_test)\n",
    "\n",
    "# Drop columns that are in 'missing_in_train' from the test set\n",
    "test_df = test_df.drop(columns=missing_in_train)\n",
    "\n",
    "print(train_df.shape, test_df.shape)"
   ]
  },
  {
   "cell_type": "markdown",
   "metadata": {},
   "source": [
    "___"
   ]
  },
  {
   "cell_type": "markdown",
   "metadata": {},
   "source": [
    "### 2.1. Feature selection:"
   ]
  },
  {
   "cell_type": "markdown",
   "metadata": {},
   "source": [
    "These cells may be needed to edit the amount of features the model will count with:"
   ]
  },
  {
   "cell_type": "code",
   "execution_count": 4,
   "metadata": {},
   "outputs": [
    {
     "data": {
      "text/plain": [
       "'# Assuming you have a DataFrame called \\'df\\'\\nbaseline_cols = [\"Country\", \"Job_type\", \"Education\", \"Company_size\", \"Age\", \"Work_experience\", \"Annual_salary\"]\\n\\n# Add Job_title columns to the baseline_cols list\\nJob_title = [\\'Developer, game or graphics\\', \\'Blockchain\\', \\'Developer, QA or test\\', \\'Developer, back-end\\', \\'Student\\', \\n             \\'Project manager\\', \\'Data or business analyst\\', \\'Cloud infrastructure engineer\\', \\'Engineer, data\\', \\n             \\'Educator\\', \\'Developer, desktop or enterprise applications\\', \\'Developer, front-end\\', \\'Designer\\', \\n             \\'Security professional\\', \\'Developer, embedded applications or devices\\', \\'Product manager\\', \\'Developer, mobile\\', \\n             \\'Developer, full-stack\\', \\'Scientist\\', \\'Database administrator\\', \\'Academic researcher\\', \\'Senior Executive (C-Suite, VP, etc.)\\', \\n             \\'Marketing or sales professional\\', \\'System administrator\\', \\'Data scientist or machine learning specialist\\', \\n             \\'Engineer, site reliability\\', \\'DevOps specialist\\', \\'Engineering manager\\']\\n\\nbaseline_cols.extend(Job_title)\\n\\n# Iterate through the columns and keep only those containing the specified keywords\\ncolumns_to_keep_train = [col for col in train_df.columns if any(keyword in col for keyword in baseline_cols)]\\ncolumns_to_keep_test = [col for col in test_df.columns if any(keyword in col for keyword in baseline_cols)]\\n\\n# Filter the DataFrame, keeping only the selected columns\\nbaseline_train_df = train_df[columns_to_keep_train]\\nbaseline_test_df = test_df[columns_to_keep_test]\\n\\nbaseline_train_df.head()'"
      ]
     },
     "execution_count": 4,
     "metadata": {},
     "output_type": "execute_result"
    }
   ],
   "source": [
    "'''# Assuming you have a DataFrame called 'df'\n",
    "baseline_cols = [\"Country\", \"Job_type\", \"Education\", \"Company_size\", \"Age\", \"Work_experience\", \"Annual_salary\"]\n",
    "\n",
    "# Add Job_title columns to the baseline_cols list\n",
    "Job_title = ['Developer, game or graphics', 'Blockchain', 'Developer, QA or test', 'Developer, back-end', 'Student', \n",
    "             'Project manager', 'Data or business analyst', 'Cloud infrastructure engineer', 'Engineer, data', \n",
    "             'Educator', 'Developer, desktop or enterprise applications', 'Developer, front-end', 'Designer', \n",
    "             'Security professional', 'Developer, embedded applications or devices', 'Product manager', 'Developer, mobile', \n",
    "             'Developer, full-stack', 'Scientist', 'Database administrator', 'Academic researcher', 'Senior Executive (C-Suite, VP, etc.)', \n",
    "             'Marketing or sales professional', 'System administrator', 'Data scientist or machine learning specialist', \n",
    "             'Engineer, site reliability', 'DevOps specialist', 'Engineering manager']\n",
    "\n",
    "baseline_cols.extend(Job_title)\n",
    "\n",
    "# Iterate through the columns and keep only those containing the specified keywords\n",
    "columns_to_keep_train = [col for col in train_df.columns if any(keyword in col for keyword in baseline_cols)]\n",
    "columns_to_keep_test = [col for col in test_df.columns if any(keyword in col for keyword in baseline_cols)]\n",
    "\n",
    "# Filter the DataFrame, keeping only the selected columns\n",
    "baseline_train_df = train_df[columns_to_keep_train]\n",
    "baseline_test_df = test_df[columns_to_keep_test]\n",
    "\n",
    "baseline_train_df.head()'''"
   ]
  },
  {
   "cell_type": "code",
   "execution_count": 5,
   "metadata": {},
   "outputs": [
    {
     "data": {
      "text/plain": [
       "\"X_train = baseline_train_df.drop('Annual_salary', axis=1)\\nX_test = baseline_test_df.drop('Annual_salary', axis=1)\\ny_train = baseline_train_df['Annual_salary']\\ny_test = baseline_test_df['Annual_salary']\\n\\nprint(X_train.shape)\\nprint(y_train.shape)\\nprint()\\nprint(X_test.shape)\\nprint(y_test.shape)\""
      ]
     },
     "execution_count": 5,
     "metadata": {},
     "output_type": "execute_result"
    }
   ],
   "source": [
    "'''X_train = baseline_train_df.drop('Annual_salary', axis=1)\n",
    "X_test = baseline_test_df.drop('Annual_salary', axis=1)\n",
    "y_train = baseline_train_df['Annual_salary']\n",
    "y_test = baseline_test_df['Annual_salary']\n",
    "\n",
    "print(X_train.shape)\n",
    "print(y_train.shape)\n",
    "print()\n",
    "print(X_test.shape)\n",
    "print(y_test.shape)'''"
   ]
  },
  {
   "cell_type": "markdown",
   "metadata": {},
   "source": [
    "---"
   ]
  },
  {
   "cell_type": "markdown",
   "metadata": {},
   "source": [
    "### 2.2. Identifying the target"
   ]
  },
  {
   "cell_type": "code",
   "execution_count": 6,
   "metadata": {},
   "outputs": [],
   "source": [
    "X_train = train_df.drop('Annual_salary', axis=1)\n",
    "X_test = test_df.drop('Annual_salary', axis=1)\n",
    "y_train = np.sqrt(train_df['Annual_salary'])\n",
    "y_test = np.sqrt(test_df['Annual_salary'])\n",
    "#y_train = y_train.reset_index(drop=True)"
   ]
  },
  {
   "cell_type": "markdown",
   "metadata": {},
   "source": [
    "### 2.3. Standardazing data"
   ]
  },
  {
   "cell_type": "markdown",
   "metadata": {},
   "source": [
    "We will standardize the data to improve model's interpretability"
   ]
  },
  {
   "cell_type": "code",
   "execution_count": 7,
   "metadata": {},
   "outputs": [],
   "source": [
    "scaler = StandardScaler()\n",
    "X_train_scaled = scaler.fit_transform(X_train)\n",
    "X_test_scaled = scaler.transform(X_test)\n",
    "\n",
    "# This will respect col names when plotting importance\n",
    "X_train_scaled = pd.DataFrame(X_train_scaled, columns=X_train.columns)\n",
    "X_test_scaled = pd.DataFrame(X_test_scaled, columns=X_test.columns)"
   ]
  },
  {
   "cell_type": "markdown",
   "metadata": {},
   "source": [
    "## 3. Modeling"
   ]
  },
  {
   "cell_type": "markdown",
   "metadata": {},
   "source": [
    "### 3.1. Hyperparameter tunning (K-fold CV)"
   ]
  },
  {
   "cell_type": "code",
   "execution_count": 8,
   "metadata": {},
   "outputs": [
    {
     "name": "stdout",
     "output_type": "stream",
     "text": [
      "Fitting 4 folds for each of 10 candidates, totalling 40 fits\n"
     ]
    },
    {
     "name": "stdout",
     "output_type": "stream",
     "text": [
      "Best parameters found: {'bootstrap': True, 'max_depth': 27, 'max_features': 59, 'min_samples_leaf': 3, 'min_samples_split': 5, 'n_estimators': 64}\n"
     ]
    }
   ],
   "source": [
    "model = RandomForestRegressor(random_state=42)\n",
    "\n",
    "kf = KFold(n_splits=4, shuffle=True, random_state=42)\n",
    "\n",
    "parameters = {\n",
    "    \"n_estimators\": randint(10, 200),\n",
    "    \"max_features\": randint(1, X_train_scaled.shape[1]),\n",
    "    \"max_depth\": randint(1, 30),\n",
    "    \"min_samples_split\": randint(2, 10),\n",
    "    \"min_samples_leaf\": randint(1, 10),\n",
    "    \"bootstrap\": [True, False],\n",
    "}\n",
    "\n",
    "\n",
    "def custom_rmse(y_true, y_pred):\n",
    "    y_true_original = np.power(y_true, 2)\n",
    "    y_pred_original = np.power(y_pred, 2)\n",
    "    mse = mean_squared_error(y_true_original, y_pred_original)\n",
    "    return np.sqrt(mse)\n",
    "\n",
    "def custom_r2(y_true, y_pred):\n",
    "    y_true_original = np.power(y_true, 2)\n",
    "    y_pred_original = np.power(y_pred, 2)\n",
    "    return r2_score(y_true_original, y_pred_original)\n",
    "\n",
    "custom_scorer = {'r2': make_scorer(custom_r2, greater_is_better=True),  \n",
    "                 'rmse': make_scorer(custom_rmse, greater_is_better=False)}\n",
    "\n",
    "clf = RandomizedSearchCV(model, parameters, refit='rmse',\n",
    "                   cv=kf, scoring=custom_scorer, return_train_score=True,\n",
    "                   n_jobs=-1, random_state=42, verbose=2)  \n",
    "clf.fit(X_train_scaled, y_train)\n",
    "\n",
    "\n",
    "best_params = clf.best_params_\n",
    "print(f\"Best parameters found: {best_params}\")"
   ]
  },
  {
   "cell_type": "markdown",
   "metadata": {},
   "source": [
    "#### 3.1.1. CV results"
   ]
  },
  {
   "cell_type": "markdown",
   "metadata": {},
   "source": [
    "Let's look at results per parameter combination"
   ]
  },
  {
   "cell_type": "code",
   "execution_count": 9,
   "metadata": {},
   "outputs": [
    {
     "data": {
      "text/html": [
       "<div>\n",
       "<style scoped>\n",
       "    .dataframe tbody tr th:only-of-type {\n",
       "        vertical-align: middle;\n",
       "    }\n",
       "\n",
       "    .dataframe tbody tr th {\n",
       "        vertical-align: top;\n",
       "    }\n",
       "\n",
       "    .dataframe thead th {\n",
       "        text-align: right;\n",
       "    }\n",
       "</style>\n",
       "<table border=\"1\" class=\"dataframe\">\n",
       "  <thead>\n",
       "    <tr style=\"text-align: right;\">\n",
       "      <th></th>\n",
       "      <th>mean_train_r2</th>\n",
       "      <th>mean_test_r2</th>\n",
       "      <th>mean_train_rmse</th>\n",
       "      <th>mean_test_rmse</th>\n",
       "    </tr>\n",
       "  </thead>\n",
       "  <tbody>\n",
       "    <tr>\n",
       "      <th>0</th>\n",
       "      <td>0.721945</td>\n",
       "      <td>0.608676</td>\n",
       "      <td>26814.117305</td>\n",
       "      <td>31767.635964</td>\n",
       "    </tr>\n",
       "    <tr>\n",
       "      <th>1</th>\n",
       "      <td>0.737860</td>\n",
       "      <td>0.612732</td>\n",
       "      <td>26035.373687</td>\n",
       "      <td>31605.785864</td>\n",
       "    </tr>\n",
       "    <tr>\n",
       "      <th>2</th>\n",
       "      <td>0.586988</td>\n",
       "      <td>0.550020</td>\n",
       "      <td>32678.213338</td>\n",
       "      <td>34058.688390</td>\n",
       "    </tr>\n",
       "    <tr>\n",
       "      <th>3</th>\n",
       "      <td>0.485515</td>\n",
       "      <td>0.475707</td>\n",
       "      <td>36471.963903</td>\n",
       "      <td>36763.664174</td>\n",
       "    </tr>\n",
       "    <tr>\n",
       "      <th>4</th>\n",
       "      <td>0.352420</td>\n",
       "      <td>0.348144</td>\n",
       "      <td>40919.903787</td>\n",
       "      <td>41011.928655</td>\n",
       "    </tr>\n",
       "    <tr>\n",
       "      <th>5</th>\n",
       "      <td>0.836823</td>\n",
       "      <td>0.627671</td>\n",
       "      <td>20541.601070</td>\n",
       "      <td>30992.430901</td>\n",
       "    </tr>\n",
       "    <tr>\n",
       "      <th>6</th>\n",
       "      <td>0.341497</td>\n",
       "      <td>0.297625</td>\n",
       "      <td>41267.065077</td>\n",
       "      <td>42567.763739</td>\n",
       "    </tr>\n",
       "    <tr>\n",
       "      <th>7</th>\n",
       "      <td>0.723928</td>\n",
       "      <td>0.599450</td>\n",
       "      <td>26718.070482</td>\n",
       "      <td>32132.271761</td>\n",
       "    </tr>\n",
       "    <tr>\n",
       "      <th>8</th>\n",
       "      <td>0.744084</td>\n",
       "      <td>0.582386</td>\n",
       "      <td>25724.499484</td>\n",
       "      <td>32819.691889</td>\n",
       "    </tr>\n",
       "    <tr>\n",
       "      <th>9</th>\n",
       "      <td>0.794450</td>\n",
       "      <td>0.598347</td>\n",
       "      <td>23051.379628</td>\n",
       "      <td>32195.735445</td>\n",
       "    </tr>\n",
       "  </tbody>\n",
       "</table>\n",
       "</div>"
      ],
      "text/plain": [
       "   mean_train_r2  mean_test_r2  mean_train_rmse  mean_test_rmse\n",
       "0       0.721945      0.608676     26814.117305    31767.635964\n",
       "1       0.737860      0.612732     26035.373687    31605.785864\n",
       "2       0.586988      0.550020     32678.213338    34058.688390\n",
       "3       0.485515      0.475707     36471.963903    36763.664174\n",
       "4       0.352420      0.348144     40919.903787    41011.928655\n",
       "5       0.836823      0.627671     20541.601070    30992.430901\n",
       "6       0.341497      0.297625     41267.065077    42567.763739\n",
       "7       0.723928      0.599450     26718.070482    32132.271761\n",
       "8       0.744084      0.582386     25724.499484    32819.691889\n",
       "9       0.794450      0.598347     23051.379628    32195.735445"
      ]
     },
     "execution_count": 9,
     "metadata": {},
     "output_type": "execute_result"
    }
   ],
   "source": [
    "pd.set_option('display.max_columns', None)\n",
    "\n",
    "df_cv_results = pd.DataFrame(clf.cv_results_)\n",
    "\n",
    "df_cv_results['mean_train_rmse'] = -1 * df_cv_results['mean_train_rmse']\n",
    "df_cv_results['mean_test_rmse'] = -1 * df_cv_results['mean_test_rmse']\n",
    "\n",
    "df_cv_results[['mean_train_r2', 'mean_test_r2' ,'mean_train_rmse', 'mean_test_rmse']]"
   ]
  },
  {
   "cell_type": "markdown",
   "metadata": {},
   "source": [
    "Now, the average of folds:"
   ]
  },
  {
   "cell_type": "code",
   "execution_count": 10,
   "metadata": {},
   "outputs": [
    {
     "name": "stdout",
     "output_type": "stream",
     "text": [
      "Mean CV Test R2: 0.5300757734776702\n",
      "Mean CV Test RMSE: 34591.55967811835\n"
     ]
    }
   ],
   "source": [
    "mean_test_r2 = np.mean(df_cv_results['mean_test_r2']) \n",
    "mean_test_rmse = np.mean(df_cv_results['mean_test_rmse'])  \n",
    "\n",
    "print(f\"Mean CV Test R2: {mean_test_r2}\")\n",
    "print(f\"Mean CV Test RMSE: {mean_test_rmse}\")"
   ]
  },
  {
   "cell_type": "code",
   "execution_count": null,
   "metadata": {},
   "outputs": [],
   "source": [
    "results_df = pd.DataFrame(columns=['train_r2', 'test_r2', 'train_rmse', 'test_rmse'])\n",
    "\n",
    "num_splits = kf.get_n_splits()  \n",
    "\n",
    "for i in range(num_splits):\n",
    "    train_r2_key = f\"split{i}_train_r2\"\n",
    "    test_r2_key = f\"split{i}_test_r2\"\n",
    "    train_rmse_key = f\"split{i}_train_rmse\"\n",
    "    test_rmse_key = f\"split{i}_test_rmse\"\n",
    "    \n",
    "    for j in range(len(df_cv_results)):\n",
    "        fold_results = {\n",
    "            'train_r2': df_cv_results.loc[j, train_r2_key],\n",
    "            'test_r2': df_cv_results.loc[j, test_r2_key],\n",
    "            'train_rmse': -df_cv_results.loc[j, train_rmse_key],  \n",
    "            'test_rmse': -df_cv_results.loc[j, test_rmse_key]    \n",
    "        }\n",
    "        results_df = results_df.append(fold_results, ignore_index=True)\n",
    "\n",
    "results_df.index += 1\n",
    "results_df.index.name = 'Fold'\n",
    "results_df"
   ]
  },
  {
   "cell_type": "code",
   "execution_count": null,
   "metadata": {},
   "outputs": [],
   "source": [
    "fold_num = 1\n",
    "plt.figure(figsize=(12, 8))\n",
    "for train_index, test_index in kf.split(X_train_scaled):\n",
    "    \n",
    "    X_fold_test = X_train_scaled.iloc[test_index]\n",
    "    y_fold_true = y_train.iloc[test_index]\n",
    "    \n",
    "    y_fold_pred = clf.predict(X_fold_test)\n",
    "\n",
    "    plt.subplot(2, 2, fold_num)\n",
    "    sns.kdeplot(np.power(y_fold_pred,2), color='blue', label='Predicted Values')\n",
    "    sns.kdeplot(np.power(y_fold_true,2), color='red', label='True Values')\n",
    "    plt.title(f'Fold {fold_num} Predicted vs True Distribution')\n",
    "    plt.legend()\n",
    "\n",
    "    fold_num += 1\n",
    "\n",
    "plt.suptitle('RF (sqrt) predicted vs truth among CV folds', weight='bold', fontsize=15)\n",
    "plt.tight_layout()\n",
    "plt.show()"
   ]
  },
  {
   "cell_type": "markdown",
   "metadata": {},
   "source": [
    "### 3.2. Train and Test sets predictions"
   ]
  },
  {
   "cell_type": "markdown",
   "metadata": {},
   "source": [
    "First, let's update model with the best parameters found in CV:"
   ]
  },
  {
   "cell_type": "markdown",
   "metadata": {},
   "source": [
    "Now, we will define our metrics for train and test sets:"
   ]
  },
  {
   "cell_type": "code",
   "execution_count": 11,
   "metadata": {},
   "outputs": [],
   "source": [
    "def adjusted_r2(r2, n, p):\n",
    "    \"\"\"Calculate adjusted R^2 given R^2, number of observations (n) and number of predictors (p)\"\"\"\n",
    "    return 1 - (1 - r2) * (n - 1) / (n - p - 1)\n",
    "    \n",
    "    \n",
    "def metrics(model, X, y_true, inverse_transform=True):\n",
    "    \"\"\"\n",
    "    Calculate average metrics (R^2, RMSE, Adjusted R^2) and predictions from cross-validation results\n",
    "    and return them\n",
    "    \"\"\"\n",
    "    y_pred = model.predict(X)\n",
    "    if inverse_transform:\n",
    "        y_pred = np.power(y_pred, 2)  \n",
    "        y_true = np.power(y_true, 2) \n",
    "    \n",
    "    mse = mean_squared_error(y_true, y_pred)\n",
    "    rmse = np.sqrt(mse)\n",
    "    r2 = r2_score(y_true, y_pred)\n",
    "    adj_r2 = adjusted_r2(r2, X.shape[0], X.shape[1])\n",
    "    \n",
    "    return {'R^2': r2, 'RMSE': rmse, 'Adjusted R^2': adj_r2, 'Predictions': y_pred}"
   ]
  },
  {
   "cell_type": "markdown",
   "metadata": {},
   "source": [
    "#### 3.2.1. Train/Test set results"
   ]
  },
  {
   "cell_type": "code",
   "execution_count": 12,
   "metadata": {},
   "outputs": [
    {
     "name": "stdout",
     "output_type": "stream",
     "text": [
      "\n",
      "Train set metrics:\n",
      "R^2: 0.8406695195442977\n",
      "RMSE: 20300.92121596871\n",
      "Adjusted R^2: 0.8310108579001315\n"
     ]
    }
   ],
   "source": [
    "train_results = metrics(clf.best_estimator_, X_train_scaled, y_train)\n",
    "\n",
    "print(\"\\nTrain set metrics:\")\n",
    "for key in list(train_results.keys())[:3]:\n",
    "    print(f\"{key}: {train_results[key]}\")\n",
    "\n",
    "y_train_pred = clf.best_estimator_.predict(X_train_scaled)\n",
    "\n",
    "plt.figure(figsize=(8, 4))\n",
    "\n",
    "sns.kdeplot(np.power(y_train_pred,2), color='blue', label='Predicted Values')\n",
    "sns.kdeplot(np.power(y_train,2), color='red', label='True Values')\n",
    "plt.title('Predicted vs True Distribution for Training Set')\n",
    "plt.legend()\n",
    "\n",
    "plt.tight_layout()\n",
    "plt.show()"
   ]
  },
  {
   "cell_type": "code",
   "execution_count": 13,
   "metadata": {},
   "outputs": [
    {
     "name": "stdout",
     "output_type": "stream",
     "text": [
      "\n",
      "Test set metrics:\n",
      "R^2: 0.6415093150139684\n",
      "RMSE: 29669.219612886194\n",
      "Adjusted R^2: 0.5321823685288665\n"
     ]
    }
   ],
   "source": [
    "test_results = metrics(clf.best_estimator_, X_test_scaled, y_test)\n",
    "\n",
    "print(\"\\nTest set metrics:\")\n",
    "for key in list(test_results.keys())[:3]:\n",
    "    print(f\"{key}: {test_results[key]}\")\n",
    "\n",
    "y_test_pred = clf.best_estimator_.predict(X_test_scaled)\n",
    "\n",
    "plt.figure(figsize=(8, 4))\n",
    "\n",
    "# Plotting\n",
    "sns.kdeplot(np.power(y_test_pred,2), color='blue', label='Predicted Values')\n",
    "sns.kdeplot(np.power(y_test,2), color='red', label='True Values')\n",
    "plt.title('Predicted vs True Distribution for Testing Set')\n",
    "plt.legend()\n",
    "\n",
    "plt.tight_layout()\n",
    "plt.show()"
   ]
  },
  {
   "cell_type": "code",
   "execution_count": 14,
   "metadata": {},
   "outputs": [],
   "source": [
    "y_pred_train = train_results['Predictions']\n",
    "y_pred_test = test_results['Predictions']"
   ]
  },
  {
   "cell_type": "markdown",
   "metadata": {},
   "source": [
    "## 4. Plotting results"
   ]
  },
  {
   "cell_type": "markdown",
   "metadata": {},
   "source": [
    "### 4.1. Residuals Plot"
   ]
  },
  {
   "cell_type": "code",
   "execution_count": 15,
   "metadata": {},
   "outputs": [
    {
     "data": {
      "image/png": "[encoded data removed]",
      "text/plain": [
       "<Figure size 720x360 with 1 Axes>"
      ]
     },
     "metadata": {},
     "output_type": "display_data"
    }
   ],
   "source": [
    "sns.set_theme(style='darkgrid')\n",
    "\n",
    "residuals = np.power(y_test, 2) - y_pred_test\n",
    "\n",
    "plt.figure(figsize=(10,5))\n",
    "\n",
    "sns.residplot(x=np.power(y_test, 2), y=residuals, lowess=True, line_kws={'color': 'red', 'lw': 2.5})\n",
    "\n",
    "plt.title('(sqrt) RF Residuals', weight='bold', fontsize=20, pad=10)\n",
    "plt.xlabel('True Values', weight='bold', fontsize=15, labelpad= 15)\n",
    "plt.ylabel('Residuals', weight='bold', fontsize=15, labelpad= 15)\n",
    "plt.axhline(y=0, color='black', linestyle='--')\n",
    "plt.savefig(\"../../paper/models/sqrt-rf-test-residuals.pdf\");"
   ]
  },
  {
   "cell_type": "markdown",
   "metadata": {},
   "source": [
    "### 4.2. Test set performance"
   ]
  },
  {
   "cell_type": "code",
   "execution_count": 16,
   "metadata": {},
   "outputs": [
    {
     "data": {
      "text/plain": [
       "<Figure size 720x432 with 0 Axes>"
      ]
     },
     "metadata": {},
     "output_type": "display_data"
    },
    {
     "data": {
      "image/png": "[encoded data removed]",
      "text/plain": [
       "<Figure size 504x504 with 3 Axes>"
      ]
     },
     "metadata": {},
     "output_type": "display_data"
    }
   ],
   "source": [
    "sns.set_theme(style='darkgrid')\n",
    "\n",
    "plt.figure(figsize=(10, 6))\n",
    "\n",
    "sns.jointplot(x=np.power(y_test, 2), y=y_pred_test, kind='reg', \n",
    "              joint_kws={'color':'grey', 'line_kws':{'color':'purple'}},\n",
    "              marginal_kws=dict(bins=30, fill=True, color='m'), height=7)\n",
    "\n",
    "plt.suptitle('(sqrt) RF Performance - Test set', weight='bold', y=1.03, fontsize=20)\n",
    "plt.xlabel('True Values', weight='bold', labelpad=15, fontsize=15)\n",
    "plt.ylabel('Predictions', weight='bold', labelpad=15, fontsize=15)\n",
    "\n",
    "plt.savefig(\"../../paper/models/sqrt-rf-test-predictions.pdf\");"
   ]
  },
  {
   "cell_type": "markdown",
   "metadata": {},
   "source": [
    "## 6. Saving results"
   ]
  },
  {
   "cell_type": "markdown",
   "metadata": {},
   "source": [
    "Saving CV results"
   ]
  },
  {
   "cell_type": "code",
   "execution_count": 17,
   "metadata": {},
   "outputs": [],
   "source": [
    "df_cv_results.to_csv(\"../../output/sqrt-rf-cv-results.csv\")"
   ]
  },
  {
   "cell_type": "markdown",
   "metadata": {},
   "source": [
    "Saving train and test sets predictions"
   ]
  },
  {
   "cell_type": "code",
   "execution_count": 18,
   "metadata": {},
   "outputs": [],
   "source": [
    "np.savetxt(\"../../output/sqrt-rf-train-predictions.csv\", y_pred_train, delimiter=\",\")\n",
    "\n",
    "np.savetxt(\"../../output/sqrt-rf-test-predictions.csv\", y_pred_test, delimiter=\",\")"
   ]
  },
  {
   "cell_type": "code",
   "execution_count": null,
   "metadata": {},
   "outputs": [],
   "source": [
    "pd.set_option('display.max_colwidth', None)\n",
    "\n",
    "df_cv_results[['params', 'mean_train_r2', 'mean_test_r2']]"
   ]
  }
 ],
 "metadata": {
  "kernelspec": {
   "display_name": "base",
   "language": "python",
   "name": "python3"
  },
  "language_info": {
   "codemirror_mode": {
    "name": "ipython",
    "version": 3
   },
   "file_extension": ".py",
   "mimetype": "text/x-python",
   "name": "python",
   "nbconvert_exporter": "python",
   "pygments_lexer": "ipython3",
   "version": "3.9.12"
  }
 },
 "nbformat": 4,
 "nbformat_minor": 2
}
