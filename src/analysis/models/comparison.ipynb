{
 "cells": [
  {
   "cell_type": "markdown",
   "metadata": {},
   "source": [
    "# **Model Comparison**"
   ]
  },
  {
   "cell_type": "markdown",
   "metadata": {},
   "source": [
    "---"
   ]
  },
  {
   "cell_type": "markdown",
   "metadata": {},
   "source": [
    "Let's define our Baseline:\n",
    "\n",
    "We will make a median-based baseline among AI-ML job titles and top20 countries (in frequency terms)"
   ]
  },
  {
   "cell_type": "code",
   "execution_count": 227,
   "metadata": {},
   "outputs": [],
   "source": [
    "import pandas as pd \n",
    "import numpy as np\n",
    "from sklearn.model_selection import cross_val_score, KFold\n",
    "from sklearn.metrics import mean_squared_error, make_scorer, r2_score\n",
    "from sklearn.preprocessing import StandardScaler\n",
    "from sklearn.base import BaseEstimator, RegressorMixin\n",
    "import matplotlib.pyplot as plt\n",
    "import seaborn as sns"
   ]
  },
  {
   "cell_type": "code",
   "execution_count": 228,
   "metadata": {},
   "outputs": [],
   "source": [
    "# The MedianBaselineModel class is defined here. This class represents a baseline model \n",
    "# that uses median values for predictions and follows the scikit-learn estimator interface.\n",
    "class MedianBaselineModel(BaseEstimator, RegressorMixin):\n",
    "    \n",
    "    def fit(self, X, y):\n",
    "        # Concatenating features and target variable and then calculating the median\n",
    "        self.baseline_model = pd.concat([X, y], axis=1)\n",
    "        self.baseline_model = self.baseline_model.groupby(baseline_features).median().reset_index()\n",
    "        return self\n",
    "    \n",
    "    def predict(self, X):\n",
    "        # Merging test data with the baseline model to get predictions\n",
    "        predictions = X.merge(self.baseline_model, on=baseline_features, how='left')\n",
    "        return predictions['Annual_salary'].fillna(predictions['Annual_salary'].median())"
   ]
  },
  {
   "cell_type": "markdown",
   "metadata": {},
   "source": [
    "- Data Preprocessing"
   ]
  },
  {
   "cell_type": "code",
   "execution_count": 229,
   "metadata": {},
   "outputs": [],
   "source": [
    "# Reading the training and testing datasets\n",
    "train_set = pd.read_csv('../../output/clean_train_df.csv')\n",
    "test_set = pd.read_csv('../../output/clean_test_df.csv')\n",
    "\n",
    "# Defining the features to be used in the baseline model\n",
    "top20countries = ['Country_USA', 'Country_Germany', 'Country_UK & Northern Ireland', 'Country_Canada', 'Country_France', 'Country_India',\n",
    "       'Country_Spain', 'Country_Brazil', 'Country_Poland', 'Country_Australia', 'Country_Netherlands', 'Country_Italy',\n",
    "       'Country_Switzerland', 'Country_Israel', 'Country_Sweden', 'Country_Austria', 'Country_Russian Federation',\n",
    "       'Country_Mexico', 'Country_Denmark', 'Country_Belgium']\n",
    "\n",
    "AI_ML_devs = ['Data scientist or machine learning specialist',\n",
    " 'Engineer, data',\n",
    " 'Data or business analyst',\n",
    " 'Scientist']\n",
    "\n",
    "baseline_features = AI_ML_devs + top20countries\n",
    "\n",
    "# Preparing the feature matrices and target vectors for training and testing sets\n",
    "X_train = train_set[baseline_features]\n",
    "y_train = train_set['Annual_salary']\n",
    "\n",
    "X_test = test_set[baseline_features]\n",
    "y_test = test_set['Annual_salary']\n",
    "\n",
    "# Scaling the features using StandardScaler to have zero mean and unit variance\n",
    "scaler = StandardScaler()\n",
    "X_train_scaled = scaler.fit_transform(X_train)\n",
    "X_test_scaled = scaler.transform(X_test)\n",
    "\n",
    "# Converting the scaled numpy arrays back to pandas DataFrames\n",
    "X_train_scaled = pd.DataFrame(X_train_scaled, columns=X_train.columns)\n",
    "X_test_scaled = pd.DataFrame(X_test_scaled, columns=X_test.columns)"
   ]
  },
  {
   "cell_type": "markdown",
   "metadata": {},
   "source": [
    "- Metrics, fit, and evaluation:"
   ]
  },
  {
   "cell_type": "code",
   "execution_count": 230,
   "metadata": {},
   "outputs": [
    {
     "name": "stdout",
     "output_type": "stream",
     "text": [
      "RMSE scores: [35444.57425763 37192.52390397 36634.14744737 34152.75463476]\n",
      "Mean RMSE: 35856.00006093153\n",
      "\n",
      "R2 scores: [0.4873938  0.50692216 0.50790996 0.50369459]\n",
      "Mean R2: 0.50148012864525\n"
     ]
    }
   ],
   "source": [
    "# Defining a function to calculate the root mean squared error (RMSE)\n",
    "def rmse(y_true, y_pred):\n",
    "    return np.sqrt(mean_squared_error(y_true, y_pred))\n",
    "\n",
    "# Creating a scorer function for RMSE\n",
    "rmse_scorer = make_scorer(rmse, greater_is_better=False)\n",
    "\n",
    "# Initializing and fitting the MedianBaselineModel\n",
    "model = MedianBaselineModel()\n",
    "model.fit(X_train_scaled, y_train)\n",
    "\n",
    "# Performing K-Fold Cross-Validation to evaluate the model's performance\n",
    "kf = KFold(n_splits=4, shuffle=True, random_state=42)\n",
    "\n",
    "# Calculating RMSE using cross-validation\n",
    "cv_scores = cross_val_score(estimator=model, X=X_train_scaled, y=y_train, cv=kf, scoring=rmse_scorer)\n",
    "\n",
    "# Displaying the RMSE results from cross-validation\n",
    "print(f\"RMSE scores: {-cv_scores}\")\n",
    "print(f\"Mean RMSE: {np.mean(-cv_scores)}\")\n",
    "\n",
    "# Creating a scorer function for R2\n",
    "r2_scorer = make_scorer(r2_score)\n",
    "print()\n",
    "# Calculating R2 scores using cross-validation\n",
    "r2_scores = cross_val_score(estimator=model, X=X_train_scaled, y=y_train, cv=kf, scoring=r2_scorer)\n",
    "\n",
    "# Displaying the R2 results from cross-validation\n",
    "print(f\"R2 scores: {r2_scores}\")\n",
    "print(f\"Mean R2: {np.mean(r2_scores)}\")\n",
    "\n",
    "\n",
    "mean_rmse_baseline = np.mean(-cv_scores)\n",
    "mean_r2_baseline = np.mean(r2_scores)"
   ]
  },
  {
   "cell_type": "code",
   "execution_count": 231,
   "metadata": {},
   "outputs": [
    {
     "name": "stdout",
     "output_type": "stream",
     "text": [
      "Train RMSE: 33524.0137291194\n",
      "Train R2: 0.5655103917370652\n"
     ]
    }
   ],
   "source": [
    "model.fit(X_train_scaled, y_train)\n",
    "\n",
    "y_pred_train = model.predict(X_train_scaled)\n",
    "\n",
    "train_rmse = rmse(y_train, y_pred_train)\n",
    "train_r2 = r2_score(y_train, y_pred_train)\n",
    "\n",
    "print(f\"Train RMSE: {train_rmse}\")\n",
    "print(f\"Train R2: {train_r2}\")"
   ]
  },
  {
   "cell_type": "code",
   "execution_count": 232,
   "metadata": {},
   "outputs": [
    {
     "name": "stdout",
     "output_type": "stream",
     "text": [
      "Test RMSE: 32133.836827878826\n",
      "Test R2: 0.5794759900195158\n"
     ]
    }
   ],
   "source": [
    "model.fit(X_train_scaled, y_train)\n",
    "\n",
    "y_pred_test = model.predict(X_test_scaled)\n",
    "\n",
    "test_rmse = rmse(y_test, y_pred_test)\n",
    "test_r2 = r2_score(y_test, y_pred_test)\n",
    "\n",
    "print(f\"Test RMSE: {test_rmse}\")\n",
    "print(f\"Test R2: {test_r2}\")"
   ]
  },
  {
   "cell_type": "markdown",
   "metadata": {},
   "source": [
    "---"
   ]
  },
  {
   "cell_type": "code",
   "execution_count": 233,
   "metadata": {},
   "outputs": [
    {
     "data": {
      "image/png": "[encoded data removed]",
      "text/plain": [
       "<Figure size 1224x720 with 4 Axes>"
      ]
     },
     "metadata": {},
     "output_type": "display_data"
    }
   ],
   "source": [
    "# Función para cargar los resultados de validación cruzada y calcular la media de las métricas\n",
    "def load_cv_results(file_path, model_name):\n",
    "    try:\n",
    "        cv_results = pd.read_csv(file_path)\n",
    "        mean_test_r2 = np.mean(cv_results['mean_test_r2']) \n",
    "        mean_test_rmse = np.mean(cv_results['mean_test_rmse'])  \n",
    "        return {\"model\": model_name, \"mean_test_r2\": mean_test_r2, \"mean_test_rmse\": mean_test_rmse}\n",
    "    except Exception as e:\n",
    "        print(f\"Error loading {file_path}: {e}\")\n",
    "        return None\n",
    "\n",
    "\n",
    "# Lista de modelos\n",
    "models = ['mlr', 'lasso', 'ridge', 'rf', 'xgb', 'mlp']\n",
    "# Lista de transformaciones\n",
    "transformations = ['', 'sqrt-']\n",
    "\n",
    "results = []\n",
    "\n",
    "# Bucle para cargar y almacenar los resultados de cada modelo y transformación\n",
    "for trans in transformations:\n",
    "    for model in models:\n",
    "        model_name = f\"{trans}{model}\"\n",
    "        file_path = f\"../../output/{model_name}-cv-results.csv\"\n",
    "        \n",
    "        results.append(load_cv_results(file_path, model_name))\n",
    "        \n",
    "\n",
    "# Creación del DataFrame\n",
    "results_df = pd.DataFrame(results)\n",
    "\n",
    "sns.set_theme(style='darkgrid', palette='husl')\n",
    "\n",
    "# Creación de la gráfica con subplots\n",
    "fig, axes = plt.subplots(2, 2, figsize=(17, 10))\n",
    "fig.suptitle('CV performance comparison', fontsize=25, weight='bold')\n",
    "\n",
    "# Modelos normales (sin sqrt)\n",
    "non_sqrt_df = results_df[~results_df['model'].str.startswith('sqrt')]\n",
    "sns.barplot(data=non_sqrt_df, x='model', y='mean_test_r2', ax=axes[0, 0])\n",
    "axes[0, 0].set_title('Mean CV R2', weight='bold', fontsize=17)\n",
    "axes[0, 0].set_ylim([-0.5, 0.9])\n",
    "axes[0, 0].set_ylabel('R2', weight='bold', labelpad=10, fontsize=15)   \n",
    "\n",
    "sns.barplot(data=non_sqrt_df, x='model', y='mean_test_rmse', ax=axes[1, 0])\n",
    "axes[1, 0].set_title('Mean CV RMSE', weight='bold', fontsize=17)\n",
    "axes[1, 0].set_ylim([0, 50000])\n",
    "axes[1, 0].set_ylabel('R2', weight='bold', labelpad=10, fontsize=15)   \n",
    "\n",
    "# Modelos con transformación sqrt\n",
    "sqrt_df = results_df[results_df['model'].str.startswith('sqrt')]\n",
    "sns.barplot(data=sqrt_df, x='model', y='mean_test_r2', ax=axes[0, 1])\n",
    "axes[0, 1].set_title('Mean CV R2 (Sqrt)', weight='bold',fontsize=17)\n",
    "axes[0, 1].set_ylim([-0.5, 0.9])\n",
    "axes[0, 1].set_ylabel('RMSE', weight='bold', labelpad=10, fontsize=15)   \n",
    "\n",
    "sns.barplot(data=sqrt_df, x='model', y='mean_test_rmse', ax=axes[1, 1])\n",
    "axes[1, 1].set_title('Mean CV RMSE (Sqrt)', weight='bold',fontsize=17)\n",
    "axes[1, 1].set_ylim([0, 50000])\n",
    "axes[1, 1].set_ylabel('RMSE', weight='bold', labelpad=10, fontsize=15)  \n",
    "\n",
    "# Agregando líneas verticales para representar las métricas del modelo base\n",
    "\n",
    "axes[0, 0].axhline(mean_r2_baseline, color='black', linestyle='--', label='Baseline R2')\n",
    "axes[0, 1].axhline(mean_r2_baseline, color='black', linestyle='--', label='Baseline R2')\n",
    "\n",
    "axes[1, 0].axhline(mean_rmse_baseline, color='black', linestyle='--', label='Baseline RMSE')\n",
    "axes[1, 1].axhline(mean_rmse_baseline, color='black', linestyle='--', label='Baseline RMSE')\n",
    "\n",
    "# Rotar etiquetas para mejor visualización y retirar las etiquetas del eje x\n",
    "for ax in axes.flatten():\n",
    "    ax.set_xlabel('')  # Retira las etiquetas del eje x\n",
    "    \n",
    "    # Hacer las etiquetas del eje x en negrita\n",
    "    for label in ax.get_xticklabels():\n",
    "        label.set_weight('bold')\n",
    "    \n",
    "    # Configurar la leyenda en negrita\n",
    "    legend = ax.legend()\n",
    "    for text in legend.get_texts():\n",
    "        text.set_weight('bold')\n",
    "\n",
    "fig.subplots_adjust(hspace=0.3, wspace=0.25)  # Ajusta el espacio entre subplots\n",
    "plt.show()\n"
   ]
  },
  {
   "cell_type": "code",
   "execution_count": 234,
   "metadata": {},
   "outputs": [
    {
     "name": "stderr",
     "output_type": "stream",
     "text": [
      "C:\\Users\\fenan\\AppData\\Local\\Temp\\ipykernel_27968\\4178027601.py:4: FutureWarning: The frame.append method is deprecated and will be removed from pandas in a future version. Use pandas.concat instead.\n",
      "  results_df = results_df.append(baseline_data, ignore_index=True)\n"
     ]
    },
    {
     "data": {
      "text/html": [
       "<div>\n",
       "<style scoped>\n",
       "    .dataframe tbody tr th:only-of-type {\n",
       "        vertical-align: middle;\n",
       "    }\n",
       "\n",
       "    .dataframe tbody tr th {\n",
       "        vertical-align: top;\n",
       "    }\n",
       "\n",
       "    .dataframe thead th {\n",
       "        text-align: right;\n",
       "    }\n",
       "</style>\n",
       "<table border=\"1\" class=\"dataframe\">\n",
       "  <thead>\n",
       "    <tr style=\"text-align: right;\">\n",
       "      <th></th>\n",
       "      <th>mean_test_r2</th>\n",
       "      <th>mean_test_rmse</th>\n",
       "    </tr>\n",
       "    <tr>\n",
       "      <th>model</th>\n",
       "      <th></th>\n",
       "      <th></th>\n",
       "    </tr>\n",
       "  </thead>\n",
       "  <tbody>\n",
       "    <tr>\n",
       "      <th>sqrt-xgb</th>\n",
       "      <td>0.634</td>\n",
       "      <td>30721.288</td>\n",
       "    </tr>\n",
       "    <tr>\n",
       "      <th>xgb</th>\n",
       "      <td>0.628</td>\n",
       "      <td>30931.422</td>\n",
       "    </tr>\n",
       "    <tr>\n",
       "      <th>sqrt-ridge</th>\n",
       "      <td>0.621</td>\n",
       "      <td>31259.167</td>\n",
       "    </tr>\n",
       "    <tr>\n",
       "      <th>ridge</th>\n",
       "      <td>0.617</td>\n",
       "      <td>31437.558</td>\n",
       "    </tr>\n",
       "    <tr>\n",
       "      <th>lasso</th>\n",
       "      <td>0.616</td>\n",
       "      <td>31455.793</td>\n",
       "    </tr>\n",
       "    <tr>\n",
       "      <th>mlp</th>\n",
       "      <td>0.609</td>\n",
       "      <td>31760.477</td>\n",
       "    </tr>\n",
       "    <tr>\n",
       "      <th>sqrt-mlp</th>\n",
       "      <td>0.587</td>\n",
       "      <td>32645.553</td>\n",
       "    </tr>\n",
       "    <tr>\n",
       "      <th>rf</th>\n",
       "      <td>0.544</td>\n",
       "      <td>34098.728</td>\n",
       "    </tr>\n",
       "    <tr>\n",
       "      <th>sqrt-rf</th>\n",
       "      <td>0.530</td>\n",
       "      <td>34591.560</td>\n",
       "    </tr>\n",
       "    <tr>\n",
       "      <th>baseline</th>\n",
       "      <td>0.501</td>\n",
       "      <td>35856.000</td>\n",
       "    </tr>\n",
       "    <tr>\n",
       "      <th>sqrt-lasso</th>\n",
       "      <td>0.458</td>\n",
       "      <td>36530.732</td>\n",
       "    </tr>\n",
       "    <tr>\n",
       "      <th>mlr</th>\n",
       "      <td>-7615671758964569543769325568.000</td>\n",
       "      <td>1303353469689198080.000</td>\n",
       "    </tr>\n",
       "    <tr>\n",
       "      <th>sqrt-mlr</th>\n",
       "      <td>-7261501638781154144837657694460384274817914371430212960256.000</td>\n",
       "      <td>1039026169391496887686228988657664.000</td>\n",
       "    </tr>\n",
       "  </tbody>\n",
       "</table>\n",
       "</div>"
      ],
      "text/plain": [
       "                                                              mean_test_r2  \\\n",
       "model                                                                        \n",
       "sqrt-xgb                                                             0.634   \n",
       "xgb                                                                  0.628   \n",
       "sqrt-ridge                                                           0.621   \n",
       "ridge                                                                0.617   \n",
       "lasso                                                                0.616   \n",
       "mlp                                                                  0.609   \n",
       "sqrt-mlp                                                             0.587   \n",
       "rf                                                                   0.544   \n",
       "sqrt-rf                                                              0.530   \n",
       "baseline                                                             0.501   \n",
       "sqrt-lasso                                                           0.458   \n",
       "mlr                                      -7615671758964569543769325568.000   \n",
       "sqrt-mlr   -7261501638781154144837657694460384274817914371430212960256.000   \n",
       "\n",
       "                                   mean_test_rmse  \n",
       "model                                              \n",
       "sqrt-xgb                                30721.288  \n",
       "xgb                                     30931.422  \n",
       "sqrt-ridge                              31259.167  \n",
       "ridge                                   31437.558  \n",
       "lasso                                   31455.793  \n",
       "mlp                                     31760.477  \n",
       "sqrt-mlp                                32645.553  \n",
       "rf                                      34098.728  \n",
       "sqrt-rf                                 34591.560  \n",
       "baseline                                35856.000  \n",
       "sqrt-lasso                              36530.732  \n",
       "mlr                       1303353469689198080.000  \n",
       "sqrt-mlr   1039026169391496887686228988657664.000  "
      ]
     },
     "execution_count": 234,
     "metadata": {},
     "output_type": "execute_result"
    }
   ],
   "source": [
    "pd.set_option('display.float_format', '{:.3f}'.format)\n",
    "\n",
    "baseline_data = {\"model\": \"baseline\", \"mean_test_r2\": mean_r2_baseline, \"mean_test_rmse\": mean_rmse_baseline}\n",
    "results_df = results_df.append(baseline_data, ignore_index=True)\n",
    "results_df.set_index('model').sort_values(by='mean_test_r2', ascending=False)"
   ]
  }
 ],
 "metadata": {
  "kernelspec": {
   "display_name": "base",
   "language": "python",
   "name": "python3"
  },
  "language_info": {
   "codemirror_mode": {
    "name": "ipython",
    "version": 3
   },
   "file_extension": ".py",
   "mimetype": "text/x-python",
   "name": "python",
   "nbconvert_exporter": "python",
   "pygments_lexer": "ipython3",
   "version": "3.9.12"
  },
  "orig_nbformat": 4
 },
 "nbformat": 4,
 "nbformat_minor": 2
}
