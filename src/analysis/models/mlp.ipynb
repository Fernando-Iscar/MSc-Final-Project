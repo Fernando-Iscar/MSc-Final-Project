{
 "cells": [
  {
   "cell_type": "markdown",
   "metadata": {},
   "source": [
    "# **MLP**"
   ]
  },
  {
   "cell_type": "markdown",
   "metadata": {},
   "source": [
    "---"
   ]
  },
  {
   "cell_type": "markdown",
   "metadata": {},
   "source": [
    "## 0. Importing dependencies"
   ]
  },
  {
   "cell_type": "code",
   "execution_count": 201,
   "metadata": {},
   "outputs": [],
   "source": [
    "%matplotlib inline\n",
    "\n",
    "# needed libraries\n",
    "import numpy as np\n",
    "import pandas as pd\n",
    "import matplotlib.pyplot as plt\n",
    "import seaborn as sns\n",
    "from sklearn.model_selection import train_test_split, RandomizedSearchCV, KFold\n",
    "from sklearn.preprocessing import StandardScaler\n",
    "from sklearn.metrics import mean_squared_error, r2_score, make_scorer\n",
    "from tensorflow import keras\n",
    "from keras.callbacks import Callback\n",
    "from keras.models import Sequential\n",
    "from keras.layers import Dense, LeakyReLU, Activation, Dropout\n",
    "from tensorflow.keras.wrappers.scikit_learn import KerasRegressor\n",
    "import warnings\n",
    "\n",
    "warnings.filterwarnings('ignore')"
   ]
  },
  {
   "cell_type": "markdown",
   "metadata": {},
   "source": [
    "## 1. Loading data"
   ]
  },
  {
   "cell_type": "markdown",
   "metadata": {},
   "source": [
    "It is already splitted:"
   ]
  },
  {
   "cell_type": "code",
   "execution_count": 202,
   "metadata": {},
   "outputs": [],
   "source": [
    "train_df = pd.read_csv('../../input/clean_train_df.csv')\n",
    "test_df = pd.read_csv('../../input/clean_test_df.csv')"
   ]
  },
  {
   "cell_type": "markdown",
   "metadata": {},
   "source": [
    "## 2. Processing Train and Test sets"
   ]
  },
  {
   "cell_type": "markdown",
   "metadata": {},
   "source": [
    "Due to class imbalace, there's still few unrelevant countries which aren't in both sets, since data is already one-hot encoded, we should find those countries and drop them off."
   ]
  },
  {
   "cell_type": "code",
   "execution_count": 203,
   "metadata": {},
   "outputs": [
    {
     "name": "stdout",
     "output_type": "stream",
     "text": [
      "Columns in the train set that aren't in the test set: {'Country_Kenya', 'Country_Andorra', 'Country_Serbia', 'Country_Viet Nam', 'Country_Angola', 'Country_Paraguay', 'Country_New Zealand', 'Country_Costa Rica', 'Country_Malta', 'Country_Yemen', 'Country_Kosovo', 'Country_Estonia', 'Country_Zimbabwe', 'Country_Bosnia-Herz.', 'Country_Cyprus', 'Country_Georgia', 'Country_Venezuela', 'Country_Latvia', 'Country_Philippines', 'Ethnicity_North American / Central American', 'Country_Sri Lanka', 'Country_Jordan', 'Country_Saudi Arabia', 'Country_Uzbekistan', 'Country_Bangladesh', 'Country_El Salvador', 'Country_Croatia', 'Country_United Arab Emirates', 'Country_Botswana', 'Country_Azerbaijan', 'Country_Armenia', 'Country_Peru', 'Country_Tanzania', 'Country_Mongolia', 'Country_Lebanon', 'Country_North Macedonia', 'Country_Nomadic', 'Country_Slovakia'}\n",
      "Columns in the test set that aren't in the train set: {'Country_Qatar', 'Country_Barbados', \"Country_CÃ´te d'Ivoire\", 'Country_Guinea', 'Country_Belarus', 'Country_Senegal', 'Country_Republic of Korea', 'Country_Trinidad and Tobago'}\n",
      "(2258, 130) (553, 130)\n"
     ]
    }
   ],
   "source": [
    "# Extract unique columns (features) from the train and test sets\n",
    "train_countries = set(train_df.columns)\n",
    "test_countries = set(test_df.columns)\n",
    "\n",
    "# Find columns that are in the train set but not in the test set\n",
    "missing_in_test = train_countries - test_countries\n",
    "print(\"Columns in the train set that aren't in the test set:\", missing_in_test)\n",
    "\n",
    "missing_in_train = test_countries - train_countries\n",
    "print(\"Columns in the test set that aren't in the train set:\", missing_in_train)\n",
    "\n",
    "# Drop columns that are in 'missing_in_test' from the training set\n",
    "train_df = train_df.drop(columns=missing_in_test)\n",
    "\n",
    "# Drop columns that are in 'missing_in_train' from the test set\n",
    "test_df = test_df.drop(columns=missing_in_train)\n",
    "\n",
    "print(train_df.shape, test_df.shape)"
   ]
  },
  {
   "cell_type": "markdown",
   "metadata": {},
   "source": [
    "___"
   ]
  },
  {
   "cell_type": "markdown",
   "metadata": {},
   "source": [
    "### 2.1. Feature selection:"
   ]
  },
  {
   "cell_type": "markdown",
   "metadata": {},
   "source": [
    "These cells may be needed to edit the amount of features the model will count with:"
   ]
  },
  {
   "cell_type": "code",
   "execution_count": 204,
   "metadata": {},
   "outputs": [
    {
     "data": {
      "text/plain": [
       "'# Assuming you have a DataFrame called \\'df\\'\\nbaseline_cols = [\"Country\", \"Job_type\", \"Education\", \"Company_size\", \"Age\", \"Work_experience\", \"Annual_salary\"]\\n\\n# Add Job_title columns to the baseline_cols list\\nJob_title = [\\'Developer, game or graphics\\', \\'Blockchain\\', \\'Developer, QA or test\\', \\'Developer, back-end\\', \\'Student\\', \\n             \\'Project manager\\', \\'Data or business analyst\\', \\'Cloud infrastructure engineer\\', \\'Engineer, data\\', \\n             \\'Educator\\', \\'Developer, desktop or enterprise applications\\', \\'Developer, front-end\\', \\'Designer\\', \\n             \\'Security professional\\', \\'Developer, embedded applications or devices\\', \\'Product manager\\', \\'Developer, mobile\\', \\n             \\'Developer, full-stack\\', \\'Scientist\\', \\'Database administrator\\', \\'Academic researcher\\', \\'Senior Executive (C-Suite, VP, etc.)\\', \\n             \\'Marketing or sales professional\\', \\'System administrator\\', \\'Data scientist or machine learning specialist\\', \\n             \\'Engineer, site reliability\\', \\'DevOps specialist\\', \\'Engineering manager\\']\\n\\nbaseline_cols.extend(Job_title)\\n\\n# Iterate through the columns and keep only those containing the specified keywords\\ncolumns_to_keep_train = [col for col in train_df.columns if any(keyword in col for keyword in baseline_cols)]\\ncolumns_to_keep_test = [col for col in test_df.columns if any(keyword in col for keyword in baseline_cols)]\\n\\n# Filter the DataFrame, keeping only the selected columns\\nbaseline_train_df = train_df[columns_to_keep_train]\\nbaseline_test_df = test_df[columns_to_keep_test]\\n\\nbaseline_train_df.head()'"
      ]
     },
     "execution_count": 204,
     "metadata": {},
     "output_type": "execute_result"
    }
   ],
   "source": [
    "'''# Assuming you have a DataFrame called 'df'\n",
    "baseline_cols = [\"Country\", \"Job_type\", \"Education\", \"Company_size\", \"Age\", \"Work_experience\", \"Annual_salary\"]\n",
    "\n",
    "# Add Job_title columns to the baseline_cols list\n",
    "Job_title = ['Developer, game or graphics', 'Blockchain', 'Developer, QA or test', 'Developer, back-end', 'Student', \n",
    "             'Project manager', 'Data or business analyst', 'Cloud infrastructure engineer', 'Engineer, data', \n",
    "             'Educator', 'Developer, desktop or enterprise applications', 'Developer, front-end', 'Designer', \n",
    "             'Security professional', 'Developer, embedded applications or devices', 'Product manager', 'Developer, mobile', \n",
    "             'Developer, full-stack', 'Scientist', 'Database administrator', 'Academic researcher', 'Senior Executive (C-Suite, VP, etc.)', \n",
    "             'Marketing or sales professional', 'System administrator', 'Data scientist or machine learning specialist', \n",
    "             'Engineer, site reliability', 'DevOps specialist', 'Engineering manager']\n",
    "\n",
    "baseline_cols.extend(Job_title)\n",
    "\n",
    "# Iterate through the columns and keep only those containing the specified keywords\n",
    "columns_to_keep_train = [col for col in train_df.columns if any(keyword in col for keyword in baseline_cols)]\n",
    "columns_to_keep_test = [col for col in test_df.columns if any(keyword in col for keyword in baseline_cols)]\n",
    "\n",
    "# Filter the DataFrame, keeping only the selected columns\n",
    "baseline_train_df = train_df[columns_to_keep_train]\n",
    "baseline_test_df = test_df[columns_to_keep_test]\n",
    "\n",
    "baseline_train_df.head()'''"
   ]
  },
  {
   "cell_type": "code",
   "execution_count": 205,
   "metadata": {},
   "outputs": [
    {
     "data": {
      "text/plain": [
       "\"X_train = baseline_train_df.drop('Annual_salary', axis=1)\\nX_test = baseline_test_df.drop('Annual_salary', axis=1)\\ny_train = baseline_train_df['Annual_salary']\\ny_test = baseline_test_df['Annual_salary']\\n\\nprint(X_train.shape)\\nprint(y_train.shape)\\nprint()\\nprint(X_test.shape)\\nprint(y_test.shape)\""
      ]
     },
     "execution_count": 205,
     "metadata": {},
     "output_type": "execute_result"
    }
   ],
   "source": [
    "'''X_train = baseline_train_df.drop('Annual_salary', axis=1)\n",
    "X_test = baseline_test_df.drop('Annual_salary', axis=1)\n",
    "y_train = baseline_train_df['Annual_salary']\n",
    "y_test = baseline_test_df['Annual_salary']\n",
    "\n",
    "print(X_train.shape)\n",
    "print(y_train.shape)\n",
    "print()\n",
    "print(X_test.shape)\n",
    "print(y_test.shape)'''"
   ]
  },
  {
   "cell_type": "markdown",
   "metadata": {},
   "source": [
    "---"
   ]
  },
  {
   "cell_type": "markdown",
   "metadata": {},
   "source": [
    "### 2.2. Identifying the target"
   ]
  },
  {
   "cell_type": "code",
   "execution_count": 206,
   "metadata": {},
   "outputs": [],
   "source": [
    "X_train = train_df.drop('Annual_salary', axis=1)\n",
    "X_test = test_df.drop('Annual_salary', axis=1)\n",
    "y_train = train_df['Annual_salary']\n",
    "y_test = test_df['Annual_salary']\n",
    "#y_train = y_train.reset_index(drop=True)"
   ]
  },
  {
   "cell_type": "markdown",
   "metadata": {},
   "source": [
    "### 2.3. Standardazing data"
   ]
  },
  {
   "cell_type": "markdown",
   "metadata": {},
   "source": [
    "We will standardize the data to improve model's interpretability"
   ]
  },
  {
   "cell_type": "code",
   "execution_count": 207,
   "metadata": {},
   "outputs": [],
   "source": [
    "scaler = StandardScaler()\n",
    "X_train_scaled = scaler.fit_transform(X_train)\n",
    "X_test_scaled = scaler.transform(X_test)\n",
    "\n",
    "# This will respect col names when plotting importnce\n",
    "X_train_scaled = pd.DataFrame(X_train_scaled, columns=X_train.columns)\n",
    "X_test_scaled = pd.DataFrame(X_test_scaled, columns=X_test.columns)"
   ]
  },
  {
   "cell_type": "markdown",
   "metadata": {},
   "source": [
    "## 3. Modeling"
   ]
  },
  {
   "cell_type": "markdown",
   "metadata": {},
   "source": [
    "### 3.1. Hyperparameter tunning (K-fold CV)"
   ]
  },
  {
   "cell_type": "markdown",
   "metadata": {},
   "source": [
    "Without L1 reg:"
   ]
  },
  {
   "cell_type": "code",
   "execution_count": 208,
   "metadata": {},
   "outputs": [],
   "source": [
    "def create_model(optimizer='adam', init='uniform', batch_size=32, \n",
    "                 activation='relu', dropout_rate=0.0, extra_layer=True,\n",
    "                 neurons=64, loss='huber_loss', epochs=25):\n",
    "    model = Sequential()\n",
    "    model.add(Dense(256, input_dim=X_train_scaled.shape[1], kernel_initializer=init))\n",
    "    \n",
    "    if activation == 'leakyrelu':\n",
    "        model.add(LeakyReLU(alpha=0.1))\n",
    "    else:\n",
    "        model.add(Activation(activation))\n",
    "        \n",
    "    model.add(Dropout(dropout_rate))\n",
    "    \n",
    "    model.add(Dense(neurons, kernel_initializer=init))  \n",
    "    if activation == 'leakyrelu':\n",
    "        model.add(LeakyReLU(alpha=0.1))\n",
    "    else:\n",
    "        model.add(Activation(activation))\n",
    "        \n",
    "    model.add(Dropout(dropout_rate))\n",
    "    \n",
    "    if extra_layer == True:\n",
    "        model.add(Dense(neurons, kernel_initializer=init))  \n",
    "        if activation == 'leakyrelu':\n",
    "            model.add(LeakyReLU(alpha=0.1))\n",
    "        else:\n",
    "            model.add(Activation(activation))\n",
    "            \n",
    "        model.add(Dropout(dropout_rate))\n",
    "    \n",
    "    model.add(Dense(1))\n",
    "    model.add(Activation('linear'))\n",
    "    model.compile(loss=loss, optimizer=optimizer)\n",
    "    \n",
    "    return model\n"
   ]
  },
  {
   "cell_type": "markdown",
   "metadata": {},
   "source": [
    "With L1 reg:"
   ]
  },
  {
   "cell_type": "code",
   "execution_count": 209,
   "metadata": {},
   "outputs": [
    {
     "data": {
      "text/plain": [
       "\"from keras.regularizers import l1\\n\\ndef create_model(optimizer='adam', init='uniform', batch_size=32, \\n                 activation='relu', dropout_rate=0.0, extra_layer=True,\\n                 neurons=64, loss='huber_loss', epochs=25, l1_reg=0.01):\\n    model = Sequential()\\n    model.add(Dense(256, input_dim=X_train_scaled.shape[1], kernel_initializer=init, \\n                    activity_regularizer=l1(l1_reg)))  # Adding L1 regularization here\\n    \\n    if activation == 'leakyrelu':\\n        model.add(LeakyReLU(alpha=0.1))\\n    else:\\n        model.add(Activation(activation))\\n        \\n    model.add(Dropout(dropout_rate))\\n    \\n    model.add(Dense(neurons, kernel_initializer=init, \\n                    activity_regularizer=l1(l1_reg)))  # Adding L1 regularization here\\n    if activation == 'leakyrelu':\\n        model.add(LeakyReLU(alpha=0.1))\\n    else:\\n        model.add(Activation(activation))\\n        \\n    model.add(Dropout(dropout_rate))\\n    \\n    if extra_layer == True:\\n        model.add(Dense(neurons, kernel_initializer=init, \\n                        activity_regularizer=l1(l1_reg)))  # Adding L1 regularization here\\n        if activation == 'leakyrelu':\\n            model.add(LeakyReLU(alpha=0.1))\\n        else:\\n            model.add(Activation(activation))\\n            \\n        model.add(Dropout(dropout_rate))\\n    \\n    model.add(Dense(1))  \\n    model.compile(loss=loss, optimizer=optimizer)\\n    \\n    return model\""
      ]
     },
     "execution_count": 209,
     "metadata": {},
     "output_type": "execute_result"
    }
   ],
   "source": [
    "'''from keras.regularizers import l1\n",
    "\n",
    "def create_model(optimizer='adam', init='uniform', batch_size=32, \n",
    "                 activation='relu', dropout_rate=0.0, extra_layer=True,\n",
    "                 neurons=64, loss='huber_loss', epochs=25, l1_reg=0.01):\n",
    "    model = Sequential()\n",
    "    model.add(Dense(256, input_dim=X_train_scaled.shape[1], kernel_initializer=init, \n",
    "                    activity_regularizer=l1(l1_reg)))  # Adding L1 regularization here\n",
    "    \n",
    "    if activation == 'leakyrelu':\n",
    "        model.add(LeakyReLU(alpha=0.1))\n",
    "    else:\n",
    "        model.add(Activation(activation))\n",
    "        \n",
    "    model.add(Dropout(dropout_rate))\n",
    "    \n",
    "    model.add(Dense(neurons, kernel_initializer=init, \n",
    "                    activity_regularizer=l1(l1_reg)))  # Adding L1 regularization here\n",
    "    if activation == 'leakyrelu':\n",
    "        model.add(LeakyReLU(alpha=0.1))\n",
    "    else:\n",
    "        model.add(Activation(activation))\n",
    "        \n",
    "    model.add(Dropout(dropout_rate))\n",
    "    \n",
    "    if extra_layer == True:\n",
    "        model.add(Dense(neurons, kernel_initializer=init, \n",
    "                        activity_regularizer=l1(l1_reg)))  # Adding L1 regularization here\n",
    "        if activation == 'leakyrelu':\n",
    "            model.add(LeakyReLU(alpha=0.1))\n",
    "        else:\n",
    "            model.add(Activation(activation))\n",
    "            \n",
    "        model.add(Dropout(dropout_rate))\n",
    "    \n",
    "    model.add(Dense(1))  \n",
    "    model.compile(loss=loss, optimizer=optimizer)\n",
    "    \n",
    "    return model'''\n",
    "\n"
   ]
  },
  {
   "cell_type": "code",
   "execution_count": 210,
   "metadata": {},
   "outputs": [
    {
     "name": "stdout",
     "output_type": "stream",
     "text": [
      "Fitting 4 folds for each of 1 candidates, totalling 4 fits\n"
     ]
    },
    {
     "name": "stdout",
     "output_type": "stream",
     "text": [
      "Best parameters found: {'optimizer': 'Adam', 'neurons': 256, 'loss': 'huber_loss', 'init': 'he_uniform', 'extra_layer': True, 'epochs': 20, 'dropout_rate': 0.1, 'batch_size': 32, 'activation': 'leakyrelu'}\n"
     ]
    }
   ],
   "source": [
    "model = KerasRegressor(build_fn=create_model, verbose=0)\n",
    "\n",
    "kf = KFold(n_splits=4, shuffle=True, random_state=42)\n",
    "\n",
    "parameters = {\n",
    "    'epochs': [20], # tried with 25\n",
    "    'batch_size': [32], # tried with 16 nd 64\n",
    "    'optimizer': ['Adam'], # tried with RMSProp, SDG, Nadam\n",
    "    'activation': ['leakyrelu'], # tired with elu, relu\n",
    "    'init': ['he_uniform'], #'glorot_uniform', 'glorot_normal'],\n",
    "    'dropout_rate': [0.1], # tried with 0.3, 0.2\n",
    "    'neurons': [256], # tried with 128\n",
    "    'loss':['huber_loss'], # tried with mse\n",
    "    'extra_layer': [True] # Tried with False\n",
    "    #, 'l1_reg': [0.001, 0.01]\n",
    "}\n",
    "\n",
    "scorer = {'r2': make_scorer(r2_score, greater_is_better=True), \n",
    "          'rmse': make_scorer(mean_squared_error, squared=False, greater_is_better=False)}\n",
    "\n",
    "clf = RandomizedSearchCV(model, parameters, refit='rmse',\n",
    "                   cv=kf, scoring=scorer, return_train_score=True, n_iter=5,\n",
    "                   n_jobs=-1, random_state=42, verbose=2)\n",
    "\n",
    "clf .fit(X_train_scaled, y_train)\n",
    "\n",
    "best_params = clf.best_params_\n",
    "print(f\"Best parameters found: {best_params}\")"
   ]
  },
  {
   "cell_type": "markdown",
   "metadata": {},
   "source": [
    "#### 3.1.1. CV results"
   ]
  },
  {
   "cell_type": "markdown",
   "metadata": {},
   "source": [
    "Let's look at results per parameter combination"
   ]
  },
  {
   "cell_type": "code",
   "execution_count": 211,
   "metadata": {},
   "outputs": [
    {
     "data": {
      "text/html": [
       "<div>\n",
       "<style scoped>\n",
       "    .dataframe tbody tr th:only-of-type {\n",
       "        vertical-align: middle;\n",
       "    }\n",
       "\n",
       "    .dataframe tbody tr th {\n",
       "        vertical-align: top;\n",
       "    }\n",
       "\n",
       "    .dataframe thead th {\n",
       "        text-align: right;\n",
       "    }\n",
       "</style>\n",
       "<table border=\"1\" class=\"dataframe\">\n",
       "  <thead>\n",
       "    <tr style=\"text-align: right;\">\n",
       "      <th></th>\n",
       "      <th>mean_train_r2</th>\n",
       "      <th>mean_test_r2</th>\n",
       "      <th>mean_train_rmse</th>\n",
       "      <th>mean_test_rmse</th>\n",
       "    </tr>\n",
       "  </thead>\n",
       "  <tbody>\n",
       "    <tr>\n",
       "      <th>0</th>\n",
       "      <td>0.702706</td>\n",
       "      <td>0.609095</td>\n",
       "      <td>27727.807771</td>\n",
       "      <td>31760.476838</td>\n",
       "    </tr>\n",
       "  </tbody>\n",
       "</table>\n",
       "</div>"
      ],
      "text/plain": [
       "   mean_train_r2  mean_test_r2  mean_train_rmse  mean_test_rmse\n",
       "0       0.702706      0.609095     27727.807771    31760.476838"
      ]
     },
     "execution_count": 211,
     "metadata": {},
     "output_type": "execute_result"
    }
   ],
   "source": [
    "pd.set_option('display.max_columns', None)\n",
    "\n",
    "df_cv_results = pd.DataFrame(clf.cv_results_)\n",
    "\n",
    "df_cv_results['mean_train_rmse'] = -1 * df_cv_results['mean_train_rmse']\n",
    "df_cv_results['mean_test_rmse'] = -1 * df_cv_results['mean_test_rmse']\n",
    "\n",
    "df_cv_results[['mean_train_r2', 'mean_test_r2' ,'mean_train_rmse', 'mean_test_rmse']]"
   ]
  },
  {
   "cell_type": "markdown",
   "metadata": {},
   "source": [
    "Now, the average of folds:"
   ]
  },
  {
   "cell_type": "code",
   "execution_count": 212,
   "metadata": {},
   "outputs": [
    {
     "name": "stdout",
     "output_type": "stream",
     "text": [
      "Mean CV Test R2: 0.609095356528624\n",
      "Mean CV Test RMSE: 31760.476837724993\n"
     ]
    }
   ],
   "source": [
    "mean_test_r2 = np.mean(df_cv_results['mean_test_r2']) \n",
    "mean_test_rmse = np.mean(df_cv_results['mean_test_rmse'])  \n",
    "\n",
    "print(f\"Mean CV Test R2: {mean_test_r2}\")\n",
    "print(f\"Mean CV Test RMSE: {mean_test_rmse}\")"
   ]
  },
  {
   "cell_type": "code",
   "execution_count": null,
   "metadata": {},
   "outputs": [],
   "source": [
    "results_df = pd.DataFrame(columns=['train_r2', 'test_r2', 'train_rmse', 'test_rmse'])\n",
    "\n",
    "num_splits = kf.get_n_splits()  \n",
    "\n",
    "for i in range(num_splits):\n",
    "    train_r2_key = f\"split{i}_train_r2\"\n",
    "    test_r2_key = f\"split{i}_test_r2\"\n",
    "    train_rmse_key = f\"split{i}_train_rmse\"\n",
    "    test_rmse_key = f\"split{i}_test_rmse\"\n",
    "    \n",
    "    for j in range(len(df_cv_results)):\n",
    "        fold_results = {\n",
    "            'train_r2': df_cv_results.loc[j, train_r2_key],\n",
    "            'test_r2': df_cv_results.loc[j, test_r2_key],\n",
    "            'train_rmse': -df_cv_results.loc[j, train_rmse_key],  \n",
    "            'test_rmse': -df_cv_results.loc[j, test_rmse_key]    \n",
    "        }\n",
    "        results_df = results_df.append(fold_results, ignore_index=True)\n",
    "\n",
    "results_df.index += 1\n",
    "results_df.index.name = 'Fold'\n",
    "results_df"
   ]
  },
  {
   "cell_type": "code",
   "execution_count": null,
   "metadata": {},
   "outputs": [],
   "source": [
    "fold_num = 1\n",
    "plt.figure(figsize=(12, 8))\n",
    "for train_index, test_index in kf.split(X_train_scaled):\n",
    "    \n",
    "    # Extrae los datos para este fold específico\n",
    "    X_fold_test = X_train_scaled.iloc[test_index]\n",
    "    y_fold_true = y_train.iloc[test_index]\n",
    "    \n",
    "    # Realiza las predicciones para este fold\n",
    "    y_fold_pred = clf.predict(X_fold_test)\n",
    "\n",
    "    # Crear un subplot para cada fold\n",
    "    plt.subplot(2, 2, fold_num)\n",
    "    sns.kdeplot(y_fold_pred, color='blue', label='Predicted Values')\n",
    "    sns.kdeplot(y_fold_true, color='red', label='True Values')\n",
    "    plt.title(f'Fold {fold_num} Predicted vs True Distribution')\n",
    "    plt.legend()\n",
    "\n",
    "    fold_num += 1\n",
    "\n",
    "plt.title('MLP predicted vs truth among CV folds', weight='bold', fontsize=15, pad=10)\n",
    "plt.tight_layout()\n",
    "plt.show()"
   ]
  },
  {
   "cell_type": "markdown",
   "metadata": {},
   "source": [
    "### 3.2. Train and Test sets predictions"
   ]
  },
  {
   "cell_type": "markdown",
   "metadata": {},
   "source": [
    "First, let's update model with the best parameters found in CV:"
   ]
  },
  {
   "cell_type": "markdown",
   "metadata": {},
   "source": [
    "Now, we will define our metrics for train and test sets:"
   ]
  },
  {
   "cell_type": "code",
   "execution_count": 213,
   "metadata": {},
   "outputs": [],
   "source": [
    "def adjusted_r2(r2, n, p):\n",
    "    \"\"\"Calculate adjusted R^2 given R^2, number of observations (n) and number of predictors (p)\"\"\"\n",
    "    return 1 - (1 - r2) * (n - 1) / (n - p - 1)\n",
    "    \n",
    "    \n",
    "def metrics(model, X, y):\n",
    "    \"\"\"\n",
    "    Calculate average metrics (R^2, RMSE, Adjusted R^2) and predictions from cross-validation results\n",
    "    and return them\n",
    "    \"\"\"\n",
    "    y_pred = model.predict(X)\n",
    "    mse = mean_squared_error(y, y_pred)\n",
    "    rmse = np.sqrt(mse)\n",
    "    r2 = r2_score(y, y_pred)\n",
    "    adj_r2 = adjusted_r2(r2, X.shape[0], X.shape[1])\n",
    "    \n",
    "    return {'R^2': r2, 'RMSE': rmse, 'Adjusted R^2': adj_r2, 'Predictions': y_pred}"
   ]
  },
  {
   "cell_type": "markdown",
   "metadata": {},
   "source": [
    "#### 3.2.1. Train set results"
   ]
  },
  {
   "cell_type": "code",
   "execution_count": 214,
   "metadata": {},
   "outputs": [
    {
     "name": "stdout",
     "output_type": "stream",
     "text": [
      "\n",
      "Train set metrics:\n",
      "R^2: 0.7030143960847155\n",
      "RMSE: 27716.22076004939\n",
      "Adjusted R^2: 0.6850110394563923\n"
     ]
    }
   ],
   "source": [
    "train_results = metrics(clf.best_estimator_, X_train_scaled, y_train)\n",
    "\n",
    "print(\"\\nTrain set metrics:\")\n",
    "for key in list(train_results.keys())[:3]:\n",
    "    print(f\"{key}: {train_results[key]}\")\n",
    "\n",
    "y_train_pred = clf.best_estimator_.predict(X_train_scaled)\n",
    "\n",
    "plt.figure(figsize=(8, 4))\n",
    "\n",
    "sns.kdeplot(y_train_pred, color='blue', label='Predicted Values')\n",
    "sns.kdeplot(y_train, color='red', label='True Values')\n",
    "plt.title('Predicted vs True Distribution for Training Set')\n",
    "plt.legend()\n",
    "\n",
    "plt.tight_layout()\n",
    "plt.show()"
   ]
  },
  {
   "cell_type": "code",
   "execution_count": 215,
   "metadata": {},
   "outputs": [
    {
     "name": "stdout",
     "output_type": "stream",
     "text": [
      "\n",
      "Test set metrics:\n",
      "R^2: 0.6243177937754876\n",
      "RMSE: 30372.28723170545\n",
      "Adjusted R^2: 0.5097480429410619\n"
     ]
    }
   ],
   "source": [
    "test_results = metrics(clf.best_estimator_, X_test_scaled, y_test)\n",
    "\n",
    "print(\"\\nTest set metrics:\")\n",
    "for key in list(test_results.keys())[:3]:\n",
    "    print(f\"{key}: {test_results[key]}\")\n",
    "\n",
    "y_test_pred = clf.best_estimator_.predict(X_test_scaled)\n",
    "\n",
    "plt.figure(figsize=(8, 4))\n",
    "\n",
    "# Plotting\n",
    "sns.kdeplot(y_test_pred, color='blue', label='Predicted Values')\n",
    "sns.kdeplot(y_test, color='red', label='True Values')\n",
    "plt.title('Predicted vs True Distribution for Testing Set')\n",
    "plt.legend()\n",
    "\n",
    "plt.tight_layout()\n",
    "plt.show()"
   ]
  },
  {
   "cell_type": "code",
   "execution_count": 216,
   "metadata": {},
   "outputs": [],
   "source": [
    "y_pred_train = train_results['Predictions']\n",
    "y_pred_test = test_results['Predictions']"
   ]
  },
  {
   "cell_type": "markdown",
   "metadata": {},
   "source": [
    "## 4. Plotting results"
   ]
  },
  {
   "cell_type": "markdown",
   "metadata": {},
   "source": [
    "### 4.1. Residuals Plot"
   ]
  },
  {
   "cell_type": "code",
   "execution_count": 217,
   "metadata": {},
   "outputs": [
    {
     "data": {
      "image/png": "[encoded data removed]",
      "text/plain": [
       "<Figure size 720x360 with 1 Axes>"
      ]
     },
     "metadata": {},
     "output_type": "display_data"
    }
   ],
   "source": [
    "sns.set_theme(style='darkgrid')\n",
    "\n",
    "residuals = y_test - y_pred_test\n",
    "\n",
    "plt.figure(figsize=(10,5))\n",
    "\n",
    "sns.residplot(x=y_test, y=residuals, lowess=True, line_kws={'color': 'red', 'lw': 2.5})\n",
    "\n",
    "plt.title('MLP Residuals', weight='bold', fontsize=20, pad=10)\n",
    "plt.xlabel('True Values', weight='bold', fontsize=15, labelpad= 15)\n",
    "plt.ylabel('Residuals', weight='bold', fontsize=15, labelpad= 15)\n",
    "plt.axhline(y=0, color='black', linestyle='--')\n",
    "plt.savefig(\"../../paper/models/mlp-test-residuals.pdf\");"
   ]
  },
  {
   "cell_type": "markdown",
   "metadata": {},
   "source": [
    "### 4.2. Test set performance"
   ]
  },
  {
   "cell_type": "code",
   "execution_count": 218,
   "metadata": {},
   "outputs": [
    {
     "data": {
      "text/plain": [
       "<Figure size 720x432 with 0 Axes>"
      ]
     },
     "metadata": {},
     "output_type": "display_data"
    },
    {
     "data": {
      "image/png": "[encoded data removed]",
      "text/plain": [
       "<Figure size 504x504 with 3 Axes>"
      ]
     },
     "metadata": {},
     "output_type": "display_data"
    }
   ],
   "source": [
    "sns.set_theme(style='darkgrid')\n",
    "\n",
    "plt.figure(figsize=(10, 6))\n",
    "\n",
    "sns.jointplot(x=y_test, y=y_pred_test, kind='reg', \n",
    "              joint_kws={'color':'grey', 'line_kws':{'color':'purple'}},\n",
    "              marginal_kws=dict(bins=30, fill=True, color='m'), height=7)\n",
    "\n",
    "plt.suptitle('MLP Performance - Test set', weight='bold', y=1.03, fontsize=20)\n",
    "plt.xlabel('True Values', weight='bold', labelpad=15, fontsize=15)\n",
    "plt.ylabel('Predictions', weight='bold', labelpad=15, fontsize=15)\n",
    "\n",
    "plt.savefig(\"../../paper/models/mlp-test-predictions.pdf\");"
   ]
  },
  {
   "cell_type": "markdown",
   "metadata": {},
   "source": [
    "### 4.3. Train vs Test loss"
   ]
  },
  {
   "cell_type": "code",
   "execution_count": 219,
   "metadata": {},
   "outputs": [
    {
     "name": "stdout",
     "output_type": "stream",
     "text": [
      "Epoch 1/20\n",
      "71/71 [==============================] - 3s 14ms/step - loss: 77445.3828 - val_loss: 67948.6406\n",
      "Epoch 2/20\n",
      "71/71 [==============================] - 1s 10ms/step - loss: 49799.5938 - val_loss: 30825.1426\n",
      "Epoch 3/20\n",
      "71/71 [==============================] - 1s 12ms/step - loss: 28272.7559 - val_loss: 25112.3047\n",
      "Epoch 4/20\n",
      "71/71 [==============================] - 1s 13ms/step - loss: 24438.8359 - val_loss: 23327.8184\n",
      "Epoch 5/20\n",
      "71/71 [==============================] - 1s 14ms/step - loss: 22826.1797 - val_loss: 22610.7520\n",
      "Epoch 6/20\n",
      "71/71 [==============================] - 1s 11ms/step - loss: 21914.8965 - val_loss: 22098.5840\n",
      "Epoch 7/20\n",
      "71/71 [==============================] - 1s 12ms/step - loss: 21435.2031 - val_loss: 21834.3613\n",
      "Epoch 8/20\n",
      "71/71 [==============================] - 1s 11ms/step - loss: 21124.5039 - val_loss: 22034.3125\n",
      "Epoch 9/20\n",
      "71/71 [==============================] - 1s 11ms/step - loss: 20809.0117 - val_loss: 21849.1914\n",
      "Epoch 10/20\n",
      "71/71 [==============================] - 1s 14ms/step - loss: 20690.2188 - val_loss: 21893.1113\n",
      "Epoch 11/20\n",
      "71/71 [==============================] - 1s 13ms/step - loss: 20412.4473 - val_loss: 21973.1621\n",
      "Epoch 12/20\n",
      "71/71 [==============================] - 1s 12ms/step - loss: 20244.4473 - val_loss: 22070.4844\n",
      "Epoch 13/20\n",
      "71/71 [==============================] - 1s 13ms/step - loss: 19944.5039 - val_loss: 22009.0156\n",
      "Epoch 14/20\n",
      "71/71 [==============================] - 1s 11ms/step - loss: 19794.3906 - val_loss: 21982.0234\n",
      "Epoch 15/20\n",
      "71/71 [==============================] - 1s 14ms/step - loss: 19578.5938 - val_loss: 22029.7598\n",
      "Epoch 16/20\n",
      "71/71 [==============================] - 1s 14ms/step - loss: 19407.1875 - val_loss: 21929.6680\n",
      "Epoch 17/20\n",
      "71/71 [==============================] - 1s 16ms/step - loss: 19372.6543 - val_loss: 22045.8340\n",
      "Epoch 18/20\n",
      "71/71 [==============================] - 1s 18ms/step - loss: 19054.3164 - val_loss: 21992.5527\n",
      "Epoch 19/20\n",
      "71/71 [==============================] - 1s 17ms/step - loss: 19263.2285 - val_loss: 22142.8594\n",
      "Epoch 20/20\n",
      "71/71 [==============================] - 1s 15ms/step - loss: 18836.2969 - val_loss: 22102.9805\n"
     ]
    },
    {
     "data": {
      "image/png": "[encoded data removed]",
      "text/plain": [
       "<Figure size 720x432 with 1 Axes>"
      ]
     },
     "metadata": {},
     "output_type": "display_data"
    }
   ],
   "source": [
    "best_model = create_model(**best_params)\n",
    "\n",
    "history = best_model.fit(\n",
    "    X_train_scaled, y_train,\n",
    "    validation_data=(X_test_scaled, y_test), \n",
    "    epochs=best_params['epochs'],\n",
    "    batch_size=best_params['batch_size']\n",
    ")\n",
    "\n",
    "num_epochs = best_params['epochs']\n",
    "\n",
    "sns.set()\n",
    "plt.figure(figsize=(10, 6))\n",
    "\n",
    "plt.plot(history.history['loss'], label='Training Loss')\n",
    "plt.plot(history.history['val_loss'], label='Validation Loss')\n",
    "plt.title('MLP Model Loss', fontsize=20, weight='bold', pad=10)\n",
    "plt.xlabel('Epochs', fontsize=15, weight='bold', labelpad=10)\n",
    "plt.ylabel('Loss', fontsize=15, weight='bold', labelpad=10)\n",
    "plt.xticks(np.arange(0, num_epochs, step=1))\n",
    "\n",
    "plt.legend()\n",
    "plt.savefig(\"../../paper/models/mlp-train-vs-test-loss.pdf\")\n",
    "plt.show()"
   ]
  },
  {
   "cell_type": "markdown",
   "metadata": {},
   "source": [
    "## 6. Saving results"
   ]
  },
  {
   "cell_type": "markdown",
   "metadata": {},
   "source": [
    "Saving CV results"
   ]
  },
  {
   "cell_type": "code",
   "execution_count": 220,
   "metadata": {},
   "outputs": [],
   "source": [
    "df_cv_results.to_csv(\"../../output/mlp-cv-results.csv\")"
   ]
  },
  {
   "cell_type": "markdown",
   "metadata": {},
   "source": [
    "Saving train and test sets predictions"
   ]
  },
  {
   "cell_type": "code",
   "execution_count": 221,
   "metadata": {},
   "outputs": [],
   "source": [
    "np.savetxt(\"../../output/mlp-train-predictions.csv\", y_pred_train, delimiter=\",\")\n",
    "\n",
    "np.savetxt(\"../../output/mlp-test-predictions.csv\", y_pred_test, delimiter=\",\")"
   ]
  },
  {
   "cell_type": "code",
   "execution_count": 222,
   "metadata": {},
   "outputs": [
    {
     "data": {
      "text/html": [
       "<div>\n",
       "<style scoped>\n",
       "    .dataframe tbody tr th:only-of-type {\n",
       "        vertical-align: middle;\n",
       "    }\n",
       "\n",
       "    .dataframe tbody tr th {\n",
       "        vertical-align: top;\n",
       "    }\n",
       "\n",
       "    .dataframe thead th {\n",
       "        text-align: right;\n",
       "    }\n",
       "</style>\n",
       "<table border=\"1\" class=\"dataframe\">\n",
       "  <thead>\n",
       "    <tr style=\"text-align: right;\">\n",
       "      <th></th>\n",
       "      <th>params</th>\n",
       "      <th>mean_train_r2</th>\n",
       "      <th>mean_test_r2</th>\n",
       "      <th>mean_train_rmse</th>\n",
       "      <th>mean_test_rmse</th>\n",
       "    </tr>\n",
       "  </thead>\n",
       "  <tbody>\n",
       "    <tr>\n",
       "      <th>0</th>\n",
       "      <td>{'optimizer': 'Adam', 'neurons': 256, 'loss': 'huber_loss', 'init': 'he_uniform', 'extra_layer': True, 'epochs': 20, 'dropout_rate': 0.1, 'batch_size': 32, 'activation': 'leakyrelu'}</td>\n",
       "      <td>0.702706</td>\n",
       "      <td>0.609095</td>\n",
       "      <td>27727.807771</td>\n",
       "      <td>31760.476838</td>\n",
       "    </tr>\n",
       "  </tbody>\n",
       "</table>\n",
       "</div>"
      ],
      "text/plain": [
       "                                                                                                                                                                                   params  \\\n",
       "0  {'optimizer': 'Adam', 'neurons': 256, 'loss': 'huber_loss', 'init': 'he_uniform', 'extra_layer': True, 'epochs': 20, 'dropout_rate': 0.1, 'batch_size': 32, 'activation': 'leakyrelu'}   \n",
       "\n",
       "   mean_train_r2  mean_test_r2  mean_train_rmse  mean_test_rmse  \n",
       "0       0.702706      0.609095     27727.807771    31760.476838  "
      ]
     },
     "execution_count": 222,
     "metadata": {},
     "output_type": "execute_result"
    }
   ],
   "source": [
    "pd.set_option('display.max_colwidth', None)\n",
    "\n",
    "\n",
    "df_cv_results[['params', 'mean_train_r2', 'mean_test_r2', 'mean_train_rmse', 'mean_test_rmse']]"
   ]
  }
 ],
 "metadata": {
  "kernelspec": {
   "display_name": "base",
   "language": "python",
   "name": "python3"
  },
  "language_info": {
   "codemirror_mode": {
    "name": "ipython",
    "version": 3
   },
   "file_extension": ".py",
   "mimetype": "text/x-python",
   "name": "python",
   "nbconvert_exporter": "python",
   "pygments_lexer": "ipython3",
   "version": "3.9.12"
  }
 },
 "nbformat": 4,
 "nbformat_minor": 2
}
