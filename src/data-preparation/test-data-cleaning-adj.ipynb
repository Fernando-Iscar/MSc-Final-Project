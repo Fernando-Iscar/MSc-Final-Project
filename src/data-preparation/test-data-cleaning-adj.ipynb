{
 "cells": [
  {
   "cell_type": "markdown",
   "metadata": {},
   "source": [
    "# Test Data Cleaning\n",
    "\n",
    "After splitting the dataset with stratification, let's proceed to analyze it, cleaning it, do feature engineering and make it ready for modeling. The exactly same procedure will be applied to the Train test."
   ]
  },
  {
   "cell_type": "code",
   "execution_count": 108,
   "metadata": {},
   "outputs": [],
   "source": [
    "%matplotlib inline\n",
    "import numpy as np\n",
    "import pandas as pd\n",
    "import matplotlib.pyplot as plt\n",
    "import seaborn as sns\n",
    "\n",
    "from sklearn.model_selection import train_test_split"
   ]
  },
  {
   "attachments": {},
   "cell_type": "markdown",
   "metadata": {},
   "source": [
    "## EDA and Feature Engineering per column\n",
    "\n",
    "Since we have many features, with diverse types, the idea is to go one by one, analyzing all columns and getting information to act with.\n",
    "\n",
    "Let's see what we have!:"
   ]
  },
  {
   "cell_type": "code",
   "execution_count": 109,
   "metadata": {},
   "outputs": [
    {
     "data": {
      "text/html": [
       "<div>\n",
       "<style scoped>\n",
       "    .dataframe tbody tr th:only-of-type {\n",
       "        vertical-align: middle;\n",
       "    }\n",
       "\n",
       "    .dataframe tbody tr th {\n",
       "        vertical-align: top;\n",
       "    }\n",
       "\n",
       "    .dataframe thead th {\n",
       "        text-align: right;\n",
       "    }\n",
       "</style>\n",
       "<table border=\"1\" class=\"dataframe\">\n",
       "  <thead>\n",
       "    <tr style=\"text-align: right;\">\n",
       "      <th></th>\n",
       "      <th>Job_type</th>\n",
       "      <th>Remote_work</th>\n",
       "      <th>Coding_as_hobby</th>\n",
       "      <th>Education</th>\n",
       "      <th>Certifications</th>\n",
       "      <th>Job_title</th>\n",
       "      <th>Company_size</th>\n",
       "      <th>Country</th>\n",
       "      <th>Age</th>\n",
       "      <th>Gender</th>\n",
       "      <th>Trans</th>\n",
       "      <th>Sexual_orientation</th>\n",
       "      <th>Ethnicity</th>\n",
       "      <th>Physical_disability</th>\n",
       "      <th>Mental_disability</th>\n",
       "      <th>Work_experience</th>\n",
       "      <th>Coding_experience</th>\n",
       "      <th>Annual_salary</th>\n",
       "    </tr>\n",
       "  </thead>\n",
       "  <tbody>\n",
       "    <tr>\n",
       "      <th>0</th>\n",
       "      <td>Employed, full-time</td>\n",
       "      <td>Fully remote</td>\n",
       "      <td>I donâ€™t code outside of work</td>\n",
       "      <td>Bachelorâ€™s degree (B.A., B.S., B.Eng., etc.)</td>\n",
       "      <td>NaN</td>\n",
       "      <td>Developer, full-stack</td>\n",
       "      <td>100 to 499 employees</td>\n",
       "      <td>Israel</td>\n",
       "      <td>35-44 years old</td>\n",
       "      <td>Man</td>\n",
       "      <td>No</td>\n",
       "      <td>Straight / Heterosexual</td>\n",
       "      <td>White</td>\n",
       "      <td>None of the above</td>\n",
       "      <td>None of the above</td>\n",
       "      <td>NaN</td>\n",
       "      <td>17</td>\n",
       "      <td>215232.0</td>\n",
       "    </tr>\n",
       "    <tr>\n",
       "      <th>1</th>\n",
       "      <td>Employed, full-time;Independent contractor, fr...</td>\n",
       "      <td>Fully remote</td>\n",
       "      <td>Hobby;Contribute to open-source projects;Freel...</td>\n",
       "      <td>Bachelorâ€™s degree (B.A., B.S., B.Eng., etc.)</td>\n",
       "      <td>NaN</td>\n",
       "      <td>Engineering manager</td>\n",
       "      <td>20 to 99 employees</td>\n",
       "      <td>United States of America</td>\n",
       "      <td>35-44 years old</td>\n",
       "      <td>Man</td>\n",
       "      <td>No</td>\n",
       "      <td>Straight / Heterosexual</td>\n",
       "      <td>White</td>\n",
       "      <td>None of the above</td>\n",
       "      <td>I have a mood or emotional disorder (e.g., dep...</td>\n",
       "      <td>14.0</td>\n",
       "      <td>10</td>\n",
       "      <td>194400.0</td>\n",
       "    </tr>\n",
       "    <tr>\n",
       "      <th>2</th>\n",
       "      <td>Employed, full-time</td>\n",
       "      <td>Hybrid (some remote, some in-person)</td>\n",
       "      <td>Hobby</td>\n",
       "      <td>Bachelorâ€™s degree (B.A., B.S., B.Eng., etc.)</td>\n",
       "      <td>Udemy;Codecademy</td>\n",
       "      <td>Developer, full-stack</td>\n",
       "      <td>2 to 9 employees</td>\n",
       "      <td>Czech Republic</td>\n",
       "      <td>25-34 years old</td>\n",
       "      <td>Man</td>\n",
       "      <td>No</td>\n",
       "      <td>Bisexual</td>\n",
       "      <td>European</td>\n",
       "      <td>None of the above</td>\n",
       "      <td>I have a mood or emotional disorder (e.g., dep...</td>\n",
       "      <td>NaN</td>\n",
       "      <td>4</td>\n",
       "      <td>19224.0</td>\n",
       "    </tr>\n",
       "    <tr>\n",
       "      <th>3</th>\n",
       "      <td>Employed, full-time</td>\n",
       "      <td>Fully remote</td>\n",
       "      <td>Hobby</td>\n",
       "      <td>Bachelorâ€™s degree (B.A., B.S., B.Eng., etc.)</td>\n",
       "      <td>NaN</td>\n",
       "      <td>Developer, front-end;Developer, full-stack;Dev...</td>\n",
       "      <td>100 to 499 employees</td>\n",
       "      <td>United States of America</td>\n",
       "      <td>25-34 years old</td>\n",
       "      <td>Man</td>\n",
       "      <td>No</td>\n",
       "      <td>Straight / Heterosexual</td>\n",
       "      <td>White;Middle Eastern</td>\n",
       "      <td>NaN</td>\n",
       "      <td>NaN</td>\n",
       "      <td>12.0</td>\n",
       "      <td>10</td>\n",
       "      <td>170000.0</td>\n",
       "    </tr>\n",
       "    <tr>\n",
       "      <th>4</th>\n",
       "      <td>Employed, full-time</td>\n",
       "      <td>Hybrid (some remote, some in-person)</td>\n",
       "      <td>I donâ€™t code outside of work</td>\n",
       "      <td>Bachelorâ€™s degree (B.A., B.S., B.Eng., etc.)</td>\n",
       "      <td>NaN</td>\n",
       "      <td>Developer, back-end;Developer, embedded applic...</td>\n",
       "      <td>100 to 499 employees</td>\n",
       "      <td>Taiwan</td>\n",
       "      <td>25-34 years old</td>\n",
       "      <td>Man</td>\n",
       "      <td>No</td>\n",
       "      <td>NaN</td>\n",
       "      <td>Asian;East Asian;Southeast Asian</td>\n",
       "      <td>None of the above</td>\n",
       "      <td>None of the above</td>\n",
       "      <td>3.0</td>\n",
       "      <td>3</td>\n",
       "      <td>55163.0</td>\n",
       "    </tr>\n",
       "  </tbody>\n",
       "</table>\n",
       "</div>"
      ],
      "text/plain": [
       "                                            Job_type  \\\n",
       "0                                Employed, full-time   \n",
       "1  Employed, full-time;Independent contractor, fr...   \n",
       "2                                Employed, full-time   \n",
       "3                                Employed, full-time   \n",
       "4                                Employed, full-time   \n",
       "\n",
       "                            Remote_work  \\\n",
       "0                          Fully remote   \n",
       "1                          Fully remote   \n",
       "2  Hybrid (some remote, some in-person)   \n",
       "3                          Fully remote   \n",
       "4  Hybrid (some remote, some in-person)   \n",
       "\n",
       "                                     Coding_as_hobby  \\\n",
       "0                     I donâ€™t code outside of work   \n",
       "1  Hobby;Contribute to open-source projects;Freel...   \n",
       "2                                              Hobby   \n",
       "3                                              Hobby   \n",
       "4                     I donâ€™t code outside of work   \n",
       "\n",
       "                                        Education    Certifications  \\\n",
       "0  Bachelorâ€™s degree (B.A., B.S., B.Eng., etc.)               NaN   \n",
       "1  Bachelorâ€™s degree (B.A., B.S., B.Eng., etc.)               NaN   \n",
       "2  Bachelorâ€™s degree (B.A., B.S., B.Eng., etc.)  Udemy;Codecademy   \n",
       "3  Bachelorâ€™s degree (B.A., B.S., B.Eng., etc.)               NaN   \n",
       "4  Bachelorâ€™s degree (B.A., B.S., B.Eng., etc.)               NaN   \n",
       "\n",
       "                                           Job_title          Company_size  \\\n",
       "0                              Developer, full-stack  100 to 499 employees   \n",
       "1                                Engineering manager    20 to 99 employees   \n",
       "2                              Developer, full-stack      2 to 9 employees   \n",
       "3  Developer, front-end;Developer, full-stack;Dev...  100 to 499 employees   \n",
       "4  Developer, back-end;Developer, embedded applic...  100 to 499 employees   \n",
       "\n",
       "                    Country              Age Gender Trans  \\\n",
       "0                    Israel  35-44 years old    Man    No   \n",
       "1  United States of America  35-44 years old    Man    No   \n",
       "2            Czech Republic  25-34 years old    Man    No   \n",
       "3  United States of America  25-34 years old    Man    No   \n",
       "4                    Taiwan  25-34 years old    Man    No   \n",
       "\n",
       "        Sexual_orientation                         Ethnicity  \\\n",
       "0  Straight / Heterosexual                             White   \n",
       "1  Straight / Heterosexual                             White   \n",
       "2                 Bisexual                          European   \n",
       "3  Straight / Heterosexual              White;Middle Eastern   \n",
       "4                      NaN  Asian;East Asian;Southeast Asian   \n",
       "\n",
       "  Physical_disability                                  Mental_disability  \\\n",
       "0   None of the above                                  None of the above   \n",
       "1   None of the above  I have a mood or emotional disorder (e.g., dep...   \n",
       "2   None of the above  I have a mood or emotional disorder (e.g., dep...   \n",
       "3                 NaN                                                NaN   \n",
       "4   None of the above                                  None of the above   \n",
       "\n",
       "   Work_experience Coding_experience  Annual_salary  \n",
       "0              NaN                17       215232.0  \n",
       "1             14.0                10       194400.0  \n",
       "2              NaN                 4        19224.0  \n",
       "3             12.0                10       170000.0  \n",
       "4              3.0                 3        55163.0  "
      ]
     },
     "execution_count": 109,
     "metadata": {},
     "output_type": "execute_result"
    }
   ],
   "source": [
    "wdf = pd.read_csv(\"../input/test.csv\")\n",
    "wdf.head()"
   ]
  },
  {
   "cell_type": "code",
   "execution_count": 110,
   "metadata": {},
   "outputs": [
    {
     "data": {
      "text/plain": [
       "149"
      ]
     },
     "execution_count": 110,
     "metadata": {},
     "output_type": "execute_result"
    }
   ],
   "source": [
    "wdf.Country.nunique()"
   ]
  },
  {
   "attachments": {},
   "cell_type": "markdown",
   "metadata": {},
   "source": [
    "### `Education` column:"
   ]
  },
  {
   "cell_type": "code",
   "execution_count": 111,
   "metadata": {},
   "outputs": [
    {
     "data": {
      "text/plain": [
       "array(['Bachelorâ€™s degree (B.A., B.S., B.Eng., etc.)',\n",
       "       'Associate degree (A.A., A.S., etc.)',\n",
       "       'Some college/university study without earning a degree',\n",
       "       'Masterâ€™s degree (M.A., M.S., M.Eng., MBA, etc.)',\n",
       "       'Secondary school (e.g. American high school, German Realschule or Gymnasium, etc.)',\n",
       "       'Something else', 'Other doctoral degree (Ph.D., Ed.D., etc.)',\n",
       "       'Primary/elementary school', nan,\n",
       "       'Professional degree (JD, MD, etc.)'], dtype=object)"
      ]
     },
     "execution_count": 111,
     "metadata": {},
     "output_type": "execute_result"
    }
   ],
   "source": [
    "# before processing\n",
    "wdf[\"Education\"].unique()"
   ]
  },
  {
   "cell_type": "code",
   "execution_count": 112,
   "metadata": {},
   "outputs": [],
   "source": [
    "wdf['Education'] = wdf['Education'].str.replace('â€™', '\\'')\n",
    "\n",
    "# function from https://www.kaggle.com/code/soheiltehranipour/stackoverflow-2022-salary-prediction\n",
    "def clean_education(x):\n",
    "    if pd.isna(x):\n",
    "        return x\n",
    "    if 'Bachelor\\'s degree' in x:\n",
    "        return 'Bachelor\\'s degree'\n",
    "    if 'Master\\'s degree' in x:\n",
    "        return 'Master\\'s degree'\n",
    "    if 'Professional degree' in x or 'Other doctoral' in x:\n",
    "        return 'Post grad'\n",
    "    return 'Less than a Bachelor\\'s'\n",
    "\n",
    "wdf['Education'] = wdf['Education'].apply(clean_education)\n"
   ]
  },
  {
   "cell_type": "code",
   "execution_count": 113,
   "metadata": {},
   "outputs": [
    {
     "data": {
      "text/plain": [
       "array([\"Bachelor's degree\", \"Less than a Bachelor's\", \"Master's degree\",\n",
       "       'Post grad', nan], dtype=object)"
      ]
     },
     "execution_count": 113,
     "metadata": {},
     "output_type": "execute_result"
    }
   ],
   "source": [
    "# after processing, looking more clean!\n",
    "wdf[\"Education\"].unique()"
   ]
  },
  {
   "cell_type": "markdown",
   "metadata": {},
   "source": [
    "- **Fixing Typos**: Cleaned up unwanted characters in the 'Education' column.\n",
    "- **Simplifying Education Levels**: Used a function to group various education levels into four simpler categories.\n",
    "- **Checking Our Work**: Displayed the unique values after cleaning to ensure everything looks good."
   ]
  },
  {
   "attachments": {},
   "cell_type": "markdown",
   "metadata": {},
   "source": [
    "### `Remote_work` column:"
   ]
  },
  {
   "cell_type": "code",
   "execution_count": 114,
   "metadata": {},
   "outputs": [
    {
     "data": {
      "text/plain": [
       "array(['Fully remote', 'Hybrid (some remote, some in-person)',\n",
       "       'Full in-person', nan], dtype=object)"
      ]
     },
     "execution_count": 114,
     "metadata": {},
     "output_type": "execute_result"
    }
   ],
   "source": [
    "# before processing\n",
    "wdf['Remote_work'].unique()"
   ]
  },
  {
   "cell_type": "code",
   "execution_count": 115,
   "metadata": {},
   "outputs": [],
   "source": [
    "wdf['Remote_work'] = wdf['Remote_work'].map(lambda x: x.replace('Fully remote', 'remote').replace('Hybrid (some remote, some in-person)', 'hybrid').replace('Full in-person', 'in-person') if isinstance(x, str) else x)\n",
    "wdf.dropna(subset=['Remote_work'], inplace=True)"
   ]
  },
  {
   "cell_type": "code",
   "execution_count": 116,
   "metadata": {},
   "outputs": [
    {
     "data": {
      "text/plain": [
       "array(['remote', 'hybrid', 'in-person'], dtype=object)"
      ]
     },
     "execution_count": 116,
     "metadata": {},
     "output_type": "execute_result"
    }
   ],
   "source": [
    "# after processing\n",
    "wdf['Remote_work'].unique()"
   ]
  },
  {
   "cell_type": "markdown",
   "metadata": {},
   "source": [
    "- **Checking Current States**: Initially, the unique values in the 'Remote_work' column were listed to understand the different categories present.\n",
    "- **Simplifying Categories**: Updated the 'Remote_work' column to have simpler categories (remote, hybrid, in-person) using a mapping function which also handled non-string types gracefully.\n",
    "- **Removing Missing Values**: Dropped rows with missing 'Remote_work' values to clean up the dataset.\n",
    "- **Verification**: Reviewed the unique categories after the changes to ensure the cleanup was successful.\n"
   ]
  },
  {
   "attachments": {},
   "cell_type": "markdown",
   "metadata": {},
   "source": [
    "### `Coding_as_hobby` column"
   ]
  },
  {
   "cell_type": "code",
   "execution_count": 117,
   "metadata": {},
   "outputs": [
    {
     "data": {
      "text/plain": [
       "array(['I donâ€™t code outside of work',\n",
       "       'Hobby;Contribute to open-source projects;Freelance/contract work',\n",
       "       'Hobby',\n",
       "       'Hobby;Contribute to open-source projects;Bootstrapping a business;Freelance/contract work',\n",
       "       'Hobby;Contribute to open-source projects',\n",
       "       'Hobby;Freelance/contract work', 'Hobby;Bootstrapping a business',\n",
       "       'Hobby;Contribute to open-source projects;Bootstrapping a business',\n",
       "       'Hobby;Bootstrapping a business;Freelance/contract work',\n",
       "       'Bootstrapping a business', 'Contribute to open-source projects',\n",
       "       'Contribute to open-source projects;Freelance/contract work',\n",
       "       'Hobby;Other (please specify):', 'Other (please specify):',\n",
       "       'Contribute to open-source projects;Bootstrapping a business',\n",
       "       'Freelance/contract work',\n",
       "       'Contribute to open-source projects;Bootstrapping a business;Freelance/contract work',\n",
       "       'Bootstrapping a business;Freelance/contract work',\n",
       "       'Hobby;School or academic work',\n",
       "       'Contribute to open-source projects;School or academic work',\n",
       "       'Hobby;Contribute to open-source projects;Freelance/contract work;School or academic work',\n",
       "       'School or academic work',\n",
       "       'Hobby;Contribute to open-source projects;School or academic work',\n",
       "       'Hobby;Bootstrapping a business;Freelance/contract work;School or academic work',\n",
       "       'Hobby;Contribute to open-source projects;Bootstrapping a business;Freelance/contract work;School or academic work',\n",
       "       'Hobby;Bootstrapping a business;School or academic work',\n",
       "       'Hobby;Freelance/contract work;School or academic work',\n",
       "       'Contribute to open-source projects;Bootstrapping a business;School or academic work',\n",
       "       'Hobby;Contribute to open-source projects;Freelance/contract work;Other (please specify):',\n",
       "       'Hobby;Contribute to open-source projects;Other (please specify):',\n",
       "       'Bootstrapping a business;Freelance/contract work;School or academic work',\n",
       "       'Hobby;Other (please specify):;School or academic work',\n",
       "       'Contribute to open-source projects;Freelance/contract work;School or academic work',\n",
       "       'Freelance/contract work;School or academic work',\n",
       "       'Freelance/contract work;Other (please specify):', nan,\n",
       "       'Hobby;Contribute to open-source projects;Bootstrapping a business;School or academic work',\n",
       "       'Hobby;Bootstrapping a business;Other (please specify):',\n",
       "       'Hobby;Freelance/contract work;Other (please specify):',\n",
       "       'Hobby;Contribute to open-source projects;Bootstrapping a business;Other (please specify):',\n",
       "       'Contribute to open-source projects;Bootstrapping a business;Freelance/contract work;School or academic work',\n",
       "       'Contribute to open-source projects;Other (please specify):',\n",
       "       'Hobby;Bootstrapping a business;Freelance/contract work;Other (please specify):',\n",
       "       'Bootstrapping a business;School or academic work',\n",
       "       'Hobby;Contribute to open-source projects;Other (please specify):;School or academic work',\n",
       "       'Freelance/contract work;Other (please specify):;School or academic work',\n",
       "       'Other (please specify):;School or academic work',\n",
       "       'Bootstrapping a business;Other (please specify):',\n",
       "       'Contribute to open-source projects;Other (please specify):;School or academic work',\n",
       "       'Bootstrapping a business;Freelance/contract work;Other (please specify):',\n",
       "       'Hobby;Contribute to open-source projects;Bootstrapping a business;Freelance/contract work;Other (please specify):'],\n",
       "      dtype=object)"
      ]
     },
     "execution_count": 117,
     "metadata": {},
     "output_type": "execute_result"
    }
   ],
   "source": [
    "# before processing\n",
    "wdf['Coding_as_hobby'].unique()"
   ]
  },
  {
   "cell_type": "code",
   "execution_count": 118,
   "metadata": {},
   "outputs": [],
   "source": [
    "def hobbyfinder(value):\n",
    "    if 'hobby' in str(value.lower()):\n",
    "        return 'yes'\n",
    "    else:\n",
    "        return 'no'\n",
    "\n",
    "wdf['Coding_as_hobby'] = wdf['Coding_as_hobby'].astype(str).apply(hobbyfinder)"
   ]
  },
  {
   "cell_type": "code",
   "execution_count": 119,
   "metadata": {},
   "outputs": [
    {
     "data": {
      "text/plain": [
       "array(['no', 'yes'], dtype=object)"
      ]
     },
     "execution_count": 119,
     "metadata": {},
     "output_type": "execute_result"
    }
   ],
   "source": [
    "# after processing\n",
    "wdf['Coding_as_hobby'].unique()"
   ]
  },
  {
   "cell_type": "markdown",
   "metadata": {},
   "source": [
    "- **Before Changes**: Displayed the unique values in the 'Coding_as_hobby' column to get an initial understanding of the data present.\n",
    "- **Creating a Helper Function**: Crafted a `hobbyfinder` function to identify if a value contains the term 'hobby', signaling coding is pursued as a hobby.\n",
    "- **Applying Changes**: Used the function to update the 'Coding_as_hobby' column, categorizing responses into 'yes' or 'no'.\n",
    "- **After Changes**: Checked the unique values in the updated column to confirm the successful application of the function."
   ]
  },
  {
   "attachments": {},
   "cell_type": "markdown",
   "metadata": {},
   "source": [
    "### `Certifications` column"
   ]
  },
  {
   "cell_type": "code",
   "execution_count": 120,
   "metadata": {},
   "outputs": [
    {
     "data": {
      "text/plain": [
       "array([nan, 'Udemy;Codecademy', 'Codecademy', 'Udemy;Pluralsight',\n",
       "       'Other', 'Udemy', 'Coursera', 'Udemy;Codecademy;Pluralsight',\n",
       "       'Coursera;Udacity', 'Udemy;Codecademy;Udacity;Other',\n",
       "       'Coursera;Codecademy;edX;Other',\n",
       "       'Coursera;Udemy;Codecademy;edX;Udacity', 'Coursera;Pluralsight',\n",
       "       'Coursera;Udemy;Codecademy', 'Pluralsight',\n",
       "       'Udemy;Codecademy;Pluralsight;Other', 'Udemy;Codecademy;Other',\n",
       "       'Coursera;Udemy;edX;Other', 'Coursera;Udemy',\n",
       "       'Coursera;Pluralsight;edX', 'Udemy;Pluralsight;Other', 'Udemy;edX',\n",
       "       'Coursera;edX;Other', 'edX', 'Coursera;edX',\n",
       "       'Coursera;Codecademy;Pluralsight', 'Coursera;Udemy;Other',\n",
       "       'Udemy;Pluralsight;Udacity', 'Codecademy;Udacity',\n",
       "       'Coursera;Udemy;edX;Udacity', 'Coursera;Codecademy;Udacity;Other',\n",
       "       'Coursera;edX;Udacity;Other', 'Codecademy;edX;Udacity',\n",
       "       'Coursera;Codecademy', 'Codecademy;edX',\n",
       "       'Udemy;Codecademy;Pluralsight;Udacity', 'Udemy;Udacity',\n",
       "       'Coursera;Codecademy;Udacity', 'Udemy;Codecademy;edX',\n",
       "       'Coursera;Udemy;Codecademy;Pluralsight',\n",
       "       'Coursera;Udemy;Codecademy;Pluralsight;Udacity', 'Pluralsight;edX',\n",
       "       'Codecademy;Pluralsight', 'Coursera;Codecademy;edX',\n",
       "       'Coursera;Udemy;Codecademy;Skillsoft', 'Udemy;edX;Other',\n",
       "       'Coursera;Other', 'Coursera;Udemy;Pluralsight;Skillsoft',\n",
       "       'Coursera;Pluralsight;edX;Other',\n",
       "       'Coursera;Udemy;Pluralsight;edX;Udacity', 'Pluralsight;Other',\n",
       "       'Coursera;Udemy;edX', 'Udacity', 'Coursera;edX;Udacity',\n",
       "       'Udemy;Udacity;Other', 'Coursera;Udemy;Pluralsight;Other',\n",
       "       'Udemy;Codecademy;Udacity', 'Udemy;Other',\n",
       "       'Udemy;Codecademy;Pluralsight;edX', 'Coursera;Udemy;Pluralsight',\n",
       "       'Coursera;Udemy;Codecademy;Udacity', 'Pluralsight;Skillsoft',\n",
       "       'Udemy;Pluralsight;edX', 'Coursera;Udemy;Pluralsight;Udacity',\n",
       "       'Coursera;Udemy;Udacity', 'Coursera;Udemy;Codecademy;edX',\n",
       "       'Coursera;Udemy;Pluralsight;edX', 'Coursera;Codecademy;Other',\n",
       "       'Coursera;Udemy;Codecademy;Pluralsight;edX',\n",
       "       'Udemy;Pluralsight;Udacity;Other', 'Codecademy;Other',\n",
       "       'Coursera;Udemy;Codecademy;Pluralsight;edX;Udacity',\n",
       "       'Codecademy;Pluralsight;Other', 'edX;Other',\n",
       "       'Codecademy;Pluralsight;Udacity',\n",
       "       'Codecademy;Pluralsight;Other;Skillsoft',\n",
       "       'Coursera;Udemy;Codecademy;Pluralsight;edX;Udacity;Other',\n",
       "       'Udemy;Codecademy;Pluralsight;Other;Skillsoft',\n",
       "       'Coursera;Udemy;Codecademy;Pluralsight;Udacity;Other',\n",
       "       'Udacity;Other', 'Coursera;Pluralsight;edX;Udacity',\n",
       "       'Pluralsight;Udacity', 'Coursera;Udemy;Codecademy;edX;Skillsoft',\n",
       "       'Coursera;Codecademy;Pluralsight;edX', 'Other;Skillsoft',\n",
       "       'edX;Udacity', 'Skillsoft',\n",
       "       'Coursera;Codecademy;Pluralsight;Udacity',\n",
       "       'Coursera;Udemy;Codecademy;Other',\n",
       "       'Coursera;Udemy;Codecademy;Udacity;Other',\n",
       "       'Udemy;Codecademy;Pluralsight;edX;Udacity',\n",
       "       'Coursera;Udemy;Pluralsight;edX;Other',\n",
       "       'Codecademy;Pluralsight;edX',\n",
       "       'Coursera;Udemy;Pluralsight;Other;Skillsoft',\n",
       "       'Udemy;Codecademy;edX;Other', 'edX;Udacity;Other',\n",
       "       'Coursera;Udemy;Pluralsight;edX;Udacity;Other',\n",
       "       'Coursera;Udemy;Skillsoft', 'Coursera;Pluralsight;Udacity',\n",
       "       'Udemy;Skillsoft', 'Codecademy;Pluralsight;edX;Other',\n",
       "       'Coursera;Udemy;Pluralsight;Udacity;Other', 'Codecademy;edX;Other',\n",
       "       'Udemy;Codecademy;Pluralsight;Udacity;Other',\n",
       "       'Coursera;Udemy;edX;Udacity;Other',\n",
       "       'Codecademy;Pluralsight;Skillsoft',\n",
       "       'Coursera;Udemy;Codecademy;edX;Udacity;Other',\n",
       "       'Coursera;Udemy;Codecademy;Pluralsight;edX;Udacity;Skillsoft',\n",
       "       'Coursera;Pluralsight;Udacity;Other',\n",
       "       'Udemy;Pluralsight;edX;Udacity', 'Coursera;Pluralsight;Other',\n",
       "       'Udemy;Codecademy;Skillsoft', 'Udemy;Pluralsight;Skillsoft',\n",
       "       'Udemy;Pluralsight;edX;Udacity;Other',\n",
       "       'Coursera;Udemy;Codecademy;Pluralsight;Udacity;Skillsoft',\n",
       "       'Coursera;Udemy;Codecademy;Pluralsight;Other',\n",
       "       'Udemy;Pluralsight;Udacity;Skillsoft',\n",
       "       'Coursera;Udemy;Codecademy;edX;Other', 'Udemy;edX;Udacity',\n",
       "       'Coursera;Codecademy;edX;Udacity', 'Pluralsight;edX;Other',\n",
       "       'Udemy;Codecademy;edX;Udacity', 'Udemy;Udacity;Skillsoft',\n",
       "       'Codecademy;Skillsoft', 'Codecademy;Udacity;Other',\n",
       "       'Coursera;Udemy;Pluralsight;Udacity;Skillsoft',\n",
       "       'Coursera;Udemy;Codecademy;edX;Udacity;Skillsoft',\n",
       "       'Coursera;Pluralsight;edX;Udacity;Other',\n",
       "       'Udemy;Codecademy;Pluralsight;edX;Udacity;Skillsoft',\n",
       "       'edX;Skillsoft',\n",
       "       'Coursera;Udemy;Codecademy;Pluralsight;edX;Udacity;Other;Skillsoft',\n",
       "       'Udemy;Codecademy;edX;Skillsoft'], dtype=object)"
      ]
     },
     "execution_count": 120,
     "metadata": {},
     "output_type": "execute_result"
    }
   ],
   "source": [
    "# Note: actually these values are not certification number, there are just famous platforms. Hence better to filter like 'yes'/'no'\n",
    "\n",
    "wdf['Certifications'].unique() "
   ]
  },
  {
   "cell_type": "code",
   "execution_count": 121,
   "metadata": {},
   "outputs": [],
   "source": [
    "def certification_status(x):\n",
    "    if pd.isnull(x):\n",
    "        return 'no'\n",
    "    else:\n",
    "        return 'yes'\n",
    "\n",
    "wdf['Certifications'] = wdf['Certifications'].apply(certification_status)"
   ]
  },
  {
   "cell_type": "code",
   "execution_count": 122,
   "metadata": {},
   "outputs": [
    {
     "data": {
      "text/plain": [
       "array(['no', 'yes'], dtype=object)"
      ]
     },
     "execution_count": 122,
     "metadata": {},
     "output_type": "execute_result"
    }
   ],
   "source": [
    "# after processing\n",
    "wdf['Certifications'].unique()"
   ]
  },
  {
   "cell_type": "markdown",
   "metadata": {},
   "source": [
    "- **Initial Inspection**: Reviewed the unique values in the 'Certifications' column, noting that the values are platforms rather than actual certification numbers.\n",
    "- **Defining a Function**: Created a `certification_status` function to classify each entry as either 'yes' (if a platform is mentioned) or 'no' (if the field is empty or NaN).\n",
    "- **Applying the Transformation**: Used the defined function to update the 'Certifications' column to contain simplified 'yes' or 'no' values based on the presence of a value.\n",
    "- **Confirmation**: Verified the transformation by checking the unique values in the updated column.\n"
   ]
  },
  {
   "attachments": {},
   "cell_type": "markdown",
   "metadata": {},
   "source": [
    "### `Physical_dissability` column"
   ]
  },
  {
   "cell_type": "code",
   "execution_count": 123,
   "metadata": {},
   "outputs": [
    {
     "data": {
      "text/plain": [
       "array(['None of the above', nan, 'I am blind / have difficulty seeing',\n",
       "       'I am deaf / hard of hearing', 'Prefer not to say',\n",
       "       'Or, in your own words:',\n",
       "       'I am unable to / find it difficult to type',\n",
       "       'I am unable to / find it difficult to walk or stand without assistance',\n",
       "       'Or, in your own words:;I am deaf / hard of hearing;I am blind / have difficulty seeing',\n",
       "       'I am deaf / hard of hearing;I am unable to / find it difficult to type',\n",
       "       'I am unable to / find it difficult to type;I am unable to / find it difficult to walk or stand without assistance',\n",
       "       'I am blind / have difficulty seeing;I am unable to / find it difficult to type',\n",
       "       'Or, in your own words:;I am blind / have difficulty seeing',\n",
       "       'I am deaf / hard of hearing;I am blind / have difficulty seeing;I am unable to / find it difficult to type',\n",
       "       'I am blind / have difficulty seeing;I am unable to / find it difficult to walk or stand without assistance',\n",
       "       'I am deaf / hard of hearing;I am unable to / find it difficult to walk or stand without assistance',\n",
       "       'Or, in your own words:;I am blind / have difficulty seeing;I am unable to / find it difficult to type',\n",
       "       'I am deaf / hard of hearing;I am blind / have difficulty seeing',\n",
       "       'Or, in your own words:;I am deaf / hard of hearing'], dtype=object)"
      ]
     },
     "execution_count": 123,
     "metadata": {},
     "output_type": "execute_result"
    }
   ],
   "source": [
    "# before processing. \n",
    "# note: for physical only 2547 responses, hence 'yes'/'no' binary system applied again + 'Prefer not to say'\n",
    "\n",
    "wdf['Physical_disability'].unique()"
   ]
  },
  {
   "cell_type": "code",
   "execution_count": 124,
   "metadata": {},
   "outputs": [
    {
     "name": "stdout",
     "output_type": "stream",
     "text": [
      "7266\n",
      "49\n"
     ]
    }
   ],
   "source": [
    "# number of rows with 'Prefer not to say' VS total number of rows\n",
    "print(wdf['Physical_disability'].value_counts().sum())\n",
    "print(wdf[wdf['Physical_disability'] == 'Prefer not to say'].value_counts().sum())"
   ]
  },
  {
   "cell_type": "code",
   "execution_count": 125,
   "metadata": {},
   "outputs": [],
   "source": [
    "def physical_disability(x):\n",
    "    if pd.isnull(x) or x == 'None of the above':\n",
    "        return 'no' # imputing missing values as 'no' since it is the most common\n",
    "    if x == 'Prefer not to say':\n",
    "        return x\n",
    "    else:\n",
    "        return 'yes'\n",
    "\n",
    "wdf['Physical_disability'] = wdf['Physical_disability'].apply(physical_disability)"
   ]
  },
  {
   "cell_type": "code",
   "execution_count": 126,
   "metadata": {},
   "outputs": [
    {
     "data": {
      "text/plain": [
       "array(['no', 'yes', 'Prefer not to say'], dtype=object)"
      ]
     },
     "execution_count": 126,
     "metadata": {},
     "output_type": "execute_result"
    }
   ],
   "source": [
    "# after processing\n",
    "wdf['Physical_disability'].unique()"
   ]
  },
  {
   "cell_type": "markdown",
   "metadata": {},
   "source": [
    "- **Initial Analysis**: Identified the unique values in the 'Physical_disability' column and noted the frequency of each response, including 'Prefer not to say'.\n",
    "- **Function Definition**: Formed a function, `physical_disability`, to:\n",
    "  - Assign 'no' to NaN values or responses indicating 'None of the above', assuming no disability in these cases.\n",
    "  - Maintain 'Prefer not to say' responses as they are.\n",
    "  - Label all other responses as 'yes', indicating the presence of a physical disability.\n",
    "- **Implementing Changes**: Used the function to revamp the 'Physical_disability' column, simplifying it into a more straightforward categorization system.\n",
    "- **Validation**: Checked the unique values post-transformation to ensure the column was correctly updated.\n"
   ]
  },
  {
   "attachments": {},
   "cell_type": "markdown",
   "metadata": {},
   "source": [
    "### `Mental_disability` column"
   ]
  },
  {
   "cell_type": "code",
   "execution_count": 127,
   "metadata": {},
   "outputs": [
    {
     "data": {
      "text/plain": [
       "array(['None of the above',\n",
       "       'I have a mood or emotional disorder (e.g., depression, bipolar disorder, etc.)',\n",
       "       nan,\n",
       "       'I have learning differences (e.g., Dyslexic, Dyslexia, etc.)',\n",
       "       'I have an anxiety disorder',\n",
       "       'I have a mood or emotional disorder (e.g., depression, bipolar disorder, etc.);I have an anxiety disorder',\n",
       "       'I have a mood or emotional disorder (e.g., depression, bipolar disorder, etc.);I have an anxiety disorder;I have a concentration and/or memory disorder (e.g., ADHD, etc.)',\n",
       "       \"I have autism / an autism spectrum disorder (e.g. Asperger's, etc.)\",\n",
       "       'I have a concentration and/or memory disorder (e.g., ADHD, etc.)',\n",
       "       'I have a mood or emotional disorder (e.g., depression, bipolar disorder, etc.);I have a concentration and/or memory disorder (e.g., ADHD, etc.)',\n",
       "       'Prefer not to say',\n",
       "       'I have an anxiety disorder;I have a concentration and/or memory disorder (e.g., ADHD, etc.)',\n",
       "       \"I have a mood or emotional disorder (e.g., depression, bipolar disorder, etc.);I have an anxiety disorder;I have autism / an autism spectrum disorder (e.g. Asperger's, etc.)\",\n",
       "       \"I have a mood or emotional disorder (e.g., depression, bipolar disorder, etc.);I have an anxiety disorder;I have a concentration and/or memory disorder (e.g., ADHD, etc.);I have autism / an autism spectrum disorder (e.g. Asperger's, etc.)\",\n",
       "       'Or, in your own words:',\n",
       "       'I have a mood or emotional disorder (e.g., depression, bipolar disorder, etc.);I have an anxiety disorder;I have a concentration and/or memory disorder (e.g., ADHD, etc.);I have learning differences (e.g., Dyslexic, Dyslexia, etc.)',\n",
       "       \"I have an anxiety disorder;I have a concentration and/or memory disorder (e.g., ADHD, etc.);I have autism / an autism spectrum disorder (e.g. Asperger's, etc.)\",\n",
       "       \"I have learning differences (e.g., Dyslexic, Dyslexia, etc.);I have autism / an autism spectrum disorder (e.g. Asperger's, etc.)\",\n",
       "       \"Or, in your own words:;I have autism / an autism spectrum disorder (e.g. Asperger's, etc.)\",\n",
       "       'I have a mood or emotional disorder (e.g., depression, bipolar disorder, etc.);I have an anxiety disorder;I have learning differences (e.g., Dyslexic, Dyslexia, etc.)',\n",
       "       \"I have a concentration and/or memory disorder (e.g., ADHD, etc.);I have autism / an autism spectrum disorder (e.g. Asperger's, etc.)\",\n",
       "       \"I have a mood or emotional disorder (e.g., depression, bipolar disorder, etc.);I have a concentration and/or memory disorder (e.g., ADHD, etc.);I have autism / an autism spectrum disorder (e.g. Asperger's, etc.)\",\n",
       "       'I have an anxiety disorder;I have learning differences (e.g., Dyslexic, Dyslexia, etc.)',\n",
       "       \"I have a mood or emotional disorder (e.g., depression, bipolar disorder, etc.);I have an anxiety disorder;I have a concentration and/or memory disorder (e.g., ADHD, etc.);I have learning differences (e.g., Dyslexic, Dyslexia, etc.);I have autism / an autism spectrum disorder (e.g. Asperger's, etc.)\",\n",
       "       \"I have a concentration and/or memory disorder (e.g., ADHD, etc.);I have learning differences (e.g., Dyslexic, Dyslexia, etc.);I have autism / an autism spectrum disorder (e.g. Asperger's, etc.)\",\n",
       "       'I have a mood or emotional disorder (e.g., depression, bipolar disorder, etc.);I have learning differences (e.g., Dyslexic, Dyslexia, etc.)',\n",
       "       \"I have an anxiety disorder;I have autism / an autism spectrum disorder (e.g. Asperger's, etc.)\",\n",
       "       'I have a mood or emotional disorder (e.g., depression, bipolar disorder, etc.);I have an anxiety disorder;Or, in your own words:;I have a concentration and/or memory disorder (e.g., ADHD, etc.)',\n",
       "       \"I have a mood or emotional disorder (e.g., depression, bipolar disorder, etc.);I have learning differences (e.g., Dyslexic, Dyslexia, etc.);I have autism / an autism spectrum disorder (e.g. Asperger's, etc.)\",\n",
       "       \"I have a mood or emotional disorder (e.g., depression, bipolar disorder, etc.);I have autism / an autism spectrum disorder (e.g. Asperger's, etc.)\",\n",
       "       'I have a concentration and/or memory disorder (e.g., ADHD, etc.);I have learning differences (e.g., Dyslexic, Dyslexia, etc.)',\n",
       "       \"Or, in your own words:;I have learning differences (e.g., Dyslexic, Dyslexia, etc.);I have autism / an autism spectrum disorder (e.g. Asperger's, etc.)\",\n",
       "       'I have a mood or emotional disorder (e.g., depression, bipolar disorder, etc.);Or, in your own words:',\n",
       "       \"I have a mood or emotional disorder (e.g., depression, bipolar disorder, etc.);I have a concentration and/or memory disorder (e.g., ADHD, etc.);I have learning differences (e.g., Dyslexic, Dyslexia, etc.);I have autism / an autism spectrum disorder (e.g. Asperger's, etc.)\",\n",
       "       'I have an anxiety disorder;Or, in your own words:',\n",
       "       \"I have a mood or emotional disorder (e.g., depression, bipolar disorder, etc.);I have an anxiety disorder;I have learning differences (e.g., Dyslexic, Dyslexia, etc.);I have autism / an autism spectrum disorder (e.g. Asperger's, etc.)\",\n",
       "       'I have a mood or emotional disorder (e.g., depression, bipolar disorder, etc.);I have a concentration and/or memory disorder (e.g., ADHD, etc.);I have learning differences (e.g., Dyslexic, Dyslexia, etc.)',\n",
       "       \"I have an anxiety disorder;I have learning differences (e.g., Dyslexic, Dyslexia, etc.);I have autism / an autism spectrum disorder (e.g. Asperger's, etc.)\",\n",
       "       'I have an anxiety disorder;I have a concentration and/or memory disorder (e.g., ADHD, etc.);I have learning differences (e.g., Dyslexic, Dyslexia, etc.)',\n",
       "       \"I have a mood or emotional disorder (e.g., depression, bipolar disorder, etc.);I have an anxiety disorder;Or, in your own words:;I have autism / an autism spectrum disorder (e.g. Asperger's, etc.)\",\n",
       "       'Or, in your own words:;I have a concentration and/or memory disorder (e.g., ADHD, etc.)',\n",
       "       \"Or, in your own words:;I have a concentration and/or memory disorder (e.g., ADHD, etc.);I have autism / an autism spectrum disorder (e.g. Asperger's, etc.)\",\n",
       "       \"I have an anxiety disorder;I have a concentration and/or memory disorder (e.g., ADHD, etc.);I have learning differences (e.g., Dyslexic, Dyslexia, etc.);I have autism / an autism spectrum disorder (e.g. Asperger's, etc.)\"],\n",
       "      dtype=object)"
      ]
     },
     "execution_count": 127,
     "metadata": {},
     "output_type": "execute_result"
    }
   ],
   "source": [
    "# before processing\n",
    "# note: here we have 16,163 responses, hence we should distinguish among dissabilities\n",
    "\n",
    "wdf['Mental_disability'].unique()"
   ]
  },
  {
   "cell_type": "code",
   "execution_count": 128,
   "metadata": {},
   "outputs": [],
   "source": [
    "def simplify_mental_disability(x):\n",
    "    if pd.isnull(x) or x == 'None of the above':\n",
    "        return 'No'\n",
    "    categories = {\n",
    "        'I have a concentration and/or memory disorder': 'Memory_disorder',\n",
    "        'I have an anxiety disorder': 'Anxiety_disorder',\n",
    "        'I have a mood or emotional disorder (e.g., depression, bipolar disorder, etc.)': 'Mood_disorder',\n",
    "        \"I have autism / an autism spectrum disorder (e.g. Asperger's, etc.)\": 'Autism',\n",
    "        'I have learning differences (e.g., Dyslexic, Dyslexia, etc.)': 'Learning_difficulties'\n",
    "    }\n",
    "    matches = [cat for keyword, cat in categories.items() if keyword in x]\n",
    "    if len(matches) > 1:\n",
    "        return 'Various_disabilities'\n",
    "    elif len(matches) == 1:\n",
    "        return matches[0]\n",
    "    else:\n",
    "        return 'Others'\n",
    "\n",
    "wdf['Mental_disability'] = wdf['Mental_disability'].apply(simplify_mental_disability)\n"
   ]
  },
  {
   "cell_type": "code",
   "execution_count": 129,
   "metadata": {},
   "outputs": [
    {
     "data": {
      "text/plain": [
       "No                       5494\n",
       "Various_disabilities      681\n",
       "Memory_disorder           349\n",
       "Others                    302\n",
       "Anxiety_disorder          287\n",
       "Mood_disorder             244\n",
       "Autism                    102\n",
       "Learning_difficulties     101\n",
       "Name: Mental_disability, dtype: int64"
      ]
     },
     "execution_count": 129,
     "metadata": {},
     "output_type": "execute_result"
    }
   ],
   "source": [
    "# after processing\n",
    "wdf['Mental_disability'].value_counts()"
   ]
  },
  {
   "cell_type": "markdown",
   "metadata": {},
   "source": [
    "- **Pre-Processing Overview**: Assessed the different unique values in the 'Mental_disability' column, considering there were 16,163 responses that can be detailed further.\n",
    "- **Function Creation**:\n",
    "  - Developed a `simplify_mental_disability` function to reclassify entries:\n",
    "      - 'No' for NaN values or responses stating 'None of the above'.\n",
    "      - Specific categories for known disorders.\n",
    "      - 'Various_disabilities' if an entry mentions more than one disorder.\n",
    "      - 'Others' for all remaining cases.\n",
    "- **Applying the Function**: Used the function to update the 'Mental_disability' column, mapping the original descriptions to the new simplified categories.\n",
    "- **Post-Processing**: Reviewed the count of each newly defined category to understand the distribution in the updated column.\n"
   ]
  },
  {
   "attachments": {},
   "cell_type": "markdown",
   "metadata": {},
   "source": [
    "### `Company_size` column"
   ]
  },
  {
   "cell_type": "code",
   "execution_count": 130,
   "metadata": {},
   "outputs": [
    {
     "data": {
      "text/plain": [
       "array(['100 to 499 employees', '20 to 99 employees', '2 to 9 employees',\n",
       "       '10 to 19 employees', '10,000 or more employees',\n",
       "       '1,000 to 4,999 employees', '500 to 999 employees',\n",
       "       'Just me - I am a freelancer, sole proprietor, etc.',\n",
       "       '5,000 to 9,999 employees', 'I donâ€™t know', nan], dtype=object)"
      ]
     },
     "execution_count": 130,
     "metadata": {},
     "output_type": "execute_result"
    }
   ],
   "source": [
    "wdf['Company_size'].unique()"
   ]
  },
  {
   "cell_type": "code",
   "execution_count": 131,
   "metadata": {},
   "outputs": [],
   "source": [
    "# Preprocess OrgSize column, soruce: https://www.kaggle.com/code/do1likethis/which-devs-get-paid-more-and-why#Modeling:-how-well-can-we-predict-earning?-What-variables-matter-most?\n",
    "\n",
    "wdf['Company_size'] = wdf['Company_size'].fillna(\"None\").replace({\"10,000 or more employees\": \"XL\",\n",
    "                                      \"20 to 99 employees\": \"S\",\n",
    "                                      \"100 to 499 employees\": \"M\",\n",
    "                                      \"1,000 to 4,999 employees\": \"L\",\n",
    "                                      \"5,000 to 9,999 employees\": \"XL\",\n",
    "                                      \"2 to 9 employees\": \"XS\",\n",
    "                                      \"10 to 19 employees\": \"XS\",\n",
    "                                      \"500 to 999 employees\": \"M\",\n",
    "                                      \"Just me - I am a freelancer, sole proprietor, etc.\": \"XS\",\n",
    "                                      \"I donâ€™t know\": \"None\",\n",
    "                                      \"I prefer not to answer\": \"None\"})\n",
    "\n",
    "wdf['Company_size'] = wdf['Company_size'].replace('None', np.nan)"
   ]
  },
  {
   "cell_type": "code",
   "execution_count": 132,
   "metadata": {},
   "outputs": [
    {
     "data": {
      "text/plain": [
       "array(['M', 'S', 'XS', 'XL', 'L', nan], dtype=object)"
      ]
     },
     "execution_count": 132,
     "metadata": {},
     "output_type": "execute_result"
    }
   ],
   "source": [
    "# after processing\n",
    "wdf['Company_size'].unique()"
   ]
  },
  {
   "cell_type": "markdown",
   "metadata": {},
   "source": [
    "- **Pre-Processing Overview**: Inspected the unique values in the 'Company_size' column to identify the different categories present.\n",
    "- **Data Cleaning**:\n",
    "  - **Handling missing values**: Filled NaN entries with a temporary placeholder \"None\".\n",
    "  - **Simplifying categories**: Replaced various size descriptions with simplified labels ranging from \"XS\" to \"XL\" based on the number of employees. Addressed special cases such as freelancers and non-responses with respective categories.\n",
    "  - **Special characters issue**: Noticed and rectified the special character issue in the strings representing unknown responses and non-responses.\n",
    "- **Post-Cleaning**: Re-examined the unique values in the 'Company_size' column to ensure the changes were applied correctly, and replaced the temporary \"None\" placeholder with NaN to represent unknown data accurately.\n"
   ]
  },
  {
   "attachments": {},
   "cell_type": "markdown",
   "metadata": {},
   "source": [
    "### `Age` column"
   ]
  },
  {
   "cell_type": "code",
   "execution_count": 133,
   "metadata": {},
   "outputs": [
    {
     "data": {
      "text/plain": [
       "array(['35-44 years old', '25-34 years old', '45-54 years old',\n",
       "       '65 years or older', '18-24 years old', '55-64 years old',\n",
       "       'Prefer not to say', nan, 'Under 18 years old'], dtype=object)"
      ]
     },
     "execution_count": 133,
     "metadata": {},
     "output_type": "execute_result"
    }
   ],
   "source": [
    "# note: Looking good, we'll only check NANs later\n",
    "\n",
    "wdf['Age'].unique()"
   ]
  },
  {
   "attachments": {},
   "cell_type": "markdown",
   "metadata": {},
   "source": [
    "### `Job_Type` column"
   ]
  },
  {
   "cell_type": "code",
   "execution_count": 134,
   "metadata": {},
   "outputs": [
    {
     "data": {
      "text/plain": [
       "array(['Employed, full-time',\n",
       "       'Employed, full-time;Independent contractor, freelancer, or self-employed',\n",
       "       'Independent contractor, freelancer, or self-employed',\n",
       "       'Employed, part-time',\n",
       "       'Employed, full-time;Independent contractor, freelancer, or self-employed;Employed, part-time',\n",
       "       'Independent contractor, freelancer, or self-employed;Employed, part-time',\n",
       "       'Employed, full-time;Employed, part-time',\n",
       "       'Independent contractor, freelancer, or self-employed;Retired',\n",
       "       'Employed, full-time;Retired', 'Employed, part-time;Retired',\n",
       "       'Employed, full-time;Independent contractor, freelancer, or self-employed;Retired'],\n",
       "      dtype=object)"
      ]
     },
     "execution_count": 134,
     "metadata": {},
     "output_type": "execute_result"
    }
   ],
   "source": [
    "# note: we need to simplify it since there are mixed and confusing values\n",
    "\n",
    "wdf.Job_type.unique()"
   ]
  },
  {
   "cell_type": "code",
   "execution_count": 135,
   "metadata": {},
   "outputs": [],
   "source": [
    "def simplify_job_type(job_type):\n",
    "    if pd.isnull(job_type):\n",
    "        return job_type\n",
    "    job_list = job_type.split(';')\n",
    "    \n",
    "    if len(job_list) > 1:\n",
    "        return 'Other'\n",
    "    elif 'Employed, full-time' in job_list:\n",
    "        return 'Full-time employed'\n",
    "    elif 'Employed, part-time' in job_list:\n",
    "        return 'Part-time employed'\n",
    "    elif 'Retired' in job_list:\n",
    "        return 'Retired'\n",
    "    else:\n",
    "        return 'Independent contractor / Freelancer / Self-employed'\n",
    "\n",
    "wdf['Job_type'] = wdf['Job_type'].apply(simplify_job_type)\n"
   ]
  },
  {
   "cell_type": "code",
   "execution_count": 136,
   "metadata": {},
   "outputs": [
    {
     "data": {
      "text/plain": [
       "array(['Full-time employed', 'Other',\n",
       "       'Independent contractor / Freelancer / Self-employed',\n",
       "       'Part-time employed'], dtype=object)"
      ]
     },
     "execution_count": 136,
     "metadata": {},
     "output_type": "execute_result"
    }
   ],
   "source": [
    "# after processing\n",
    "wdf.Job_type.unique()"
   ]
  },
  {
   "cell_type": "markdown",
   "metadata": {},
   "source": [
    "- **Pre-Processing Overview**: Checked the unique values in the 'Job_type' column to understand the kind of values present in the data.\n",
    "- **Data Cleaning**:\n",
    "  - **Missing Values**: Maintained NaN entries as they are without any change.\n",
    "  - **Simplifying Categories**: Used a function to simplify the job types into clearer categories:\n",
    "    - Single job types were categorized distinctly: 'Full-time employed', 'Part-time employed', 'Retired', and 'Independent contractor / Freelancer / Self-employed'.\n",
    "    - Entries with mixed job types were categorized as 'Other'.\n",
    "- **Post-Cleaning**: Verified the unique values in the 'Job_type' column after applying the function to ensure the categories were simplified accurately.\n"
   ]
  },
  {
   "attachments": {},
   "cell_type": "markdown",
   "metadata": {},
   "source": [
    "### `Country` column"
   ]
  },
  {
   "cell_type": "code",
   "execution_count": 137,
   "metadata": {},
   "outputs": [],
   "source": [
    "# note: Here we will shorten the longer country names for simplicity\n",
    "\n",
    "def shorten_country_name(name):\n",
    "    shorten_dict = {\n",
    "        'United Kingdom of Great Britain and Northern Ireland': 'UK & Northern Ireland',\n",
    "        'United States of America': 'USA',\n",
    "        'Bosnia and Herzegovina': 'Bosnia-Herz.',\n",
    "        'Iran, Islamic Republic of...': 'Iran',\n",
    "        'The former Yugoslav Republic of Macedonia': 'North Macedonia',\n",
    "        'United Republic of Tanzania': 'Tanzania',\n",
    "        'Venezuela, Bolivarian Republic of...': 'Venezuela',\n",
    "        \"Lao People's Democratic Republic\": 'Laos',\n",
    "        'Democratic Republic of the Congo': 'DR Congo',\n",
    "        'Congo, Republic of the...': 'Republic of Congo',\n",
    "        'Libyan Arab Jamahiriya': 'Libya',\n",
    "        'Hong Kong (S.A.R.)': 'Hong Kong',\n",
    "    }\n",
    "    \n",
    "    return shorten_dict.get(name, name)\n",
    "\n",
    "wdf['Country'] = wdf['Country'].apply(shorten_country_name)\n"
   ]
  },
  {
   "cell_type": "code",
   "execution_count": 138,
   "metadata": {},
   "outputs": [
    {
     "data": {
      "text/plain": [
       "array(['Israel', 'USA', 'Czech Republic', 'Taiwan', 'Germany', 'Canada',\n",
       "       'Sweden', 'Turkey', 'Spain', 'Poland', 'Uruguay',\n",
       "       'UK & Northern Ireland', 'Belgium', 'France', 'Brazil',\n",
       "       'Netherlands', 'Greece', 'Finland', 'South Africa',\n",
       "       'Russian Federation', 'Denmark', 'Nepal', 'India', 'Norway',\n",
       "       'Hungary', 'Austria', 'Viet Nam', 'Bangladesh', 'Australia',\n",
       "       'Italy', 'Switzerland', 'Argentina', 'Slovenia', 'Ecuador',\n",
       "       'Japan', 'New Zealand', 'Portugal', 'Ukraine', 'Iran', 'Malaysia',\n",
       "       'Chile', 'Indonesia', 'China', 'Azerbaijan', 'South Korea',\n",
       "       'Hong Kong', 'Bulgaria', 'Kenya', 'Philippines', 'Lithuania',\n",
       "       'Saudi Arabia', 'Singapore', 'Pakistan', 'United Arab Emirates',\n",
       "       'Latvia', 'Serbia', 'Sri Lanka', 'Romania', 'Albania', 'Belarus',\n",
       "       'Ghana', 'Estonia', 'Ireland', 'Egypt', 'Jordan', 'Georgia',\n",
       "       'Tunisia', 'Slovakia', 'Kazakhstan', 'Croatia', 'Bosnia-Herz.',\n",
       "       'Malta', 'Morocco', 'Cuba', 'Mexico', 'Cyprus', 'Colombia',\n",
       "       'Dominican Republic', 'Armenia', 'Paraguay', 'Venezuela',\n",
       "       'Republic of Korea', 'Nigeria', 'Costa Rica', 'Thailand',\n",
       "       'Luxembourg', 'Peru', 'Republic of Moldova', 'North Macedonia',\n",
       "       'Ethiopia', 'Guatemala', 'Bolivia', 'Lebanon', 'El Salvador',\n",
       "       'Panama', 'Uganda', 'Uzbekistan', 'Iraq', 'Nomadic', 'Iceland',\n",
       "       'Palestine', 'Mauritius', 'Honduras', 'Tanzania', 'Montenegro',\n",
       "       'Myanmar', 'Sudan', 'Nicaragua', 'Cambodia', 'Kosovo', 'Cameroon',\n",
       "       'Algeria', 'Kyrgyzstan', 'Afghanistan', \"CÃ´te d'Ivoire\",\n",
       "       'Andorra', 'Zimbabwe', 'Syrian Arab Republic', 'Madagascar',\n",
       "       'Qatar', 'Senegal', 'Jamaica', 'Rwanda', 'Kuwait', 'Yemen',\n",
       "       'Mongolia', 'Isle of Man', 'Turkmenistan', 'Angola',\n",
       "       'Trinidad and Tobago', 'Oman', 'Libya', 'Malawi', 'Mozambique',\n",
       "       'Guyana', 'Maldives', 'Botswana', 'Bahrain', 'Tajikistan',\n",
       "       'Republic of Congo', 'DR Congo', 'Zambia', 'Guinea', 'Laos',\n",
       "       'Bhutan', 'Mali', 'Barbados', 'Togo'], dtype=object)"
      ]
     },
     "execution_count": 138,
     "metadata": {},
     "output_type": "execute_result"
    }
   ],
   "source": [
    "# after processing\n",
    "wdf['Country'].unique()"
   ]
  },
  {
   "cell_type": "markdown",
   "metadata": {},
   "source": [
    "#### Removing Countries with less than 5 appearances in data"
   ]
  },
  {
   "cell_type": "code",
   "execution_count": 139,
   "metadata": {},
   "outputs": [
    {
     "data": {
      "text/plain": [
       "\"# Identify countries with less than 5 appearances\\nminor_countries = wdf['Country'].value_counts()\\ncountries_to_remove = minor_countries[minor_countries < 10].index.tolist()\\n\\n# Filter out rows with those countries\\nwdf = wdf[~wdf['Country'].isin(countries_to_remove)]\""
      ]
     },
     "execution_count": 139,
     "metadata": {},
     "output_type": "execute_result"
    }
   ],
   "source": [
    "'''# Identify countries with less than 5 appearances\n",
    "minor_countries = wdf['Country'].value_counts()\n",
    "countries_to_remove = minor_countries[minor_countries < 10].index.tolist()\n",
    "\n",
    "# Filter out rows with those countries\n",
    "wdf = wdf[~wdf['Country'].isin(countries_to_remove)]'''"
   ]
  },
  {
   "cell_type": "markdown",
   "metadata": {},
   "source": [
    "- **Pre-Processing Overview**: Checked the unique values in the 'Country' column to understand the different country names present.\n",
    "- **Data Cleaning**:\n",
    "  - **Shortening Country Names**: Created a dictionary to map the longer country names to their shorter, more simplified versions.\n",
    "  - **Function Application**: Applied a function to shorten the country names based on the mapping dictionary created.\n",
    "- **Post-Cleaning**: Verified the unique values in the 'Country' column after applying the function to ensure the country names were shortened as intended.\n"
   ]
  },
  {
   "attachments": {},
   "cell_type": "markdown",
   "metadata": {},
   "source": [
    "### `Ethnicity` column "
   ]
  },
  {
   "cell_type": "code",
   "execution_count": 140,
   "metadata": {},
   "outputs": [
    {
     "data": {
      "text/plain": [
       "White                                                                     1833\n",
       "European                                                                  1673\n",
       "White;European                                                             980\n",
       "Indian                                                                     372\n",
       "Asian                                                                      233\n",
       "                                                                          ... \n",
       "White;North American;Asian;Biracial                                          1\n",
       "White;South Asian;Biracial                                                   1\n",
       "White;European;North American;Middle Eastern;North African;Multiracial       1\n",
       "White;Middle Eastern;African                                                 1\n",
       "Caribbean;Multiracial                                                        1\n",
       "Name: Ethnicity, Length: 283, dtype: int64"
      ]
     },
     "execution_count": 140,
     "metadata": {},
     "output_type": "execute_result"
    }
   ],
   "source": [
    "# before processing\n",
    "# note: there are a lot of unique values due to multiracial options, this needs to be simplified\n",
    "\n",
    "wdf.Ethnicity.value_counts()"
   ]
  },
  {
   "cell_type": "code",
   "execution_count": 141,
   "metadata": {},
   "outputs": [],
   "source": [
    "def simplify_ethnicity1(ethnicity):\n",
    "    if pd.isna(ethnicity):\n",
    "        return ethnicity\n",
    "    if 'Or, in your own words:' in ethnicity:\n",
    "        return 'Other'\n",
    "    if 'Prefer not to say' in ethnicity:\n",
    "        return 'Prefer not to say'\n",
    "    \n",
    "    ethnicities = ethnicity.split(';')\n",
    "    if len(ethnicities) > 2:\n",
    "        return 'Multiracial'\n",
    "    elif len(ethnicities) == 2:\n",
    "        return f\"{ethnicities[0]};{ethnicities[1]}\"\n",
    "    else:\n",
    "        return ethnicities[0]\n",
    "\n",
    "wdf['Ethnicity'] = wdf['Ethnicity'].apply(simplify_ethnicity1)"
   ]
  },
  {
   "cell_type": "code",
   "execution_count": 142,
   "metadata": {},
   "outputs": [],
   "source": [
    "def simplify_ethnicity2(ethnicity):\n",
    "    if pd.isnull(ethnicity):\n",
    "        return None\n",
    "    if 'White' in ethnicity or 'European' in ethnicity:\n",
    "        return 'White / European'\n",
    "    if 'Indian' in ethnicity or 'South Asian' in ethnicity:\n",
    "        return 'Indian / South Asian'\n",
    "    if 'Asian' in ethnicity:\n",
    "        return 'Asian'\n",
    "    if 'Hispanic' in ethnicity or 'Latino' in ethnicity:\n",
    "        return 'Hispanic or Latino/a'\n",
    "    if 'Middle Eastern' in ethnicity or 'North African' in ethnicity:\n",
    "        return 'Middle Eastern / North African'\n",
    "    if 'African' in ethnicity or 'Black' in ethnicity:\n",
    "        return 'African / Black'\n",
    "    if 'North American' in ethnicity or 'Central American' in ethnicity:\n",
    "        return 'North American / Central American'\n",
    "    if 'Multiracial' in ethnicity or 'Biracial' in ethnicity:\n",
    "        return 'Multiracial'\n",
    "    if \"Prefer not to say\" in ethnicity or \"I don't know\" in ethnicity:\n",
    "        return 'Prefer not to say / I don\\'t know'\n",
    "    return 'Other'\n",
    "\n",
    "wdf['Ethnicity'] = wdf['Ethnicity'].apply(simplify_ethnicity2)"
   ]
  },
  {
   "cell_type": "code",
   "execution_count": 143,
   "metadata": {},
   "outputs": [
    {
     "name": "stdout",
     "output_type": "stream",
     "text": [
      "White / European                     66.174497\n",
      "Indian / South Asian                  7.570470\n",
      "Asian                                 5.651007\n",
      "Multiracial                           5.543624\n",
      "Other                                 4.147651\n",
      "Hispanic or Latino/a                  3.651007\n",
      "Middle Eastern / North African        2.255034\n",
      "Prefer not to say / I don't know      2.241611\n",
      "African / Black                       1.906040\n",
      "North American / Central American     0.859060\n",
      "Name: Ethnicity, dtype: float64\n"
     ]
    }
   ],
   "source": [
    "simplified_ethnicity_percentage = wdf['Ethnicity'].value_counts() / wdf['Ethnicity'].notna().sum() * 100\n",
    "print(simplified_ethnicity_percentage)"
   ]
  },
  {
   "cell_type": "code",
   "execution_count": 144,
   "metadata": {},
   "outputs": [
    {
     "data": {
      "image/png": "[encoded data removed]",
      "text/plain": [
       "<Figure size 720x432 with 1 Axes>"
      ]
     },
     "metadata": {
      "needs_background": "light"
     },
     "output_type": "display_data"
    }
   ],
   "source": [
    "plt.figure(figsize=(10,6))\n",
    "\n",
    "# Get the percentages of each unique value\n",
    "percentages = wdf['Ethnicity'].value_counts(normalize=True) * 100\n",
    "\n",
    "# Sorting the percentages in ascending order\n",
    "sorted_indices = percentages.sort_values(ascending=True).index\n",
    "\n",
    "# Plotting the bar chart using the sorted indices to extract the correct percentages\n",
    "plt.barh(sorted_indices, percentages[sorted_indices])\n",
    "plt.title(\"Ethnicity distribution (%)\")\n",
    "plt.xticks(rotation=0) # Rotate x labels for better readability\n",
    "plt.savefig(\"../paper/data-preparation/test/ethnicity-distribution-2.pdf\");"
   ]
  },
  {
   "cell_type": "markdown",
   "metadata": {},
   "source": [
    "- **Pre-Processing Overview**: Checked the value counts in the 'Ethnicity' column to comprehend the distribution and diversity of the responses.\n",
    "\n",
    "- **Data Cleaning**:\n",
    "  - **Step 1 – Simplifying Multiracial Responses**:\n",
    "    - Created a function `simplify_ethnicity1` to simplify the responses with multiple racial identifications into broader categories such as 'Multiracial' or a combination of two ethnicities separated by a semicolon.\n",
    "    - Handled special cases where respondents preferred not to say or used their own words to describe their ethnicity.\n",
    "  - **Step 2 – Grouping Ethnicities**:\n",
    "    - Developed a second function `simplify_ethnicity2` to group the simplified responses from Step 1 into broader categories based on the presence of keywords in the ethnicity description.\n",
    "    - Replaced the 'Ethnicity' column values using the `simplify_ethnicity2` function to have more grouped and broader categories.\n",
    "\n",
    "- **Post-Cleaning**:\n",
    "  - **Insights**: Calculated the percentage of each category in the simplified 'Ethnicity' column to understand the distribution of the cleaned data.\n"
   ]
  },
  {
   "attachments": {},
   "cell_type": "markdown",
   "metadata": {},
   "source": [
    "### `Gender` column"
   ]
  },
  {
   "cell_type": "code",
   "execution_count": 145,
   "metadata": {},
   "outputs": [
    {
     "data": {
      "text/plain": [
       "Man                                                                                   6950\n",
       "Woman                                                                                  363\n",
       "Non-binary, genderqueer, or gender non-conforming                                       71\n",
       "Prefer not to say                                                                       68\n",
       "Man;Non-binary, genderqueer, or gender non-conforming                                   27\n",
       "Woman;Non-binary, genderqueer, or gender non-conforming                                 15\n",
       "Man;Or, in your own words:                                                              15\n",
       "Or, in your own words:                                                                  13\n",
       "Or, in your own words:;Woman;Non-binary, genderqueer, or gender non-conforming           3\n",
       "Or, in your own words:;Non-binary, genderqueer, or gender non-conforming                 3\n",
       "Man;Woman;Non-binary, genderqueer, or gender non-conforming                              2\n",
       "Or, in your own words:;Woman                                                             1\n",
       "Man;Or, in your own words:;Woman;Non-binary, genderqueer, or gender non-conforming       1\n",
       "Man;Woman                                                                                1\n",
       "Man;Or, in your own words:;Non-binary, genderqueer, or gender non-conforming             1\n",
       "Name: Gender, dtype: int64"
      ]
     },
     "execution_count": 145,
     "metadata": {},
     "output_type": "execute_result"
    }
   ],
   "source": [
    "wdf.Gender.value_counts()"
   ]
  },
  {
   "cell_type": "code",
   "execution_count": 146,
   "metadata": {},
   "outputs": [
    {
     "data": {
      "text/plain": [
       "No                        7296\n",
       "Yes                         85\n",
       "Prefer not to say           74\n",
       "Or, in your own words:      44\n",
       "Name: Trans, dtype: int64"
      ]
     },
     "execution_count": 146,
     "metadata": {},
     "output_type": "execute_result"
    }
   ],
   "source": [
    "wdf.Trans.value_counts()"
   ]
  },
  {
   "cell_type": "code",
   "execution_count": 147,
   "metadata": {},
   "outputs": [],
   "source": [
    "# Modify the column gender with the info of trans == yes, else, stay the same\n",
    "wdf['Gender'] = wdf.apply(lambda row: 'Trans' if row['Trans'] == 'Yes' else row['Gender'], axis=1)\n",
    "\n",
    "# Delete column 'Trans'\n",
    "wdf = wdf.drop('Trans', axis=1)"
   ]
  },
  {
   "cell_type": "code",
   "execution_count": 148,
   "metadata": {},
   "outputs": [
    {
     "data": {
      "text/plain": [
       "Man                                                                                   6938\n",
       "Woman                                                                                  333\n",
       "Trans                                                                                   85\n",
       "Prefer not to say                                                                       66\n",
       "Non-binary, genderqueer, or gender non-conforming                                       43\n",
       "Man;Non-binary, genderqueer, or gender non-conforming                                   23\n",
       "Man;Or, in your own words:                                                              15\n",
       "Or, in your own words:                                                                  13\n",
       "Woman;Non-binary, genderqueer, or gender non-conforming                                  8\n",
       "Or, in your own words:;Non-binary, genderqueer, or gender non-conforming                 3\n",
       "Or, in your own words:;Woman;Non-binary, genderqueer, or gender non-conforming           2\n",
       "Or, in your own words:;Woman                                                             1\n",
       "Man;Woman;Non-binary, genderqueer, or gender non-conforming                              1\n",
       "Man;Or, in your own words:;Woman;Non-binary, genderqueer, or gender non-conforming       1\n",
       "Man;Woman                                                                                1\n",
       "Man;Or, in your own words:;Non-binary, genderqueer, or gender non-conforming             1\n",
       "Name: Gender, dtype: int64"
      ]
     },
     "execution_count": 148,
     "metadata": {},
     "output_type": "execute_result"
    }
   ],
   "source": [
    "wdf.Gender.value_counts()"
   ]
  },
  {
   "cell_type": "code",
   "execution_count": 149,
   "metadata": {},
   "outputs": [],
   "source": [
    "def process_values(value):\n",
    "    if value is None or pd.isna(value):\n",
    "        return float('nan')\n",
    "    \n",
    "    value = str(value)\n",
    "    \n",
    "    if 'Or, in your own words:' in value:\n",
    "        split_values = value.split(';')\n",
    "        split_values = [v.strip() for v in split_values if v.strip() != 'Or, in your own words:']\n",
    "        if len(split_values) == 0:\n",
    "            return float('nan')\n",
    "        else:\n",
    "            return ';'.join(split_values)\n",
    "    else:\n",
    "        return value\n",
    "\n",
    "# Aplicar la función a la columna\n",
    "wdf['Gender'] = wdf['Gender'].apply(process_values)\n"
   ]
  },
  {
   "cell_type": "code",
   "execution_count": 150,
   "metadata": {},
   "outputs": [
    {
     "data": {
      "text/plain": [
       "Man                                                            6953\n",
       "Woman                                                           334\n",
       "Trans                                                            85\n",
       "Prefer not to say                                                66\n",
       "Non-binary, genderqueer, or gender non-conforming                46\n",
       "Man;Non-binary, genderqueer, or gender non-conforming            24\n",
       "Woman;Non-binary, genderqueer, or gender non-conforming          10\n",
       "Man;Woman;Non-binary, genderqueer, or gender non-conforming       2\n",
       "Man;Woman                                                         1\n",
       "Name: Gender, dtype: int64"
      ]
     },
     "execution_count": 150,
     "metadata": {},
     "output_type": "execute_result"
    }
   ],
   "source": [
    "wdf.Gender.value_counts()"
   ]
  },
  {
   "cell_type": "code",
   "execution_count": 151,
   "metadata": {},
   "outputs": [],
   "source": [
    "def categorize_gender(value):\n",
    "    if isinstance(value, str):  \n",
    "        if 'Non-binary, genderqueer, or gender non-conforming' in value or 'Man;Woman' in value:\n",
    "            return 'gender non-conforming'\n",
    "        else:\n",
    "            return value\n",
    "    else:  \n",
    "        return value\n",
    "\n",
    "wdf['Gender'] = wdf['Gender'].apply(categorize_gender)\n"
   ]
  },
  {
   "cell_type": "code",
   "execution_count": 152,
   "metadata": {},
   "outputs": [
    {
     "data": {
      "text/plain": [
       "Man                      6953\n",
       "Woman                     334\n",
       "Trans                      85\n",
       "gender non-conforming      83\n",
       "Prefer not to say          66\n",
       "Name: Gender, dtype: int64"
      ]
     },
     "execution_count": 152,
     "metadata": {},
     "output_type": "execute_result"
    }
   ],
   "source": [
    "wdf.Gender.value_counts()"
   ]
  },
  {
   "cell_type": "markdown",
   "metadata": {},
   "source": [
    "- **Objective**: To clean the 'Gender' column by removing entries specified as 'Or, in your own words:' and retaining the other gender categories, or setting it to NaN if no other categories are mentioned.\n",
    "  \n",
    "- **Approach**:\n",
    "  - **Creating the `process_values` Function**: Defined a function to individually process each value in the column based on the following steps:\n",
    "    1. **Handle Missing Values**: Returned NaN for None or NaN inputs.\n",
    "    2. **Value Conversion**: Converted the input value to a string for further processing.\n",
    "    3. **Identifying and Splitting Values**: If 'Or, in your own words:' was found in the value, it was split by semicolon to separate it from other categories.\n",
    "    4. **Refining Values**: Removed 'Or, in your own words:' from the list of split values and checked if any values remained. If not, returned NaN.\n",
    "    5. **Rejoining Values**: If there were remaining values, rejoined them using a semicolon.\n",
    "\n",
    "  - **Function Application**: Utilized the `apply` method to execute the `process_values` function on every entry in the 'Gender' column, effectively cleaning and updating the column data.\n",
    "\n",
    "- **Outcome**: The 'Gender' column is updated to retain meaningful gender categories while removing the less informative 'Or, in your own words:' entries or replacing them with NaN where necessary.\n"
   ]
  },
  {
   "attachments": {},
   "cell_type": "markdown",
   "metadata": {},
   "source": [
    "### `Sexual_orientation` Column\n",
    "\n"
   ]
  },
  {
   "cell_type": "code",
   "execution_count": 153,
   "metadata": {},
   "outputs": [
    {
     "data": {
      "text/plain": [
       "Straight / Heterosexual                                                           6281\n",
       "Prefer not to say                                                                  286\n",
       "Bisexual                                                                           278\n",
       "Gay or Lesbian                                                                     162\n",
       "Prefer to self-describe:                                                            62\n",
       "Queer                                                                               52\n",
       "Bisexual;Straight / Heterosexual                                                    37\n",
       "Bisexual;Queer                                                                      32\n",
       "Straight / Heterosexual;Prefer to self-describe:                                    26\n",
       "Gay or Lesbian;Queer                                                                17\n",
       "Straight / Heterosexual;Queer                                                       13\n",
       "Bisexual;Gay or Lesbian;Queer                                                       10\n",
       "Prefer to self-describe:;Queer                                                       5\n",
       "Bisexual;Gay or Lesbian                                                              5\n",
       "Bisexual;Straight / Heterosexual;Queer                                               3\n",
       "Straight / Heterosexual;Gay or Lesbian                                               3\n",
       "Bisexual;Straight / Heterosexual;Gay or Lesbian                                      2\n",
       "Bisexual;Straight / Heterosexual;Gay or Lesbian;Queer                                2\n",
       "Bisexual;Prefer to self-describe:                                                    2\n",
       "Bisexual;Straight / Heterosexual;Prefer to self-describe:                            1\n",
       "Prefer to self-describe:;Gay or Lesbian;Queer                                        1\n",
       "Straight / Heterosexual;Prefer to self-describe:;Queer                               1\n",
       "Bisexual;Straight / Heterosexual;Prefer to self-describe:;Gay or Lesbian;Queer       1\n",
       "Prefer to self-describe:;Gay or Lesbian                                              1\n",
       "Bisexual;Prefer to self-describe:;Queer                                              1\n",
       "Name: Sexual_orientation, dtype: int64"
      ]
     },
     "execution_count": 153,
     "metadata": {},
     "output_type": "execute_result"
    }
   ],
   "source": [
    "wdf.Sexual_orientation.value_counts()"
   ]
  },
  {
   "cell_type": "code",
   "execution_count": 154,
   "metadata": {},
   "outputs": [],
   "source": [
    "def process_values(value, remove_phrase):\n",
    "    if pd.isnull(value):\n",
    "        return pd.NA\n",
    "\n",
    "    value = str(value)\n",
    "\n",
    "    if remove_phrase in value:\n",
    "        parts = value.split(';')\n",
    "        parts = [part for part in parts if part != remove_phrase]\n",
    "        \n",
    "        if not parts:\n",
    "            return pd.NA\n",
    "\n",
    "        value = ';'.join(parts)\n",
    "    \n",
    "    return value\n",
    "\n",
    "wdf['Sexual_orientation'] = wdf['Sexual_orientation'].apply(lambda x: process_values(x, 'Prefer to self-describe:'))\n"
   ]
  },
  {
   "cell_type": "code",
   "execution_count": 155,
   "metadata": {},
   "outputs": [
    {
     "data": {
      "text/plain": [
       "Straight / Heterosexual                                  6307\n",
       "Prefer not to say                                         286\n",
       "Bisexual                                                  280\n",
       "Gay or Lesbian                                            163\n",
       "Queer                                                      57\n",
       "Bisexual;Straight / Heterosexual                           38\n",
       "Bisexual;Queer                                             33\n",
       "Gay or Lesbian;Queer                                       18\n",
       "Straight / Heterosexual;Queer                              14\n",
       "Bisexual;Gay or Lesbian;Queer                              10\n",
       "Bisexual;Gay or Lesbian                                     5\n",
       "Bisexual;Straight / Heterosexual;Queer                      3\n",
       "Straight / Heterosexual;Gay or Lesbian                      3\n",
       "Bisexual;Straight / Heterosexual;Gay or Lesbian;Queer       3\n",
       "Bisexual;Straight / Heterosexual;Gay or Lesbian             2\n",
       "Name: Sexual_orientation, dtype: int64"
      ]
     },
     "execution_count": 155,
     "metadata": {},
     "output_type": "execute_result"
    }
   ],
   "source": [
    "wdf.Sexual_orientation.value_counts()"
   ]
  },
  {
   "cell_type": "code",
   "execution_count": 156,
   "metadata": {},
   "outputs": [],
   "source": [
    "def simplify_sexual_orientation(value):\n",
    "    if pd.isnull(value):\n",
    "        return pd.NA\n",
    "\n",
    "    value = str(value)\n",
    "\n",
    "    if 'Straight / Heterosexual' in value:\n",
    "        return 'Straight / Heterosexual'\n",
    "    elif 'Prefer not to say' in value:\n",
    "        return 'Prefer not to say'\n",
    "    elif 'Bisexual' in value:\n",
    "        return 'Bisexual'\n",
    "    elif 'Gay or Lesbian' in value:\n",
    "        return 'Gay or Lesbian'\n",
    "    elif 'Queer' in value:\n",
    "        return 'Queer'\n",
    "    else:\n",
    "        return 'Other'\n",
    "\n",
    "wdf['Sexual_orientation'] = wdf['Sexual_orientation'].apply(simplify_sexual_orientation)\n"
   ]
  },
  {
   "cell_type": "code",
   "execution_count": 157,
   "metadata": {},
   "outputs": [
    {
     "data": {
      "text/plain": [
       "Straight / Heterosexual    6370\n",
       "Bisexual                    328\n",
       "Prefer not to say           286\n",
       "Gay or Lesbian              181\n",
       "Queer                        57\n",
       "Name: Sexual_orientation, dtype: int64"
      ]
     },
     "execution_count": 157,
     "metadata": {},
     "output_type": "execute_result"
    }
   ],
   "source": [
    "# after processing\n",
    "wdf.Sexual_orientation.value_counts()"
   ]
  },
  {
   "cell_type": "markdown",
   "metadata": {},
   "source": [
    "- **Objective**: \n",
    "\n",
    "Streamline the 'Sexual_orientation' column by categorizing the varied responses into more general groups to facilitate easier analysis.\n",
    "\n",
    "- **Approach**:\n",
    "  - **Developing the `simplify_sexual_orientation` Function**: Formulated a function that simplifies individual entries based on specific conditions:\n",
    "    1. **Self-Described Category**: When the entry contains 'Prefer to self-describe', it is updated to 'Other'.\n",
    "    2. **Preference Not to Disclose**: Entries containing 'Prefer not to say' are left as 'Prefer not to say'.\n",
    "    3. **Multiple Values**: Entries containing multiple values, indicated by a semicolon (;), are updated to 'Other'.\n",
    "    4. **Unchanged Values**: If none of the above conditions are met, the original value is retained.\n",
    "   \n",
    "  - **Applying the Function**: Leveraged the `apply()` method to implement the `simplify_sexual_orientation` function on each value in the 'Sexual_orientation' column, thereby updating the dataset as required.\n",
    "\n",
    "- **Outcome**: The 'Sexual_orientation' column now has simplified, more manageable categories, making it more conducive to analysis.\n"
   ]
  },
  {
   "attachments": {},
   "cell_type": "markdown",
   "metadata": {},
   "source": [
    "### `Experience` column (part 1)"
   ]
  },
  {
   "cell_type": "markdown",
   "metadata": {},
   "source": [
    "Here there are a lot of missing values... we need to impute them later"
   ]
  },
  {
   "cell_type": "code",
   "execution_count": 158,
   "metadata": {},
   "outputs": [
    {
     "data": {
      "text/plain": [
       "2156"
      ]
     },
     "execution_count": 158,
     "metadata": {},
     "output_type": "execute_result"
    }
   ],
   "source": [
    "wdf.Work_experience.isna().sum()"
   ]
  },
  {
   "cell_type": "code",
   "execution_count": 159,
   "metadata": {},
   "outputs": [],
   "source": [
    "wdf[\"Work_experience\"] = wdf[\"Work_experience\"].round(1) # for simplicity, rounding one decimal"
   ]
  },
  {
   "cell_type": "code",
   "execution_count": 160,
   "metadata": {},
   "outputs": [
    {
     "data": {
      "text/html": [
       "<div>\n",
       "<style scoped>\n",
       "    .dataframe tbody tr th:only-of-type {\n",
       "        vertical-align: middle;\n",
       "    }\n",
       "\n",
       "    .dataframe tbody tr th {\n",
       "        vertical-align: top;\n",
       "    }\n",
       "\n",
       "    .dataframe thead th {\n",
       "        text-align: right;\n",
       "    }\n",
       "</style>\n",
       "<table border=\"1\" class=\"dataframe\">\n",
       "  <thead>\n",
       "    <tr style=\"text-align: right;\">\n",
       "      <th></th>\n",
       "      <th>Job_type</th>\n",
       "      <th>Remote_work</th>\n",
       "      <th>Coding_as_hobby</th>\n",
       "      <th>Education</th>\n",
       "      <th>Certifications</th>\n",
       "      <th>Job_title</th>\n",
       "      <th>Company_size</th>\n",
       "      <th>Country</th>\n",
       "      <th>Age</th>\n",
       "      <th>Gender</th>\n",
       "      <th>Sexual_orientation</th>\n",
       "      <th>Ethnicity</th>\n",
       "      <th>Physical_disability</th>\n",
       "      <th>Mental_disability</th>\n",
       "      <th>Work_experience</th>\n",
       "      <th>Coding_experience</th>\n",
       "      <th>Annual_salary</th>\n",
       "    </tr>\n",
       "  </thead>\n",
       "  <tbody>\n",
       "    <tr>\n",
       "      <th>0</th>\n",
       "      <td>Full-time employed</td>\n",
       "      <td>remote</td>\n",
       "      <td>no</td>\n",
       "      <td>Bachelor's degree</td>\n",
       "      <td>no</td>\n",
       "      <td>Developer, full-stack</td>\n",
       "      <td>M</td>\n",
       "      <td>Israel</td>\n",
       "      <td>35-44 years old</td>\n",
       "      <td>Man</td>\n",
       "      <td>Straight / Heterosexual</td>\n",
       "      <td>White / European</td>\n",
       "      <td>no</td>\n",
       "      <td>No</td>\n",
       "      <td>NaN</td>\n",
       "      <td>17</td>\n",
       "      <td>215232.0</td>\n",
       "    </tr>\n",
       "    <tr>\n",
       "      <th>1</th>\n",
       "      <td>Other</td>\n",
       "      <td>remote</td>\n",
       "      <td>yes</td>\n",
       "      <td>Bachelor's degree</td>\n",
       "      <td>no</td>\n",
       "      <td>Engineering manager</td>\n",
       "      <td>S</td>\n",
       "      <td>USA</td>\n",
       "      <td>35-44 years old</td>\n",
       "      <td>Man</td>\n",
       "      <td>Straight / Heterosexual</td>\n",
       "      <td>White / European</td>\n",
       "      <td>no</td>\n",
       "      <td>Mood_disorder</td>\n",
       "      <td>14.0</td>\n",
       "      <td>10</td>\n",
       "      <td>194400.0</td>\n",
       "    </tr>\n",
       "    <tr>\n",
       "      <th>2</th>\n",
       "      <td>Full-time employed</td>\n",
       "      <td>hybrid</td>\n",
       "      <td>yes</td>\n",
       "      <td>Bachelor's degree</td>\n",
       "      <td>yes</td>\n",
       "      <td>Developer, full-stack</td>\n",
       "      <td>XS</td>\n",
       "      <td>Czech Republic</td>\n",
       "      <td>25-34 years old</td>\n",
       "      <td>Man</td>\n",
       "      <td>Bisexual</td>\n",
       "      <td>White / European</td>\n",
       "      <td>no</td>\n",
       "      <td>Mood_disorder</td>\n",
       "      <td>NaN</td>\n",
       "      <td>4</td>\n",
       "      <td>19224.0</td>\n",
       "    </tr>\n",
       "    <tr>\n",
       "      <th>3</th>\n",
       "      <td>Full-time employed</td>\n",
       "      <td>remote</td>\n",
       "      <td>yes</td>\n",
       "      <td>Bachelor's degree</td>\n",
       "      <td>no</td>\n",
       "      <td>Developer, front-end;Developer, full-stack;Dev...</td>\n",
       "      <td>M</td>\n",
       "      <td>USA</td>\n",
       "      <td>25-34 years old</td>\n",
       "      <td>Man</td>\n",
       "      <td>Straight / Heterosexual</td>\n",
       "      <td>White / European</td>\n",
       "      <td>no</td>\n",
       "      <td>No</td>\n",
       "      <td>12.0</td>\n",
       "      <td>10</td>\n",
       "      <td>170000.0</td>\n",
       "    </tr>\n",
       "    <tr>\n",
       "      <th>4</th>\n",
       "      <td>Full-time employed</td>\n",
       "      <td>hybrid</td>\n",
       "      <td>no</td>\n",
       "      <td>Bachelor's degree</td>\n",
       "      <td>no</td>\n",
       "      <td>Developer, back-end;Developer, embedded applic...</td>\n",
       "      <td>M</td>\n",
       "      <td>Taiwan</td>\n",
       "      <td>25-34 years old</td>\n",
       "      <td>Man</td>\n",
       "      <td>&lt;NA&gt;</td>\n",
       "      <td>Multiracial</td>\n",
       "      <td>no</td>\n",
       "      <td>No</td>\n",
       "      <td>3.0</td>\n",
       "      <td>3</td>\n",
       "      <td>55163.0</td>\n",
       "    </tr>\n",
       "  </tbody>\n",
       "</table>\n",
       "</div>"
      ],
      "text/plain": [
       "             Job_type Remote_work Coding_as_hobby          Education  \\\n",
       "0  Full-time employed      remote              no  Bachelor's degree   \n",
       "1               Other      remote             yes  Bachelor's degree   \n",
       "2  Full-time employed      hybrid             yes  Bachelor's degree   \n",
       "3  Full-time employed      remote             yes  Bachelor's degree   \n",
       "4  Full-time employed      hybrid              no  Bachelor's degree   \n",
       "\n",
       "  Certifications                                          Job_title  \\\n",
       "0             no                              Developer, full-stack   \n",
       "1             no                                Engineering manager   \n",
       "2            yes                              Developer, full-stack   \n",
       "3             no  Developer, front-end;Developer, full-stack;Dev...   \n",
       "4             no  Developer, back-end;Developer, embedded applic...   \n",
       "\n",
       "  Company_size         Country              Age Gender  \\\n",
       "0            M          Israel  35-44 years old    Man   \n",
       "1            S             USA  35-44 years old    Man   \n",
       "2           XS  Czech Republic  25-34 years old    Man   \n",
       "3            M             USA  25-34 years old    Man   \n",
       "4            M          Taiwan  25-34 years old    Man   \n",
       "\n",
       "        Sexual_orientation         Ethnicity Physical_disability  \\\n",
       "0  Straight / Heterosexual  White / European                  no   \n",
       "1  Straight / Heterosexual  White / European                  no   \n",
       "2                 Bisexual  White / European                  no   \n",
       "3  Straight / Heterosexual  White / European                  no   \n",
       "4                     <NA>       Multiracial                  no   \n",
       "\n",
       "  Mental_disability  Work_experience Coding_experience  Annual_salary  \n",
       "0                No              NaN                17       215232.0  \n",
       "1     Mood_disorder             14.0                10       194400.0  \n",
       "2     Mood_disorder              NaN                 4        19224.0  \n",
       "3                No             12.0                10       170000.0  \n",
       "4                No              3.0                 3        55163.0  "
      ]
     },
     "execution_count": 160,
     "metadata": {},
     "output_type": "execute_result"
    }
   ],
   "source": [
    "wdf.head()"
   ]
  },
  {
   "attachments": {},
   "cell_type": "markdown",
   "metadata": {},
   "source": [
    "### `Annual_salary` column"
   ]
  },
  {
   "attachments": {},
   "cell_type": "markdown",
   "metadata": {},
   "source": [
    "There are a lot of trolls regarding salary data..."
   ]
  },
  {
   "cell_type": "code",
   "execution_count": 161,
   "metadata": {},
   "outputs": [
    {
     "data": {
      "text/plain": [
       "(1.0, 18000000.0)"
      ]
     },
     "execution_count": 161,
     "metadata": {},
     "output_type": "execute_result"
    }
   ],
   "source": [
    "wdf.Annual_salary.min(), wdf.Annual_salary.max()"
   ]
  },
  {
   "attachments": {},
   "cell_type": "markdown",
   "metadata": {},
   "source": [
    "Let's see the salaries distribution setting up a top limit in 500,000 $:"
   ]
  },
  {
   "cell_type": "code",
   "execution_count": 162,
   "metadata": {},
   "outputs": [
    {
     "data": {
      "image/png": "[encoded data removed]",
      "text/plain": [
       "<Figure size 432x288 with 1 Axes>"
      ]
     },
     "metadata": {
      "needs_background": "light"
     },
     "output_type": "display_data"
    }
   ],
   "source": [
    "wdf[wdf.Annual_salary < 500000].Annual_salary.hist(bins='scott')\n",
    "plt.savefig(\"../paper/data-preparation/test/salary-distrib-0-500000-2.pdf\");"
   ]
  },
  {
   "attachments": {},
   "cell_type": "markdown",
   "metadata": {},
   "source": [
    "As we can see in the histogram, most values don't go further than 300.000$. Let's start trimming down from 10.000$ till 350.000$."
   ]
  },
  {
   "cell_type": "code",
   "execution_count": 163,
   "metadata": {},
   "outputs": [
    {
     "name": "stdout",
     "output_type": "stream",
     "text": [
      "Lower Limit: 10000.00, Upper Limit: 350000.00\n"
     ]
    }
   ],
   "source": [
    "# Filtering extreme values\n",
    "lower_limit = 10000 #wdf['Annual_salary'].quantile(0.1)\n",
    "upper_limit = 350000 #wdf['Annual_salary'].quantile(0.95)\n",
    "wdf = wdf.loc[wdf['Annual_salary'].between(lower_limit, upper_limit)]\n",
    "\n",
    "# Reset index\n",
    "wdf = wdf.reset_index(drop=True)\n",
    "print(f\"Lower Limit: {lower_limit:.2f}, Upper Limit: {upper_limit:.2f}\")"
   ]
  },
  {
   "cell_type": "code",
   "execution_count": 164,
   "metadata": {},
   "outputs": [
    {
     "data": {
      "text/plain": [
       "6649"
      ]
     },
     "execution_count": 164,
     "metadata": {},
     "output_type": "execute_result"
    }
   ],
   "source": [
    "wdf['Annual_salary'].shape[0]"
   ]
  },
  {
   "cell_type": "code",
   "execution_count": 165,
   "metadata": {},
   "outputs": [
    {
     "data": {
      "image/png": "[encoded data removed]",
      "text/plain": [
       "<Figure size 864x576 with 1 Axes>"
      ]
     },
     "metadata": {
      "needs_background": "light"
     },
     "output_type": "display_data"
    }
   ],
   "source": [
    "# Get the top 20 countries by frequency\n",
    "top_20_countries2 = wdf['Country'].value_counts().head(20).index\n",
    "\n",
    "# Filter the dataset to include only the top 20 countries\n",
    "filtered_wdf = wdf[wdf['Country'].isin(top_20_countries2)]\n",
    "\n",
    "# Get the number of cases per country\n",
    "country_counts = filtered_wdf.groupby('Country')['Annual_salary'].count().reset_index()\n",
    "country_counts.columns = ['Country', 'Number of cases']\n",
    "\n",
    "# Merge the number of cases with the filtered_wdf2 dataset\n",
    "filtered_wdf2 = pd.merge(filtered_wdf, country_counts, on='Country')\n",
    "\n",
    "# Sort the dataset by the number of values per country\n",
    "sorted_countries2 = filtered_wdf2.groupby('Country')['Annual_salary'].median().sort_values(ascending=False).index\n",
    "\n",
    "# Create the boxplot\n",
    "fig, ax = plt.subplots(figsize=(12, 8))\n",
    "sns.boxplot(x='Annual_salary', y='Country', data=filtered_wdf, palette='Set2', ax=ax, order=sorted_countries2)\n",
    "plt.title('Boxplot of Annual Salaries by Country after thresholding')\n",
    "plt.xlabel('Annual Salary')\n",
    "plt.ylabel('Country')\n",
    "\n",
    "plt.savefig(\"../paper/data-preparation/test/outliers-before-mad-2.pdf\");"
   ]
  },
  {
   "attachments": {},
   "cell_type": "markdown",
   "metadata": {},
   "source": [
    "Despite salaries now have a normal distribution after applying some scalation, we still see a lot of multivariate outliers on each Country salary distribution.\n",
    "One of the more robust methods to identify outliers, is the MAD. Hence, we will make a formula to identify the outliers per country and delete them using this method"
   ]
  },
  {
   "cell_type": "code",
   "execution_count": 166,
   "metadata": {},
   "outputs": [
    {
     "data": {
      "text/plain": [
       "0"
      ]
     },
     "execution_count": 166,
     "metadata": {},
     "output_type": "execute_result"
    }
   ],
   "source": [
    "# Calcular la mediana y el MAD por país\n",
    "medians_and_mads = wdf.groupby('Country')['Annual_salary'].agg(['median', lambda x: np.median(np.abs(x - x.median()))]).reset_index()\n",
    "medians_and_mads.columns = ['Country', 'Country_median', 'Country_mad']\n",
    "# Agregar la mediana y el MAD de cada país al conjunto de datos original\n",
    "wdf_with_medians_and_mads = pd.merge(wdf, medians_and_mads, on='Country')\n",
    "wdf_with_medians_and_mads.Annual_salary.isnull().sum()"
   ]
  },
  {
   "cell_type": "code",
   "execution_count": 167,
   "metadata": {},
   "outputs": [],
   "source": [
    "C = 2\n",
    "scaled_country_mad = 1.4826 * wdf_with_medians_and_mads['Country_mad']\n",
    "lower_limit = wdf_with_medians_and_mads['Country_median'] - C * scaled_country_mad\n",
    "upper_limit = wdf_with_medians_and_mads['Country_median'] + C * scaled_country_mad\n",
    "\n",
    "cleaned_wdf = wdf_with_medians_and_mads[(wdf_with_medians_and_mads['Annual_salary'] >= lower_limit) & (wdf_with_medians_and_mads['Annual_salary'] <= upper_limit)]\n"
   ]
  },
  {
   "cell_type": "code",
   "execution_count": 168,
   "metadata": {},
   "outputs": [
    {
     "data": {
      "image/png": "[encoded data removed]",
      "text/plain": [
       "<Figure size 864x576 with 1 Axes>"
      ]
     },
     "metadata": {
      "needs_background": "light"
     },
     "output_type": "display_data"
    }
   ],
   "source": [
    "# Get the top 20 countries by frequency\n",
    "top_20_countries2 = cleaned_wdf['Country'].value_counts().head(20).index\n",
    "\n",
    "# Filter the dataset to include only the top 20 countries\n",
    "filtered_wdf = cleaned_wdf[cleaned_wdf['Country'].isin(top_20_countries2)]\n",
    "\n",
    "# Get the number of cases per country\n",
    "country_counts = filtered_wdf.groupby('Country')['Annual_salary'].count().reset_index()\n",
    "country_counts.columns = ['Country', 'Number of cases']\n",
    "\n",
    "# Merge the number of cases with the filtered_wdf2 dataset\n",
    "filtered_wdf2 = pd.merge(filtered_wdf, country_counts, on='Country')\n",
    "\n",
    "# Sort the dataset by the number of values per country\n",
    "sorted_countries2 = filtered_wdf2.groupby('Country')['Annual_salary'].median().sort_values(ascending=False).index\n",
    "\n",
    "# Create the boxplot\n",
    "fig, ax = plt.subplots(figsize=(12, 8))\n",
    "sns.boxplot(x='Annual_salary', y='Country', data=filtered_wdf, palette='Set2', ax=ax, order=sorted_countries2)\n",
    "plt.title('Boxplot of Annual Salaries by Country after thresholding')\n",
    "plt.xlabel('Annual Salary')\n",
    "plt.ylabel('Country')\n",
    "\n",
    "plt.savefig(\"../paper/data-preparation/test/outliers-after-mad-2.pdf\");"
   ]
  },
  {
   "cell_type": "code",
   "execution_count": 169,
   "metadata": {},
   "outputs": [
    {
     "data": {
      "text/plain": [
       "((6001, 19), (6649, 17))"
      ]
     },
     "execution_count": 169,
     "metadata": {},
     "output_type": "execute_result"
    }
   ],
   "source": [
    "cleaned_wdf.shape, wdf.shape"
   ]
  },
  {
   "cell_type": "code",
   "execution_count": 170,
   "metadata": {},
   "outputs": [
    {
     "name": "stderr",
     "output_type": "stream",
     "text": [
      "C:\\Users\\fenan\\AppData\\Local\\Temp\\ipykernel_10540\\841836538.py:2: SettingWithCopyWarning: \n",
      "A value is trying to be set on a copy of a slice from a DataFrame\n",
      "\n",
      "See the caveats in the documentation: https://pandas.pydata.org/pandas-docs/stable/user_guide/indexing.html#returning-a-view-versus-a-copy\n",
      "  wdf.drop(['Country_median', 'Country_mad'], axis=1, inplace=True)\n"
     ]
    },
    {
     "data": {
      "text/html": [
       "<div>\n",
       "<style scoped>\n",
       "    .dataframe tbody tr th:only-of-type {\n",
       "        vertical-align: middle;\n",
       "    }\n",
       "\n",
       "    .dataframe tbody tr th {\n",
       "        vertical-align: top;\n",
       "    }\n",
       "\n",
       "    .dataframe thead th {\n",
       "        text-align: right;\n",
       "    }\n",
       "</style>\n",
       "<table border=\"1\" class=\"dataframe\">\n",
       "  <thead>\n",
       "    <tr style=\"text-align: right;\">\n",
       "      <th></th>\n",
       "      <th>Job_type</th>\n",
       "      <th>Remote_work</th>\n",
       "      <th>Coding_as_hobby</th>\n",
       "      <th>Education</th>\n",
       "      <th>Certifications</th>\n",
       "      <th>Job_title</th>\n",
       "      <th>Company_size</th>\n",
       "      <th>Country</th>\n",
       "      <th>Age</th>\n",
       "      <th>Gender</th>\n",
       "      <th>Sexual_orientation</th>\n",
       "      <th>Ethnicity</th>\n",
       "      <th>Physical_disability</th>\n",
       "      <th>Mental_disability</th>\n",
       "      <th>Work_experience</th>\n",
       "      <th>Coding_experience</th>\n",
       "      <th>Annual_salary</th>\n",
       "    </tr>\n",
       "  </thead>\n",
       "  <tbody>\n",
       "    <tr>\n",
       "      <th>0</th>\n",
       "      <td>Full-time employed</td>\n",
       "      <td>remote</td>\n",
       "      <td>no</td>\n",
       "      <td>Bachelor's degree</td>\n",
       "      <td>no</td>\n",
       "      <td>Developer, full-stack</td>\n",
       "      <td>M</td>\n",
       "      <td>Israel</td>\n",
       "      <td>35-44 years old</td>\n",
       "      <td>Man</td>\n",
       "      <td>Straight / Heterosexual</td>\n",
       "      <td>White / European</td>\n",
       "      <td>no</td>\n",
       "      <td>No</td>\n",
       "      <td>NaN</td>\n",
       "      <td>17</td>\n",
       "      <td>215232.0</td>\n",
       "    </tr>\n",
       "    <tr>\n",
       "      <th>1</th>\n",
       "      <td>Full-time employed</td>\n",
       "      <td>hybrid</td>\n",
       "      <td>yes</td>\n",
       "      <td>Bachelor's degree</td>\n",
       "      <td>no</td>\n",
       "      <td>Developer, back-end</td>\n",
       "      <td>XL</td>\n",
       "      <td>Israel</td>\n",
       "      <td>25-34 years old</td>\n",
       "      <td>Woman</td>\n",
       "      <td>Gay or Lesbian</td>\n",
       "      <td>Other</td>\n",
       "      <td>no</td>\n",
       "      <td>Various_disabilities</td>\n",
       "      <td>10.0</td>\n",
       "      <td>10</td>\n",
       "      <td>197292.0</td>\n",
       "    </tr>\n",
       "    <tr>\n",
       "      <th>2</th>\n",
       "      <td>Full-time employed</td>\n",
       "      <td>hybrid</td>\n",
       "      <td>yes</td>\n",
       "      <td>Bachelor's degree</td>\n",
       "      <td>no</td>\n",
       "      <td>Developer, desktop or enterprise applications;...</td>\n",
       "      <td>S</td>\n",
       "      <td>Israel</td>\n",
       "      <td>25-34 years old</td>\n",
       "      <td>Man</td>\n",
       "      <td>Straight / Heterosexual</td>\n",
       "      <td>Middle Eastern / North African</td>\n",
       "      <td>no</td>\n",
       "      <td>No</td>\n",
       "      <td>5.0</td>\n",
       "      <td>6</td>\n",
       "      <td>69588.0</td>\n",
       "    </tr>\n",
       "    <tr>\n",
       "      <th>3</th>\n",
       "      <td>Full-time employed</td>\n",
       "      <td>in-person</td>\n",
       "      <td>yes</td>\n",
       "      <td>Bachelor's degree</td>\n",
       "      <td>no</td>\n",
       "      <td>Developer, full-stack;Developer, back-end</td>\n",
       "      <td>M</td>\n",
       "      <td>Israel</td>\n",
       "      <td>25-34 years old</td>\n",
       "      <td>Man</td>\n",
       "      <td>Straight / Heterosexual</td>\n",
       "      <td>Prefer not to say / I don't know</td>\n",
       "      <td>no</td>\n",
       "      <td>Anxiety_disorder</td>\n",
       "      <td>5.0</td>\n",
       "      <td>6</td>\n",
       "      <td>136308.0</td>\n",
       "    </tr>\n",
       "    <tr>\n",
       "      <th>4</th>\n",
       "      <td>Full-time employed</td>\n",
       "      <td>hybrid</td>\n",
       "      <td>yes</td>\n",
       "      <td>Bachelor's degree</td>\n",
       "      <td>no</td>\n",
       "      <td>Developer, full-stack</td>\n",
       "      <td>M</td>\n",
       "      <td>Israel</td>\n",
       "      <td>35-44 years old</td>\n",
       "      <td>Woman</td>\n",
       "      <td>Straight / Heterosexual</td>\n",
       "      <td>White / European</td>\n",
       "      <td>no</td>\n",
       "      <td>No</td>\n",
       "      <td>9.0</td>\n",
       "      <td>9</td>\n",
       "      <td>115500.0</td>\n",
       "    </tr>\n",
       "  </tbody>\n",
       "</table>\n",
       "</div>"
      ],
      "text/plain": [
       "             Job_type Remote_work Coding_as_hobby          Education  \\\n",
       "0  Full-time employed      remote              no  Bachelor's degree   \n",
       "1  Full-time employed      hybrid             yes  Bachelor's degree   \n",
       "2  Full-time employed      hybrid             yes  Bachelor's degree   \n",
       "3  Full-time employed   in-person             yes  Bachelor's degree   \n",
       "4  Full-time employed      hybrid             yes  Bachelor's degree   \n",
       "\n",
       "  Certifications                                          Job_title  \\\n",
       "0             no                              Developer, full-stack   \n",
       "1             no                                Developer, back-end   \n",
       "2             no  Developer, desktop or enterprise applications;...   \n",
       "3             no          Developer, full-stack;Developer, back-end   \n",
       "4             no                              Developer, full-stack   \n",
       "\n",
       "  Company_size Country              Age Gender       Sexual_orientation  \\\n",
       "0            M  Israel  35-44 years old    Man  Straight / Heterosexual   \n",
       "1           XL  Israel  25-34 years old  Woman           Gay or Lesbian   \n",
       "2            S  Israel  25-34 years old    Man  Straight / Heterosexual   \n",
       "3            M  Israel  25-34 years old    Man  Straight / Heterosexual   \n",
       "4            M  Israel  35-44 years old  Woman  Straight / Heterosexual   \n",
       "\n",
       "                          Ethnicity Physical_disability     Mental_disability  \\\n",
       "0                  White / European                  no                    No   \n",
       "1                             Other                  no  Various_disabilities   \n",
       "2    Middle Eastern / North African                  no                    No   \n",
       "3  Prefer not to say / I don't know                  no      Anxiety_disorder   \n",
       "4                  White / European                  no                    No   \n",
       "\n",
       "   Work_experience Coding_experience  Annual_salary  \n",
       "0              NaN                17       215232.0  \n",
       "1             10.0                10       197292.0  \n",
       "2              5.0                 6        69588.0  \n",
       "3              5.0                 6       136308.0  \n",
       "4              9.0                 9       115500.0  "
      ]
     },
     "execution_count": 170,
     "metadata": {},
     "output_type": "execute_result"
    }
   ],
   "source": [
    "wdf = cleaned_wdf\n",
    "wdf.drop(['Country_median', 'Country_mad'], axis=1, inplace=True)\n",
    "wdf.head()"
   ]
  },
  {
   "cell_type": "code",
   "execution_count": 171,
   "metadata": {},
   "outputs": [
    {
     "data": {
      "image/png": "[encoded data removed]",
      "text/plain": [
       "<Figure size 432x288 with 1 Axes>"
      ]
     },
     "metadata": {
      "needs_background": "light"
     },
     "output_type": "display_data"
    }
   ],
   "source": [
    "wdf[(wdf.Annual_salary < wdf.Annual_salary.max()) & (wdf.Annual_salary > wdf.Annual_salary.min())].Annual_salary.hist(bins='scott', density=True)\n",
    "plt.savefig(\"../paper/data-preparation/test/salary-distrib-min-max-2.pdf\");"
   ]
  },
  {
   "cell_type": "code",
   "execution_count": 172,
   "metadata": {},
   "outputs": [
    {
     "data": {
      "image/png": "[encoded data removed]",
      "text/plain": [
       "<Figure size 432x288 with 1 Axes>"
      ]
     },
     "metadata": {
      "needs_background": "light"
     },
     "output_type": "display_data"
    }
   ],
   "source": [
    "np.sqrt(wdf[(wdf.Annual_salary < wdf.Annual_salary.max()) & (wdf.Annual_salary > wdf.Annual_salary.min())].Annual_salary).hist(bins='scott', density=True)\n",
    "plt.savefig(\"../paper/data-preparation/test/salary-distrib-min-max-sqrt-2.pdf\");"
   ]
  },
  {
   "cell_type": "code",
   "execution_count": 173,
   "metadata": {},
   "outputs": [
    {
     "data": {
      "image/png": "[encoded data removed]",
      "text/plain": [
       "<Figure size 432x288 with 1 Axes>"
      ]
     },
     "metadata": {
      "needs_background": "light"
     },
     "output_type": "display_data"
    }
   ],
   "source": [
    "np.log(wdf[(wdf.Annual_salary < wdf.Annual_salary.max()) & (wdf.Annual_salary > wdf.Annual_salary.min())].Annual_salary).hist(bins='scott', density=True)\n",
    "plt.savefig(\"../paper/data-preparation/test/salary-distrib-min-max-log-2.pdf\");"
   ]
  },
  {
   "cell_type": "code",
   "execution_count": 174,
   "metadata": {},
   "outputs": [
    {
     "data": {
      "image/png": "[encoded data removed]",
      "text/plain": [
       "<Figure size 432x288 with 1 Axes>"
      ]
     },
     "metadata": {
      "needs_background": "light"
     },
     "output_type": "display_data"
    }
   ],
   "source": [
    "salaries = np.sqrt(wdf[(wdf.Annual_salary < wdf.Annual_salary.max()) & (wdf.Annual_salary > wdf.Annual_salary.min())].Annual_salary)\n",
    "\n",
    "fig, ax = plt.subplots()\n",
    "\n",
    "sns.kdeplot(salaries, ax=ax, fill=False, color='red')\n",
    "salaries.hist(ax=ax, bins='scott', alpha=0.5, density=True)\n",
    "\n",
    "plt.xlabel('Annual salary (USD)')\n",
    "plt.ylabel('Density')\n",
    "plt.title('Annual salary distribution (USD)')\n",
    "\n",
    "plt.savefig(\"../paper/data-preparation/test/salary-distrib-min-max-sqrt-chosen-2.pdf\");"
   ]
  },
  {
   "cell_type": "markdown",
   "metadata": {},
   "source": [
    "\n",
    "- **Initial Analysis**\n",
    "    - **Min and Max Values**: Identified the range of the salaries.\n",
    "    - **Histogram Plotting**: Visualized the initial data distribution with salaries less than 500,000.\n",
    "\n",
    "- **Data Cleaning**\n",
    "    - **Setting Thresholds**: Established lower and upper salary thresholds.\n",
    "    - **Filtering Data**: Removed entries outside the thresholds and reset the data frame index.\n",
    "\n",
    "- **Focus on Top 20 Countries**\n",
    "    - **Identifying Top 20 Countries**: Selected top 20 countries by response count.\n",
    "    - **Boxplot**: Visualized salary distribution in these countries before and after data cleaning.\n",
    "\n",
    "- **Incorporating MAD and Median**\n",
    "    - **Calculations**: Derived Median and Median Absolute Deviation (MAD) for each country.\n",
    "    - **Data Merging**: Integrated these statistics into the main data frame for further analysis.\n",
    "\n",
    "- **Further Cleaning using MAD**\n",
    "    - **New Bounds**: Set new bounds using MAD and filtered the data to remove outliers.\n",
    "    - **Final Dataset**: Obtained a cleaner dataset by removing entries outside these bounds.\n",
    "\n",
    "- **Distribution Transformation**\n",
    "    - **Histograms**: Explored normalization using square root and log transformations through histograms.\n",
    "    - **Density Plot**: Created a density plot overlay on the square root transformed data histogram to visualize the distribution.\n",
    "\n",
    "- **Outcome**\n",
    "    - **Refined Data**: A dataset cleaned of outliers, ready for precise analyses.\n",
    "    - **Visual Insights**: Detailed visuals providing insights into salary distribution across various countries and showcasing the impact of different data transformations.\n"
   ]
  },
  {
   "attachments": {},
   "cell_type": "markdown",
   "metadata": {},
   "source": [
    "### `Job_title` column"
   ]
  },
  {
   "cell_type": "code",
   "execution_count": 175,
   "metadata": {},
   "outputs": [
    {
     "data": {
      "text/plain": [
       "['Developer, full-stack',\n",
       " 'Developer, back-end',\n",
       " 'Developer, desktop or enterprise applications',\n",
       " 'Developer, embedded applications or devices',\n",
       " 'Developer, front-end',\n",
       " 'Senior Executive (C-Suite, VP, etc.)',\n",
       " 'Developer, QA or test',\n",
       " 'Cloud infrastructure engineer',\n",
       " 'Developer, mobile',\n",
       " 'System administrator',\n",
       " 'Security professional',\n",
       " 'Data scientist or machine learning specialist',\n",
       " 'Engineer, data',\n",
       " 'DevOps specialist',\n",
       " 'Engineering manager',\n",
       " 'Project manager',\n",
       " 'Product manager',\n",
       " 'Engineer, site reliability',\n",
       " 'Database administrator',\n",
       " 'Designer',\n",
       " 'Data or business analyst',\n",
       " 'Developer, game or graphics',\n",
       " 'Academic researcher',\n",
       " 'Blockchain',\n",
       " 'Scientist',\n",
       " 'Educator',\n",
       " 'Marketing or sales professional',\n",
       " 'Student']"
      ]
     },
     "execution_count": 175,
     "metadata": {},
     "output_type": "execute_result"
    }
   ],
   "source": [
    "# Let's see the unique values of the 'Job_title' column\n",
    "devs_list = []\n",
    "\n",
    "# Itera sobre cada valor en la columna 'DevType'\n",
    "for dev_type in wdf['Job_title']:\n",
    "    # Si el valor actual no es nulo\n",
    "    if not pd.isnull(dev_type):\n",
    "        # Itera sobre cada subvalor del valor actual de 'DevType'\n",
    "        for dev_sub_type in dev_type.split(';'):\n",
    "            # Si el subvalor actual no está en devs_list y no contiene 'Other (please specify):', lo agrega\n",
    "            if dev_sub_type.strip() not in devs_list and 'Other (please specify):' not in dev_sub_type:\n",
    "                devs_list.append(dev_sub_type.strip())\n",
    "\n",
    "devs_list"
   ]
  },
  {
   "cell_type": "code",
   "execution_count": 176,
   "metadata": {},
   "outputs": [
    {
     "name": "stdout",
     "output_type": "stream",
     "text": [
      "554\n"
     ]
    },
    {
     "name": "stderr",
     "output_type": "stream",
     "text": [
      "C:\\Users\\fenan\\AppData\\Local\\Temp\\ipykernel_10540\\2439887135.py:20: SettingWithCopyWarning: \n",
      "A value is trying to be set on a copy of a slice from a DataFrame.\n",
      "Try using .loc[row_indexer,col_indexer] = value instead\n",
      "\n",
      "See the caveats in the documentation: https://pandas.pydata.org/pandas-docs/stable/user_guide/indexing.html#returning-a-view-versus-a-copy\n",
      "  wdf['DevType_len'] = wdf['Job_title'].apply(lambda x: len(x.split(';')))\n"
     ]
    }
   ],
   "source": [
    "# Let's keep the rows with AI/ML related fields\n",
    "\n",
    "AI_ML_devs = ['Data scientist or machine learning specialist',\n",
    " 'Engineer, data',\n",
    " 'Data or business analyst',\n",
    " 'Scientist']\n",
    "\n",
    "def check_AI_ML_dev(row):\n",
    "    if pd.isna(row['Job_title']) or row['Job_title'] == '':\n",
    "        return False\n",
    "    dev_types = row['Job_title'].split(';')\n",
    "    for dev in AI_ML_devs:\n",
    "        if dev in dev_types:\n",
    "            return True\n",
    "    return False\n",
    "\n",
    "# Filter DataFrame deleting rows where check_AI_ML_dev is False\n",
    "wdf = wdf[wdf.apply(check_AI_ML_dev, axis=1)]\n",
    "\n",
    "wdf['DevType_len'] = wdf['Job_title'].apply(lambda x: len(x.split(';')))\n",
    "wdf = wdf.loc[wdf['DevType_len'] <= 4]\n",
    "wdf = wdf.drop('DevType_len', axis=1)\n",
    "\n",
    "# Let's see how many rows we have left\n",
    "print(wdf.shape[0])"
   ]
  },
  {
   "cell_type": "code",
   "execution_count": 177,
   "metadata": {},
   "outputs": [
    {
     "data": {
      "text/plain": [
       "218"
      ]
     },
     "execution_count": 177,
     "metadata": {},
     "output_type": "execute_result"
    }
   ],
   "source": [
    "wdf.Job_title.nunique()"
   ]
  },
  {
   "attachments": {},
   "cell_type": "markdown",
   "metadata": {},
   "source": [
    "We apply the following function to standardize and clean the \"Job_title\" column in the dataset. The function splits job titles, removes extra spaces, creates a list of unique titles, sorts them alphabetically, and then joins them back together with a consistent delimiter. By doing this, we ensure that the model treats job titles consistently, regardless of the order they appear in, which can lead to more accurate predictions. Also, it will 'Other (please specify):' from the options of Job titles\n"
   ]
  },
  {
   "cell_type": "code",
   "execution_count": 178,
   "metadata": {},
   "outputs": [
    {
     "data": {
      "text/html": [
       "<div>\n",
       "<style scoped>\n",
       "    .dataframe tbody tr th:only-of-type {\n",
       "        vertical-align: middle;\n",
       "    }\n",
       "\n",
       "    .dataframe tbody tr th {\n",
       "        vertical-align: top;\n",
       "    }\n",
       "\n",
       "    .dataframe thead th {\n",
       "        text-align: right;\n",
       "    }\n",
       "</style>\n",
       "<table border=\"1\" class=\"dataframe\">\n",
       "  <thead>\n",
       "    <tr style=\"text-align: right;\">\n",
       "      <th></th>\n",
       "      <th>Job_title</th>\n",
       "      <th>Cleaned_Job_title</th>\n",
       "    </tr>\n",
       "  </thead>\n",
       "  <tbody>\n",
       "    <tr>\n",
       "      <th>5555</th>\n",
       "      <td>Data or business analyst</td>\n",
       "      <td>Data or business analyst</td>\n",
       "    </tr>\n",
       "    <tr>\n",
       "      <th>3106</th>\n",
       "      <td>Data scientist or machine learning specialist;...</td>\n",
       "      <td>Data or business analyst;Data scientist or mac...</td>\n",
       "    </tr>\n",
       "    <tr>\n",
       "      <th>1450</th>\n",
       "      <td>Data or business analyst</td>\n",
       "      <td>Data or business analyst</td>\n",
       "    </tr>\n",
       "    <tr>\n",
       "      <th>2452</th>\n",
       "      <td>Developer, front-end;Engineer, data;Developer,...</td>\n",
       "      <td>Developer, front-end;Developer, full-stack;Eng...</td>\n",
       "    </tr>\n",
       "    <tr>\n",
       "      <th>5100</th>\n",
       "      <td>Engineer, data;Developer, back-end;Database ad...</td>\n",
       "      <td>Database administrator;Developer, back-end;Eng...</td>\n",
       "    </tr>\n",
       "    <tr>\n",
       "      <th>5172</th>\n",
       "      <td>Engineer, data;Data or business analyst</td>\n",
       "      <td>Data or business analyst;Engineer, data</td>\n",
       "    </tr>\n",
       "    <tr>\n",
       "      <th>3639</th>\n",
       "      <td>Data or business analyst;Product manager</td>\n",
       "      <td>Data or business analyst;Product manager</td>\n",
       "    </tr>\n",
       "    <tr>\n",
       "      <th>1436</th>\n",
       "      <td>Data scientist or machine learning specialist;...</td>\n",
       "      <td>Academic researcher;Data or business analyst;D...</td>\n",
       "    </tr>\n",
       "    <tr>\n",
       "      <th>6447</th>\n",
       "      <td>Data scientist or machine learning specialist;...</td>\n",
       "      <td>Academic researcher;Data scientist or machine ...</td>\n",
       "    </tr>\n",
       "    <tr>\n",
       "      <th>813</th>\n",
       "      <td>Data scientist or machine learning specialist;...</td>\n",
       "      <td>Data scientist or machine learning specialist</td>\n",
       "    </tr>\n",
       "    <tr>\n",
       "      <th>2186</th>\n",
       "      <td>Database administrator;Data or business analyst</td>\n",
       "      <td>Data or business analyst;Database administrator</td>\n",
       "    </tr>\n",
       "    <tr>\n",
       "      <th>2659</th>\n",
       "      <td>Data scientist or machine learning specialist;...</td>\n",
       "      <td>Academic researcher;Data scientist or machine ...</td>\n",
       "    </tr>\n",
       "    <tr>\n",
       "      <th>4665</th>\n",
       "      <td>Data scientist or machine learning specialist;...</td>\n",
       "      <td>Academic researcher;Data scientist or machine ...</td>\n",
       "    </tr>\n",
       "    <tr>\n",
       "      <th>5214</th>\n",
       "      <td>Scientist</td>\n",
       "      <td>Scientist</td>\n",
       "    </tr>\n",
       "    <tr>\n",
       "      <th>3233</th>\n",
       "      <td>Data or business analyst</td>\n",
       "      <td>Data or business analyst</td>\n",
       "    </tr>\n",
       "    <tr>\n",
       "      <th>4432</th>\n",
       "      <td>Academic researcher;Scientist</td>\n",
       "      <td>Academic researcher;Scientist</td>\n",
       "    </tr>\n",
       "    <tr>\n",
       "      <th>6478</th>\n",
       "      <td>Academic researcher;Data or business analyst</td>\n",
       "      <td>Academic researcher;Data or business analyst</td>\n",
       "    </tr>\n",
       "    <tr>\n",
       "      <th>1256</th>\n",
       "      <td>Data scientist or machine learning specialist;...</td>\n",
       "      <td>Data or business analyst;Data scientist or mac...</td>\n",
       "    </tr>\n",
       "    <tr>\n",
       "      <th>4936</th>\n",
       "      <td>Data scientist or machine learning specialist</td>\n",
       "      <td>Data scientist or machine learning specialist</td>\n",
       "    </tr>\n",
       "    <tr>\n",
       "      <th>1434</th>\n",
       "      <td>Data scientist or machine learning specialist</td>\n",
       "      <td>Data scientist or machine learning specialist</td>\n",
       "    </tr>\n",
       "  </tbody>\n",
       "</table>\n",
       "</div>"
      ],
      "text/plain": [
       "                                              Job_title  \\\n",
       "5555                           Data or business analyst   \n",
       "3106  Data scientist or machine learning specialist;...   \n",
       "1450                           Data or business analyst   \n",
       "2452  Developer, front-end;Engineer, data;Developer,...   \n",
       "5100  Engineer, data;Developer, back-end;Database ad...   \n",
       "5172            Engineer, data;Data or business analyst   \n",
       "3639           Data or business analyst;Product manager   \n",
       "1436  Data scientist or machine learning specialist;...   \n",
       "6447  Data scientist or machine learning specialist;...   \n",
       "813   Data scientist or machine learning specialist;...   \n",
       "2186    Database administrator;Data or business analyst   \n",
       "2659  Data scientist or machine learning specialist;...   \n",
       "4665  Data scientist or machine learning specialist;...   \n",
       "5214                                          Scientist   \n",
       "3233                           Data or business analyst   \n",
       "4432                      Academic researcher;Scientist   \n",
       "6478       Academic researcher;Data or business analyst   \n",
       "1256  Data scientist or machine learning specialist;...   \n",
       "4936      Data scientist or machine learning specialist   \n",
       "1434      Data scientist or machine learning specialist   \n",
       "\n",
       "                                      Cleaned_Job_title  \n",
       "5555                           Data or business analyst  \n",
       "3106  Data or business analyst;Data scientist or mac...  \n",
       "1450                           Data or business analyst  \n",
       "2452  Developer, front-end;Developer, full-stack;Eng...  \n",
       "5100  Database administrator;Developer, back-end;Eng...  \n",
       "5172            Data or business analyst;Engineer, data  \n",
       "3639           Data or business analyst;Product manager  \n",
       "1436  Academic researcher;Data or business analyst;D...  \n",
       "6447  Academic researcher;Data scientist or machine ...  \n",
       "813       Data scientist or machine learning specialist  \n",
       "2186    Data or business analyst;Database administrator  \n",
       "2659  Academic researcher;Data scientist or machine ...  \n",
       "4665  Academic researcher;Data scientist or machine ...  \n",
       "5214                                          Scientist  \n",
       "3233                           Data or business analyst  \n",
       "4432                      Academic researcher;Scientist  \n",
       "6478       Academic researcher;Data or business analyst  \n",
       "1256  Data or business analyst;Data scientist or mac...  \n",
       "4936      Data scientist or machine learning specialist  \n",
       "1434      Data scientist or machine learning specialist  "
      ]
     },
     "execution_count": 178,
     "metadata": {},
     "output_type": "execute_result"
    }
   ],
   "source": [
    "def clean_job_titles(job_title):\n",
    "    job_list = job_title.split(';')\n",
    "    job_list = [job.strip() for job in job_list]\n",
    "    job_list = [job for job in job_list if job != 'Other (please specify):']\n",
    "    unique_jobs = list(set(job_list))\n",
    "    sorted_jobs = sorted(unique_jobs)\n",
    "    return ';'.join(sorted_jobs)\n",
    "\n",
    "wdf['Cleaned_Job_title'] = wdf['Job_title'].apply(clean_job_titles)\n",
    "# Imprime las columnas 'Job_title' y 'Cleaned_Job_title' lado a lado\n",
    "wdf[['Job_title', 'Cleaned_Job_title']].sample(20)\n"
   ]
  },
  {
   "cell_type": "code",
   "execution_count": 179,
   "metadata": {},
   "outputs": [
    {
     "name": "stdout",
     "output_type": "stream",
     "text": [
      "28\n",
      "['Engineer, site reliability', 'Product manager', 'Developer, full-stack', 'Engineer, data', 'Security professional', 'Data scientist or machine learning specialist', 'Developer, front-end', 'Developer, game or graphics', 'Data or business analyst', 'Developer, QA or test', 'Cloud infrastructure engineer', 'Engineering manager', 'Educator', 'Academic researcher', 'Student', 'Scientist', 'Marketing or sales professional', 'System administrator', 'Developer, mobile', 'Developer, desktop or enterprise applications', 'Designer', 'Project manager', 'DevOps specialist', 'Database administrator', 'Blockchain', 'Developer, embedded applications or devices', 'Senior Executive (C-Suite, VP, etc.)', 'Developer, back-end']\n"
     ]
    }
   ],
   "source": [
    "# Actualizar la columna 'Job_title' con los valores de 'Cleaned_Job_title'\n",
    "wdf['Job_title'] = wdf['Cleaned_Job_title']\n",
    "\n",
    "# Eliminar la columna 'Cleaned_Job_title' del DataFrame\n",
    "wdf.drop(columns=['Cleaned_Job_title'], inplace=True)\n",
    "\n",
    "# Obtener todos los títulos de trabajo únicos\n",
    "unique_job_titles = list(set(wdf['Job_title'].str.split(';', expand=True).stack()))\n",
    "\n",
    "# Contar la cantidad de títulos de trabajo únicos\n",
    "unique_job_titles_count = len(unique_job_titles)\n",
    "\n",
    "# Imprimir la cantidad de títulos de trabajo únicos\n",
    "print(unique_job_titles_count)\n",
    "print(unique_job_titles)\n",
    "\n"
   ]
  },
  {
   "cell_type": "code",
   "execution_count": 180,
   "metadata": {},
   "outputs": [
    {
     "data": {
      "text/html": [
       "<div>\n",
       "<style scoped>\n",
       "    .dataframe tbody tr th:only-of-type {\n",
       "        vertical-align: middle;\n",
       "    }\n",
       "\n",
       "    .dataframe tbody tr th {\n",
       "        vertical-align: top;\n",
       "    }\n",
       "\n",
       "    .dataframe thead th {\n",
       "        text-align: right;\n",
       "    }\n",
       "</style>\n",
       "<table border=\"1\" class=\"dataframe\">\n",
       "  <thead>\n",
       "    <tr style=\"text-align: right;\">\n",
       "      <th></th>\n",
       "      <th>Job_type</th>\n",
       "      <th>Remote_work</th>\n",
       "      <th>Coding_as_hobby</th>\n",
       "      <th>Education</th>\n",
       "      <th>Certifications</th>\n",
       "      <th>Job_title</th>\n",
       "      <th>Company_size</th>\n",
       "      <th>Country</th>\n",
       "      <th>Age</th>\n",
       "      <th>Gender</th>\n",
       "      <th>...</th>\n",
       "      <th>Engineer, site reliability</th>\n",
       "      <th>Engineering manager</th>\n",
       "      <th>Marketing or sales professional</th>\n",
       "      <th>Product manager</th>\n",
       "      <th>Project manager</th>\n",
       "      <th>Scientist</th>\n",
       "      <th>Security professional</th>\n",
       "      <th>Senior Executive (C-Suite, VP, etc.)</th>\n",
       "      <th>Student</th>\n",
       "      <th>System administrator</th>\n",
       "    </tr>\n",
       "  </thead>\n",
       "  <tbody>\n",
       "    <tr>\n",
       "      <th>17</th>\n",
       "      <td>Full-time employed</td>\n",
       "      <td>hybrid</td>\n",
       "      <td>yes</td>\n",
       "      <td>Bachelor's degree</td>\n",
       "      <td>no</td>\n",
       "      <td>Data scientist or machine learning specialist;...</td>\n",
       "      <td>S</td>\n",
       "      <td>Israel</td>\n",
       "      <td>25-34 years old</td>\n",
       "      <td>Man</td>\n",
       "      <td>...</td>\n",
       "      <td>0</td>\n",
       "      <td>0</td>\n",
       "      <td>0</td>\n",
       "      <td>0</td>\n",
       "      <td>0</td>\n",
       "      <td>0</td>\n",
       "      <td>0</td>\n",
       "      <td>0</td>\n",
       "      <td>0</td>\n",
       "      <td>0</td>\n",
       "    </tr>\n",
       "    <tr>\n",
       "      <th>31</th>\n",
       "      <td>Full-time employed</td>\n",
       "      <td>hybrid</td>\n",
       "      <td>yes</td>\n",
       "      <td>Less than a Bachelor's</td>\n",
       "      <td>yes</td>\n",
       "      <td>Cloud infrastructure engineer;Data scientist o...</td>\n",
       "      <td>XS</td>\n",
       "      <td>Israel</td>\n",
       "      <td>25-34 years old</td>\n",
       "      <td>Man</td>\n",
       "      <td>...</td>\n",
       "      <td>0</td>\n",
       "      <td>0</td>\n",
       "      <td>0</td>\n",
       "      <td>0</td>\n",
       "      <td>0</td>\n",
       "      <td>0</td>\n",
       "      <td>0</td>\n",
       "      <td>0</td>\n",
       "      <td>0</td>\n",
       "      <td>0</td>\n",
       "    </tr>\n",
       "    <tr>\n",
       "      <th>44</th>\n",
       "      <td>Full-time employed</td>\n",
       "      <td>hybrid</td>\n",
       "      <td>yes</td>\n",
       "      <td>Bachelor's degree</td>\n",
       "      <td>no</td>\n",
       "      <td>Data or business analyst;Data scientist or mac...</td>\n",
       "      <td>M</td>\n",
       "      <td>Israel</td>\n",
       "      <td>35-44 years old</td>\n",
       "      <td>Man</td>\n",
       "      <td>...</td>\n",
       "      <td>0</td>\n",
       "      <td>0</td>\n",
       "      <td>0</td>\n",
       "      <td>0</td>\n",
       "      <td>0</td>\n",
       "      <td>0</td>\n",
       "      <td>0</td>\n",
       "      <td>0</td>\n",
       "      <td>0</td>\n",
       "      <td>0</td>\n",
       "    </tr>\n",
       "    <tr>\n",
       "      <th>55</th>\n",
       "      <td>Full-time employed</td>\n",
       "      <td>hybrid</td>\n",
       "      <td>no</td>\n",
       "      <td>Post grad</td>\n",
       "      <td>yes</td>\n",
       "      <td>Data scientist or machine learning specialist</td>\n",
       "      <td>XL</td>\n",
       "      <td>Israel</td>\n",
       "      <td>35-44 years old</td>\n",
       "      <td>Woman</td>\n",
       "      <td>...</td>\n",
       "      <td>0</td>\n",
       "      <td>0</td>\n",
       "      <td>0</td>\n",
       "      <td>0</td>\n",
       "      <td>0</td>\n",
       "      <td>0</td>\n",
       "      <td>0</td>\n",
       "      <td>0</td>\n",
       "      <td>0</td>\n",
       "      <td>0</td>\n",
       "    </tr>\n",
       "    <tr>\n",
       "      <th>59</th>\n",
       "      <td>Full-time employed</td>\n",
       "      <td>hybrid</td>\n",
       "      <td>yes</td>\n",
       "      <td>Master's degree</td>\n",
       "      <td>yes</td>\n",
       "      <td>Data scientist or machine learning specialist</td>\n",
       "      <td>M</td>\n",
       "      <td>Israel</td>\n",
       "      <td>35-44 years old</td>\n",
       "      <td>Man</td>\n",
       "      <td>...</td>\n",
       "      <td>0</td>\n",
       "      <td>0</td>\n",
       "      <td>0</td>\n",
       "      <td>0</td>\n",
       "      <td>0</td>\n",
       "      <td>0</td>\n",
       "      <td>0</td>\n",
       "      <td>0</td>\n",
       "      <td>0</td>\n",
       "      <td>0</td>\n",
       "    </tr>\n",
       "  </tbody>\n",
       "</table>\n",
       "<p>5 rows × 45 columns</p>\n",
       "</div>"
      ],
      "text/plain": [
       "              Job_type Remote_work Coding_as_hobby               Education  \\\n",
       "17  Full-time employed      hybrid             yes       Bachelor's degree   \n",
       "31  Full-time employed      hybrid             yes  Less than a Bachelor's   \n",
       "44  Full-time employed      hybrid             yes       Bachelor's degree   \n",
       "55  Full-time employed      hybrid              no               Post grad   \n",
       "59  Full-time employed      hybrid             yes         Master's degree   \n",
       "\n",
       "   Certifications                                          Job_title  \\\n",
       "17             no  Data scientist or machine learning specialist;...   \n",
       "31            yes  Cloud infrastructure engineer;Data scientist o...   \n",
       "44             no  Data or business analyst;Data scientist or mac...   \n",
       "55            yes      Data scientist or machine learning specialist   \n",
       "59            yes      Data scientist or machine learning specialist   \n",
       "\n",
       "   Company_size Country              Age Gender  ...  \\\n",
       "17            S  Israel  25-34 years old    Man  ...   \n",
       "31           XS  Israel  25-34 years old    Man  ...   \n",
       "44            M  Israel  35-44 years old    Man  ...   \n",
       "55           XL  Israel  35-44 years old  Woman  ...   \n",
       "59            M  Israel  35-44 years old    Man  ...   \n",
       "\n",
       "   Engineer, site reliability Engineering manager  \\\n",
       "17                          0                   0   \n",
       "31                          0                   0   \n",
       "44                          0                   0   \n",
       "55                          0                   0   \n",
       "59                          0                   0   \n",
       "\n",
       "   Marketing or sales professional Product manager  Project manager Scientist  \\\n",
       "17                               0               0                0         0   \n",
       "31                               0               0                0         0   \n",
       "44                               0               0                0         0   \n",
       "55                               0               0                0         0   \n",
       "59                               0               0                0         0   \n",
       "\n",
       "    Security professional  Senior Executive (C-Suite, VP, etc.)  Student  \\\n",
       "17                      0                                     0        0   \n",
       "31                      0                                     0        0   \n",
       "44                      0                                     0        0   \n",
       "55                      0                                     0        0   \n",
       "59                      0                                     0        0   \n",
       "\n",
       "    System administrator  \n",
       "17                     0  \n",
       "31                     0  \n",
       "44                     0  \n",
       "55                     0  \n",
       "59                     0  \n",
       "\n",
       "[5 rows x 45 columns]"
      ]
     },
     "execution_count": 180,
     "metadata": {},
     "output_type": "execute_result"
    }
   ],
   "source": [
    "# Separa los títulos de trabajo y aplica one-hot encoding\n",
    "job_title_dummies = wdf['Job_title'].str.get_dummies(sep=';')\n",
    "\n",
    "# Une el DataFrame original (wdf) con el nuevo DataFrame (job_title_dummies)\n",
    "wdf_extended = pd.concat([wdf, job_title_dummies], axis=1)\n",
    "\n",
    "# Muestra las primeras filas del nuevo DataFrame\n",
    "wdf_extended.head()\n"
   ]
  },
  {
   "cell_type": "code",
   "execution_count": 181,
   "metadata": {},
   "outputs": [],
   "source": [
    "import numpy as np\n",
    "import pandas as pd\n",
    "from sklearn.metrics import jaccard_score\n",
    "\n",
    "# Asumiendo que df_encoded es el DataFrame después de aplicar one-hot encoding\n",
    "columnas = job_title_dummies.columns\n",
    "\n",
    "# Crear una matriz vacía de similitud\n",
    "similitud_jaccard = np.zeros((len(columnas), len(columnas)))\n",
    "\n",
    "# Calcular la correlación de Jaccard entre cada par de columnas\n",
    "for i in range(len(columnas)):\n",
    "    for j in range(len(columnas)):\n",
    "        similitud_jaccard[i, j] = jaccard_score(job_title_dummies[columnas[i]], job_title_dummies[columnas[j]])\n",
    "\n",
    "# Convertir la matriz de similitud en un DataFrame\n",
    "df_similitud_jaccard = pd.DataFrame(similitud_jaccard, index=columnas, columns=columnas)\n"
   ]
  },
  {
   "cell_type": "code",
   "execution_count": 182,
   "metadata": {},
   "outputs": [
    {
     "data": {
      "text/html": [
       "<div>\n",
       "<style scoped>\n",
       "    .dataframe tbody tr th:only-of-type {\n",
       "        vertical-align: middle;\n",
       "    }\n",
       "\n",
       "    .dataframe tbody tr th {\n",
       "        vertical-align: top;\n",
       "    }\n",
       "\n",
       "    .dataframe thead th {\n",
       "        text-align: right;\n",
       "    }\n",
       "</style>\n",
       "<table border=\"1\" class=\"dataframe\">\n",
       "  <thead>\n",
       "    <tr style=\"text-align: right;\">\n",
       "      <th></th>\n",
       "      <th>Academic researcher</th>\n",
       "      <th>Blockchain</th>\n",
       "      <th>Cloud infrastructure engineer</th>\n",
       "      <th>Data or business analyst</th>\n",
       "      <th>Data scientist or machine learning specialist</th>\n",
       "      <th>Database administrator</th>\n",
       "      <th>Designer</th>\n",
       "      <th>DevOps specialist</th>\n",
       "      <th>Developer, QA or test</th>\n",
       "      <th>Developer, back-end</th>\n",
       "      <th>...</th>\n",
       "      <th>Engineer, site reliability</th>\n",
       "      <th>Engineering manager</th>\n",
       "      <th>Marketing or sales professional</th>\n",
       "      <th>Product manager</th>\n",
       "      <th>Project manager</th>\n",
       "      <th>Scientist</th>\n",
       "      <th>Security professional</th>\n",
       "      <th>Senior Executive (C-Suite, VP, etc.)</th>\n",
       "      <th>Student</th>\n",
       "      <th>System administrator</th>\n",
       "    </tr>\n",
       "  </thead>\n",
       "  <tbody>\n",
       "    <tr>\n",
       "      <th>Academic researcher</th>\n",
       "      <td>1.000000</td>\n",
       "      <td>0.012346</td>\n",
       "      <td>0.000000</td>\n",
       "      <td>0.026432</td>\n",
       "      <td>0.113793</td>\n",
       "      <td>0.009009</td>\n",
       "      <td>0.011494</td>\n",
       "      <td>0.010000</td>\n",
       "      <td>0.000000</td>\n",
       "      <td>0.042254</td>\n",
       "      <td>...</td>\n",
       "      <td>0.000000</td>\n",
       "      <td>0.000000</td>\n",
       "      <td>0.000000</td>\n",
       "      <td>0.000000</td>\n",
       "      <td>0.020619</td>\n",
       "      <td>0.508475</td>\n",
       "      <td>0.037500</td>\n",
       "      <td>0.000000</td>\n",
       "      <td>0.050000</td>\n",
       "      <td>0.021277</td>\n",
       "    </tr>\n",
       "    <tr>\n",
       "      <th>Blockchain</th>\n",
       "      <td>0.012346</td>\n",
       "      <td>1.000000</td>\n",
       "      <td>0.000000</td>\n",
       "      <td>0.000000</td>\n",
       "      <td>0.004065</td>\n",
       "      <td>0.000000</td>\n",
       "      <td>0.000000</td>\n",
       "      <td>0.000000</td>\n",
       "      <td>0.000000</td>\n",
       "      <td>0.013889</td>\n",
       "      <td>...</td>\n",
       "      <td>0.000000</td>\n",
       "      <td>0.000000</td>\n",
       "      <td>0.000000</td>\n",
       "      <td>0.000000</td>\n",
       "      <td>0.045455</td>\n",
       "      <td>0.009901</td>\n",
       "      <td>0.166667</td>\n",
       "      <td>0.000000</td>\n",
       "      <td>0.000000</td>\n",
       "      <td>0.000000</td>\n",
       "    </tr>\n",
       "    <tr>\n",
       "      <th>Cloud infrastructure engineer</th>\n",
       "      <td>0.000000</td>\n",
       "      <td>0.000000</td>\n",
       "      <td>1.000000</td>\n",
       "      <td>0.044199</td>\n",
       "      <td>0.025735</td>\n",
       "      <td>0.014925</td>\n",
       "      <td>0.000000</td>\n",
       "      <td>0.096154</td>\n",
       "      <td>0.000000</td>\n",
       "      <td>0.092025</td>\n",
       "      <td>...</td>\n",
       "      <td>0.000000</td>\n",
       "      <td>0.023256</td>\n",
       "      <td>0.000000</td>\n",
       "      <td>0.073171</td>\n",
       "      <td>0.000000</td>\n",
       "      <td>0.007519</td>\n",
       "      <td>0.000000</td>\n",
       "      <td>0.000000</td>\n",
       "      <td>0.000000</td>\n",
       "      <td>0.000000</td>\n",
       "    </tr>\n",
       "    <tr>\n",
       "      <th>Data or business analyst</th>\n",
       "      <td>0.026432</td>\n",
       "      <td>0.000000</td>\n",
       "      <td>0.044199</td>\n",
       "      <td>1.000000</td>\n",
       "      <td>0.121127</td>\n",
       "      <td>0.113095</td>\n",
       "      <td>0.018750</td>\n",
       "      <td>0.023256</td>\n",
       "      <td>0.025641</td>\n",
       "      <td>0.100000</td>\n",
       "      <td>...</td>\n",
       "      <td>0.006289</td>\n",
       "      <td>0.006173</td>\n",
       "      <td>0.000000</td>\n",
       "      <td>0.044872</td>\n",
       "      <td>0.087500</td>\n",
       "      <td>0.016064</td>\n",
       "      <td>0.000000</td>\n",
       "      <td>0.012821</td>\n",
       "      <td>0.006329</td>\n",
       "      <td>0.055556</td>\n",
       "    </tr>\n",
       "    <tr>\n",
       "      <th>Data scientist or machine learning specialist</th>\n",
       "      <td>0.113793</td>\n",
       "      <td>0.004065</td>\n",
       "      <td>0.025735</td>\n",
       "      <td>0.121127</td>\n",
       "      <td>1.000000</td>\n",
       "      <td>0.018382</td>\n",
       "      <td>0.012000</td>\n",
       "      <td>0.031008</td>\n",
       "      <td>0.004016</td>\n",
       "      <td>0.144970</td>\n",
       "      <td>...</td>\n",
       "      <td>0.004016</td>\n",
       "      <td>0.020161</td>\n",
       "      <td>0.000000</td>\n",
       "      <td>0.007968</td>\n",
       "      <td>0.007634</td>\n",
       "      <td>0.106452</td>\n",
       "      <td>0.004049</td>\n",
       "      <td>0.008130</td>\n",
       "      <td>0.004032</td>\n",
       "      <td>0.007722</td>\n",
       "    </tr>\n",
       "    <tr>\n",
       "      <th>Database administrator</th>\n",
       "      <td>0.009009</td>\n",
       "      <td>0.000000</td>\n",
       "      <td>0.014925</td>\n",
       "      <td>0.113095</td>\n",
       "      <td>0.018382</td>\n",
       "      <td>1.000000</td>\n",
       "      <td>0.024390</td>\n",
       "      <td>0.057692</td>\n",
       "      <td>0.000000</td>\n",
       "      <td>0.029240</td>\n",
       "      <td>...</td>\n",
       "      <td>0.000000</td>\n",
       "      <td>0.000000</td>\n",
       "      <td>0.000000</td>\n",
       "      <td>0.000000</td>\n",
       "      <td>0.081633</td>\n",
       "      <td>0.000000</td>\n",
       "      <td>0.000000</td>\n",
       "      <td>0.000000</td>\n",
       "      <td>0.000000</td>\n",
       "      <td>0.063830</td>\n",
       "    </tr>\n",
       "    <tr>\n",
       "      <th>Designer</th>\n",
       "      <td>0.011494</td>\n",
       "      <td>0.000000</td>\n",
       "      <td>0.000000</td>\n",
       "      <td>0.018750</td>\n",
       "      <td>0.012000</td>\n",
       "      <td>0.024390</td>\n",
       "      <td>1.000000</td>\n",
       "      <td>0.033333</td>\n",
       "      <td>0.000000</td>\n",
       "      <td>0.020134</td>\n",
       "      <td>...</td>\n",
       "      <td>0.153846</td>\n",
       "      <td>0.000000</td>\n",
       "      <td>0.000000</td>\n",
       "      <td>0.058824</td>\n",
       "      <td>0.035714</td>\n",
       "      <td>0.000000</td>\n",
       "      <td>0.000000</td>\n",
       "      <td>0.000000</td>\n",
       "      <td>0.000000</td>\n",
       "      <td>0.083333</td>\n",
       "    </tr>\n",
       "    <tr>\n",
       "      <th>DevOps specialist</th>\n",
       "      <td>0.010000</td>\n",
       "      <td>0.000000</td>\n",
       "      <td>0.096154</td>\n",
       "      <td>0.023256</td>\n",
       "      <td>0.031008</td>\n",
       "      <td>0.057692</td>\n",
       "      <td>0.033333</td>\n",
       "      <td>1.000000</td>\n",
       "      <td>0.000000</td>\n",
       "      <td>0.085526</td>\n",
       "      <td>...</td>\n",
       "      <td>0.000000</td>\n",
       "      <td>0.033333</td>\n",
       "      <td>0.000000</td>\n",
       "      <td>0.000000</td>\n",
       "      <td>0.000000</td>\n",
       "      <td>0.008333</td>\n",
       "      <td>0.000000</td>\n",
       "      <td>0.000000</td>\n",
       "      <td>0.000000</td>\n",
       "      <td>0.083333</td>\n",
       "    </tr>\n",
       "    <tr>\n",
       "      <th>Developer, QA or test</th>\n",
       "      <td>0.000000</td>\n",
       "      <td>0.000000</td>\n",
       "      <td>0.000000</td>\n",
       "      <td>0.025641</td>\n",
       "      <td>0.004016</td>\n",
       "      <td>0.000000</td>\n",
       "      <td>0.000000</td>\n",
       "      <td>0.000000</td>\n",
       "      <td>1.000000</td>\n",
       "      <td>0.020548</td>\n",
       "      <td>...</td>\n",
       "      <td>0.000000</td>\n",
       "      <td>0.000000</td>\n",
       "      <td>0.000000</td>\n",
       "      <td>0.071429</td>\n",
       "      <td>0.040000</td>\n",
       "      <td>0.000000</td>\n",
       "      <td>0.000000</td>\n",
       "      <td>0.000000</td>\n",
       "      <td>0.000000</td>\n",
       "      <td>0.000000</td>\n",
       "    </tr>\n",
       "    <tr>\n",
       "      <th>Developer, back-end</th>\n",
       "      <td>0.042254</td>\n",
       "      <td>0.013889</td>\n",
       "      <td>0.092025</td>\n",
       "      <td>0.100000</td>\n",
       "      <td>0.144970</td>\n",
       "      <td>0.029240</td>\n",
       "      <td>0.020134</td>\n",
       "      <td>0.085526</td>\n",
       "      <td>0.020548</td>\n",
       "      <td>1.000000</td>\n",
       "      <td>...</td>\n",
       "      <td>0.013605</td>\n",
       "      <td>0.027027</td>\n",
       "      <td>0.000000</td>\n",
       "      <td>0.013333</td>\n",
       "      <td>0.018750</td>\n",
       "      <td>0.038627</td>\n",
       "      <td>0.006849</td>\n",
       "      <td>0.006849</td>\n",
       "      <td>0.000000</td>\n",
       "      <td>0.025641</td>\n",
       "    </tr>\n",
       "    <tr>\n",
       "      <th>Developer, desktop or enterprise applications</th>\n",
       "      <td>0.016393</td>\n",
       "      <td>0.000000</td>\n",
       "      <td>0.000000</td>\n",
       "      <td>0.081522</td>\n",
       "      <td>0.047101</td>\n",
       "      <td>0.068493</td>\n",
       "      <td>0.038462</td>\n",
       "      <td>0.015152</td>\n",
       "      <td>0.000000</td>\n",
       "      <td>0.074286</td>\n",
       "      <td>...</td>\n",
       "      <td>0.020000</td>\n",
       "      <td>0.000000</td>\n",
       "      <td>0.000000</td>\n",
       "      <td>0.038462</td>\n",
       "      <td>0.048387</td>\n",
       "      <td>0.043478</td>\n",
       "      <td>0.000000</td>\n",
       "      <td>0.000000</td>\n",
       "      <td>0.000000</td>\n",
       "      <td>0.033333</td>\n",
       "    </tr>\n",
       "    <tr>\n",
       "      <th>Developer, embedded applications or devices</th>\n",
       "      <td>0.011236</td>\n",
       "      <td>0.000000</td>\n",
       "      <td>0.000000</td>\n",
       "      <td>0.000000</td>\n",
       "      <td>0.015936</td>\n",
       "      <td>0.000000</td>\n",
       "      <td>0.000000</td>\n",
       "      <td>0.031250</td>\n",
       "      <td>0.000000</td>\n",
       "      <td>0.006536</td>\n",
       "      <td>...</td>\n",
       "      <td>0.000000</td>\n",
       "      <td>0.052632</td>\n",
       "      <td>0.000000</td>\n",
       "      <td>0.000000</td>\n",
       "      <td>0.000000</td>\n",
       "      <td>0.037736</td>\n",
       "      <td>0.071429</td>\n",
       "      <td>0.000000</td>\n",
       "      <td>0.000000</td>\n",
       "      <td>0.000000</td>\n",
       "    </tr>\n",
       "    <tr>\n",
       "      <th>Developer, front-end</th>\n",
       "      <td>0.000000</td>\n",
       "      <td>0.000000</td>\n",
       "      <td>0.000000</td>\n",
       "      <td>0.041176</td>\n",
       "      <td>0.022989</td>\n",
       "      <td>0.000000</td>\n",
       "      <td>0.066667</td>\n",
       "      <td>0.000000</td>\n",
       "      <td>0.115385</td>\n",
       "      <td>0.092105</td>\n",
       "      <td>...</td>\n",
       "      <td>0.035714</td>\n",
       "      <td>0.000000</td>\n",
       "      <td>0.000000</td>\n",
       "      <td>0.032258</td>\n",
       "      <td>0.000000</td>\n",
       "      <td>0.000000</td>\n",
       "      <td>0.000000</td>\n",
       "      <td>0.000000</td>\n",
       "      <td>0.000000</td>\n",
       "      <td>0.000000</td>\n",
       "    </tr>\n",
       "    <tr>\n",
       "      <th>Developer, full-stack</th>\n",
       "      <td>0.034682</td>\n",
       "      <td>0.009804</td>\n",
       "      <td>0.071429</td>\n",
       "      <td>0.144144</td>\n",
       "      <td>0.106109</td>\n",
       "      <td>0.081301</td>\n",
       "      <td>0.018692</td>\n",
       "      <td>0.033898</td>\n",
       "      <td>0.009524</td>\n",
       "      <td>0.099548</td>\n",
       "      <td>...</td>\n",
       "      <td>0.029126</td>\n",
       "      <td>0.000000</td>\n",
       "      <td>0.000000</td>\n",
       "      <td>0.018692</td>\n",
       "      <td>0.061947</td>\n",
       "      <td>0.064171</td>\n",
       "      <td>0.000000</td>\n",
       "      <td>0.019608</td>\n",
       "      <td>0.009615</td>\n",
       "      <td>0.035398</td>\n",
       "    </tr>\n",
       "    <tr>\n",
       "      <th>Developer, game or graphics</th>\n",
       "      <td>0.000000</td>\n",
       "      <td>0.000000</td>\n",
       "      <td>0.000000</td>\n",
       "      <td>0.000000</td>\n",
       "      <td>0.004082</td>\n",
       "      <td>0.000000</td>\n",
       "      <td>0.000000</td>\n",
       "      <td>0.000000</td>\n",
       "      <td>0.000000</td>\n",
       "      <td>0.006944</td>\n",
       "      <td>...</td>\n",
       "      <td>0.000000</td>\n",
       "      <td>0.000000</td>\n",
       "      <td>0.000000</td>\n",
       "      <td>0.000000</td>\n",
       "      <td>0.000000</td>\n",
       "      <td>0.000000</td>\n",
       "      <td>0.000000</td>\n",
       "      <td>0.000000</td>\n",
       "      <td>0.000000</td>\n",
       "      <td>0.000000</td>\n",
       "    </tr>\n",
       "    <tr>\n",
       "      <th>Developer, mobile</th>\n",
       "      <td>0.000000</td>\n",
       "      <td>0.000000</td>\n",
       "      <td>0.026316</td>\n",
       "      <td>0.006369</td>\n",
       "      <td>0.008130</td>\n",
       "      <td>0.000000</td>\n",
       "      <td>0.000000</td>\n",
       "      <td>0.000000</td>\n",
       "      <td>0.000000</td>\n",
       "      <td>0.013793</td>\n",
       "      <td>...</td>\n",
       "      <td>0.000000</td>\n",
       "      <td>0.000000</td>\n",
       "      <td>0.000000</td>\n",
       "      <td>0.000000</td>\n",
       "      <td>0.000000</td>\n",
       "      <td>0.000000</td>\n",
       "      <td>0.000000</td>\n",
       "      <td>0.000000</td>\n",
       "      <td>0.000000</td>\n",
       "      <td>0.000000</td>\n",
       "    </tr>\n",
       "    <tr>\n",
       "      <th>Educator</th>\n",
       "      <td>0.122222</td>\n",
       "      <td>0.000000</td>\n",
       "      <td>0.000000</td>\n",
       "      <td>0.017341</td>\n",
       "      <td>0.031008</td>\n",
       "      <td>0.018519</td>\n",
       "      <td>0.000000</td>\n",
       "      <td>0.000000</td>\n",
       "      <td>0.000000</td>\n",
       "      <td>0.044304</td>\n",
       "      <td>...</td>\n",
       "      <td>0.000000</td>\n",
       "      <td>0.000000</td>\n",
       "      <td>0.000000</td>\n",
       "      <td>0.000000</td>\n",
       "      <td>0.024390</td>\n",
       "      <td>0.080357</td>\n",
       "      <td>0.000000</td>\n",
       "      <td>0.000000</td>\n",
       "      <td>0.000000</td>\n",
       "      <td>0.000000</td>\n",
       "    </tr>\n",
       "    <tr>\n",
       "      <th>Engineer, data</th>\n",
       "      <td>0.037931</td>\n",
       "      <td>0.004464</td>\n",
       "      <td>0.103004</td>\n",
       "      <td>0.119048</td>\n",
       "      <td>0.139364</td>\n",
       "      <td>0.071429</td>\n",
       "      <td>0.013158</td>\n",
       "      <td>0.042735</td>\n",
       "      <td>0.008850</td>\n",
       "      <td>0.289753</td>\n",
       "      <td>...</td>\n",
       "      <td>0.017857</td>\n",
       "      <td>0.013158</td>\n",
       "      <td>0.000000</td>\n",
       "      <td>0.008734</td>\n",
       "      <td>0.016807</td>\n",
       "      <td>0.032154</td>\n",
       "      <td>0.000000</td>\n",
       "      <td>0.004444</td>\n",
       "      <td>0.000000</td>\n",
       "      <td>0.025751</td>\n",
       "    </tr>\n",
       "    <tr>\n",
       "      <th>Engineer, site reliability</th>\n",
       "      <td>0.000000</td>\n",
       "      <td>0.000000</td>\n",
       "      <td>0.000000</td>\n",
       "      <td>0.006289</td>\n",
       "      <td>0.004016</td>\n",
       "      <td>0.000000</td>\n",
       "      <td>0.153846</td>\n",
       "      <td>0.000000</td>\n",
       "      <td>0.000000</td>\n",
       "      <td>0.013605</td>\n",
       "      <td>...</td>\n",
       "      <td>1.000000</td>\n",
       "      <td>0.000000</td>\n",
       "      <td>0.000000</td>\n",
       "      <td>0.000000</td>\n",
       "      <td>0.040000</td>\n",
       "      <td>0.000000</td>\n",
       "      <td>0.000000</td>\n",
       "      <td>0.000000</td>\n",
       "      <td>0.000000</td>\n",
       "      <td>0.045455</td>\n",
       "    </tr>\n",
       "    <tr>\n",
       "      <th>Engineering manager</th>\n",
       "      <td>0.000000</td>\n",
       "      <td>0.000000</td>\n",
       "      <td>0.023256</td>\n",
       "      <td>0.006173</td>\n",
       "      <td>0.020161</td>\n",
       "      <td>0.000000</td>\n",
       "      <td>0.000000</td>\n",
       "      <td>0.033333</td>\n",
       "      <td>0.000000</td>\n",
       "      <td>0.027027</td>\n",
       "      <td>...</td>\n",
       "      <td>0.000000</td>\n",
       "      <td>1.000000</td>\n",
       "      <td>0.000000</td>\n",
       "      <td>0.000000</td>\n",
       "      <td>0.000000</td>\n",
       "      <td>0.000000</td>\n",
       "      <td>0.083333</td>\n",
       "      <td>0.000000</td>\n",
       "      <td>0.000000</td>\n",
       "      <td>0.000000</td>\n",
       "    </tr>\n",
       "    <tr>\n",
       "      <th>Marketing or sales professional</th>\n",
       "      <td>0.000000</td>\n",
       "      <td>0.000000</td>\n",
       "      <td>0.000000</td>\n",
       "      <td>0.000000</td>\n",
       "      <td>0.000000</td>\n",
       "      <td>0.000000</td>\n",
       "      <td>0.000000</td>\n",
       "      <td>0.000000</td>\n",
       "      <td>0.000000</td>\n",
       "      <td>0.000000</td>\n",
       "      <td>...</td>\n",
       "      <td>0.000000</td>\n",
       "      <td>0.000000</td>\n",
       "      <td>1.000000</td>\n",
       "      <td>0.000000</td>\n",
       "      <td>0.000000</td>\n",
       "      <td>0.010101</td>\n",
       "      <td>0.000000</td>\n",
       "      <td>0.000000</td>\n",
       "      <td>0.000000</td>\n",
       "      <td>0.000000</td>\n",
       "    </tr>\n",
       "    <tr>\n",
       "      <th>Product manager</th>\n",
       "      <td>0.000000</td>\n",
       "      <td>0.000000</td>\n",
       "      <td>0.073171</td>\n",
       "      <td>0.044872</td>\n",
       "      <td>0.007968</td>\n",
       "      <td>0.000000</td>\n",
       "      <td>0.058824</td>\n",
       "      <td>0.000000</td>\n",
       "      <td>0.071429</td>\n",
       "      <td>0.013333</td>\n",
       "      <td>...</td>\n",
       "      <td>0.000000</td>\n",
       "      <td>0.000000</td>\n",
       "      <td>0.000000</td>\n",
       "      <td>1.000000</td>\n",
       "      <td>0.000000</td>\n",
       "      <td>0.009346</td>\n",
       "      <td>0.000000</td>\n",
       "      <td>0.000000</td>\n",
       "      <td>0.000000</td>\n",
       "      <td>0.000000</td>\n",
       "    </tr>\n",
       "    <tr>\n",
       "      <th>Project manager</th>\n",
       "      <td>0.020619</td>\n",
       "      <td>0.045455</td>\n",
       "      <td>0.000000</td>\n",
       "      <td>0.087500</td>\n",
       "      <td>0.007634</td>\n",
       "      <td>0.081633</td>\n",
       "      <td>0.035714</td>\n",
       "      <td>0.000000</td>\n",
       "      <td>0.040000</td>\n",
       "      <td>0.018750</td>\n",
       "      <td>...</td>\n",
       "      <td>0.040000</td>\n",
       "      <td>0.000000</td>\n",
       "      <td>0.000000</td>\n",
       "      <td>0.000000</td>\n",
       "      <td>1.000000</td>\n",
       "      <td>0.017094</td>\n",
       "      <td>0.000000</td>\n",
       "      <td>0.043478</td>\n",
       "      <td>0.000000</td>\n",
       "      <td>0.156250</td>\n",
       "    </tr>\n",
       "    <tr>\n",
       "      <th>Scientist</th>\n",
       "      <td>0.508475</td>\n",
       "      <td>0.009901</td>\n",
       "      <td>0.007519</td>\n",
       "      <td>0.016064</td>\n",
       "      <td>0.106452</td>\n",
       "      <td>0.000000</td>\n",
       "      <td>0.000000</td>\n",
       "      <td>0.008333</td>\n",
       "      <td>0.000000</td>\n",
       "      <td>0.038627</td>\n",
       "      <td>...</td>\n",
       "      <td>0.000000</td>\n",
       "      <td>0.000000</td>\n",
       "      <td>0.010101</td>\n",
       "      <td>0.009346</td>\n",
       "      <td>0.017094</td>\n",
       "      <td>1.000000</td>\n",
       "      <td>0.030000</td>\n",
       "      <td>0.000000</td>\n",
       "      <td>0.040000</td>\n",
       "      <td>0.017544</td>\n",
       "    </tr>\n",
       "    <tr>\n",
       "      <th>Security professional</th>\n",
       "      <td>0.037500</td>\n",
       "      <td>0.166667</td>\n",
       "      <td>0.000000</td>\n",
       "      <td>0.000000</td>\n",
       "      <td>0.004049</td>\n",
       "      <td>0.000000</td>\n",
       "      <td>0.000000</td>\n",
       "      <td>0.000000</td>\n",
       "      <td>0.000000</td>\n",
       "      <td>0.006849</td>\n",
       "      <td>...</td>\n",
       "      <td>0.000000</td>\n",
       "      <td>0.083333</td>\n",
       "      <td>0.000000</td>\n",
       "      <td>0.000000</td>\n",
       "      <td>0.000000</td>\n",
       "      <td>0.030000</td>\n",
       "      <td>1.000000</td>\n",
       "      <td>0.000000</td>\n",
       "      <td>0.000000</td>\n",
       "      <td>0.000000</td>\n",
       "    </tr>\n",
       "    <tr>\n",
       "      <th>Senior Executive (C-Suite, VP, etc.)</th>\n",
       "      <td>0.000000</td>\n",
       "      <td>0.000000</td>\n",
       "      <td>0.000000</td>\n",
       "      <td>0.012821</td>\n",
       "      <td>0.008130</td>\n",
       "      <td>0.000000</td>\n",
       "      <td>0.000000</td>\n",
       "      <td>0.000000</td>\n",
       "      <td>0.000000</td>\n",
       "      <td>0.006849</td>\n",
       "      <td>...</td>\n",
       "      <td>0.000000</td>\n",
       "      <td>0.000000</td>\n",
       "      <td>0.000000</td>\n",
       "      <td>0.000000</td>\n",
       "      <td>0.043478</td>\n",
       "      <td>0.000000</td>\n",
       "      <td>0.000000</td>\n",
       "      <td>1.000000</td>\n",
       "      <td>0.000000</td>\n",
       "      <td>0.000000</td>\n",
       "    </tr>\n",
       "    <tr>\n",
       "      <th>Student</th>\n",
       "      <td>0.050000</td>\n",
       "      <td>0.000000</td>\n",
       "      <td>0.000000</td>\n",
       "      <td>0.006329</td>\n",
       "      <td>0.004032</td>\n",
       "      <td>0.000000</td>\n",
       "      <td>0.000000</td>\n",
       "      <td>0.000000</td>\n",
       "      <td>0.000000</td>\n",
       "      <td>0.000000</td>\n",
       "      <td>...</td>\n",
       "      <td>0.000000</td>\n",
       "      <td>0.000000</td>\n",
       "      <td>0.000000</td>\n",
       "      <td>0.000000</td>\n",
       "      <td>0.000000</td>\n",
       "      <td>0.040000</td>\n",
       "      <td>0.000000</td>\n",
       "      <td>0.000000</td>\n",
       "      <td>1.000000</td>\n",
       "      <td>0.000000</td>\n",
       "    </tr>\n",
       "    <tr>\n",
       "      <th>System administrator</th>\n",
       "      <td>0.021277</td>\n",
       "      <td>0.000000</td>\n",
       "      <td>0.000000</td>\n",
       "      <td>0.055556</td>\n",
       "      <td>0.007722</td>\n",
       "      <td>0.063830</td>\n",
       "      <td>0.083333</td>\n",
       "      <td>0.083333</td>\n",
       "      <td>0.000000</td>\n",
       "      <td>0.025641</td>\n",
       "      <td>...</td>\n",
       "      <td>0.045455</td>\n",
       "      <td>0.000000</td>\n",
       "      <td>0.000000</td>\n",
       "      <td>0.000000</td>\n",
       "      <td>0.156250</td>\n",
       "      <td>0.017544</td>\n",
       "      <td>0.000000</td>\n",
       "      <td>0.000000</td>\n",
       "      <td>0.000000</td>\n",
       "      <td>1.000000</td>\n",
       "    </tr>\n",
       "  </tbody>\n",
       "</table>\n",
       "<p>28 rows × 28 columns</p>\n",
       "</div>"
      ],
      "text/plain": [
       "                                               Academic researcher  \\\n",
       "Academic researcher                                       1.000000   \n",
       "Blockchain                                                0.012346   \n",
       "Cloud infrastructure engineer                             0.000000   \n",
       "Data or business analyst                                  0.026432   \n",
       "Data scientist or machine learning specialist             0.113793   \n",
       "Database administrator                                    0.009009   \n",
       "Designer                                                  0.011494   \n",
       "DevOps specialist                                         0.010000   \n",
       "Developer, QA or test                                     0.000000   \n",
       "Developer, back-end                                       0.042254   \n",
       "Developer, desktop or enterprise applications             0.016393   \n",
       "Developer, embedded applications or devices               0.011236   \n",
       "Developer, front-end                                      0.000000   \n",
       "Developer, full-stack                                     0.034682   \n",
       "Developer, game or graphics                               0.000000   \n",
       "Developer, mobile                                         0.000000   \n",
       "Educator                                                  0.122222   \n",
       "Engineer, data                                            0.037931   \n",
       "Engineer, site reliability                                0.000000   \n",
       "Engineering manager                                       0.000000   \n",
       "Marketing or sales professional                           0.000000   \n",
       "Product manager                                           0.000000   \n",
       "Project manager                                           0.020619   \n",
       "Scientist                                                 0.508475   \n",
       "Security professional                                     0.037500   \n",
       "Senior Executive (C-Suite, VP, etc.)                      0.000000   \n",
       "Student                                                   0.050000   \n",
       "System administrator                                      0.021277   \n",
       "\n",
       "                                               Blockchain  \\\n",
       "Academic researcher                              0.012346   \n",
       "Blockchain                                       1.000000   \n",
       "Cloud infrastructure engineer                    0.000000   \n",
       "Data or business analyst                         0.000000   \n",
       "Data scientist or machine learning specialist    0.004065   \n",
       "Database administrator                           0.000000   \n",
       "Designer                                         0.000000   \n",
       "DevOps specialist                                0.000000   \n",
       "Developer, QA or test                            0.000000   \n",
       "Developer, back-end                              0.013889   \n",
       "Developer, desktop or enterprise applications    0.000000   \n",
       "Developer, embedded applications or devices      0.000000   \n",
       "Developer, front-end                             0.000000   \n",
       "Developer, full-stack                            0.009804   \n",
       "Developer, game or graphics                      0.000000   \n",
       "Developer, mobile                                0.000000   \n",
       "Educator                                         0.000000   \n",
       "Engineer, data                                   0.004464   \n",
       "Engineer, site reliability                       0.000000   \n",
       "Engineering manager                              0.000000   \n",
       "Marketing or sales professional                  0.000000   \n",
       "Product manager                                  0.000000   \n",
       "Project manager                                  0.045455   \n",
       "Scientist                                        0.009901   \n",
       "Security professional                            0.166667   \n",
       "Senior Executive (C-Suite, VP, etc.)             0.000000   \n",
       "Student                                          0.000000   \n",
       "System administrator                             0.000000   \n",
       "\n",
       "                                               Cloud infrastructure engineer  \\\n",
       "Academic researcher                                                 0.000000   \n",
       "Blockchain                                                          0.000000   \n",
       "Cloud infrastructure engineer                                       1.000000   \n",
       "Data or business analyst                                            0.044199   \n",
       "Data scientist or machine learning specialist                       0.025735   \n",
       "Database administrator                                              0.014925   \n",
       "Designer                                                            0.000000   \n",
       "DevOps specialist                                                   0.096154   \n",
       "Developer, QA or test                                               0.000000   \n",
       "Developer, back-end                                                 0.092025   \n",
       "Developer, desktop or enterprise applications                       0.000000   \n",
       "Developer, embedded applications or devices                         0.000000   \n",
       "Developer, front-end                                                0.000000   \n",
       "Developer, full-stack                                               0.071429   \n",
       "Developer, game or graphics                                         0.000000   \n",
       "Developer, mobile                                                   0.026316   \n",
       "Educator                                                            0.000000   \n",
       "Engineer, data                                                      0.103004   \n",
       "Engineer, site reliability                                          0.000000   \n",
       "Engineering manager                                                 0.023256   \n",
       "Marketing or sales professional                                     0.000000   \n",
       "Product manager                                                     0.073171   \n",
       "Project manager                                                     0.000000   \n",
       "Scientist                                                           0.007519   \n",
       "Security professional                                               0.000000   \n",
       "Senior Executive (C-Suite, VP, etc.)                                0.000000   \n",
       "Student                                                             0.000000   \n",
       "System administrator                                                0.000000   \n",
       "\n",
       "                                               Data or business analyst  \\\n",
       "Academic researcher                                            0.026432   \n",
       "Blockchain                                                     0.000000   \n",
       "Cloud infrastructure engineer                                  0.044199   \n",
       "Data or business analyst                                       1.000000   \n",
       "Data scientist or machine learning specialist                  0.121127   \n",
       "Database administrator                                         0.113095   \n",
       "Designer                                                       0.018750   \n",
       "DevOps specialist                                              0.023256   \n",
       "Developer, QA or test                                          0.025641   \n",
       "Developer, back-end                                            0.100000   \n",
       "Developer, desktop or enterprise applications                  0.081522   \n",
       "Developer, embedded applications or devices                    0.000000   \n",
       "Developer, front-end                                           0.041176   \n",
       "Developer, full-stack                                          0.144144   \n",
       "Developer, game or graphics                                    0.000000   \n",
       "Developer, mobile                                              0.006369   \n",
       "Educator                                                       0.017341   \n",
       "Engineer, data                                                 0.119048   \n",
       "Engineer, site reliability                                     0.006289   \n",
       "Engineering manager                                            0.006173   \n",
       "Marketing or sales professional                                0.000000   \n",
       "Product manager                                                0.044872   \n",
       "Project manager                                                0.087500   \n",
       "Scientist                                                      0.016064   \n",
       "Security professional                                          0.000000   \n",
       "Senior Executive (C-Suite, VP, etc.)                           0.012821   \n",
       "Student                                                        0.006329   \n",
       "System administrator                                           0.055556   \n",
       "\n",
       "                                               Data scientist or machine learning specialist  \\\n",
       "Academic researcher                                                                 0.113793   \n",
       "Blockchain                                                                          0.004065   \n",
       "Cloud infrastructure engineer                                                       0.025735   \n",
       "Data or business analyst                                                            0.121127   \n",
       "Data scientist or machine learning specialist                                       1.000000   \n",
       "Database administrator                                                              0.018382   \n",
       "Designer                                                                            0.012000   \n",
       "DevOps specialist                                                                   0.031008   \n",
       "Developer, QA or test                                                               0.004016   \n",
       "Developer, back-end                                                                 0.144970   \n",
       "Developer, desktop or enterprise applications                                       0.047101   \n",
       "Developer, embedded applications or devices                                         0.015936   \n",
       "Developer, front-end                                                                0.022989   \n",
       "Developer, full-stack                                                               0.106109   \n",
       "Developer, game or graphics                                                         0.004082   \n",
       "Developer, mobile                                                                   0.008130   \n",
       "Educator                                                                            0.031008   \n",
       "Engineer, data                                                                      0.139364   \n",
       "Engineer, site reliability                                                          0.004016   \n",
       "Engineering manager                                                                 0.020161   \n",
       "Marketing or sales professional                                                     0.000000   \n",
       "Product manager                                                                     0.007968   \n",
       "Project manager                                                                     0.007634   \n",
       "Scientist                                                                           0.106452   \n",
       "Security professional                                                               0.004049   \n",
       "Senior Executive (C-Suite, VP, etc.)                                                0.008130   \n",
       "Student                                                                             0.004032   \n",
       "System administrator                                                                0.007722   \n",
       "\n",
       "                                               Database administrator  \\\n",
       "Academic researcher                                          0.009009   \n",
       "Blockchain                                                   0.000000   \n",
       "Cloud infrastructure engineer                                0.014925   \n",
       "Data or business analyst                                     0.113095   \n",
       "Data scientist or machine learning specialist                0.018382   \n",
       "Database administrator                                       1.000000   \n",
       "Designer                                                     0.024390   \n",
       "DevOps specialist                                            0.057692   \n",
       "Developer, QA or test                                        0.000000   \n",
       "Developer, back-end                                          0.029240   \n",
       "Developer, desktop or enterprise applications                0.068493   \n",
       "Developer, embedded applications or devices                  0.000000   \n",
       "Developer, front-end                                         0.000000   \n",
       "Developer, full-stack                                        0.081301   \n",
       "Developer, game or graphics                                  0.000000   \n",
       "Developer, mobile                                            0.000000   \n",
       "Educator                                                     0.018519   \n",
       "Engineer, data                                               0.071429   \n",
       "Engineer, site reliability                                   0.000000   \n",
       "Engineering manager                                          0.000000   \n",
       "Marketing or sales professional                              0.000000   \n",
       "Product manager                                              0.000000   \n",
       "Project manager                                              0.081633   \n",
       "Scientist                                                    0.000000   \n",
       "Security professional                                        0.000000   \n",
       "Senior Executive (C-Suite, VP, etc.)                         0.000000   \n",
       "Student                                                      0.000000   \n",
       "System administrator                                         0.063830   \n",
       "\n",
       "                                               Designer  DevOps specialist  \\\n",
       "Academic researcher                            0.011494           0.010000   \n",
       "Blockchain                                     0.000000           0.000000   \n",
       "Cloud infrastructure engineer                  0.000000           0.096154   \n",
       "Data or business analyst                       0.018750           0.023256   \n",
       "Data scientist or machine learning specialist  0.012000           0.031008   \n",
       "Database administrator                         0.024390           0.057692   \n",
       "Designer                                       1.000000           0.033333   \n",
       "DevOps specialist                              0.033333           1.000000   \n",
       "Developer, QA or test                          0.000000           0.000000   \n",
       "Developer, back-end                            0.020134           0.085526   \n",
       "Developer, desktop or enterprise applications  0.038462           0.015152   \n",
       "Developer, embedded applications or devices    0.000000           0.031250   \n",
       "Developer, front-end                           0.066667           0.000000   \n",
       "Developer, full-stack                          0.018692           0.033898   \n",
       "Developer, game or graphics                    0.000000           0.000000   \n",
       "Developer, mobile                              0.000000           0.000000   \n",
       "Educator                                       0.000000           0.000000   \n",
       "Engineer, data                                 0.013158           0.042735   \n",
       "Engineer, site reliability                     0.153846           0.000000   \n",
       "Engineering manager                            0.000000           0.033333   \n",
       "Marketing or sales professional                0.000000           0.000000   \n",
       "Product manager                                0.058824           0.000000   \n",
       "Project manager                                0.035714           0.000000   \n",
       "Scientist                                      0.000000           0.008333   \n",
       "Security professional                          0.000000           0.000000   \n",
       "Senior Executive (C-Suite, VP, etc.)           0.000000           0.000000   \n",
       "Student                                        0.000000           0.000000   \n",
       "System administrator                           0.083333           0.083333   \n",
       "\n",
       "                                               Developer, QA or test  \\\n",
       "Academic researcher                                         0.000000   \n",
       "Blockchain                                                  0.000000   \n",
       "Cloud infrastructure engineer                               0.000000   \n",
       "Data or business analyst                                    0.025641   \n",
       "Data scientist or machine learning specialist               0.004016   \n",
       "Database administrator                                      0.000000   \n",
       "Designer                                                    0.000000   \n",
       "DevOps specialist                                           0.000000   \n",
       "Developer, QA or test                                       1.000000   \n",
       "Developer, back-end                                         0.020548   \n",
       "Developer, desktop or enterprise applications               0.000000   \n",
       "Developer, embedded applications or devices                 0.000000   \n",
       "Developer, front-end                                        0.115385   \n",
       "Developer, full-stack                                       0.009524   \n",
       "Developer, game or graphics                                 0.000000   \n",
       "Developer, mobile                                           0.000000   \n",
       "Educator                                                    0.000000   \n",
       "Engineer, data                                              0.008850   \n",
       "Engineer, site reliability                                  0.000000   \n",
       "Engineering manager                                         0.000000   \n",
       "Marketing or sales professional                             0.000000   \n",
       "Product manager                                             0.071429   \n",
       "Project manager                                             0.040000   \n",
       "Scientist                                                   0.000000   \n",
       "Security professional                                       0.000000   \n",
       "Senior Executive (C-Suite, VP, etc.)                        0.000000   \n",
       "Student                                                     0.000000   \n",
       "System administrator                                        0.000000   \n",
       "\n",
       "                                               Developer, back-end  ...  \\\n",
       "Academic researcher                                       0.042254  ...   \n",
       "Blockchain                                                0.013889  ...   \n",
       "Cloud infrastructure engineer                             0.092025  ...   \n",
       "Data or business analyst                                  0.100000  ...   \n",
       "Data scientist or machine learning specialist             0.144970  ...   \n",
       "Database administrator                                    0.029240  ...   \n",
       "Designer                                                  0.020134  ...   \n",
       "DevOps specialist                                         0.085526  ...   \n",
       "Developer, QA or test                                     0.020548  ...   \n",
       "Developer, back-end                                       1.000000  ...   \n",
       "Developer, desktop or enterprise applications             0.074286  ...   \n",
       "Developer, embedded applications or devices               0.006536  ...   \n",
       "Developer, front-end                                      0.092105  ...   \n",
       "Developer, full-stack                                     0.099548  ...   \n",
       "Developer, game or graphics                               0.006944  ...   \n",
       "Developer, mobile                                         0.013793  ...   \n",
       "Educator                                                  0.044304  ...   \n",
       "Engineer, data                                            0.289753  ...   \n",
       "Engineer, site reliability                                0.013605  ...   \n",
       "Engineering manager                                       0.027027  ...   \n",
       "Marketing or sales professional                           0.000000  ...   \n",
       "Product manager                                           0.013333  ...   \n",
       "Project manager                                           0.018750  ...   \n",
       "Scientist                                                 0.038627  ...   \n",
       "Security professional                                     0.006849  ...   \n",
       "Senior Executive (C-Suite, VP, etc.)                      0.006849  ...   \n",
       "Student                                                   0.000000  ...   \n",
       "System administrator                                      0.025641  ...   \n",
       "\n",
       "                                               Engineer, site reliability  \\\n",
       "Academic researcher                                              0.000000   \n",
       "Blockchain                                                       0.000000   \n",
       "Cloud infrastructure engineer                                    0.000000   \n",
       "Data or business analyst                                         0.006289   \n",
       "Data scientist or machine learning specialist                    0.004016   \n",
       "Database administrator                                           0.000000   \n",
       "Designer                                                         0.153846   \n",
       "DevOps specialist                                                0.000000   \n",
       "Developer, QA or test                                            0.000000   \n",
       "Developer, back-end                                              0.013605   \n",
       "Developer, desktop or enterprise applications                    0.020000   \n",
       "Developer, embedded applications or devices                      0.000000   \n",
       "Developer, front-end                                             0.035714   \n",
       "Developer, full-stack                                            0.029126   \n",
       "Developer, game or graphics                                      0.000000   \n",
       "Developer, mobile                                                0.000000   \n",
       "Educator                                                         0.000000   \n",
       "Engineer, data                                                   0.017857   \n",
       "Engineer, site reliability                                       1.000000   \n",
       "Engineering manager                                              0.000000   \n",
       "Marketing or sales professional                                  0.000000   \n",
       "Product manager                                                  0.000000   \n",
       "Project manager                                                  0.040000   \n",
       "Scientist                                                        0.000000   \n",
       "Security professional                                            0.000000   \n",
       "Senior Executive (C-Suite, VP, etc.)                             0.000000   \n",
       "Student                                                          0.000000   \n",
       "System administrator                                             0.045455   \n",
       "\n",
       "                                               Engineering manager  \\\n",
       "Academic researcher                                       0.000000   \n",
       "Blockchain                                                0.000000   \n",
       "Cloud infrastructure engineer                             0.023256   \n",
       "Data or business analyst                                  0.006173   \n",
       "Data scientist or machine learning specialist             0.020161   \n",
       "Database administrator                                    0.000000   \n",
       "Designer                                                  0.000000   \n",
       "DevOps specialist                                         0.033333   \n",
       "Developer, QA or test                                     0.000000   \n",
       "Developer, back-end                                       0.027027   \n",
       "Developer, desktop or enterprise applications             0.000000   \n",
       "Developer, embedded applications or devices               0.052632   \n",
       "Developer, front-end                                      0.000000   \n",
       "Developer, full-stack                                     0.000000   \n",
       "Developer, game or graphics                               0.000000   \n",
       "Developer, mobile                                         0.000000   \n",
       "Educator                                                  0.000000   \n",
       "Engineer, data                                            0.013158   \n",
       "Engineer, site reliability                                0.000000   \n",
       "Engineering manager                                       1.000000   \n",
       "Marketing or sales professional                           0.000000   \n",
       "Product manager                                           0.000000   \n",
       "Project manager                                           0.000000   \n",
       "Scientist                                                 0.000000   \n",
       "Security professional                                     0.083333   \n",
       "Senior Executive (C-Suite, VP, etc.)                      0.000000   \n",
       "Student                                                   0.000000   \n",
       "System administrator                                      0.000000   \n",
       "\n",
       "                                               Marketing or sales professional  \\\n",
       "Academic researcher                                                   0.000000   \n",
       "Blockchain                                                            0.000000   \n",
       "Cloud infrastructure engineer                                         0.000000   \n",
       "Data or business analyst                                              0.000000   \n",
       "Data scientist or machine learning specialist                         0.000000   \n",
       "Database administrator                                                0.000000   \n",
       "Designer                                                              0.000000   \n",
       "DevOps specialist                                                     0.000000   \n",
       "Developer, QA or test                                                 0.000000   \n",
       "Developer, back-end                                                   0.000000   \n",
       "Developer, desktop or enterprise applications                         0.000000   \n",
       "Developer, embedded applications or devices                           0.000000   \n",
       "Developer, front-end                                                  0.000000   \n",
       "Developer, full-stack                                                 0.000000   \n",
       "Developer, game or graphics                                           0.000000   \n",
       "Developer, mobile                                                     0.000000   \n",
       "Educator                                                              0.000000   \n",
       "Engineer, data                                                        0.000000   \n",
       "Engineer, site reliability                                            0.000000   \n",
       "Engineering manager                                                   0.000000   \n",
       "Marketing or sales professional                                       1.000000   \n",
       "Product manager                                                       0.000000   \n",
       "Project manager                                                       0.000000   \n",
       "Scientist                                                             0.010101   \n",
       "Security professional                                                 0.000000   \n",
       "Senior Executive (C-Suite, VP, etc.)                                  0.000000   \n",
       "Student                                                               0.000000   \n",
       "System administrator                                                  0.000000   \n",
       "\n",
       "                                               Product manager  \\\n",
       "Academic researcher                                   0.000000   \n",
       "Blockchain                                            0.000000   \n",
       "Cloud infrastructure engineer                         0.073171   \n",
       "Data or business analyst                              0.044872   \n",
       "Data scientist or machine learning specialist         0.007968   \n",
       "Database administrator                                0.000000   \n",
       "Designer                                              0.058824   \n",
       "DevOps specialist                                     0.000000   \n",
       "Developer, QA or test                                 0.071429   \n",
       "Developer, back-end                                   0.013333   \n",
       "Developer, desktop or enterprise applications         0.038462   \n",
       "Developer, embedded applications or devices           0.000000   \n",
       "Developer, front-end                                  0.032258   \n",
       "Developer, full-stack                                 0.018692   \n",
       "Developer, game or graphics                           0.000000   \n",
       "Developer, mobile                                     0.000000   \n",
       "Educator                                              0.000000   \n",
       "Engineer, data                                        0.008734   \n",
       "Engineer, site reliability                            0.000000   \n",
       "Engineering manager                                   0.000000   \n",
       "Marketing or sales professional                       0.000000   \n",
       "Product manager                                       1.000000   \n",
       "Project manager                                       0.000000   \n",
       "Scientist                                             0.009346   \n",
       "Security professional                                 0.000000   \n",
       "Senior Executive (C-Suite, VP, etc.)                  0.000000   \n",
       "Student                                               0.000000   \n",
       "System administrator                                  0.000000   \n",
       "\n",
       "                                               Project manager  Scientist  \\\n",
       "Academic researcher                                   0.020619   0.508475   \n",
       "Blockchain                                            0.045455   0.009901   \n",
       "Cloud infrastructure engineer                         0.000000   0.007519   \n",
       "Data or business analyst                              0.087500   0.016064   \n",
       "Data scientist or machine learning specialist         0.007634   0.106452   \n",
       "Database administrator                                0.081633   0.000000   \n",
       "Designer                                              0.035714   0.000000   \n",
       "DevOps specialist                                     0.000000   0.008333   \n",
       "Developer, QA or test                                 0.040000   0.000000   \n",
       "Developer, back-end                                   0.018750   0.038627   \n",
       "Developer, desktop or enterprise applications         0.048387   0.043478   \n",
       "Developer, embedded applications or devices           0.000000   0.037736   \n",
       "Developer, front-end                                  0.000000   0.000000   \n",
       "Developer, full-stack                                 0.061947   0.064171   \n",
       "Developer, game or graphics                           0.000000   0.000000   \n",
       "Developer, mobile                                     0.000000   0.000000   \n",
       "Educator                                              0.024390   0.080357   \n",
       "Engineer, data                                        0.016807   0.032154   \n",
       "Engineer, site reliability                            0.040000   0.000000   \n",
       "Engineering manager                                   0.000000   0.000000   \n",
       "Marketing or sales professional                       0.000000   0.010101   \n",
       "Product manager                                       0.000000   0.009346   \n",
       "Project manager                                       1.000000   0.017094   \n",
       "Scientist                                             0.017094   1.000000   \n",
       "Security professional                                 0.000000   0.030000   \n",
       "Senior Executive (C-Suite, VP, etc.)                  0.043478   0.000000   \n",
       "Student                                               0.000000   0.040000   \n",
       "System administrator                                  0.156250   0.017544   \n",
       "\n",
       "                                               Security professional  \\\n",
       "Academic researcher                                         0.037500   \n",
       "Blockchain                                                  0.166667   \n",
       "Cloud infrastructure engineer                               0.000000   \n",
       "Data or business analyst                                    0.000000   \n",
       "Data scientist or machine learning specialist               0.004049   \n",
       "Database administrator                                      0.000000   \n",
       "Designer                                                    0.000000   \n",
       "DevOps specialist                                           0.000000   \n",
       "Developer, QA or test                                       0.000000   \n",
       "Developer, back-end                                         0.006849   \n",
       "Developer, desktop or enterprise applications               0.000000   \n",
       "Developer, embedded applications or devices                 0.071429   \n",
       "Developer, front-end                                        0.000000   \n",
       "Developer, full-stack                                       0.000000   \n",
       "Developer, game or graphics                                 0.000000   \n",
       "Developer, mobile                                           0.000000   \n",
       "Educator                                                    0.000000   \n",
       "Engineer, data                                              0.000000   \n",
       "Engineer, site reliability                                  0.000000   \n",
       "Engineering manager                                         0.083333   \n",
       "Marketing or sales professional                             0.000000   \n",
       "Product manager                                             0.000000   \n",
       "Project manager                                             0.000000   \n",
       "Scientist                                                   0.030000   \n",
       "Security professional                                       1.000000   \n",
       "Senior Executive (C-Suite, VP, etc.)                        0.000000   \n",
       "Student                                                     0.000000   \n",
       "System administrator                                        0.000000   \n",
       "\n",
       "                                               Senior Executive (C-Suite, VP, etc.)  \\\n",
       "Academic researcher                                                        0.000000   \n",
       "Blockchain                                                                 0.000000   \n",
       "Cloud infrastructure engineer                                              0.000000   \n",
       "Data or business analyst                                                   0.012821   \n",
       "Data scientist or machine learning specialist                              0.008130   \n",
       "Database administrator                                                     0.000000   \n",
       "Designer                                                                   0.000000   \n",
       "DevOps specialist                                                          0.000000   \n",
       "Developer, QA or test                                                      0.000000   \n",
       "Developer, back-end                                                        0.006849   \n",
       "Developer, desktop or enterprise applications                              0.000000   \n",
       "Developer, embedded applications or devices                                0.000000   \n",
       "Developer, front-end                                                       0.000000   \n",
       "Developer, full-stack                                                      0.019608   \n",
       "Developer, game or graphics                                                0.000000   \n",
       "Developer, mobile                                                          0.000000   \n",
       "Educator                                                                   0.000000   \n",
       "Engineer, data                                                             0.004444   \n",
       "Engineer, site reliability                                                 0.000000   \n",
       "Engineering manager                                                        0.000000   \n",
       "Marketing or sales professional                                            0.000000   \n",
       "Product manager                                                            0.000000   \n",
       "Project manager                                                            0.043478   \n",
       "Scientist                                                                  0.000000   \n",
       "Security professional                                                      0.000000   \n",
       "Senior Executive (C-Suite, VP, etc.)                                       1.000000   \n",
       "Student                                                                    0.000000   \n",
       "System administrator                                                       0.000000   \n",
       "\n",
       "                                                Student  System administrator  \n",
       "Academic researcher                            0.050000              0.021277  \n",
       "Blockchain                                     0.000000              0.000000  \n",
       "Cloud infrastructure engineer                  0.000000              0.000000  \n",
       "Data or business analyst                       0.006329              0.055556  \n",
       "Data scientist or machine learning specialist  0.004032              0.007722  \n",
       "Database administrator                         0.000000              0.063830  \n",
       "Designer                                       0.000000              0.083333  \n",
       "DevOps specialist                              0.000000              0.083333  \n",
       "Developer, QA or test                          0.000000              0.000000  \n",
       "Developer, back-end                            0.000000              0.025641  \n",
       "Developer, desktop or enterprise applications  0.000000              0.033333  \n",
       "Developer, embedded applications or devices    0.000000              0.000000  \n",
       "Developer, front-end                           0.000000              0.000000  \n",
       "Developer, full-stack                          0.009615              0.035398  \n",
       "Developer, game or graphics                    0.000000              0.000000  \n",
       "Developer, mobile                              0.000000              0.000000  \n",
       "Educator                                       0.000000              0.000000  \n",
       "Engineer, data                                 0.000000              0.025751  \n",
       "Engineer, site reliability                     0.000000              0.045455  \n",
       "Engineering manager                            0.000000              0.000000  \n",
       "Marketing or sales professional                0.000000              0.000000  \n",
       "Product manager                                0.000000              0.000000  \n",
       "Project manager                                0.000000              0.156250  \n",
       "Scientist                                      0.040000              0.017544  \n",
       "Security professional                          0.000000              0.000000  \n",
       "Senior Executive (C-Suite, VP, etc.)           0.000000              0.000000  \n",
       "Student                                        1.000000              0.000000  \n",
       "System administrator                           0.000000              1.000000  \n",
       "\n",
       "[28 rows x 28 columns]"
      ]
     },
     "execution_count": 182,
     "metadata": {},
     "output_type": "execute_result"
    }
   ],
   "source": [
    "df_similitud_jaccard"
   ]
  },
  {
   "cell_type": "code",
   "execution_count": 183,
   "metadata": {},
   "outputs": [
    {
     "data": {
      "image/png": "[encoded data removed]",
      "text/plain": [
       "<Figure size 864x864 with 2 Axes>"
      ]
     },
     "metadata": {
      "needs_background": "light"
     },
     "output_type": "display_data"
    }
   ],
   "source": [
    "# Asumiendo que df_similitud_jaccard es el DataFrame que contiene la matriz de similitud de Jaccard\n",
    "plt.figure(figsize=(12, 12))  # Ajusta el tamaño de la figura (ancho, alto) en pulgadas\n",
    "sns.heatmap(df_similitud_jaccard, annot=False, cmap=\"coolwarm\", vmin=0, vmax=1)\n",
    "\n",
    "plt.title(\"Matriz de similitud de Jaccard\")\n",
    "plt.savefig(\"../paper/data-preparation/test/jaccard-jobs-2.pdf\");"
   ]
  },
  {
   "cell_type": "code",
   "execution_count": 184,
   "metadata": {},
   "outputs": [
    {
     "data": {
      "text/plain": [
       "\"import pandas as pd\\nfrom sklearn.feature_extraction.text import CountVectorizer\\n\\n# Suponiendo que tu DataFrame se llama wdf y tiene una columna llamada 'Job_title'\\njob_titles = wdf['Job_title']\\n\\n# Creamos una instancia de CountVectorizer con el patrón de token adecuado para separar los títulos de trabajo\\nvectorizer = CountVectorizer(token_pattern=r'[^;]+')\\n\\n# Ajustamos y transformamos la columna 'Job_title'\\njob_title_vectors = vectorizer.fit_transform(job_titles)\\n\\n# Muestra el vocabulario\\nprint(vectorizer.vocabulary_)\""
      ]
     },
     "execution_count": 184,
     "metadata": {},
     "output_type": "execute_result"
    }
   ],
   "source": [
    "# Another similar approach: Splitting Job_Title using CountVectorizer\n",
    "'''import pandas as pd\n",
    "from sklearn.feature_extraction.text import CountVectorizer\n",
    "\n",
    "# Suponiendo que tu DataFrame se llama wdf y tiene una columna llamada 'Job_title'\n",
    "job_titles = wdf['Job_title']\n",
    "\n",
    "# Creamos una instancia de CountVectorizer con el patrón de token adecuado para separar los títulos de trabajo\n",
    "vectorizer = CountVectorizer(token_pattern=r'[^;]+')\n",
    "\n",
    "# Ajustamos y transformamos la columna 'Job_title'\n",
    "job_title_vectors = vectorizer.fit_transform(job_titles)\n",
    "\n",
    "# Muestra el vocabulario\n",
    "print(vectorizer.vocabulary_)'''"
   ]
  },
  {
   "cell_type": "code",
   "execution_count": 185,
   "metadata": {},
   "outputs": [
    {
     "data": {
      "text/plain": [
       "'job_title_vectors'"
      ]
     },
     "execution_count": 185,
     "metadata": {},
     "output_type": "execute_result"
    }
   ],
   "source": [
    "'''job_title_vectors'''"
   ]
  },
  {
   "cell_type": "markdown",
   "metadata": {},
   "source": [
    "- **Objective**\n",
    "\n",
    "Clean and structure the 'Job_title' column for better analysis and understanding of job titles especially focusing on AI/ML related fields.\n",
    "\n",
    "- **Approach**\n",
    "    - **Identifying Unique Job Titles**: Iterated over the 'Job_title' column to create a list of unique job titles excluding 'Other (please specify):'.\n",
    "    - **Filtering AI/ML Fields**: Created a function to identify rows with AI/ML related fields and retained only those rows in the data frame.\n",
    "    - **Cleaning Job Titles**: Developed a function to clean the 'Job_title' entries by removing unnecessary parts and formatting the entries for uniformity. This includes sorting the job titles alphabetically and joining them with semicolons.\n",
    "    - **One-Hot Encoding**: Expanded the unique job titles into separate columns using one-hot encoding for each job title present in the data frame.\n",
    "    - **Jaccard Similarity Matrix**: Utilized the Jaccard similarity metric to find the similarity between different job titles and visualized it using a heatmap.\n",
    "    \n",
    "\n",
    "- **Outcome**\n",
    "\n",
    "    - **Cleaned Job Titles**: The 'Job_title' column was streamlined with cleaned, sorted, and uniquely identified job titles.\n",
    "    - **Focused Data Frame**: The data frame now mainly includes entries with AI/ML related fields, facilitating focused analysis.\n",
    "    - **Similarity Insights**: The heatmap based on Jaccard similarity provides insights into the relationships between different job titles, aiding in understanding commonalities and differences in the roles. "
   ]
  },
  {
   "attachments": {},
   "cell_type": "markdown",
   "metadata": {},
   "source": [
    "## Missing values\n",
    "\n",
    "### Overview"
   ]
  },
  {
   "cell_type": "code",
   "execution_count": 186,
   "metadata": {},
   "outputs": [
    {
     "data": {
      "text/plain": [
       "Job_type                                           0\n",
       "Remote_work                                        0\n",
       "Coding_as_hobby                                    0\n",
       "Education                                          0\n",
       "Certifications                                     0\n",
       "Job_title                                          0\n",
       "Company_size                                      14\n",
       "Country                                            0\n",
       "Age                                                0\n",
       "Gender                                             2\n",
       "Sexual_orientation                                16\n",
       "Ethnicity                                         12\n",
       "Physical_disability                                0\n",
       "Mental_disability                                  0\n",
       "Work_experience                                  172\n",
       "Coding_experience                                  1\n",
       "Annual_salary                                      0\n",
       "Academic researcher                                0\n",
       "Blockchain                                         0\n",
       "Cloud infrastructure engineer                      0\n",
       "Data or business analyst                           0\n",
       "Data scientist or machine learning specialist      0\n",
       "Database administrator                             0\n",
       "Designer                                           0\n",
       "DevOps specialist                                  0\n",
       "Developer, QA or test                              0\n",
       "Developer, back-end                                0\n",
       "Developer, desktop or enterprise applications      0\n",
       "Developer, embedded applications or devices        0\n",
       "Developer, front-end                               0\n",
       "Developer, full-stack                              0\n",
       "Developer, game or graphics                        0\n",
       "Developer, mobile                                  0\n",
       "Educator                                           0\n",
       "Engineer, data                                     0\n",
       "Engineer, site reliability                         0\n",
       "Engineering manager                                0\n",
       "Marketing or sales professional                    0\n",
       "Product manager                                    0\n",
       "Project manager                                    0\n",
       "Scientist                                          0\n",
       "Security professional                              0\n",
       "Senior Executive (C-Suite, VP, etc.)               0\n",
       "Student                                            0\n",
       "System administrator                               0\n",
       "dtype: int64"
      ]
     },
     "execution_count": 186,
     "metadata": {},
     "output_type": "execute_result"
    }
   ],
   "source": [
    "wdf_extended.isna().sum() # The missing values in the 'Experience' should be imputed, they're a lot and its valuable data"
   ]
  },
  {
   "attachments": {},
   "cell_type": "markdown",
   "metadata": {},
   "source": [
    "### Imputation strategies for each column \n",
    "\n"
   ]
  },
  {
   "cell_type": "markdown",
   "metadata": {},
   "source": [
    "#### `Company_size`\n",
    "\n",
    "Since `Company_size` is a categorical variable and has a relatively small number of missing values, you can use the mode (the most common value) to impute the missing values"
   ]
  },
  {
   "cell_type": "code",
   "execution_count": 187,
   "metadata": {},
   "outputs": [],
   "source": [
    "wdf_extended['Company_size'].fillna(wdf_extended['Company_size'].mode()[0], inplace=True)"
   ]
  },
  {
   "cell_type": "code",
   "execution_count": 188,
   "metadata": {},
   "outputs": [],
   "source": [
    "# You could also use the following code to impute the missing values but there is no mode for all the combinations of Job_title and Country\n",
    "\n",
    "# wdf_extended['Company_size'] = wdf_extended.groupby(['Job_title', 'Country'])['Company_size'].apply(lambda x: x.fillna(x.mode().iloc[0]))"
   ]
  },
  {
   "attachments": {},
   "cell_type": "markdown",
   "metadata": {},
   "source": [
    "\n",
    "#### `Age`\n",
    "`Age` have only 9 missing values, so we will drop them."
   ]
  },
  {
   "cell_type": "code",
   "execution_count": 189,
   "metadata": {},
   "outputs": [],
   "source": [
    "# we will drop the rows with missing values in the 'Age' column\n",
    "\n",
    "wdf_extended.dropna(subset=['Age'], inplace=True)"
   ]
  },
  {
   "attachments": {},
   "cell_type": "markdown",
   "metadata": {},
   "source": [
    "#### `Coding_Experience`\n",
    "\n",
    "Since `Coding_Experience` is a categorical variable and has a relatively small number of missing values, you can use the mode (the most common value) to impute the missing values\n",
    "It also has only 9 missing values, so same process as `Age`"
   ]
  },
  {
   "cell_type": "code",
   "execution_count": 190,
   "metadata": {},
   "outputs": [
    {
     "data": {
      "text/plain": [
       "Job_type                                           0\n",
       "Remote_work                                        0\n",
       "Coding_as_hobby                                    0\n",
       "Education                                          0\n",
       "Certifications                                     0\n",
       "Job_title                                          0\n",
       "Company_size                                       0\n",
       "Country                                            0\n",
       "Age                                                0\n",
       "Gender                                             2\n",
       "Sexual_orientation                                16\n",
       "Ethnicity                                         12\n",
       "Physical_disability                                0\n",
       "Mental_disability                                  0\n",
       "Work_experience                                  172\n",
       "Coding_experience                                  1\n",
       "Annual_salary                                      0\n",
       "Academic researcher                                0\n",
       "Blockchain                                         0\n",
       "Cloud infrastructure engineer                      0\n",
       "Data or business analyst                           0\n",
       "Data scientist or machine learning specialist      0\n",
       "Database administrator                             0\n",
       "Designer                                           0\n",
       "DevOps specialist                                  0\n",
       "Developer, QA or test                              0\n",
       "Developer, back-end                                0\n",
       "Developer, desktop or enterprise applications      0\n",
       "Developer, embedded applications or devices        0\n",
       "Developer, front-end                               0\n",
       "Developer, full-stack                              0\n",
       "Developer, game or graphics                        0\n",
       "Developer, mobile                                  0\n",
       "Educator                                           0\n",
       "Engineer, data                                     0\n",
       "Engineer, site reliability                         0\n",
       "Engineering manager                                0\n",
       "Marketing or sales professional                    0\n",
       "Product manager                                    0\n",
       "Project manager                                    0\n",
       "Scientist                                          0\n",
       "Security professional                              0\n",
       "Senior Executive (C-Suite, VP, etc.)               0\n",
       "Student                                            0\n",
       "System administrator                               0\n",
       "dtype: int64"
      ]
     },
     "execution_count": 190,
     "metadata": {},
     "output_type": "execute_result"
    }
   ],
   "source": [
    "wdf_extended.isnull().sum()"
   ]
  },
  {
   "cell_type": "code",
   "execution_count": 191,
   "metadata": {},
   "outputs": [],
   "source": [
    "# we will drop the rows with missing values in the 'Coding_experience' column\n",
    "\n",
    "wdf_extended.dropna(subset=['Coding_experience'], inplace=True)"
   ]
  },
  {
   "cell_type": "code",
   "execution_count": 192,
   "metadata": {},
   "outputs": [
    {
     "data": {
      "text/plain": [
       "array(['10', '7', '15', '8', '4', '3', '2', '18', '1', '14', '30', '5',\n",
       "       '6', '25', '20', '13', '9', '16', '11', '35', '38', '41', '12',\n",
       "       '32', 'Less than 1 year', '21', '26', '17', '28', '31', '22', '36',\n",
       "       '29', '24', '40', '37', '45', '27', '34', '23'], dtype=object)"
      ]
     },
     "execution_count": 192,
     "metadata": {},
     "output_type": "execute_result"
    }
   ],
   "source": [
    "wdf_extended.Coding_experience.unique()"
   ]
  },
  {
   "cell_type": "code",
   "execution_count": 193,
   "metadata": {},
   "outputs": [
    {
     "data": {
      "text/plain": [
       "array([10. ,  7. , 15. ,  8. ,  4. ,  3. ,  2. , 18. ,  1. , 14. , 30. ,\n",
       "        5. ,  6. , 25. , 20. , 13. ,  9. , 16. , 11. , 35. , 38. , 41. ,\n",
       "       12. , 32. ,  0.5, 21. , 26. , 17. , 28. , 31. , 22. , 36. , 29. ,\n",
       "       24. , 40. , 37. , 45. , 27. , 34. , 23. ])"
      ]
     },
     "execution_count": 193,
     "metadata": {},
     "output_type": "execute_result"
    }
   ],
   "source": [
    "wdf_extended['Coding_experience'] = pd.to_numeric(wdf_extended['Coding_experience'].replace({'Less than 1 year': 0.5, 'More than 50 years': 51}), errors='coerce')\n",
    "wdf_extended.Coding_experience.unique()"
   ]
  },
  {
   "attachments": {},
   "cell_type": "markdown",
   "metadata": {},
   "source": [
    "#### `Gender` \n",
    "\n",
    "`Gender` is a categorical variable, and you can use the mode grouped by `Job_title` or `Country`, assuming that these features may have an influence on the gender.\n",
    "\n"
   ]
  },
  {
   "cell_type": "code",
   "execution_count": 194,
   "metadata": {},
   "outputs": [],
   "source": [
    "wdf_extended['Gender'] = wdf_extended.groupby('Country')['Gender'].apply(lambda x: x.fillna(x.mode().iloc[0])) # with Job_title and Country there's no mode"
   ]
  },
  {
   "attachments": {},
   "cell_type": "markdown",
   "metadata": {},
   "source": [
    "\n",
    "#### `Sexual_orientation` \n",
    "\n",
    "Since `Sexual_orientation` is a categorical variable and has a significant number of missing values, you can create a new category called \"Unknown\" to represent the missing values.\n",
    "\n"
   ]
  },
  {
   "cell_type": "code",
   "execution_count": 195,
   "metadata": {},
   "outputs": [
    {
     "data": {
      "text/plain": [
       "array(['Straight / Heterosexual', 'Gay or Lesbian', 'Bisexual', 'Unknown',\n",
       "       'Prefer not to say', 'Queer'], dtype=object)"
      ]
     },
     "execution_count": 195,
     "metadata": {},
     "output_type": "execute_result"
    }
   ],
   "source": [
    "wdf_extended['Sexual_orientation'].fillna('Unknown', inplace=True)\n",
    "wdf_extended['Sexual_orientation'].unique()"
   ]
  },
  {
   "attachments": {},
   "cell_type": "markdown",
   "metadata": {},
   "source": [
    "#### `Ethnicity`\n",
    "\n",
    "`Ethnicity` is a categorical variable, and you can use the mode grouped by `Country`, assuming that the country of origin may have an influence on the ethnicity.\n"
   ]
  },
  {
   "cell_type": "code",
   "execution_count": 196,
   "metadata": {},
   "outputs": [
    {
     "data": {
      "text/plain": [
       "12"
      ]
     },
     "execution_count": 196,
     "metadata": {},
     "output_type": "execute_result"
    }
   ],
   "source": [
    "wdf_extended['Ethnicity'].isna().sum()"
   ]
  },
  {
   "cell_type": "code",
   "execution_count": 197,
   "metadata": {},
   "outputs": [
    {
     "data": {
      "text/plain": [
       "\"wdf_extended['Ethnicity'] = wdf_extended.groupby('Country')['Ethnicity'].apply(lambda x: x.fillna(x.mode().iloc[0]))\""
      ]
     },
     "execution_count": 197,
     "metadata": {},
     "output_type": "execute_result"
    }
   ],
   "source": [
    "# For Train data we can use this code:\n",
    "\"\"\"wdf_extended['Ethnicity'] = wdf_extended.groupby('Country')['Ethnicity'].apply(lambda x: x.fillna(x.mode().iloc[0]))\"\"\""
   ]
  },
  {
   "cell_type": "code",
   "execution_count": 198,
   "metadata": {},
   "outputs": [],
   "source": [
    "# Getting the mode of the entire 'Ethnicity' column to use as a fallback\n",
    "global_mode = wdf_extended['Ethnicity'].mode().iloc[0]\n",
    "\n",
    "# Define a function to fill NaN values with the mode of the group\n",
    "# If the group has no mode (all unique values or all NaNs), it uses the global mode\n",
    "def fillna_with_mode(x):\n",
    "    # Check if the mode series is empty (no mode found in the group)\n",
    "    if x.mode().shape[0] == 0:\n",
    "        # If the mode series is empty, fill NaNs with the global mode\n",
    "        return x.fillna(global_mode)\n",
    "    else:\n",
    "        # If a mode is found in the group, fill NaNs with the mode of the group\n",
    "        return x.fillna(x.mode().iloc[0])\n",
    "\n",
    "# Apply the function to each group formed by 'groupby('Country')'\n",
    "# and assign the result back to the 'Ethnicity' column\n",
    "wdf_extended['Ethnicity'] = wdf_extended.groupby('Country')['Ethnicity'].apply(fillna_with_mode)\n"
   ]
  },
  {
   "attachments": {},
   "cell_type": "markdown",
   "metadata": {},
   "source": [
    "\n",
    "#### `Work_Exp`\n",
    "\n",
    "Since `Experience` is a numeric variable and has a significant number of missing values (1/3 of the total rows), I recommend using a more advanced approach like KNN Imputer. KNN Imputer uses the k-nearest neighbors to estimate the missing values."
   ]
  },
  {
   "cell_type": "code",
   "execution_count": 199,
   "metadata": {},
   "outputs": [],
   "source": [
    "wdf_before_kNNImputer = wdf_extended.copy()"
   ]
  },
  {
   "cell_type": "code",
   "execution_count": 200,
   "metadata": {},
   "outputs": [
    {
     "data": {
      "text/plain": [
       "(553, 45)"
      ]
     },
     "execution_count": 200,
     "metadata": {},
     "output_type": "execute_result"
    }
   ],
   "source": [
    "wdf_before_kNNImputer.shape"
   ]
  },
  {
   "cell_type": "code",
   "execution_count": 201,
   "metadata": {},
   "outputs": [
    {
     "name": "stdout",
     "output_type": "stream",
     "text": [
      "<class 'pandas.core.frame.DataFrame'>\n",
      "Int64Index: 553 entries, 17 to 6648\n",
      "Data columns (total 45 columns):\n",
      " #   Column                                         Non-Null Count  Dtype  \n",
      "---  ------                                         --------------  -----  \n",
      " 0   Job_type                                       553 non-null    object \n",
      " 1   Remote_work                                    553 non-null    object \n",
      " 2   Coding_as_hobby                                553 non-null    object \n",
      " 3   Education                                      553 non-null    object \n",
      " 4   Certifications                                 553 non-null    object \n",
      " 5   Job_title                                      553 non-null    object \n",
      " 6   Company_size                                   553 non-null    object \n",
      " 7   Country                                        553 non-null    object \n",
      " 8   Age                                            553 non-null    object \n",
      " 9   Gender                                         553 non-null    object \n",
      " 10  Sexual_orientation                             553 non-null    object \n",
      " 11  Ethnicity                                      553 non-null    object \n",
      " 12  Physical_disability                            553 non-null    object \n",
      " 13  Mental_disability                              553 non-null    object \n",
      " 14  Work_experience                                381 non-null    float64\n",
      " 15  Coding_experience                              553 non-null    float64\n",
      " 16  Annual_salary                                  553 non-null    float64\n",
      " 17  Academic researcher                            553 non-null    int64  \n",
      " 18  Blockchain                                     553 non-null    int64  \n",
      " 19  Cloud infrastructure engineer                  553 non-null    int64  \n",
      " 20  Data or business analyst                       553 non-null    int64  \n",
      " 21  Data scientist or machine learning specialist  553 non-null    int64  \n",
      " 22  Database administrator                         553 non-null    int64  \n",
      " 23  Designer                                       553 non-null    int64  \n",
      " 24  DevOps specialist                              553 non-null    int64  \n",
      " 25  Developer, QA or test                          553 non-null    int64  \n",
      " 26  Developer, back-end                            553 non-null    int64  \n",
      " 27  Developer, desktop or enterprise applications  553 non-null    int64  \n",
      " 28  Developer, embedded applications or devices    553 non-null    int64  \n",
      " 29  Developer, front-end                           553 non-null    int64  \n",
      " 30  Developer, full-stack                          553 non-null    int64  \n",
      " 31  Developer, game or graphics                    553 non-null    int64  \n",
      " 32  Developer, mobile                              553 non-null    int64  \n",
      " 33  Educator                                       553 non-null    int64  \n",
      " 34  Engineer, data                                 553 non-null    int64  \n",
      " 35  Engineer, site reliability                     553 non-null    int64  \n",
      " 36  Engineering manager                            553 non-null    int64  \n",
      " 37  Marketing or sales professional                553 non-null    int64  \n",
      " 38  Product manager                                553 non-null    int64  \n",
      " 39  Project manager                                553 non-null    int64  \n",
      " 40  Scientist                                      553 non-null    int64  \n",
      " 41  Security professional                          553 non-null    int64  \n",
      " 42  Senior Executive (C-Suite, VP, etc.)           553 non-null    int64  \n",
      " 43  Student                                        553 non-null    int64  \n",
      " 44  System administrator                           553 non-null    int64  \n",
      "dtypes: float64(3), int64(28), object(14)\n",
      "memory usage: 198.7+ KB\n"
     ]
    }
   ],
   "source": [
    "wdf_before_kNNImputer.info()"
   ]
  },
  {
   "cell_type": "code",
   "execution_count": 202,
   "metadata": {},
   "outputs": [
    {
     "name": "stdout",
     "output_type": "stream",
     "text": [
      "Number of imputed values: 172\n",
      "Number of unique imputed values: 84\n"
     ]
    }
   ],
   "source": [
    "import pandas as pd\n",
    "import numpy as np\n",
    "from sklearn.compose import ColumnTransformer\n",
    "from sklearn.pipeline import Pipeline\n",
    "from sklearn.preprocessing import OrdinalEncoder, OneHotEncoder\n",
    "from sklearn.impute import KNNImputer\n",
    "\n",
    "# Define ordinal cols and order\n",
    "ordinal_columns = ['Education', 'Company_size', 'Age', 'Coding_as_hobby', 'Certifications']\n",
    "ordinal_categories = [\n",
    "    ['Less than a Bachelor\\'s', 'Bachelor\\'s degree', 'Master\\'s degree', 'Post grad'],\n",
    "    ['XS', 'S', 'M', 'L', 'XL'],\n",
    "    ['Prefer not to say','Under 18 years old', '18-24 years old', '25-34 years old', '35-44 years old', '45-54 years old', '55-64 years old', '65 years or older'],\n",
    "    ['no', 'yes'],\n",
    "    ['no', 'yes']\n",
    "]\n",
    "\n",
    "# Define one-hot cols\n",
    "onehot_columns = ['Job_type', 'Remote_work', 'Gender', 'Sexual_orientation', 'Ethnicity', 'Physical_disability', 'Mental_disability', 'Country']\n",
    "\n",
    "# set transformations\n",
    "ordinal_transformer = OrdinalEncoder(categories=ordinal_categories)\n",
    "onehot_transformer = OneHotEncoder(sparse=False)\n",
    "\n",
    "# Adjust and transform ordinal cols\n",
    "wdf_extended_ordinal_transformed = ordinal_transformer.fit_transform(wdf_extended[ordinal_columns])\n",
    "\n",
    "# Adjust and transform one-hot cols \n",
    "wdf_extended_onehot_transformed = onehot_transformer.fit_transform(wdf_extended[onehot_columns])\n",
    "\n",
    "# Concatenate\n",
    "wdf_extended_transformed = np.hstack([wdf_extended_ordinal_transformed, wdf_extended_onehot_transformed])\n",
    "\n",
    "# Create a KNNImputer\n",
    "knn_imputer = KNNImputer(n_neighbors=5)\n",
    "\n",
    "# Impute missing values from 'Experience' using transformed characteristics\n",
    "experience_transformed = knn_imputer.fit_transform(np.hstack([wdf_extended_transformed, wdf_extended['Work_experience'].values.reshape(-1, 1)]))\n",
    "\n",
    "# Rounding\n",
    "experience_imputed_rounded = np.round(experience_transformed[:, -1], 1)\n",
    "\n",
    "# Replace with imputed values\n",
    "wdf_extended['Work_experience'] = experience_imputed_rounded\n",
    "\n",
    "# Reverse one-hot transformations\n",
    "wdf_extended.loc[:, onehot_columns] = onehot_transformer.inverse_transform(wdf_extended_onehot_transformed)\n",
    "\n",
    "#wdf_extended.reset_index(drop=True, inplace=True)\n",
    "\n",
    "# Correct comparison\n",
    "comparison = pd.DataFrame({'Original': wdf_before_kNNImputer['Work_experience'], 'Imputed': wdf_extended['Work_experience']})\n",
    "comparison['Difference'] = comparison.apply(lambda row: pd.isna(row['Original']) and not pd.isna(row['Imputed']), axis=1)\n",
    "\n",
    "imputed_values = comparison[comparison['Difference']]\n",
    "\n",
    "num_imputed_values = len(imputed_values)\n",
    "unique_imputed_values = imputed_values['Imputed'].nunique()\n",
    "\n",
    "print(f\"Number of imputed values: {num_imputed_values}\")\n",
    "print(f\"Number of unique imputed values: {unique_imputed_values}\")"
   ]
  },
  {
   "cell_type": "code",
   "execution_count": 203,
   "metadata": {},
   "outputs": [
    {
     "data": {
      "text/html": [
       "<div>\n",
       "<style scoped>\n",
       "    .dataframe tbody tr th:only-of-type {\n",
       "        vertical-align: middle;\n",
       "    }\n",
       "\n",
       "    .dataframe tbody tr th {\n",
       "        vertical-align: top;\n",
       "    }\n",
       "\n",
       "    .dataframe thead th {\n",
       "        text-align: right;\n",
       "    }\n",
       "</style>\n",
       "<table border=\"1\" class=\"dataframe\">\n",
       "  <thead>\n",
       "    <tr style=\"text-align: right;\">\n",
       "      <th></th>\n",
       "      <th>Age</th>\n",
       "      <th>Work_experience</th>\n",
       "    </tr>\n",
       "  </thead>\n",
       "  <tbody>\n",
       "    <tr>\n",
       "      <th>5386</th>\n",
       "      <td>18-24 years old</td>\n",
       "      <td>4.2</td>\n",
       "    </tr>\n",
       "    <tr>\n",
       "      <th>5172</th>\n",
       "      <td>35-44 years old</td>\n",
       "      <td>11.8</td>\n",
       "    </tr>\n",
       "    <tr>\n",
       "      <th>3609</th>\n",
       "      <td>35-44 years old</td>\n",
       "      <td>13.6</td>\n",
       "    </tr>\n",
       "    <tr>\n",
       "      <th>4193</th>\n",
       "      <td>18-24 years old</td>\n",
       "      <td>4.2</td>\n",
       "    </tr>\n",
       "    <tr>\n",
       "      <th>749</th>\n",
       "      <td>55-64 years old</td>\n",
       "      <td>24.8</td>\n",
       "    </tr>\n",
       "    <tr>\n",
       "      <th>3765</th>\n",
       "      <td>25-34 years old</td>\n",
       "      <td>5.2</td>\n",
       "    </tr>\n",
       "    <tr>\n",
       "      <th>4390</th>\n",
       "      <td>35-44 years old</td>\n",
       "      <td>15.2</td>\n",
       "    </tr>\n",
       "    <tr>\n",
       "      <th>2398</th>\n",
       "      <td>25-34 years old</td>\n",
       "      <td>6.0</td>\n",
       "    </tr>\n",
       "    <tr>\n",
       "      <th>4184</th>\n",
       "      <td>25-34 years old</td>\n",
       "      <td>8.2</td>\n",
       "    </tr>\n",
       "    <tr>\n",
       "      <th>4491</th>\n",
       "      <td>45-54 years old</td>\n",
       "      <td>24.0</td>\n",
       "    </tr>\n",
       "    <tr>\n",
       "      <th>222</th>\n",
       "      <td>25-34 years old</td>\n",
       "      <td>10.0</td>\n",
       "    </tr>\n",
       "    <tr>\n",
       "      <th>3183</th>\n",
       "      <td>25-34 years old</td>\n",
       "      <td>5.2</td>\n",
       "    </tr>\n",
       "    <tr>\n",
       "      <th>6257</th>\n",
       "      <td>35-44 years old</td>\n",
       "      <td>17.4</td>\n",
       "    </tr>\n",
       "    <tr>\n",
       "      <th>5563</th>\n",
       "      <td>55-64 years old</td>\n",
       "      <td>23.8</td>\n",
       "    </tr>\n",
       "    <tr>\n",
       "      <th>737</th>\n",
       "      <td>25-34 years old</td>\n",
       "      <td>6.6</td>\n",
       "    </tr>\n",
       "    <tr>\n",
       "      <th>5423</th>\n",
       "      <td>35-44 years old</td>\n",
       "      <td>3.8</td>\n",
       "    </tr>\n",
       "    <tr>\n",
       "      <th>44</th>\n",
       "      <td>35-44 years old</td>\n",
       "      <td>12.2</td>\n",
       "    </tr>\n",
       "    <tr>\n",
       "      <th>3316</th>\n",
       "      <td>25-34 years old</td>\n",
       "      <td>4.0</td>\n",
       "    </tr>\n",
       "    <tr>\n",
       "      <th>1839</th>\n",
       "      <td>25-34 years old</td>\n",
       "      <td>7.2</td>\n",
       "    </tr>\n",
       "    <tr>\n",
       "      <th>1456</th>\n",
       "      <td>18-24 years old</td>\n",
       "      <td>5.8</td>\n",
       "    </tr>\n",
       "  </tbody>\n",
       "</table>\n",
       "</div>"
      ],
      "text/plain": [
       "                  Age  Work_experience\n",
       "5386  18-24 years old              4.2\n",
       "5172  35-44 years old             11.8\n",
       "3609  35-44 years old             13.6\n",
       "4193  18-24 years old              4.2\n",
       "749   55-64 years old             24.8\n",
       "3765  25-34 years old              5.2\n",
       "4390  35-44 years old             15.2\n",
       "2398  25-34 years old              6.0\n",
       "4184  25-34 years old              8.2\n",
       "4491  45-54 years old             24.0\n",
       "222   25-34 years old             10.0\n",
       "3183  25-34 years old              5.2\n",
       "6257  35-44 years old             17.4\n",
       "5563  55-64 years old             23.8\n",
       "737   25-34 years old              6.6\n",
       "5423  35-44 years old              3.8\n",
       "44    35-44 years old             12.2\n",
       "3316  25-34 years old              4.0\n",
       "1839  25-34 years old              7.2\n",
       "1456  18-24 years old              5.8"
      ]
     },
     "execution_count": 203,
     "metadata": {},
     "output_type": "execute_result"
    }
   ],
   "source": [
    "# Makes sense?:\n",
    "wdf_extended.loc[imputed_values.index, ['Age','Work_experience']].sample(20)"
   ]
  },
  {
   "cell_type": "code",
   "execution_count": 204,
   "metadata": {},
   "outputs": [
    {
     "data": {
      "text/plain": [
       "0"
      ]
     },
     "execution_count": 204,
     "metadata": {},
     "output_type": "execute_result"
    }
   ],
   "source": [
    "wdf_extended.isna().any().sum()"
   ]
  },
  {
   "cell_type": "code",
   "execution_count": 205,
   "metadata": {},
   "outputs": [
    {
     "name": "stdout",
     "output_type": "stream",
     "text": [
      "<class 'pandas.core.series.Series'>\n",
      "Int64Index: 553 entries, 17 to 6648\n",
      "Series name: Annual_salary\n",
      "Non-Null Count  Dtype  \n",
      "--------------  -----  \n",
      "553 non-null    float64\n",
      "dtypes: float64(1)\n",
      "memory usage: 24.8 KB\n"
     ]
    }
   ],
   "source": [
    "wdf_extended.Annual_salary.info()"
   ]
  },
  {
   "attachments": {},
   "cell_type": "markdown",
   "metadata": {},
   "source": [
    "To see how the encoded dataset looks like"
   ]
  },
  {
   "cell_type": "code",
   "execution_count": 206,
   "metadata": {},
   "outputs": [
    {
     "name": "stdout",
     "output_type": "stream",
     "text": [
      "(553, 138)\n"
     ]
    }
   ],
   "source": [
    "# Crear un DataFrame para las columnas ordinales transformadas\n",
    "wdf_extended_ordinal_transformed_df = pd.DataFrame(wdf_extended_ordinal_transformed, columns=ordinal_columns)\n",
    "\n",
    "# Obtener los nombres de las nuevas columnas generadas por el OneHotEncoder\n",
    "onehot_transformer_columns = onehot_transformer.get_feature_names_out(onehot_columns)\n",
    "\n",
    "# Crear un DataFrame para las columnas one-hot transformadas\n",
    "wdf_extended_onehot_transformed_df = pd.DataFrame(wdf_extended_onehot_transformed, columns=onehot_transformer_columns)\n",
    "\n",
    "# Restablecer los índices de todos los DataFrames\n",
    "wdf_extended_ordinal_transformed_df.reset_index(drop=True, inplace=True)\n",
    "wdf_extended_onehot_transformed_df.reset_index(drop=True, inplace=True)\n",
    "wdf_extended['Work_experience'].reset_index(drop=True, inplace=True)\n",
    "wdf_extended['Coding_experience'].reset_index(drop=True, inplace=True)\n",
    "wdf_extended['Country'].reset_index(drop=True, inplace=True)\n",
    "\n",
    "# Añadir la siguiente línea después de restablecer los índices de todos los DataFrames\n",
    "wdf_extended['Annual_salary'].reset_index(drop=True, inplace=True)\n",
    "job_title_dummies.reset_index(drop=True, inplace=True)\n",
    "\n",
    "# Concatenar los DataFrames transformados y la columna 'Experience'\n",
    "wdf_extended_full_encoded = pd.concat([wdf_extended_ordinal_transformed_df, wdf_extended_onehot_transformed_df, job_title_dummies, \n",
    "                                           wdf_extended['Work_experience'],wdf_extended['Coding_experience'],\n",
    "                                           wdf_extended['Annual_salary']], axis=1) # , wdf_extended['Country']\n",
    "\n",
    "# Job_title_dummies has 22 rows more, consequently, some NANs were generated. Let's drop all NAN rows:\n",
    "\n",
    "wdf_extended_full_encoded.dropna(inplace=True)\n",
    "\n",
    "# Verificar la forma del DataFrame transformado completo\n",
    "print(wdf_extended_full_encoded.shape)"
   ]
  },
  {
   "cell_type": "code",
   "execution_count": 207,
   "metadata": {},
   "outputs": [
    {
     "data": {
      "text/plain": [
       "17    10.0\n",
       "31     7.0\n",
       "44    15.0\n",
       "55     8.0\n",
       "59     7.0\n",
       "Name: Coding_experience, dtype: float64"
      ]
     },
     "execution_count": 207,
     "metadata": {},
     "output_type": "execute_result"
    }
   ],
   "source": [
    "wdf_before_kNNImputer.Coding_experience.head()"
   ]
  },
  {
   "cell_type": "code",
   "execution_count": 208,
   "metadata": {},
   "outputs": [
    {
     "data": {
      "text/plain": [
       "0    10.0\n",
       "1     7.0\n",
       "2    15.0\n",
       "3     8.0\n",
       "4     7.0\n",
       "Name: Coding_experience, dtype: float64"
      ]
     },
     "execution_count": 208,
     "metadata": {},
     "output_type": "execute_result"
    }
   ],
   "source": [
    "wdf_extended_full_encoded.Coding_experience.head()"
   ]
  },
  {
   "attachments": {},
   "cell_type": "markdown",
   "metadata": {},
   "source": [
    "## Save the encoded dataset"
   ]
  },
  {
   "cell_type": "code",
   "execution_count": 209,
   "metadata": {},
   "outputs": [
    {
     "data": {
      "text/plain": [
       "Education               0\n",
       "Company_size            0\n",
       "Age                     0\n",
       "Coding_as_hobby         0\n",
       "Certifications          0\n",
       "                       ..\n",
       "Student                 0\n",
       "System administrator    0\n",
       "Work_experience         0\n",
       "Coding_experience       0\n",
       "Annual_salary           0\n",
       "Length: 138, dtype: int64"
      ]
     },
     "execution_count": 209,
     "metadata": {},
     "output_type": "execute_result"
    }
   ],
   "source": [
    "wdf_extended_full_encoded.isnull().sum()"
   ]
  },
  {
   "cell_type": "code",
   "execution_count": 210,
   "metadata": {},
   "outputs": [
    {
     "data": {
      "text/plain": [
       "\"baseline_models_path = os.path.join('..', 'Baseline_Models', 'clean_test_df.csv')\\nclean_and_encoded_df.to_csv(baseline_models_path, index=False)\""
      ]
     },
     "execution_count": 210,
     "metadata": {},
     "output_type": "execute_result"
    }
   ],
   "source": [
    "import os\n",
    "\n",
    "# ...\n",
    "\n",
    "clean_and_encoded_df = wdf_extended_full_encoded.copy()\n",
    "clean_and_encoded_df.to_csv('../output/clean_test_df.csv', index=False)\n",
    "\n",
    "clean_and_encoded_df.to_csv('../input/clean_test_df.csv', index=False)\n",
    "# Save in Baseline models folder\n",
    "\"\"\"baseline_models_path = os.path.join('..', 'Baseline_Models', 'clean_test_df.csv')\n",
    "clean_and_encoded_df.to_csv(baseline_models_path, index=False)\"\"\"\n"
   ]
  },
  {
   "cell_type": "code",
   "execution_count": 211,
   "metadata": {},
   "outputs": [],
   "source": [
    "clean_test_df = pd.read_csv('../input/clean_test_df.csv').sample(10)"
   ]
  },
  {
   "cell_type": "code",
   "execution_count": 212,
   "metadata": {},
   "outputs": [
    {
     "data": {
      "text/html": [
       "<div>\n",
       "<style scoped>\n",
       "    .dataframe tbody tr th:only-of-type {\n",
       "        vertical-align: middle;\n",
       "    }\n",
       "\n",
       "    .dataframe tbody tr th {\n",
       "        vertical-align: top;\n",
       "    }\n",
       "\n",
       "    .dataframe thead th {\n",
       "        text-align: right;\n",
       "    }\n",
       "</style>\n",
       "<table border=\"1\" class=\"dataframe\">\n",
       "  <thead>\n",
       "    <tr style=\"text-align: right;\">\n",
       "      <th></th>\n",
       "      <th>Country_Argentina</th>\n",
       "      <th>Country_Australia</th>\n",
       "      <th>Country_Austria</th>\n",
       "      <th>Country_Barbados</th>\n",
       "      <th>Country_Belarus</th>\n",
       "      <th>Country_Belgium</th>\n",
       "      <th>Country_Brazil</th>\n",
       "      <th>Country_Bulgaria</th>\n",
       "      <th>Country_Canada</th>\n",
       "      <th>Country_Chile</th>\n",
       "      <th>...</th>\n",
       "      <th>Country_Sweden</th>\n",
       "      <th>Country_Switzerland</th>\n",
       "      <th>Country_Taiwan</th>\n",
       "      <th>Country_Thailand</th>\n",
       "      <th>Country_Trinidad and Tobago</th>\n",
       "      <th>Country_Turkey</th>\n",
       "      <th>Country_UK &amp; Northern Ireland</th>\n",
       "      <th>Country_USA</th>\n",
       "      <th>Country_Ukraine</th>\n",
       "      <th>Country_Uruguay</th>\n",
       "    </tr>\n",
       "  </thead>\n",
       "  <tbody>\n",
       "    <tr>\n",
       "      <th>17</th>\n",
       "      <td>0.0</td>\n",
       "      <td>0.0</td>\n",
       "      <td>0.0</td>\n",
       "      <td>0.0</td>\n",
       "      <td>0.0</td>\n",
       "      <td>0.0</td>\n",
       "      <td>0.0</td>\n",
       "      <td>0.0</td>\n",
       "      <td>0.0</td>\n",
       "      <td>0.0</td>\n",
       "      <td>...</td>\n",
       "      <td>0.0</td>\n",
       "      <td>0.0</td>\n",
       "      <td>0.0</td>\n",
       "      <td>0.0</td>\n",
       "      <td>0.0</td>\n",
       "      <td>0.0</td>\n",
       "      <td>0.0</td>\n",
       "      <td>1.0</td>\n",
       "      <td>0.0</td>\n",
       "      <td>0.0</td>\n",
       "    </tr>\n",
       "    <tr>\n",
       "      <th>359</th>\n",
       "      <td>0.0</td>\n",
       "      <td>0.0</td>\n",
       "      <td>0.0</td>\n",
       "      <td>0.0</td>\n",
       "      <td>0.0</td>\n",
       "      <td>0.0</td>\n",
       "      <td>1.0</td>\n",
       "      <td>0.0</td>\n",
       "      <td>0.0</td>\n",
       "      <td>0.0</td>\n",
       "      <td>...</td>\n",
       "      <td>0.0</td>\n",
       "      <td>0.0</td>\n",
       "      <td>0.0</td>\n",
       "      <td>0.0</td>\n",
       "      <td>0.0</td>\n",
       "      <td>0.0</td>\n",
       "      <td>0.0</td>\n",
       "      <td>0.0</td>\n",
       "      <td>0.0</td>\n",
       "      <td>0.0</td>\n",
       "    </tr>\n",
       "    <tr>\n",
       "      <th>168</th>\n",
       "      <td>0.0</td>\n",
       "      <td>0.0</td>\n",
       "      <td>0.0</td>\n",
       "      <td>0.0</td>\n",
       "      <td>0.0</td>\n",
       "      <td>0.0</td>\n",
       "      <td>0.0</td>\n",
       "      <td>0.0</td>\n",
       "      <td>0.0</td>\n",
       "      <td>0.0</td>\n",
       "      <td>...</td>\n",
       "      <td>0.0</td>\n",
       "      <td>0.0</td>\n",
       "      <td>0.0</td>\n",
       "      <td>0.0</td>\n",
       "      <td>0.0</td>\n",
       "      <td>0.0</td>\n",
       "      <td>0.0</td>\n",
       "      <td>0.0</td>\n",
       "      <td>0.0</td>\n",
       "      <td>0.0</td>\n",
       "    </tr>\n",
       "    <tr>\n",
       "      <th>408</th>\n",
       "      <td>0.0</td>\n",
       "      <td>0.0</td>\n",
       "      <td>0.0</td>\n",
       "      <td>0.0</td>\n",
       "      <td>0.0</td>\n",
       "      <td>0.0</td>\n",
       "      <td>0.0</td>\n",
       "      <td>0.0</td>\n",
       "      <td>0.0</td>\n",
       "      <td>0.0</td>\n",
       "      <td>...</td>\n",
       "      <td>0.0</td>\n",
       "      <td>0.0</td>\n",
       "      <td>0.0</td>\n",
       "      <td>0.0</td>\n",
       "      <td>0.0</td>\n",
       "      <td>0.0</td>\n",
       "      <td>0.0</td>\n",
       "      <td>0.0</td>\n",
       "      <td>0.0</td>\n",
       "      <td>0.0</td>\n",
       "    </tr>\n",
       "    <tr>\n",
       "      <th>243</th>\n",
       "      <td>0.0</td>\n",
       "      <td>0.0</td>\n",
       "      <td>0.0</td>\n",
       "      <td>0.0</td>\n",
       "      <td>0.0</td>\n",
       "      <td>0.0</td>\n",
       "      <td>0.0</td>\n",
       "      <td>0.0</td>\n",
       "      <td>0.0</td>\n",
       "      <td>0.0</td>\n",
       "      <td>...</td>\n",
       "      <td>0.0</td>\n",
       "      <td>0.0</td>\n",
       "      <td>0.0</td>\n",
       "      <td>0.0</td>\n",
       "      <td>0.0</td>\n",
       "      <td>0.0</td>\n",
       "      <td>0.0</td>\n",
       "      <td>0.0</td>\n",
       "      <td>0.0</td>\n",
       "      <td>0.0</td>\n",
       "    </tr>\n",
       "    <tr>\n",
       "      <th>220</th>\n",
       "      <td>0.0</td>\n",
       "      <td>0.0</td>\n",
       "      <td>0.0</td>\n",
       "      <td>0.0</td>\n",
       "      <td>0.0</td>\n",
       "      <td>0.0</td>\n",
       "      <td>0.0</td>\n",
       "      <td>0.0</td>\n",
       "      <td>0.0</td>\n",
       "      <td>0.0</td>\n",
       "      <td>...</td>\n",
       "      <td>1.0</td>\n",
       "      <td>0.0</td>\n",
       "      <td>0.0</td>\n",
       "      <td>0.0</td>\n",
       "      <td>0.0</td>\n",
       "      <td>0.0</td>\n",
       "      <td>0.0</td>\n",
       "      <td>0.0</td>\n",
       "      <td>0.0</td>\n",
       "      <td>0.0</td>\n",
       "    </tr>\n",
       "    <tr>\n",
       "      <th>8</th>\n",
       "      <td>0.0</td>\n",
       "      <td>0.0</td>\n",
       "      <td>0.0</td>\n",
       "      <td>0.0</td>\n",
       "      <td>0.0</td>\n",
       "      <td>0.0</td>\n",
       "      <td>0.0</td>\n",
       "      <td>0.0</td>\n",
       "      <td>0.0</td>\n",
       "      <td>0.0</td>\n",
       "      <td>...</td>\n",
       "      <td>0.0</td>\n",
       "      <td>0.0</td>\n",
       "      <td>0.0</td>\n",
       "      <td>0.0</td>\n",
       "      <td>0.0</td>\n",
       "      <td>0.0</td>\n",
       "      <td>0.0</td>\n",
       "      <td>1.0</td>\n",
       "      <td>0.0</td>\n",
       "      <td>0.0</td>\n",
       "    </tr>\n",
       "    <tr>\n",
       "      <th>381</th>\n",
       "      <td>0.0</td>\n",
       "      <td>0.0</td>\n",
       "      <td>0.0</td>\n",
       "      <td>0.0</td>\n",
       "      <td>0.0</td>\n",
       "      <td>0.0</td>\n",
       "      <td>0.0</td>\n",
       "      <td>0.0</td>\n",
       "      <td>0.0</td>\n",
       "      <td>0.0</td>\n",
       "      <td>...</td>\n",
       "      <td>0.0</td>\n",
       "      <td>0.0</td>\n",
       "      <td>0.0</td>\n",
       "      <td>0.0</td>\n",
       "      <td>0.0</td>\n",
       "      <td>0.0</td>\n",
       "      <td>0.0</td>\n",
       "      <td>0.0</td>\n",
       "      <td>0.0</td>\n",
       "      <td>0.0</td>\n",
       "    </tr>\n",
       "    <tr>\n",
       "      <th>208</th>\n",
       "      <td>0.0</td>\n",
       "      <td>0.0</td>\n",
       "      <td>0.0</td>\n",
       "      <td>0.0</td>\n",
       "      <td>0.0</td>\n",
       "      <td>0.0</td>\n",
       "      <td>0.0</td>\n",
       "      <td>0.0</td>\n",
       "      <td>1.0</td>\n",
       "      <td>0.0</td>\n",
       "      <td>...</td>\n",
       "      <td>0.0</td>\n",
       "      <td>0.0</td>\n",
       "      <td>0.0</td>\n",
       "      <td>0.0</td>\n",
       "      <td>0.0</td>\n",
       "      <td>0.0</td>\n",
       "      <td>0.0</td>\n",
       "      <td>0.0</td>\n",
       "      <td>0.0</td>\n",
       "      <td>0.0</td>\n",
       "    </tr>\n",
       "    <tr>\n",
       "      <th>152</th>\n",
       "      <td>0.0</td>\n",
       "      <td>0.0</td>\n",
       "      <td>0.0</td>\n",
       "      <td>0.0</td>\n",
       "      <td>0.0</td>\n",
       "      <td>0.0</td>\n",
       "      <td>0.0</td>\n",
       "      <td>0.0</td>\n",
       "      <td>0.0</td>\n",
       "      <td>0.0</td>\n",
       "      <td>...</td>\n",
       "      <td>0.0</td>\n",
       "      <td>0.0</td>\n",
       "      <td>0.0</td>\n",
       "      <td>0.0</td>\n",
       "      <td>0.0</td>\n",
       "      <td>0.0</td>\n",
       "      <td>0.0</td>\n",
       "      <td>0.0</td>\n",
       "      <td>0.0</td>\n",
       "      <td>0.0</td>\n",
       "    </tr>\n",
       "  </tbody>\n",
       "</table>\n",
       "<p>10 rows × 64 columns</p>\n",
       "</div>"
      ],
      "text/plain": [
       "     Country_Argentina  Country_Australia  Country_Austria  Country_Barbados  \\\n",
       "17                 0.0                0.0              0.0               0.0   \n",
       "359                0.0                0.0              0.0               0.0   \n",
       "168                0.0                0.0              0.0               0.0   \n",
       "408                0.0                0.0              0.0               0.0   \n",
       "243                0.0                0.0              0.0               0.0   \n",
       "220                0.0                0.0              0.0               0.0   \n",
       "8                  0.0                0.0              0.0               0.0   \n",
       "381                0.0                0.0              0.0               0.0   \n",
       "208                0.0                0.0              0.0               0.0   \n",
       "152                0.0                0.0              0.0               0.0   \n",
       "\n",
       "     Country_Belarus  Country_Belgium  Country_Brazil  Country_Bulgaria  \\\n",
       "17               0.0              0.0             0.0               0.0   \n",
       "359              0.0              0.0             1.0               0.0   \n",
       "168              0.0              0.0             0.0               0.0   \n",
       "408              0.0              0.0             0.0               0.0   \n",
       "243              0.0              0.0             0.0               0.0   \n",
       "220              0.0              0.0             0.0               0.0   \n",
       "8                0.0              0.0             0.0               0.0   \n",
       "381              0.0              0.0             0.0               0.0   \n",
       "208              0.0              0.0             0.0               0.0   \n",
       "152              0.0              0.0             0.0               0.0   \n",
       "\n",
       "     Country_Canada  Country_Chile  ...  Country_Sweden  Country_Switzerland  \\\n",
       "17              0.0            0.0  ...             0.0                  0.0   \n",
       "359             0.0            0.0  ...             0.0                  0.0   \n",
       "168             0.0            0.0  ...             0.0                  0.0   \n",
       "408             0.0            0.0  ...             0.0                  0.0   \n",
       "243             0.0            0.0  ...             0.0                  0.0   \n",
       "220             0.0            0.0  ...             1.0                  0.0   \n",
       "8               0.0            0.0  ...             0.0                  0.0   \n",
       "381             0.0            0.0  ...             0.0                  0.0   \n",
       "208             1.0            0.0  ...             0.0                  0.0   \n",
       "152             0.0            0.0  ...             0.0                  0.0   \n",
       "\n",
       "     Country_Taiwan  Country_Thailand  Country_Trinidad and Tobago  \\\n",
       "17              0.0               0.0                          0.0   \n",
       "359             0.0               0.0                          0.0   \n",
       "168             0.0               0.0                          0.0   \n",
       "408             0.0               0.0                          0.0   \n",
       "243             0.0               0.0                          0.0   \n",
       "220             0.0               0.0                          0.0   \n",
       "8               0.0               0.0                          0.0   \n",
       "381             0.0               0.0                          0.0   \n",
       "208             0.0               0.0                          0.0   \n",
       "152             0.0               0.0                          0.0   \n",
       "\n",
       "     Country_Turkey  Country_UK & Northern Ireland  Country_USA  \\\n",
       "17              0.0                            0.0          1.0   \n",
       "359             0.0                            0.0          0.0   \n",
       "168             0.0                            0.0          0.0   \n",
       "408             0.0                            0.0          0.0   \n",
       "243             0.0                            0.0          0.0   \n",
       "220             0.0                            0.0          0.0   \n",
       "8               0.0                            0.0          1.0   \n",
       "381             0.0                            0.0          0.0   \n",
       "208             0.0                            0.0          0.0   \n",
       "152             0.0                            0.0          0.0   \n",
       "\n",
       "     Country_Ukraine  Country_Uruguay  \n",
       "17               0.0              0.0  \n",
       "359              0.0              0.0  \n",
       "168              0.0              0.0  \n",
       "408              0.0              0.0  \n",
       "243              0.0              0.0  \n",
       "220              0.0              0.0  \n",
       "8                0.0              0.0  \n",
       "381              0.0              0.0  \n",
       "208              0.0              0.0  \n",
       "152              0.0              0.0  \n",
       "\n",
       "[10 rows x 64 columns]"
      ]
     },
     "execution_count": 212,
     "metadata": {},
     "output_type": "execute_result"
    }
   ],
   "source": [
    "clean_test_df.filter(like='Country')"
   ]
  },
  {
   "cell_type": "markdown",
   "metadata": {},
   "source": [
    "### Correlation Matrix"
   ]
  },
  {
   "cell_type": "code",
   "execution_count": 213,
   "metadata": {},
   "outputs": [
    {
     "data": {
      "image/png": "[encoded data removed]",
      "text/plain": [
       "<Figure size 1440x1440 with 2 Axes>"
      ]
     },
     "metadata": {},
     "output_type": "display_data"
    }
   ],
   "source": [
    "# Calculate the correlation matrix\n",
    "corr_matrix = wdf_extended_full_encoded.corr()\n",
    "\n",
    "# Set the threshold for selecting the top n features\n",
    "n = 20\n",
    "\n",
    "# Select the top n most correlated features\n",
    "top_corr_features = corr_matrix.nlargest(n, 'Annual_salary')['Annual_salary'].index\n",
    "\n",
    "# Calculate the correlation matrix for the top n features\n",
    "top_corr_matrix = wdf_extended_full_encoded[top_corr_features].corr()\n",
    "\n",
    "# Create a heatmap of the correlation matrix\n",
    "sns.set(font_scale=0.7)\n",
    "fig, ax = plt.subplots(figsize=(20, 20))\n",
    "sns.heatmap(top_corr_matrix, cmap=\"YlGnBu\", annot=True, fmt=\".2f\", square=True, linewidths=.5, cbar_kws={\"shrink\": .5})\n",
    "plt.savefig(\"../paper/data-preparation/test/corr-matrix-2.pdf\");"
   ]
  },
  {
   "cell_type": "code",
   "execution_count": 214,
   "metadata": {},
   "outputs": [
    {
     "data": {
      "text/plain": [
       "(553, 138)"
      ]
     },
     "execution_count": 214,
     "metadata": {},
     "output_type": "execute_result"
    }
   ],
   "source": [
    "pd.read_csv('../input/clean_test_df.csv').shape"
   ]
  },
  {
   "cell_type": "markdown",
   "metadata": {},
   "source": [
    "## Additional Resources"
   ]
  },
  {
   "cell_type": "markdown",
   "metadata": {},
   "source": [
    "**Links:**\n",
    "\n",
    "Survey insights\n",
    "\n",
    "-  https://survey.stackoverflow.co/2022/\n",
    "\n",
    "Kaggle:\n",
    "- EDA y XGBoostRegressor(https://www.kaggle.com/code/do1likethis/which-devs-get-paid-more-and-why)\n",
    "- Data Preprocessing (https://www.kaggle.com/code/th1402/data-preprocessing-analysis-for-so-dev-survey-2022#Fill-remaining-missing-values)\n",
    "- Easy Data Cleaning and regressors comparison with Pycaret (https://www.kaggle.com/code/soheiltehranipour/stackoverflow-2022-salary-prediction)\n",
    "\n",
    "**Notes**\n",
    "\n",
    "One-hot encoding can be used to handle categorical features, but it can make the data too complex to analyze. One-hot encoding creates multiple binary features for each possible option in a categorical feature. This can lead to a high number of features, making it difficult to interpret the data. Therefore, another method is needed to gain insights from the data."
   ]
  }
 ],
 "metadata": {
  "kernelspec": {
   "display_name": "base",
   "language": "python",
   "name": "python3"
  },
  "language_info": {
   "codemirror_mode": {
    "name": "ipython",
    "version": 3
   },
   "file_extension": ".py",
   "mimetype": "text/x-python",
   "name": "python",
   "nbconvert_exporter": "python",
   "pygments_lexer": "ipython3",
   "version": "3.9.12"
  },
  "orig_nbformat": 4,
  "vscode": {
   "interpreter": {
    "hash": "bb04cf8ae90a962192c1ba30dd442a3acf4745e72f6beeb0c6c1932c1d839d66"
   }
  }
 },
 "nbformat": 4,
 "nbformat_minor": 2
}
