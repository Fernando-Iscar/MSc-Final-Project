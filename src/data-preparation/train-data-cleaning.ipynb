{
 "cells": [
  {
   "cell_type": "markdown",
   "metadata": {},
   "source": [
    "# Train Data Cleaning\n",
    "\n",
    "After splitting the dataset with stratification, let's proceed to analyze it, cleaning it, do feature engineering and make it ready for modeling. The exactly same procedure will be applied to the Test test."
   ]
  },
  {
   "cell_type": "code",
   "execution_count": 516,
   "metadata": {},
   "outputs": [],
   "source": [
    "%matplotlib inline\n",
    "import numpy as np\n",
    "import pandas as pd\n",
    "import matplotlib.pyplot as plt\n",
    "import seaborn as sns\n",
    "\n",
    "from sklearn.model_selection import train_test_split"
   ]
  },
  {
   "attachments": {},
   "cell_type": "markdown",
   "metadata": {},
   "source": [
    "## EDA and Feature Engineering per column\n",
    "\n",
    "Since we have many features, with diverse types, the idea is to go one by one, analyzing all columns and getting information to act with.\n",
    "\n",
    "Let's see what we have!:"
   ]
  },
  {
   "cell_type": "code",
   "execution_count": 517,
   "metadata": {},
   "outputs": [
    {
     "data": {
      "text/html": [
       "<div>\n",
       "<style scoped>\n",
       "    .dataframe tbody tr th:only-of-type {\n",
       "        vertical-align: middle;\n",
       "    }\n",
       "\n",
       "    .dataframe tbody tr th {\n",
       "        vertical-align: top;\n",
       "    }\n",
       "\n",
       "    .dataframe thead th {\n",
       "        text-align: right;\n",
       "    }\n",
       "</style>\n",
       "<table border=\"1\" class=\"dataframe\">\n",
       "  <thead>\n",
       "    <tr style=\"text-align: right;\">\n",
       "      <th></th>\n",
       "      <th>Job_type</th>\n",
       "      <th>Remote_work</th>\n",
       "      <th>Coding_as_hobby</th>\n",
       "      <th>Education</th>\n",
       "      <th>Certifications</th>\n",
       "      <th>Job_title</th>\n",
       "      <th>Company_size</th>\n",
       "      <th>Country</th>\n",
       "      <th>Age</th>\n",
       "      <th>Gender</th>\n",
       "      <th>Trans</th>\n",
       "      <th>Sexual_orientation</th>\n",
       "      <th>Ethnicity</th>\n",
       "      <th>Physical_disability</th>\n",
       "      <th>Mental_disability</th>\n",
       "      <th>Work_experience</th>\n",
       "      <th>Coding_experience</th>\n",
       "      <th>Annual_salary</th>\n",
       "    </tr>\n",
       "  </thead>\n",
       "  <tbody>\n",
       "    <tr>\n",
       "      <th>0</th>\n",
       "      <td>Employed, full-time</td>\n",
       "      <td>Hybrid (some remote, some in-person)</td>\n",
       "      <td>Hobby</td>\n",
       "      <td>Masterâ€™s degree (M.A., M.S., M.Eng., MBA, etc.)</td>\n",
       "      <td>NaN</td>\n",
       "      <td>Data scientist or machine learning specialist;...</td>\n",
       "      <td>20 to 99 employees</td>\n",
       "      <td>United Kingdom of Great Britain and Northern I...</td>\n",
       "      <td>25-34 years old</td>\n",
       "      <td>Man</td>\n",
       "      <td>No</td>\n",
       "      <td>Bisexual</td>\n",
       "      <td>White</td>\n",
       "      <td>None of the above</td>\n",
       "      <td>I have a mood or emotional disorder (e.g., dep...</td>\n",
       "      <td>NaN</td>\n",
       "      <td>5</td>\n",
       "      <td>40205.0</td>\n",
       "    </tr>\n",
       "    <tr>\n",
       "      <th>1</th>\n",
       "      <td>Employed, full-time</td>\n",
       "      <td>Hybrid (some remote, some in-person)</td>\n",
       "      <td>I donâ€™t code outside of work</td>\n",
       "      <td>Bachelorâ€™s degree (B.A., B.S., B.Eng., etc.)</td>\n",
       "      <td>NaN</td>\n",
       "      <td>Developer, full-stack;Developer, back-end</td>\n",
       "      <td>100 to 499 employees</td>\n",
       "      <td>United Kingdom of Great Britain and Northern I...</td>\n",
       "      <td>18-24 years old</td>\n",
       "      <td>Man</td>\n",
       "      <td>No</td>\n",
       "      <td>Straight / Heterosexual</td>\n",
       "      <td>European</td>\n",
       "      <td>None of the above</td>\n",
       "      <td>None of the above</td>\n",
       "      <td>NaN</td>\n",
       "      <td>2</td>\n",
       "      <td>60307.0</td>\n",
       "    </tr>\n",
       "    <tr>\n",
       "      <th>2</th>\n",
       "      <td>Employed, full-time;Independent contractor, fr...</td>\n",
       "      <td>Fully remote</td>\n",
       "      <td>Hobby;Contribute to open-source projects;Freel...</td>\n",
       "      <td>Bachelorâ€™s degree (B.A., B.S., B.Eng., etc.)</td>\n",
       "      <td>NaN</td>\n",
       "      <td>Engineering manager</td>\n",
       "      <td>20 to 99 employees</td>\n",
       "      <td>United States of America</td>\n",
       "      <td>35-44 years old</td>\n",
       "      <td>Man</td>\n",
       "      <td>No</td>\n",
       "      <td>Straight / Heterosexual</td>\n",
       "      <td>White</td>\n",
       "      <td>None of the above</td>\n",
       "      <td>I have a mood or emotional disorder (e.g., dep...</td>\n",
       "      <td>14.0</td>\n",
       "      <td>10</td>\n",
       "      <td>194400.0</td>\n",
       "    </tr>\n",
       "    <tr>\n",
       "      <th>3</th>\n",
       "      <td>Employed, full-time</td>\n",
       "      <td>Hybrid (some remote, some in-person)</td>\n",
       "      <td>Hobby</td>\n",
       "      <td>Bachelorâ€™s degree (B.A., B.S., B.Eng., etc.)</td>\n",
       "      <td>NaN</td>\n",
       "      <td>Developer, full-stack</td>\n",
       "      <td>2 to 9 employees</td>\n",
       "      <td>United States of America</td>\n",
       "      <td>25-34 years old</td>\n",
       "      <td>Man</td>\n",
       "      <td>No</td>\n",
       "      <td>Straight / Heterosexual</td>\n",
       "      <td>White</td>\n",
       "      <td>None of the above</td>\n",
       "      <td>None of the above</td>\n",
       "      <td>5.0</td>\n",
       "      <td>5</td>\n",
       "      <td>65000.0</td>\n",
       "    </tr>\n",
       "    <tr>\n",
       "      <th>4</th>\n",
       "      <td>Employed, full-time;Independent contractor, fr...</td>\n",
       "      <td>Fully remote</td>\n",
       "      <td>Hobby;Freelance/contract work</td>\n",
       "      <td>Masterâ€™s degree (M.A., M.S., M.Eng., MBA, etc.)</td>\n",
       "      <td>NaN</td>\n",
       "      <td>Developer, full-stack;Academic researcher;DevO...</td>\n",
       "      <td>5,000 to 9,999 employees</td>\n",
       "      <td>United States of America</td>\n",
       "      <td>25-34 years old</td>\n",
       "      <td>Man</td>\n",
       "      <td>No</td>\n",
       "      <td>Straight / Heterosexual</td>\n",
       "      <td>White</td>\n",
       "      <td>None of the above</td>\n",
       "      <td>None of the above</td>\n",
       "      <td>5.0</td>\n",
       "      <td>5</td>\n",
       "      <td>110000.0</td>\n",
       "    </tr>\n",
       "  </tbody>\n",
       "</table>\n",
       "</div>"
      ],
      "text/plain": [
       "                                            Job_type  \\\n",
       "0                                Employed, full-time   \n",
       "1                                Employed, full-time   \n",
       "2  Employed, full-time;Independent contractor, fr...   \n",
       "3                                Employed, full-time   \n",
       "4  Employed, full-time;Independent contractor, fr...   \n",
       "\n",
       "                            Remote_work  \\\n",
       "0  Hybrid (some remote, some in-person)   \n",
       "1  Hybrid (some remote, some in-person)   \n",
       "2                          Fully remote   \n",
       "3  Hybrid (some remote, some in-person)   \n",
       "4                          Fully remote   \n",
       "\n",
       "                                     Coding_as_hobby  \\\n",
       "0                                              Hobby   \n",
       "1                     I donâ€™t code outside of work   \n",
       "2  Hobby;Contribute to open-source projects;Freel...   \n",
       "3                                              Hobby   \n",
       "4                      Hobby;Freelance/contract work   \n",
       "\n",
       "                                           Education Certifications  \\\n",
       "0  Masterâ€™s degree (M.A., M.S., M.Eng., MBA, etc.)            NaN   \n",
       "1     Bachelorâ€™s degree (B.A., B.S., B.Eng., etc.)            NaN   \n",
       "2     Bachelorâ€™s degree (B.A., B.S., B.Eng., etc.)            NaN   \n",
       "3     Bachelorâ€™s degree (B.A., B.S., B.Eng., etc.)            NaN   \n",
       "4  Masterâ€™s degree (M.A., M.S., M.Eng., MBA, etc.)            NaN   \n",
       "\n",
       "                                           Job_title  \\\n",
       "0  Data scientist or machine learning specialist;...   \n",
       "1          Developer, full-stack;Developer, back-end   \n",
       "2                                Engineering manager   \n",
       "3                              Developer, full-stack   \n",
       "4  Developer, full-stack;Academic researcher;DevO...   \n",
       "\n",
       "               Company_size  \\\n",
       "0        20 to 99 employees   \n",
       "1      100 to 499 employees   \n",
       "2        20 to 99 employees   \n",
       "3          2 to 9 employees   \n",
       "4  5,000 to 9,999 employees   \n",
       "\n",
       "                                             Country              Age Gender  \\\n",
       "0  United Kingdom of Great Britain and Northern I...  25-34 years old    Man   \n",
       "1  United Kingdom of Great Britain and Northern I...  18-24 years old    Man   \n",
       "2                           United States of America  35-44 years old    Man   \n",
       "3                           United States of America  25-34 years old    Man   \n",
       "4                           United States of America  25-34 years old    Man   \n",
       "\n",
       "  Trans       Sexual_orientation Ethnicity Physical_disability  \\\n",
       "0    No                 Bisexual     White   None of the above   \n",
       "1    No  Straight / Heterosexual  European   None of the above   \n",
       "2    No  Straight / Heterosexual     White   None of the above   \n",
       "3    No  Straight / Heterosexual     White   None of the above   \n",
       "4    No  Straight / Heterosexual     White   None of the above   \n",
       "\n",
       "                                   Mental_disability  Work_experience  \\\n",
       "0  I have a mood or emotional disorder (e.g., dep...              NaN   \n",
       "1                                  None of the above              NaN   \n",
       "2  I have a mood or emotional disorder (e.g., dep...             14.0   \n",
       "3                                  None of the above              5.0   \n",
       "4                                  None of the above              5.0   \n",
       "\n",
       "  Coding_experience  Annual_salary  \n",
       "0                 5        40205.0  \n",
       "1                 2        60307.0  \n",
       "2                10       194400.0  \n",
       "3                 5        65000.0  \n",
       "4                 5       110000.0  "
      ]
     },
     "execution_count": 517,
     "metadata": {},
     "output_type": "execute_result"
    }
   ],
   "source": [
    "wdf = pd.read_csv(\"../input/train.csv\")\n",
    "wdf.head()"
   ]
  },
  {
   "attachments": {},
   "cell_type": "markdown",
   "metadata": {},
   "source": [
    "### `Education` column:"
   ]
  },
  {
   "cell_type": "code",
   "execution_count": 518,
   "metadata": {},
   "outputs": [
    {
     "data": {
      "text/plain": [
       "array(['Masterâ€™s degree (M.A., M.S., M.Eng., MBA, etc.)',\n",
       "       'Bachelorâ€™s degree (B.A., B.S., B.Eng., etc.)',\n",
       "       'Secondary school (e.g. American high school, German Realschule or Gymnasium, etc.)',\n",
       "       'Something else', 'Associate degree (A.A., A.S., etc.)',\n",
       "       'Some college/university study without earning a degree',\n",
       "       'Professional degree (JD, MD, etc.)',\n",
       "       'Other doctoral degree (Ph.D., Ed.D., etc.)',\n",
       "       'Primary/elementary school', nan], dtype=object)"
      ]
     },
     "execution_count": 518,
     "metadata": {},
     "output_type": "execute_result"
    }
   ],
   "source": [
    "# before processing\n",
    "wdf[\"Education\"].unique()"
   ]
  },
  {
   "cell_type": "code",
   "execution_count": 519,
   "metadata": {},
   "outputs": [],
   "source": [
    "wdf['Education'] = wdf['Education'].str.replace('â€™', '\\'')\n",
    "\n",
    "# function from https://www.kaggle.com/code/soheiltehranipour/stackoverflow-2022-salary-prediction\n",
    "def clean_education(x):\n",
    "    if pd.isna(x):\n",
    "        return x\n",
    "    if 'Bachelor\\'s degree' in x:\n",
    "        return 'Bachelor\\'s degree'\n",
    "    if 'Master\\'s degree' in x:\n",
    "        return 'Master\\'s degree'\n",
    "    if 'Professional degree' in x or 'Other doctoral' in x:\n",
    "        return 'Post grad'\n",
    "    return 'Less than a Bachelor\\'s'\n",
    "\n",
    "wdf['Education'] = wdf['Education'].apply(clean_education)\n"
   ]
  },
  {
   "cell_type": "code",
   "execution_count": 520,
   "metadata": {},
   "outputs": [
    {
     "data": {
      "text/plain": [
       "array([\"Master's degree\", \"Bachelor's degree\", \"Less than a Bachelor's\",\n",
       "       'Post grad', nan], dtype=object)"
      ]
     },
     "execution_count": 520,
     "metadata": {},
     "output_type": "execute_result"
    }
   ],
   "source": [
    "# after processing, looking more clean!\n",
    "wdf[\"Education\"].unique()"
   ]
  },
  {
   "cell_type": "markdown",
   "metadata": {},
   "source": [
    "- **Fixing Typos**: Cleaned up unwanted characters in the 'Education' column.\n",
    "- **Simplifying Education Levels**: Used a function to group various education levels into four simpler categories.\n",
    "- **Checking Our Work**: Displayed the unique values after cleaning to ensure everything looks good."
   ]
  },
  {
   "attachments": {},
   "cell_type": "markdown",
   "metadata": {},
   "source": [
    "### `Remote_work` column:"
   ]
  },
  {
   "cell_type": "code",
   "execution_count": 521,
   "metadata": {},
   "outputs": [
    {
     "data": {
      "text/plain": [
       "array(['Hybrid (some remote, some in-person)', 'Fully remote',\n",
       "       'Full in-person', nan], dtype=object)"
      ]
     },
     "execution_count": 521,
     "metadata": {},
     "output_type": "execute_result"
    }
   ],
   "source": [
    "# before processing\n",
    "wdf['Remote_work'].unique()"
   ]
  },
  {
   "cell_type": "code",
   "execution_count": 522,
   "metadata": {},
   "outputs": [],
   "source": [
    "wdf['Remote_work'] = wdf['Remote_work'].map(lambda x: x.replace('Fully remote', 'remote').replace('Hybrid (some remote, some in-person)', 'hybrid').replace('Full in-person', 'in-person') if isinstance(x, str) else x)\n",
    "wdf.dropna(subset=['Remote_work'], inplace=True)"
   ]
  },
  {
   "cell_type": "code",
   "execution_count": 523,
   "metadata": {},
   "outputs": [
    {
     "data": {
      "text/plain": [
       "array(['hybrid', 'remote', 'in-person'], dtype=object)"
      ]
     },
     "execution_count": 523,
     "metadata": {},
     "output_type": "execute_result"
    }
   ],
   "source": [
    "# after processing\n",
    "wdf['Remote_work'].unique()"
   ]
  },
  {
   "cell_type": "markdown",
   "metadata": {},
   "source": [
    "- **Checking Current States**: Initially, the unique values in the 'Remote_work' column were listed to understand the different categories present.\n",
    "- **Simplifying Categories**: Updated the 'Remote_work' column to have simpler categories (remote, hybrid, in-person) using a mapping function which also handled non-string types gracefully.\n",
    "- **Removing Missing Values**: Dropped rows with missing 'Remote_work' values to clean up the dataset.\n",
    "- **Verification**: Reviewed the unique categories after the changes to ensure the cleanup was successful.\n"
   ]
  },
  {
   "attachments": {},
   "cell_type": "markdown",
   "metadata": {},
   "source": [
    "### `Coding_as_hobby` column"
   ]
  },
  {
   "cell_type": "code",
   "execution_count": 524,
   "metadata": {},
   "outputs": [
    {
     "data": {
      "text/plain": [
       "array(['Hobby', 'I donâ€™t code outside of work',\n",
       "       'Hobby;Contribute to open-source projects;Freelance/contract work',\n",
       "       'Hobby;Freelance/contract work',\n",
       "       'Hobby;Contribute to open-source projects',\n",
       "       'Hobby;Bootstrapping a business',\n",
       "       'Hobby;Contribute to open-source projects;Bootstrapping a business',\n",
       "       'Other (please specify):',\n",
       "       'Hobby;Contribute to open-source projects;Bootstrapping a business;Freelance/contract work',\n",
       "       'Bootstrapping a business', 'Hobby;Other (please specify):',\n",
       "       'Contribute to open-source projects',\n",
       "       'Hobby;Bootstrapping a business;Freelance/contract work',\n",
       "       'Freelance/contract work',\n",
       "       'Hobby;Contribute to open-source projects;Other (please specify):',\n",
       "       'Contribute to open-source projects;Freelance/contract work',\n",
       "       'Contribute to open-source projects;Bootstrapping a business;Freelance/contract work',\n",
       "       'Contribute to open-source projects;Bootstrapping a business',\n",
       "       'Hobby;School or academic work',\n",
       "       'Hobby;Contribute to open-source projects;School or academic work',\n",
       "       'Hobby;Freelance/contract work;School or academic work',\n",
       "       'Contribute to open-source projects;Other (please specify):',\n",
       "       'Hobby;Bootstrapping a business;School or academic work',\n",
       "       'Hobby;Contribute to open-source projects;Bootstrapping a business;School or academic work',\n",
       "       'Contribute to open-source projects;Freelance/contract work;School or academic work',\n",
       "       'School or academic work',\n",
       "       'Hobby;Contribute to open-source projects;Freelance/contract work;School or academic work',\n",
       "       'Bootstrapping a business;Freelance/contract work;School or academic work',\n",
       "       'Hobby;Contribute to open-source projects;Bootstrapping a business;Freelance/contract work;School or academic work',\n",
       "       'Hobby;Bootstrapping a business;Other (please specify):',\n",
       "       'Bootstrapping a business;Other (please specify):',\n",
       "       'Hobby;Freelance/contract work;Other (please specify):',\n",
       "       'Hobby;Bootstrapping a business;Freelance/contract work;School or academic work',\n",
       "       'Bootstrapping a business;Freelance/contract work',\n",
       "       'Other (please specify):;School or academic work',\n",
       "       'Freelance/contract work;Other (please specify):;School or academic work',\n",
       "       'Contribute to open-source projects;Bootstrapping a business;School or academic work',\n",
       "       'Contribute to open-source projects;School or academic work',\n",
       "       'Bootstrapping a business;School or academic work',\n",
       "       'Contribute to open-source projects;Freelance/contract work;Other (please specify):',\n",
       "       'Hobby;Contribute to open-source projects;Freelance/contract work;Other (please specify):',\n",
       "       'Freelance/contract work;School or academic work',\n",
       "       'Contribute to open-source projects;Bootstrapping a business;Other (please specify):',\n",
       "       'Hobby;Other (please specify):;School or academic work',\n",
       "       'Hobby;Bootstrapping a business;Freelance/contract work;Other (please specify):',\n",
       "       'Freelance/contract work;Other (please specify):',\n",
       "       'Hobby;Bootstrapping a business;Freelance/contract work;Other (please specify):;School or academic work',\n",
       "       'Hobby;Contribute to open-source projects;Bootstrapping a business;Freelance/contract work;Other (please specify):',\n",
       "       'Hobby;Contribute to open-source projects;Bootstrapping a business;Other (please specify):',\n",
       "       nan,\n",
       "       'Hobby;Contribute to open-source projects;Other (please specify):;School or academic work',\n",
       "       'Contribute to open-source projects;Bootstrapping a business;Freelance/contract work;School or academic work',\n",
       "       'Bootstrapping a business;Freelance/contract work;Other (please specify):',\n",
       "       'Hobby;Contribute to open-source projects;Bootstrapping a business;Freelance/contract work;Other (please specify):;School or academic work',\n",
       "       'Contribute to open-source projects;Other (please specify):;School or academic work',\n",
       "       'Hobby;Freelance/contract work;Other (please specify):;School or academic work',\n",
       "       'Hobby;Contribute to open-source projects;Freelance/contract work;Other (please specify):;School or academic work'],\n",
       "      dtype=object)"
      ]
     },
     "execution_count": 524,
     "metadata": {},
     "output_type": "execute_result"
    }
   ],
   "source": [
    "# before processing\n",
    "wdf['Coding_as_hobby'].unique()"
   ]
  },
  {
   "cell_type": "code",
   "execution_count": 525,
   "metadata": {},
   "outputs": [],
   "source": [
    "def hobbyfinder(value):\n",
    "    if 'hobby' in str(value.lower()):\n",
    "        return 'yes'\n",
    "    else:\n",
    "        return 'no'\n",
    "\n",
    "wdf['Coding_as_hobby'] = wdf['Coding_as_hobby'].astype(str).apply(hobbyfinder)"
   ]
  },
  {
   "cell_type": "code",
   "execution_count": 526,
   "metadata": {},
   "outputs": [
    {
     "data": {
      "text/plain": [
       "array(['yes', 'no'], dtype=object)"
      ]
     },
     "execution_count": 526,
     "metadata": {},
     "output_type": "execute_result"
    }
   ],
   "source": [
    "# after processing\n",
    "wdf['Coding_as_hobby'].unique()"
   ]
  },
  {
   "cell_type": "markdown",
   "metadata": {},
   "source": [
    "- **Before Changes**: Displayed the unique values in the 'Coding_as_hobby' column to get an initial understanding of the data present.\n",
    "- **Creating a Helper Function**: Crafted a `hobbyfinder` function to identify if a value contains the term 'hobby', signaling coding is pursued as a hobby.\n",
    "- **Applying Changes**: Used the function to update the 'Coding_as_hobby' column, categorizing responses into 'yes' or 'no'.\n",
    "- **After Changes**: Checked the unique values in the updated column to confirm the successful application of the function."
   ]
  },
  {
   "attachments": {},
   "cell_type": "markdown",
   "metadata": {},
   "source": [
    "### `Certifications` column"
   ]
  },
  {
   "cell_type": "code",
   "execution_count": 527,
   "metadata": {},
   "outputs": [
    {
     "data": {
      "text/plain": [
       "array([nan, 'Udemy;Codecademy', 'Coursera;Udemy;Codecademy;edX;Udacity',\n",
       "       'Coursera;Udemy;Pluralsight;edX', 'Coursera;Udemy;Udacity',\n",
       "       'Udemy', 'Codecademy', 'Coursera;Udemy;edX', 'Pluralsight',\n",
       "       'Codecademy;Pluralsight', 'Udemy;Codecademy;Pluralsight',\n",
       "       'Udemy;Pluralsight', 'Pluralsight;Udacity', 'Coursera;Udemy;Other',\n",
       "       'Coursera', 'Udemy;Pluralsight;Udacity', 'Other',\n",
       "       'Coursera;Udemy;edX;Udacity', 'Coursera;Pluralsight',\n",
       "       'Coursera;Udemy', 'Coursera;Codecademy', 'Coursera;Other',\n",
       "       'Udemy;Codecademy;Pluralsight;edX;Udacity', 'Coursera;Udacity',\n",
       "       'Coursera;Codecademy;edX;Other', 'Codecademy;Skillsoft',\n",
       "       'Coursera;Udemy;Codecademy;Pluralsight', 'Udemy;Codecademy;Other',\n",
       "       'edX', 'Coursera;Udemy;Codecademy;Pluralsight;edX;Udacity',\n",
       "       'Coursera;Udemy;Codecademy', 'Pluralsight;Other',\n",
       "       'Codecademy;Other', 'Coursera;Udemy;Codecademy;edX',\n",
       "       'Udemy;Udacity', 'Coursera;Codecademy;Other',\n",
       "       'Coursera;Pluralsight;Udacity', 'Coursera;Udemy;Pluralsight',\n",
       "       'Udemy;Codecademy;Pluralsight;Skillsoft', 'Coursera;edX',\n",
       "       'Udemy;edX', 'Coursera;Udemy;Pluralsight;edX;Udacity',\n",
       "       'Udemy;Codecademy;Pluralsight;Other',\n",
       "       'Udemy;Codecademy;Pluralsight;Udacity', 'Coursera;Udemy;edX;Other',\n",
       "       'Coursera;Pluralsight;edX', 'Coursera;Udemy;Codecademy;Udacity',\n",
       "       'Coursera;Codecademy;Udacity', 'Codecademy;Pluralsight;Skillsoft',\n",
       "       'Udemy;Pluralsight;Other', 'Udacity', 'Coursera;edX;Other',\n",
       "       'Codecademy;Pluralsight;Other', 'Udemy;Other', 'Skillsoft',\n",
       "       'Coursera;Codecademy;Pluralsight', 'Codecademy;edX', 'edX;Other',\n",
       "       'Pluralsight;edX', 'Udemy;edX;Other', 'Codecademy;Udacity',\n",
       "       'Coursera;Skillsoft', 'Udemy;Codecademy;Udacity',\n",
       "       'Coursera;Udemy;Codecademy;Skillsoft',\n",
       "       'Udemy;Codecademy;Pluralsight;edX',\n",
       "       'Coursera;Codecademy;Udacity;Other', 'Coursera;edX;Udacity',\n",
       "       'Coursera;edX;Udacity;Other', 'Codecademy;edX;Udacity',\n",
       "       'Codecademy;edX;Other', 'Udemy;Skillsoft',\n",
       "       'Pluralsight;Udacity;Other', 'Udemy;Codecademy;Udacity;Other',\n",
       "       'Coursera;Pluralsight;Other', 'Coursera;Udemy;Pluralsight;Udacity',\n",
       "       'Coursera;Udemy;Codecademy;Pluralsight;edX',\n",
       "       'Udemy;Codecademy;edX',\n",
       "       'Coursera;Udemy;Codecademy;Pluralsight;Udacity',\n",
       "       'Coursera;Udemy;Pluralsight;Other', 'Coursera;Codecademy;edX',\n",
       "       'Udemy;Codecademy;Pluralsight;Udacity;Other', 'Udacity;Other',\n",
       "       'Udemy;Pluralsight;edX', 'Udemy;Udacity;Other',\n",
       "       'Udemy;Pluralsight;edX;Skillsoft', 'Coursera;Udacity;Other',\n",
       "       'Coursera;Udemy;Pluralsight;Skillsoft',\n",
       "       'Codecademy;Pluralsight;edX', 'Coursera;Udemy;edX;Udacity;Other',\n",
       "       'Coursera;Pluralsight;edX;Other', 'Pluralsight;Skillsoft',\n",
       "       'Coursera;Udemy;Codecademy;Other;Skillsoft',\n",
       "       'Coursera;Udemy;Skillsoft',\n",
       "       'Udemy;Codecademy;Pluralsight;edX;Other',\n",
       "       'Coursera;Udemy;Codecademy;Other', 'Codecademy;Udacity;Other',\n",
       "       'Coursera;Udemy;Udacity;Other',\n",
       "       'Coursera;Udemy;Codecademy;Udacity;Other', 'Pluralsight;edX;Other',\n",
       "       'Coursera;Udemy;edX;Skillsoft', 'Coursera;Codecademy;Skillsoft',\n",
       "       'Coursera;Udemy;Codecademy;Pluralsight;Udacity;Other',\n",
       "       'Codecademy;Pluralsight;Udacity',\n",
       "       'Udemy;Pluralsight;Udacity;Other', 'Udemy;Pluralsight;edX;Udacity',\n",
       "       'Udemy;Codecademy;Skillsoft', 'Udemy;Codecademy;edX;Udacity',\n",
       "       'Udemy;Pluralsight;edX;Udacity;Other',\n",
       "       'Coursera;Udemy;Codecademy;edX;Other', 'Udemy;edX;Udacity',\n",
       "       'Udemy;Codecademy;Pluralsight;Other;Skillsoft',\n",
       "       'Coursera;Codecademy;Pluralsight;Udacity',\n",
       "       'Coursera;Udemy;Codecademy;Pluralsight;Other',\n",
       "       'Coursera;Codecademy;edX;Udacity',\n",
       "       'Coursera;Udemy;Codecademy;Pluralsight;edX;Udacity;Other',\n",
       "       'Udemy;edX;Skillsoft', 'Coursera;Udemy;Codecademy;edX;Skillsoft',\n",
       "       'Coursera;Other;Skillsoft', 'Coursera;Codecademy;Pluralsight;edX',\n",
       "       'Other;Skillsoft', 'Udemy;Codecademy;edX;Other',\n",
       "       'Codecademy;Pluralsight;edX;Other',\n",
       "       'Coursera;Pluralsight;edX;Udacity',\n",
       "       'Coursera;Udemy;Codecademy;Pluralsight;edX;Udacity;Skillsoft',\n",
       "       'Coursera;Udemy;Codecademy;edX;Udacity;Other',\n",
       "       'Udemy;edX;Udacity;Other', 'Udemy;Pluralsight;Skillsoft',\n",
       "       'Udemy;Pluralsight;Other;Skillsoft',\n",
       "       'Coursera;Udemy;Codecademy;Udacity;Skillsoft',\n",
       "       'Udemy;Codecademy;Pluralsight;Udacity;Other;Skillsoft',\n",
       "       'Coursera;Udemy;Codecademy;Pluralsight;edX;Skillsoft',\n",
       "       'Coursera;Codecademy;Pluralsight;Other',\n",
       "       'Coursera;Udemy;Pluralsight;edX;Other',\n",
       "       'Coursera;Udemy;Pluralsight;Udacity;Other',\n",
       "       'Coursera;Pluralsight;Skillsoft', 'edX;Udacity;Other',\n",
       "       'Coursera;Udemy;Codecademy;Pluralsight;edX;Other',\n",
       "       'Coursera;Udemy;Pluralsight;Other;Skillsoft',\n",
       "       'Coursera;Codecademy;edX;Udacity;Other', 'edX;Udacity',\n",
       "       'Coursera;Udemy;Other;Skillsoft', 'Udacity;Skillsoft',\n",
       "       'Coursera;Codecademy;Pluralsight;Skillsoft',\n",
       "       'Udemy;Pluralsight;edX;Other',\n",
       "       'Coursera;Udemy;Codecademy;Pluralsight;Udacity;Skillsoft',\n",
       "       'Coursera;Udemy;Pluralsight;edX;Udacity;Skillsoft',\n",
       "       'Coursera;Udemy;Pluralsight;edX;Udacity;Other',\n",
       "       'Coursera;Codecademy;Pluralsight;edX;Udacity',\n",
       "       'Udemy;Other;Skillsoft', 'Udemy;Codecademy;edX;Udacity;Skillsoft',\n",
       "       'Udemy;Pluralsight;Udacity;Skillsoft',\n",
       "       'Coursera;Codecademy;Pluralsight;edX;Udacity;Other',\n",
       "       'Coursera;Udemy;Codecademy;edX;Udacity;Skillsoft',\n",
       "       'Coursera;Pluralsight;edX;Skillsoft', 'edX;Skillsoft',\n",
       "       'Codecademy;Pluralsight;edX;Udacity;Other',\n",
       "       'Coursera;Udemy;Udacity;Skillsoft',\n",
       "       'Codecademy;Pluralsight;Udacity;Other',\n",
       "       'Coursera;Udemy;Codecademy;Pluralsight;edX;Udacity;Other;Skillsoft',\n",
       "       'Pluralsight;Other;Skillsoft',\n",
       "       'Udemy;Codecademy;Pluralsight;edX;Other;Skillsoft',\n",
       "       'Pluralsight;edX;Udacity',\n",
       "       'Coursera;Udemy;Codecademy;Pluralsight;Skillsoft',\n",
       "       'Coursera;Udemy;Pluralsight;edX;Skillsoft',\n",
       "       'Udemy;Udacity;Skillsoft',\n",
       "       'Coursera;Codecademy;Pluralsight;edX;Udacity;Skillsoft',\n",
       "       'Coursera;Udemy;Pluralsight;Udacity;Skillsoft',\n",
       "       'Coursera;edX;Skillsoft', 'Udemy;Codecademy;Udacity;Skillsoft',\n",
       "       'Coursera;Pluralsight;edX;Udacity;Other',\n",
       "       'Coursera;Codecademy;edX;Udacity;Skillsoft',\n",
       "       'Coursera;Udemy;Codecademy;edX;Other;Skillsoft',\n",
       "       'Coursera;Pluralsight;Udacity;Other',\n",
       "       'Udemy;Codecademy;Pluralsight;edX;Udacity;Skillsoft',\n",
       "       'Coursera;Pluralsight;Other;Skillsoft',\n",
       "       'Coursera;Codecademy;Pluralsight;edX;Other',\n",
       "       'Udemy;Codecademy;edX;Skillsoft'], dtype=object)"
      ]
     },
     "execution_count": 527,
     "metadata": {},
     "output_type": "execute_result"
    }
   ],
   "source": [
    "# Note: actually these values are not certification number, there are just famous platforms. Hence better to filter like 'yes'/'no'\n",
    "\n",
    "wdf['Certifications'].unique() "
   ]
  },
  {
   "cell_type": "code",
   "execution_count": 528,
   "metadata": {},
   "outputs": [],
   "source": [
    "def certification_status(x):\n",
    "    if pd.isnull(x):\n",
    "        return 'no'\n",
    "    else:\n",
    "        return 'yes'\n",
    "\n",
    "wdf['Certifications'] = wdf['Certifications'].apply(certification_status)"
   ]
  },
  {
   "cell_type": "code",
   "execution_count": 529,
   "metadata": {},
   "outputs": [
    {
     "data": {
      "text/plain": [
       "array(['no', 'yes'], dtype=object)"
      ]
     },
     "execution_count": 529,
     "metadata": {},
     "output_type": "execute_result"
    }
   ],
   "source": [
    "# after processing\n",
    "wdf['Certifications'].unique()"
   ]
  },
  {
   "cell_type": "markdown",
   "metadata": {},
   "source": [
    "- **Initial Inspection**: Reviewed the unique values in the 'Certifications' column, noting that the values are platforms rather than actual certification numbers.\n",
    "- **Defining a Function**: Created a `certification_status` function to classify each entry as either 'yes' (if a platform is mentioned) or 'no' (if the field is empty or NaN).\n",
    "- **Applying the Transformation**: Used the defined function to update the 'Certifications' column to contain simplified 'yes' or 'no' values based on the presence of a value.\n",
    "- **Confirmation**: Verified the transformation by checking the unique values in the updated column.\n"
   ]
  },
  {
   "attachments": {},
   "cell_type": "markdown",
   "metadata": {},
   "source": [
    "### `Physical_dissability` column"
   ]
  },
  {
   "cell_type": "code",
   "execution_count": 530,
   "metadata": {},
   "outputs": [
    {
     "data": {
      "text/plain": [
       "array(['None of the above', nan, 'I am deaf / hard of hearing',\n",
       "       'Prefer not to say', 'I am blind / have difficulty seeing',\n",
       "       'Or, in your own words:',\n",
       "       'I am unable to / find it difficult to walk or stand without assistance',\n",
       "       'I am deaf / hard of hearing;I am unable to / find it difficult to walk or stand without assistance',\n",
       "       'I am unable to / find it difficult to type',\n",
       "       'I am deaf / hard of hearing;I am blind / have difficulty seeing',\n",
       "       'Or, in your own words:;I am deaf / hard of hearing;I am blind / have difficulty seeing',\n",
       "       'Or, in your own words:;I am unable to / find it difficult to walk or stand without assistance',\n",
       "       'Or, in your own words:;I am deaf / hard of hearing',\n",
       "       'I am deaf / hard of hearing;I am blind / have difficulty seeing;I am unable to / find it difficult to type;I am unable to / find it difficult to walk or stand without assistance',\n",
       "       'I am deaf / hard of hearing;I am blind / have difficulty seeing;I am unable to / find it difficult to walk or stand without assistance',\n",
       "       'I am unable to / find it difficult to type;I am unable to / find it difficult to walk or stand without assistance',\n",
       "       'Or, in your own words:;I am blind / have difficulty seeing',\n",
       "       'I am deaf / hard of hearing;I am unable to / find it difficult to type',\n",
       "       'I am blind / have difficulty seeing;I am unable to / find it difficult to type',\n",
       "       'I am blind / have difficulty seeing;I am unable to / find it difficult to walk or stand without assistance',\n",
       "       'I am deaf / hard of hearing;I am blind / have difficulty seeing;I am unable to / find it difficult to type',\n",
       "       'Or, in your own words:;I am unable to / find it difficult to type',\n",
       "       'Or, in your own words:;I am blind / have difficulty seeing;I am unable to / find it difficult to type'],\n",
       "      dtype=object)"
      ]
     },
     "execution_count": 530,
     "metadata": {},
     "output_type": "execute_result"
    }
   ],
   "source": [
    "# before processing. \n",
    "# note: for physical only 2547 responses, hence 'yes'/'no' binary system applied again + 'Prefer not to say'\n",
    "\n",
    "wdf['Physical_disability'].unique()"
   ]
  },
  {
   "cell_type": "code",
   "execution_count": 531,
   "metadata": {},
   "outputs": [
    {
     "name": "stdout",
     "output_type": "stream",
     "text": [
      "29223\n",
      "244\n"
     ]
    }
   ],
   "source": [
    "# number of rows with 'Prefer not to say' VS total number of rows\n",
    "print(wdf['Physical_disability'].value_counts().sum())\n",
    "print(wdf[wdf['Physical_disability'] == 'Prefer not to say'].value_counts().sum())"
   ]
  },
  {
   "cell_type": "code",
   "execution_count": 532,
   "metadata": {},
   "outputs": [],
   "source": [
    "def physical_disability(x):\n",
    "    if pd.isnull(x) or x == 'None of the above':\n",
    "        return 'no' # imputing missing values as 'no' since it is the most common\n",
    "    if x == 'Prefer not to say':\n",
    "        return x\n",
    "    else:\n",
    "        return 'yes'\n",
    "\n",
    "wdf['Physical_disability'] = wdf['Physical_disability'].apply(physical_disability)"
   ]
  },
  {
   "cell_type": "code",
   "execution_count": 533,
   "metadata": {},
   "outputs": [
    {
     "data": {
      "text/plain": [
       "array(['no', 'yes', 'Prefer not to say'], dtype=object)"
      ]
     },
     "execution_count": 533,
     "metadata": {},
     "output_type": "execute_result"
    }
   ],
   "source": [
    "# after processing\n",
    "wdf['Physical_disability'].unique()"
   ]
  },
  {
   "cell_type": "markdown",
   "metadata": {},
   "source": [
    "- **Initial Analysis**: Identified the unique values in the 'Physical_disability' column and noted the frequency of each response, including 'Prefer not to say'.\n",
    "- **Function Definition**: Formed a function, `physical_disability`, to:\n",
    "  - Assign 'no' to NaN values or responses indicating 'None of the above', assuming no disability in these cases.\n",
    "  - Maintain 'Prefer not to say' responses as they are.\n",
    "  - Label all other responses as 'yes', indicating the presence of a physical disability.\n",
    "- **Implementing Changes**: Used the function to revamp the 'Physical_disability' column, simplifying it into a more straightforward categorization system.\n",
    "- **Validation**: Checked the unique values post-transformation to ensure the column was correctly updated.\n"
   ]
  },
  {
   "attachments": {},
   "cell_type": "markdown",
   "metadata": {},
   "source": [
    "### `Mental_disability` column"
   ]
  },
  {
   "cell_type": "code",
   "execution_count": 534,
   "metadata": {},
   "outputs": [
    {
     "data": {
      "text/plain": [
       "array(['I have a mood or emotional disorder (e.g., depression, bipolar disorder, etc.);I have an anxiety disorder',\n",
       "       'None of the above',\n",
       "       'I have a mood or emotional disorder (e.g., depression, bipolar disorder, etc.)',\n",
       "       'I have an anxiety disorder', nan,\n",
       "       'I have learning differences (e.g., Dyslexic, Dyslexia, etc.)',\n",
       "       'I have an anxiety disorder;I have a concentration and/or memory disorder (e.g., ADHD, etc.)',\n",
       "       'Prefer not to say',\n",
       "       \"I have a concentration and/or memory disorder (e.g., ADHD, etc.);I have learning differences (e.g., Dyslexic, Dyslexia, etc.);I have autism / an autism spectrum disorder (e.g. Asperger's, etc.)\",\n",
       "       \"I have a mood or emotional disorder (e.g., depression, bipolar disorder, etc.);I have a concentration and/or memory disorder (e.g., ADHD, etc.);I have autism / an autism spectrum disorder (e.g. Asperger's, etc.)\",\n",
       "       'I have an anxiety disorder;Or, in your own words:',\n",
       "       \"I have a mood or emotional disorder (e.g., depression, bipolar disorder, etc.);I have an anxiety disorder;I have a concentration and/or memory disorder (e.g., ADHD, etc.);I have autism / an autism spectrum disorder (e.g. Asperger's, etc.)\",\n",
       "       'I have a concentration and/or memory disorder (e.g., ADHD, etc.)',\n",
       "       'Or, in your own words:;I have a concentration and/or memory disorder (e.g., ADHD, etc.)',\n",
       "       'I have a mood or emotional disorder (e.g., depression, bipolar disorder, etc.);I have an anxiety disorder;I have a concentration and/or memory disorder (e.g., ADHD, etc.)',\n",
       "       \"I have autism / an autism spectrum disorder (e.g. Asperger's, etc.)\",\n",
       "       \"I have an anxiety disorder;I have a concentration and/or memory disorder (e.g., ADHD, etc.);I have learning differences (e.g., Dyslexic, Dyslexia, etc.);I have autism / an autism spectrum disorder (e.g. Asperger's, etc.)\",\n",
       "       'I have a mood or emotional disorder (e.g., depression, bipolar disorder, etc.);I have a concentration and/or memory disorder (e.g., ADHD, etc.)',\n",
       "       \"I have an anxiety disorder;I have a concentration and/or memory disorder (e.g., ADHD, etc.);I have autism / an autism spectrum disorder (e.g. Asperger's, etc.)\",\n",
       "       \"I have an anxiety disorder;I have autism / an autism spectrum disorder (e.g. Asperger's, etc.)\",\n",
       "       \"I have a mood or emotional disorder (e.g., depression, bipolar disorder, etc.);I have an anxiety disorder;I have autism / an autism spectrum disorder (e.g. Asperger's, etc.)\",\n",
       "       \"I have a concentration and/or memory disorder (e.g., ADHD, etc.);I have autism / an autism spectrum disorder (e.g. Asperger's, etc.)\",\n",
       "       'Or, in your own words:',\n",
       "       'I have a concentration and/or memory disorder (e.g., ADHD, etc.);I have learning differences (e.g., Dyslexic, Dyslexia, etc.)',\n",
       "       'I have a mood or emotional disorder (e.g., depression, bipolar disorder, etc.);I have an anxiety disorder;I have a concentration and/or memory disorder (e.g., ADHD, etc.);I have learning differences (e.g., Dyslexic, Dyslexia, etc.)',\n",
       "       'I have a mood or emotional disorder (e.g., depression, bipolar disorder, etc.);I have learning differences (e.g., Dyslexic, Dyslexia, etc.)',\n",
       "       \"I have learning differences (e.g., Dyslexic, Dyslexia, etc.);I have autism / an autism spectrum disorder (e.g. Asperger's, etc.)\",\n",
       "       'I have an anxiety disorder;I have learning differences (e.g., Dyslexic, Dyslexia, etc.)',\n",
       "       \"I have a mood or emotional disorder (e.g., depression, bipolar disorder, etc.);I have autism / an autism spectrum disorder (e.g. Asperger's, etc.)\",\n",
       "       \"I have a mood or emotional disorder (e.g., depression, bipolar disorder, etc.);I have an anxiety disorder;I have a concentration and/or memory disorder (e.g., ADHD, etc.);I have learning differences (e.g., Dyslexic, Dyslexia, etc.);I have autism / an autism spectrum disorder (e.g. Asperger's, etc.)\",\n",
       "       'I have a mood or emotional disorder (e.g., depression, bipolar disorder, etc.);I have an anxiety disorder;I have learning differences (e.g., Dyslexic, Dyslexia, etc.)',\n",
       "       \"I have a mood or emotional disorder (e.g., depression, bipolar disorder, etc.);I have learning differences (e.g., Dyslexic, Dyslexia, etc.);I have autism / an autism spectrum disorder (e.g. Asperger's, etc.)\",\n",
       "       'I have a mood or emotional disorder (e.g., depression, bipolar disorder, etc.);I have a concentration and/or memory disorder (e.g., ADHD, etc.);I have learning differences (e.g., Dyslexic, Dyslexia, etc.)',\n",
       "       'I have an anxiety disorder;I have a concentration and/or memory disorder (e.g., ADHD, etc.);I have learning differences (e.g., Dyslexic, Dyslexia, etc.)',\n",
       "       'I have a mood or emotional disorder (e.g., depression, bipolar disorder, etc.);Or, in your own words:',\n",
       "       \"I have a mood or emotional disorder (e.g., depression, bipolar disorder, etc.);I have an anxiety disorder;Or, in your own words:;I have autism / an autism spectrum disorder (e.g. Asperger's, etc.)\",\n",
       "       'I have a mood or emotional disorder (e.g., depression, bipolar disorder, etc.);Or, in your own words:;I have learning differences (e.g., Dyslexic, Dyslexia, etc.)',\n",
       "       \"Or, in your own words:;I have autism / an autism spectrum disorder (e.g. Asperger's, etc.)\",\n",
       "       \"I have an anxiety disorder;I have learning differences (e.g., Dyslexic, Dyslexia, etc.);I have autism / an autism spectrum disorder (e.g. Asperger's, etc.)\",\n",
       "       \"I have a mood or emotional disorder (e.g., depression, bipolar disorder, etc.);Or, in your own words:;I have a concentration and/or memory disorder (e.g., ADHD, etc.);I have autism / an autism spectrum disorder (e.g. Asperger's, etc.)\",\n",
       "       'I have a mood or emotional disorder (e.g., depression, bipolar disorder, etc.);I have an anxiety disorder;Or, in your own words:',\n",
       "       \"I have a mood or emotional disorder (e.g., depression, bipolar disorder, etc.);Or, in your own words:;I have autism / an autism spectrum disorder (e.g. Asperger's, etc.)\",\n",
       "       \"Or, in your own words:;I have learning differences (e.g., Dyslexic, Dyslexia, etc.);I have autism / an autism spectrum disorder (e.g. Asperger's, etc.)\",\n",
       "       'I have a mood or emotional disorder (e.g., depression, bipolar disorder, etc.);I have an anxiety disorder;Or, in your own words:;I have a concentration and/or memory disorder (e.g., ADHD, etc.)',\n",
       "       \"I have a mood or emotional disorder (e.g., depression, bipolar disorder, etc.);I have a concentration and/or memory disorder (e.g., ADHD, etc.);I have learning differences (e.g., Dyslexic, Dyslexia, etc.);I have autism / an autism spectrum disorder (e.g. Asperger's, etc.)\",\n",
       "       'I have a mood or emotional disorder (e.g., depression, bipolar disorder, etc.);Or, in your own words:;I have a concentration and/or memory disorder (e.g., ADHD, etc.)',\n",
       "       'Or, in your own words:;I have learning differences (e.g., Dyslexic, Dyslexia, etc.)',\n",
       "       \"Or, in your own words:;I have a concentration and/or memory disorder (e.g., ADHD, etc.);I have autism / an autism spectrum disorder (e.g. Asperger's, etc.)\",\n",
       "       \"I have a mood or emotional disorder (e.g., depression, bipolar disorder, etc.);I have an anxiety disorder;I have learning differences (e.g., Dyslexic, Dyslexia, etc.);I have autism / an autism spectrum disorder (e.g. Asperger's, etc.)\",\n",
       "       'I have an anxiety disorder;Or, in your own words:;I have learning differences (e.g., Dyslexic, Dyslexia, etc.)',\n",
       "       'I have a mood or emotional disorder (e.g., depression, bipolar disorder, etc.);I have an anxiety disorder;Or, in your own words:;I have a concentration and/or memory disorder (e.g., ADHD, etc.);I have learning differences (e.g., Dyslexic, Dyslexia, etc.)',\n",
       "       \"Or, in your own words:;I have a concentration and/or memory disorder (e.g., ADHD, etc.);I have learning differences (e.g., Dyslexic, Dyslexia, etc.);I have autism / an autism spectrum disorder (e.g. Asperger's, etc.)\",\n",
       "       'I have an anxiety disorder;Or, in your own words:;I have a concentration and/or memory disorder (e.g., ADHD, etc.)',\n",
       "       \"I have a mood or emotional disorder (e.g., depression, bipolar disorder, etc.);I have an anxiety disorder;Or, in your own words:;I have a concentration and/or memory disorder (e.g., ADHD, etc.);I have autism / an autism spectrum disorder (e.g. Asperger's, etc.)\"],\n",
       "      dtype=object)"
      ]
     },
     "execution_count": 534,
     "metadata": {},
     "output_type": "execute_result"
    }
   ],
   "source": [
    "# before processing\n",
    "# note: here we have 16,163 responses, hence we should distinguish among dissabilities\n",
    "\n",
    "wdf['Mental_disability'].unique()"
   ]
  },
  {
   "cell_type": "code",
   "execution_count": 535,
   "metadata": {},
   "outputs": [],
   "source": [
    "def simplify_mental_disability(x):\n",
    "    if pd.isnull(x) or x == 'None of the above':\n",
    "        return 'No'\n",
    "    categories = {\n",
    "        'I have a concentration and/or memory disorder': 'Memory_disorder',\n",
    "        'I have an anxiety disorder': 'Anxiety_disorder',\n",
    "        'I have a mood or emotional disorder (e.g., depression, bipolar disorder, etc.)': 'Mood_disorder',\n",
    "        \"I have autism / an autism spectrum disorder (e.g. Asperger's, etc.)\": 'Autism',\n",
    "        'I have learning differences (e.g., Dyslexic, Dyslexia, etc.)': 'Learning_difficulties'\n",
    "    }\n",
    "    matches = [cat for keyword, cat in categories.items() if keyword in x]\n",
    "    if len(matches) > 1:\n",
    "        return 'Various_disabilities'\n",
    "    elif len(matches) == 1:\n",
    "        return matches[0]\n",
    "    else:\n",
    "        return 'Others'\n",
    "\n",
    "wdf['Mental_disability'] = wdf['Mental_disability'].apply(simplify_mental_disability)\n"
   ]
  },
  {
   "cell_type": "code",
   "execution_count": 536,
   "metadata": {},
   "outputs": [
    {
     "data": {
      "text/plain": [
       "No                       22038\n",
       "Various_disabilities      2800\n",
       "Memory_disorder           1355\n",
       "Others                    1327\n",
       "Anxiety_disorder          1176\n",
       "Mood_disorder              912\n",
       "Autism                     438\n",
       "Learning_difficulties      364\n",
       "Name: Mental_disability, dtype: int64"
      ]
     },
     "execution_count": 536,
     "metadata": {},
     "output_type": "execute_result"
    }
   ],
   "source": [
    "# after processing\n",
    "wdf['Mental_disability'].value_counts()"
   ]
  },
  {
   "cell_type": "markdown",
   "metadata": {},
   "source": [
    "- **Pre-Processing Overview**: Assessed the different unique values in the 'Mental_disability' column, considering there were 16,163 responses that can be detailed further.\n",
    "- **Function Creation**:\n",
    "  - Developed a `simplify_mental_disability` function to reclassify entries:\n",
    "      - 'No' for NaN values or responses stating 'None of the above'.\n",
    "      - Specific categories for known disorders.\n",
    "      - 'Various_disabilities' if an entry mentions more than one disorder.\n",
    "      - 'Others' for all remaining cases.\n",
    "- **Applying the Function**: Used the function to update the 'Mental_disability' column, mapping the original descriptions to the new simplified categories.\n",
    "- **Post-Processing**: Reviewed the count of each newly defined category to understand the distribution in the updated column.\n"
   ]
  },
  {
   "attachments": {},
   "cell_type": "markdown",
   "metadata": {},
   "source": [
    "### `Company_size` column"
   ]
  },
  {
   "cell_type": "code",
   "execution_count": 537,
   "metadata": {},
   "outputs": [
    {
     "data": {
      "text/plain": [
       "array(['20 to 99 employees', '100 to 499 employees', '2 to 9 employees',\n",
       "       '5,000 to 9,999 employees',\n",
       "       'Just me - I am a freelancer, sole proprietor, etc.',\n",
       "       '10,000 or more employees', '500 to 999 employees',\n",
       "       '1,000 to 4,999 employees', 'I donâ€™t know', '10 to 19 employees',\n",
       "       nan], dtype=object)"
      ]
     },
     "execution_count": 537,
     "metadata": {},
     "output_type": "execute_result"
    }
   ],
   "source": [
    "wdf['Company_size'].unique()"
   ]
  },
  {
   "cell_type": "code",
   "execution_count": 538,
   "metadata": {},
   "outputs": [],
   "source": [
    "# Preprocess OrgSize column, soruce: https://www.kaggle.com/code/do1likethis/which-devs-get-paid-more-and-why#Modeling:-how-well-can-we-predict-earning?-What-variables-matter-most?\n",
    "\n",
    "wdf['Company_size'] = wdf['Company_size'].fillna(\"None\").replace({\"10,000 or more employees\": \"XL\",\n",
    "                                      \"20 to 99 employees\": \"S\",\n",
    "                                      \"100 to 499 employees\": \"M\",\n",
    "                                      \"1,000 to 4,999 employees\": \"L\",\n",
    "                                      \"5,000 to 9,999 employees\": \"XL\",\n",
    "                                      \"2 to 9 employees\": \"XS\",\n",
    "                                      \"10 to 19 employees\": \"XS\",\n",
    "                                      \"500 to 999 employees\": \"M\",\n",
    "                                      \"Just me - I am a freelancer, sole proprietor, etc.\": \"XS\",\n",
    "                                      \"I donâ€™t know\": \"None\",\n",
    "                                      \"I prefer not to answer\": \"None\"})\n",
    "\n",
    "wdf['Company_size'] = wdf['Company_size'].replace('None', np.nan)"
   ]
  },
  {
   "cell_type": "code",
   "execution_count": 539,
   "metadata": {},
   "outputs": [
    {
     "data": {
      "text/plain": [
       "array(['S', 'M', 'XS', 'XL', 'L', nan], dtype=object)"
      ]
     },
     "execution_count": 539,
     "metadata": {},
     "output_type": "execute_result"
    }
   ],
   "source": [
    "# after processing\n",
    "wdf['Company_size'].unique()"
   ]
  },
  {
   "cell_type": "markdown",
   "metadata": {},
   "source": [
    "- **Pre-Processing Overview**: Inspected the unique values in the 'Company_size' column to identify the different categories present.\n",
    "- **Data Cleaning**:\n",
    "  - **Handling missing values**: Filled NaN entries with a temporary placeholder \"None\".\n",
    "  - **Simplifying categories**: Replaced various size descriptions with simplified labels ranging from \"XS\" to \"XL\" based on the number of employees. Addressed special cases such as freelancers and non-responses with respective categories.\n",
    "  - **Special characters issue**: Noticed and rectified the special character issue in the strings representing unknown responses and non-responses.\n",
    "- **Post-Cleaning**: Re-examined the unique values in the 'Company_size' column to ensure the changes were applied correctly, and replaced the temporary \"None\" placeholder with NaN to represent unknown data accurately.\n"
   ]
  },
  {
   "attachments": {},
   "cell_type": "markdown",
   "metadata": {},
   "source": [
    "### `Age` column"
   ]
  },
  {
   "cell_type": "code",
   "execution_count": 540,
   "metadata": {},
   "outputs": [
    {
     "data": {
      "text/plain": [
       "array(['25-34 years old', '18-24 years old', '35-44 years old',\n",
       "       '45-54 years old', '55-64 years old', '65 years or older',\n",
       "       'Prefer not to say', 'Under 18 years old', nan], dtype=object)"
      ]
     },
     "execution_count": 540,
     "metadata": {},
     "output_type": "execute_result"
    }
   ],
   "source": [
    "# note: Looking good, we'll only check NANs later\n",
    "\n",
    "wdf['Age'].unique()"
   ]
  },
  {
   "attachments": {},
   "cell_type": "markdown",
   "metadata": {},
   "source": [
    "### `Job_Type` column"
   ]
  },
  {
   "cell_type": "code",
   "execution_count": 541,
   "metadata": {},
   "outputs": [
    {
     "data": {
      "text/plain": [
       "array(['Employed, full-time',\n",
       "       'Employed, full-time;Independent contractor, freelancer, or self-employed',\n",
       "       'Independent contractor, freelancer, or self-employed',\n",
       "       'Employed, part-time',\n",
       "       'Employed, full-time;Independent contractor, freelancer, or self-employed;Employed, part-time',\n",
       "       'Employed, full-time;Employed, part-time',\n",
       "       'Independent contractor, freelancer, or self-employed;Employed, part-time',\n",
       "       'Independent contractor, freelancer, or self-employed;Retired',\n",
       "       'Employed, part-time;Retired', 'Employed, full-time;Retired',\n",
       "       'Employed, full-time;Independent contractor, freelancer, or self-employed;Retired'],\n",
       "      dtype=object)"
      ]
     },
     "execution_count": 541,
     "metadata": {},
     "output_type": "execute_result"
    }
   ],
   "source": [
    "# note: we need to simplify it since there are mixed and confusing values\n",
    "\n",
    "wdf.Job_type.unique()"
   ]
  },
  {
   "cell_type": "code",
   "execution_count": 542,
   "metadata": {},
   "outputs": [],
   "source": [
    "def simplify_job_type(job_type):\n",
    "    if pd.isnull(job_type):\n",
    "        return job_type\n",
    "    job_list = job_type.split(';')\n",
    "    \n",
    "    if len(job_list) > 1:\n",
    "        return 'Other'\n",
    "    elif 'Employed, full-time' in job_list:\n",
    "        return 'Full-time employed'\n",
    "    elif 'Employed, part-time' in job_list:\n",
    "        return 'Part-time employed'\n",
    "    elif 'Retired' in job_list:\n",
    "        return 'Retired'\n",
    "    else:\n",
    "        return 'Independent contractor / Freelancer / Self-employed'\n",
    "\n",
    "wdf['Job_type'] = wdf['Job_type'].apply(simplify_job_type)\n"
   ]
  },
  {
   "cell_type": "code",
   "execution_count": 543,
   "metadata": {},
   "outputs": [
    {
     "data": {
      "text/plain": [
       "array(['Full-time employed', 'Other',\n",
       "       'Independent contractor / Freelancer / Self-employed',\n",
       "       'Part-time employed'], dtype=object)"
      ]
     },
     "execution_count": 543,
     "metadata": {},
     "output_type": "execute_result"
    }
   ],
   "source": [
    "# after processing\n",
    "wdf.Job_type.unique()"
   ]
  },
  {
   "cell_type": "markdown",
   "metadata": {},
   "source": [
    "- **Pre-Processing Overview**: Checked the unique values in the 'Job_type' column to understand the kind of values present in the data.\n",
    "- **Data Cleaning**:\n",
    "  - **Missing Values**: Maintained NaN entries as they are without any change.\n",
    "  - **Simplifying Categories**: Used a function to simplify the job types into clearer categories:\n",
    "    - Single job types were categorized distinctly: 'Full-time employed', 'Part-time employed', 'Retired', and 'Independent contractor / Freelancer / Self-employed'.\n",
    "    - Entries with mixed job types were categorized as 'Other'.\n",
    "- **Post-Cleaning**: Verified the unique values in the 'Job_type' column after applying the function to ensure the categories were simplified accurately.\n"
   ]
  },
  {
   "attachments": {},
   "cell_type": "markdown",
   "metadata": {},
   "source": [
    "### `Country` column"
   ]
  },
  {
   "cell_type": "code",
   "execution_count": 544,
   "metadata": {},
   "outputs": [],
   "source": [
    "# note: Here we will shorten the longer country names for simplicity\n",
    "\n",
    "def shorten_country_name(name):\n",
    "    shorten_dict = {\n",
    "        'United Kingdom of Great Britain and Northern Ireland': 'UK & Northern Ireland',\n",
    "        'United States of America': 'USA',\n",
    "        'Bosnia and Herzegovina': 'Bosnia-Herz.',\n",
    "        'Iran, Islamic Republic of...': 'Iran',\n",
    "        'The former Yugoslav Republic of Macedonia': 'North Macedonia',\n",
    "        'United Republic of Tanzania': 'Tanzania',\n",
    "        'Venezuela, Bolivarian Republic of...': 'Venezuela',\n",
    "        \"Lao People's Democratic Republic\": 'Laos',\n",
    "        'Democratic Republic of the Congo': 'DR Congo',\n",
    "        'Congo, Republic of the...': 'Republic of Congo',\n",
    "        'Libyan Arab Jamahiriya': 'Libya',\n",
    "        'Hong Kong (S.A.R.)': 'Hong Kong',\n",
    "    }\n",
    "    \n",
    "    return shorten_dict.get(name, name)\n",
    "\n",
    "wdf['Country'] = wdf['Country'].apply(shorten_country_name)\n"
   ]
  },
  {
   "cell_type": "code",
   "execution_count": 545,
   "metadata": {},
   "outputs": [
    {
     "data": {
      "text/plain": [
       "array(['UK & Northern Ireland', 'USA', 'Czech Republic', 'Austria',\n",
       "       'Italy', 'Canada', 'Germany', 'Ireland', 'Poland', 'Israel',\n",
       "       'Madagascar', 'Taiwan', 'Netherlands', 'France', 'Brazil',\n",
       "       'Uruguay', 'Sweden', 'Spain', 'Turkey', 'Romania', 'Singapore',\n",
       "       'India', 'Bulgaria', 'Greece', 'Russian Federation', 'Belgium',\n",
       "       'Saudi Arabia', 'Mexico', 'Switzerland', 'Latvia', 'South Africa',\n",
       "       'Thailand', 'China', 'Finland', 'Slovakia', 'Japan', 'Denmark',\n",
       "       'Australia', 'Viet Nam', 'Portugal', 'Hungary', 'Tunisia',\n",
       "       'Bangladesh', 'Ukraine', 'Maldives', 'Hong Kong', 'Norway',\n",
       "       'Egypt', 'Serbia', 'Nepal', 'Argentina', 'Croatia', 'Armenia',\n",
       "       'Lithuania', 'Iran', 'Belarus', 'Costa Rica', 'Pakistan',\n",
       "       'Mauritius', 'Estonia', 'Kazakhstan', 'Morocco', 'Chile',\n",
       "       'New Zealand', 'Slovenia', 'Cyprus', 'Philippines', 'Colombia',\n",
       "       'Afghanistan', 'Andorra', 'Indonesia', 'Republic of Korea',\n",
       "       'South Korea', 'Malaysia', 'Sri Lanka', 'Guatemala', 'Jordan',\n",
       "       'Azerbaijan', 'United Arab Emirates', 'Qatar', 'Kenya',\n",
       "       'Uzbekistan', 'Ethiopia', 'Nigeria', 'Lebanon', 'Bosnia-Herz.',\n",
       "       'Luxembourg', 'North Macedonia', 'Syrian Arab Republic',\n",
       "       'Montenegro', 'Cambodia', 'Fiji', 'Albania', 'Mongolia',\n",
       "       'Republic of Moldova', 'Tajikistan', 'Ghana', 'Tanzania',\n",
       "       'Algeria', 'Cameroon', 'Kosovo', 'Georgia', 'Botswana', 'Myanmar',\n",
       "       'Turkmenistan', 'Palestine', 'Ecuador', 'Senegal',\n",
       "       'Dominican Republic', 'Rwanda', 'Malta', 'Peru', 'El Salvador',\n",
       "       'Bolivia', 'Isle of Man', 'Mali', 'Panama', 'Laos', 'Iceland',\n",
       "       'Venezuela', 'Honduras', 'Paraguay', 'Cuba', 'Uganda', 'DR Congo',\n",
       "       \"CÃ´te d'Ivoire\", 'Nicaragua', 'Timor-Leste', 'Kyrgyzstan',\n",
       "       'Nomadic', 'Republic of Congo', 'Libya', 'Mozambique', 'Kuwait',\n",
       "       'Angola', 'Oman', 'Yemen', 'Iraq', 'Sudan', 'Zambia', 'Bahrain',\n",
       "       'Cape Verde', 'Zimbabwe', 'Benin', 'Bhutan', 'Togo', 'Suriname',\n",
       "       'Jamaica', 'Barbados', 'Haiti', 'Malawi', 'Guinea', 'Guyana',\n",
       "       'Palau', 'Trinidad and Tobago', 'Monaco', 'Saint Lucia',\n",
       "       'Seychelles'], dtype=object)"
      ]
     },
     "execution_count": 545,
     "metadata": {},
     "output_type": "execute_result"
    }
   ],
   "source": [
    "# after processing\n",
    "wdf['Country'].unique()"
   ]
  },
  {
   "cell_type": "markdown",
   "metadata": {},
   "source": [
    "- **Pre-Processing Overview**: Checked the unique values in the 'Country' column to understand the different country names present.\n",
    "- **Data Cleaning**:\n",
    "  - **Shortening Country Names**: Created a dictionary to map the longer country names to their shorter, more simplified versions.\n",
    "  - **Function Application**: Applied a function to shorten the country names based on the mapping dictionary created.\n",
    "- **Post-Cleaning**: Verified the unique values in the 'Country' column after applying the function to ensure the country names were shortened as intended.\n"
   ]
  },
  {
   "attachments": {},
   "cell_type": "markdown",
   "metadata": {},
   "source": [
    "### `Ethnicity` column "
   ]
  },
  {
   "cell_type": "code",
   "execution_count": 546,
   "metadata": {},
   "outputs": [
    {
     "data": {
      "text/plain": [
       "White                                                             7367\n",
       "European                                                          6741\n",
       "White;European                                                    4021\n",
       "Indian                                                            1523\n",
       "Asian                                                              940\n",
       "                                                                  ... \n",
       "European;Black;Caribbean                                             1\n",
       "White;Or, in your own words:;European;Middle Eastern                 1\n",
       "European;South Asian                                                 1\n",
       "European;Hispanic or Latino/a;Multiracial;Biracial                   1\n",
       "White;European;North American;Middle Eastern;Asian;Multiracial       1\n",
       "Name: Ethnicity, Length: 613, dtype: int64"
      ]
     },
     "execution_count": 546,
     "metadata": {},
     "output_type": "execute_result"
    }
   ],
   "source": [
    "# before processing\n",
    "# note: there are a lot of unique values due to multiracial options, this needs to be simplified\n",
    "\n",
    "wdf.Ethnicity.value_counts()"
   ]
  },
  {
   "cell_type": "code",
   "execution_count": 547,
   "metadata": {},
   "outputs": [],
   "source": [
    "def simplify_ethnicity1(ethnicity):\n",
    "    if pd.isna(ethnicity):\n",
    "        return ethnicity\n",
    "    if 'Or, in your own words:' in ethnicity:\n",
    "        return 'Other'\n",
    "    if 'Prefer not to say' in ethnicity:\n",
    "        return 'Prefer not to say'\n",
    "    \n",
    "    ethnicities = ethnicity.split(';')\n",
    "    if len(ethnicities) > 2:\n",
    "        return 'Multiracial'\n",
    "    elif len(ethnicities) == 2:\n",
    "        return f\"{ethnicities[0]};{ethnicities[1]}\"\n",
    "    else:\n",
    "        return ethnicities[0]\n",
    "\n",
    "wdf['Ethnicity'] = wdf['Ethnicity'].apply(simplify_ethnicity1)"
   ]
  },
  {
   "cell_type": "code",
   "execution_count": 548,
   "metadata": {},
   "outputs": [],
   "source": [
    "def simplify_ethnicity2(ethnicity):\n",
    "    if pd.isnull(ethnicity):\n",
    "        return None\n",
    "    if 'White' in ethnicity or 'European' in ethnicity:\n",
    "        return 'White / European'\n",
    "    if 'Indian' in ethnicity or 'South Asian' in ethnicity:\n",
    "        return 'Indian / South Asian'\n",
    "    if 'Asian' in ethnicity:\n",
    "        return 'Asian'\n",
    "    if 'Hispanic' in ethnicity or 'Latino' in ethnicity:\n",
    "        return 'Hispanic or Latino/a'\n",
    "    if 'Middle Eastern' in ethnicity or 'North African' in ethnicity:\n",
    "        return 'Middle Eastern / North African'\n",
    "    if 'African' in ethnicity or 'Black' in ethnicity:\n",
    "        return 'African / Black'\n",
    "    if 'North American' in ethnicity or 'Central American' in ethnicity:\n",
    "        return 'North American / Central American'\n",
    "    if 'Multiracial' in ethnicity or 'Biracial' in ethnicity:\n",
    "        return 'Multiracial'\n",
    "    if \"Prefer not to say\" in ethnicity or \"I don't know\" in ethnicity:\n",
    "        return 'Prefer not to say / I don\\'t know'\n",
    "    return 'Other'\n",
    "\n",
    "wdf['Ethnicity'] = wdf['Ethnicity'].apply(simplify_ethnicity2)"
   ]
  },
  {
   "cell_type": "code",
   "execution_count": 549,
   "metadata": {},
   "outputs": [
    {
     "name": "stdout",
     "output_type": "stream",
     "text": [
      "White / European                     65.980343\n",
      "Indian / South Asian                  7.459604\n",
      "Asian                                 5.943695\n",
      "Multiracial                           5.180743\n",
      "Other                                 4.204564\n",
      "Hispanic or Latino/a                  3.808096\n",
      "Middle Eastern / North African        2.418791\n",
      "Prefer not to say / I don't know      2.298851\n",
      "African / Black                       1.819090\n",
      "North American / Central American     0.886224\n",
      "Name: Ethnicity, dtype: float64\n"
     ]
    }
   ],
   "source": [
    "simplified_ethnicity_percentage = wdf['Ethnicity'].value_counts() / wdf['Ethnicity'].notna().sum() * 100\n",
    "print(simplified_ethnicity_percentage)"
   ]
  },
  {
   "cell_type": "code",
   "execution_count": 550,
   "metadata": {},
   "outputs": [
    {
     "data": {
      "image/png": "[encoded data removed]",
      "text/plain": [
       "<Figure size 720x432 with 1 Axes>"
      ]
     },
     "metadata": {
      "needs_background": "light"
     },
     "output_type": "display_data"
    }
   ],
   "source": [
    "plt.figure(figsize=(10,6))\n",
    "\n",
    "# Get the percentages of each unique value\n",
    "percentages = wdf['Ethnicity'].value_counts(normalize=True) * 100\n",
    "\n",
    "# Sorting the percentages in ascending order\n",
    "sorted_indices = percentages.sort_values(ascending=True).index\n",
    "\n",
    "# Plotting the bar chart using the sorted indices to extract the correct percentages\n",
    "plt.barh(sorted_indices, percentages[sorted_indices])\n",
    "plt.title(\"Ethnicity distribution (%)\")\n",
    "plt.xticks(rotation=0) # Rotate x labels for better readability\n",
    "plt.savefig('../paper/data-preparation/train/ethnicity-distribution.pdf')\n",
    "plt.show()\n"
   ]
  },
  {
   "cell_type": "markdown",
   "metadata": {},
   "source": [
    "- **Pre-Processing Overview**: Checked the value counts in the 'Ethnicity' column to comprehend the distribution and diversity of the responses.\n",
    "\n",
    "- **Data Cleaning**:\n",
    "  - **Step 1 – Simplifying Multiracial Responses**:\n",
    "    - Created a function `simplify_ethnicity1` to simplify the responses with multiple racial identifications into broader categories such as 'Multiracial' or a combination of two ethnicities separated by a semicolon.\n",
    "    - Handled special cases where respondents preferred not to say or used their own words to describe their ethnicity.\n",
    "  - **Step 2 – Grouping Ethnicities**:\n",
    "    - Developed a second function `simplify_ethnicity2` to group the simplified responses from Step 1 into broader categories based on the presence of keywords in the ethnicity description.\n",
    "    - Replaced the 'Ethnicity' column values using the `simplify_ethnicity2` function to have more grouped and broader categories.\n",
    "\n",
    "- **Post-Cleaning**:\n",
    "  - **Insights**: Calculated the percentage of each category in the simplified 'Ethnicity' column to understand the distribution of the cleaned data.\n"
   ]
  },
  {
   "attachments": {},
   "cell_type": "markdown",
   "metadata": {},
   "source": [
    "### `Gender` column"
   ]
  },
  {
   "cell_type": "code",
   "execution_count": 551,
   "metadata": {},
   "outputs": [
    {
     "data": {
      "text/plain": [
       "Man                                                                                   28073\n",
       "Woman                                                                                  1362\n",
       "Prefer not to say                                                                       283\n",
       "Non-binary, genderqueer, or gender non-conforming                                       251\n",
       "Or, in your own words:                                                                   94\n",
       "Man;Non-binary, genderqueer, or gender non-conforming                                    92\n",
       "Man;Or, in your own words:                                                               59\n",
       "Woman;Non-binary, genderqueer, or gender non-conforming                                  58\n",
       "Man;Woman;Non-binary, genderqueer, or gender non-conforming                               8\n",
       "Or, in your own words:;Non-binary, genderqueer, or gender non-conforming                  7\n",
       "Man;Or, in your own words:;Woman;Non-binary, genderqueer, or gender non-conforming        5\n",
       "Or, in your own words:;Woman;Non-binary, genderqueer, or gender non-conforming            5\n",
       "Man;Woman                                                                                 3\n",
       "Man;Or, in your own words:;Non-binary, genderqueer, or gender non-conforming              3\n",
       "Or, in your own words:;Woman                                                              2\n",
       "Name: Gender, dtype: int64"
      ]
     },
     "execution_count": 551,
     "metadata": {},
     "output_type": "execute_result"
    }
   ],
   "source": [
    "wdf.Gender.value_counts()"
   ]
  },
  {
   "cell_type": "code",
   "execution_count": 552,
   "metadata": {},
   "outputs": [
    {
     "data": {
      "text/plain": [
       "No                        29398\n",
       "Prefer not to say           346\n",
       "Yes                         306\n",
       "Or, in your own words:      161\n",
       "Name: Trans, dtype: int64"
      ]
     },
     "execution_count": 552,
     "metadata": {},
     "output_type": "execute_result"
    }
   ],
   "source": [
    "wdf.Trans.value_counts()"
   ]
  },
  {
   "cell_type": "code",
   "execution_count": 553,
   "metadata": {},
   "outputs": [],
   "source": [
    "# Modify the column gender with the info of trans == yes, else, stay the same\n",
    "wdf['Gender'] = wdf.apply(lambda row: 'Trans' if row['Trans'] == 'Yes' else row['Gender'], axis=1)\n",
    "\n",
    "# Delete column 'Trans'\n",
    "wdf = wdf.drop('Trans', axis=1)"
   ]
  },
  {
   "cell_type": "code",
   "execution_count": 554,
   "metadata": {},
   "outputs": [
    {
     "data": {
      "text/plain": [
       "Man                                                                                   28019\n",
       "Woman                                                                                  1267\n",
       "Trans                                                                                   306\n",
       "Prefer not to say                                                                       273\n",
       "Non-binary, genderqueer, or gender non-conforming                                       159\n",
       "Or, in your own words:                                                                   89\n",
       "Man;Non-binary, genderqueer, or gender non-conforming                                    80\n",
       "Man;Or, in your own words:                                                               59\n",
       "Woman;Non-binary, genderqueer, or gender non-conforming                                  31\n",
       "Man;Or, in your own words:;Woman;Non-binary, genderqueer, or gender non-conforming        5\n",
       "Or, in your own words:;Non-binary, genderqueer, or gender non-conforming                  4\n",
       "Man;Woman;Non-binary, genderqueer, or gender non-conforming                               3\n",
       "Man;Woman                                                                                 3\n",
       "Man;Or, in your own words:;Non-binary, genderqueer, or gender non-conforming              3\n",
       "Or, in your own words:;Woman;Non-binary, genderqueer, or gender non-conforming            2\n",
       "Or, in your own words:;Woman                                                              2\n",
       "Name: Gender, dtype: int64"
      ]
     },
     "execution_count": 554,
     "metadata": {},
     "output_type": "execute_result"
    }
   ],
   "source": [
    "wdf.Gender.value_counts()"
   ]
  },
  {
   "cell_type": "code",
   "execution_count": 555,
   "metadata": {},
   "outputs": [],
   "source": [
    "def process_values(value):\n",
    "    if value is None or pd.isna(value):\n",
    "        return float('nan')\n",
    "    \n",
    "    value = str(value)\n",
    "    \n",
    "    if 'Or, in your own words:' in value:\n",
    "        split_values = value.split(';')\n",
    "        split_values = [v.strip() for v in split_values if v.strip() != 'Or, in your own words:']\n",
    "        if len(split_values) == 0:\n",
    "            return float('nan')\n",
    "        else:\n",
    "            return ';'.join(split_values)\n",
    "    else:\n",
    "        return value\n",
    "\n",
    "# Aplicar la función a la columna\n",
    "wdf['Gender'] = wdf['Gender'].apply(process_values)\n"
   ]
  },
  {
   "cell_type": "code",
   "execution_count": 556,
   "metadata": {},
   "outputs": [
    {
     "data": {
      "text/plain": [
       "Man                                                            28078\n",
       "Woman                                                           1269\n",
       "Trans                                                            306\n",
       "Prefer not to say                                                273\n",
       "Non-binary, genderqueer, or gender non-conforming                163\n",
       "Man;Non-binary, genderqueer, or gender non-conforming             83\n",
       "Woman;Non-binary, genderqueer, or gender non-conforming           33\n",
       "Man;Woman;Non-binary, genderqueer, or gender non-conforming        8\n",
       "Man;Woman                                                          3\n",
       "Name: Gender, dtype: int64"
      ]
     },
     "execution_count": 556,
     "metadata": {},
     "output_type": "execute_result"
    }
   ],
   "source": [
    "wdf.Gender.value_counts()"
   ]
  },
  {
   "cell_type": "code",
   "execution_count": 557,
   "metadata": {},
   "outputs": [],
   "source": [
    "def categorize_gender(value):\n",
    "    if isinstance(value, str):  \n",
    "        if 'Non-binary, genderqueer, or gender non-conforming' in value or 'Man;Woman' in value:\n",
    "            return 'gender non-conforming'\n",
    "        else:\n",
    "            return value\n",
    "    else:  \n",
    "        return value\n",
    "\n",
    "wdf['Gender'] = wdf['Gender'].apply(categorize_gender)\n"
   ]
  },
  {
   "cell_type": "code",
   "execution_count": 558,
   "metadata": {},
   "outputs": [
    {
     "data": {
      "text/plain": [
       "Man                      28078\n",
       "Woman                     1269\n",
       "Trans                      306\n",
       "gender non-conforming      290\n",
       "Prefer not to say          273\n",
       "Name: Gender, dtype: int64"
      ]
     },
     "execution_count": 558,
     "metadata": {},
     "output_type": "execute_result"
    }
   ],
   "source": [
    "wdf.Gender.value_counts()"
   ]
  },
  {
   "cell_type": "markdown",
   "metadata": {},
   "source": [
    "- **Objective**: To clean the 'Gender' column by removing entries specified as 'Or, in your own words:' and retaining the other gender categories, or setting it to NaN if no other categories are mentioned.\n",
    "  \n",
    "- **Approach**:\n",
    "  - **Creating the `process_values` Function**: Defined a function to individually process each value in the column based on the following steps:\n",
    "    1. **Handle Missing Values**: Returned NaN for None or NaN inputs.\n",
    "    2. **Value Conversion**: Converted the input value to a string for further processing.\n",
    "    3. **Identifying and Splitting Values**: If 'Or, in your own words:' was found in the value, it was split by semicolon to separate it from other categories.\n",
    "    4. **Refining Values**: Removed 'Or, in your own words:' from the list of split values and checked if any values remained. If not, returned NaN.\n",
    "    5. **Rejoining Values**: If there were remaining values, rejoined them using a semicolon.\n",
    "\n",
    "  - **Function Application**: Utilized the `apply` method to execute the `process_values` function on every entry in the 'Gender' column, effectively cleaning and updating the column data.\n",
    "\n",
    "- **Outcome**: The 'Gender' column is updated to retain meaningful gender categories while removing the less informative 'Or, in your own words:' entries or replacing them with NaN where necessary.\n"
   ]
  },
  {
   "attachments": {},
   "cell_type": "markdown",
   "metadata": {},
   "source": [
    "### `Sexual_orientation` Column\n",
    "\n"
   ]
  },
  {
   "cell_type": "code",
   "execution_count": 559,
   "metadata": {},
   "outputs": [
    {
     "data": {
      "text/plain": [
       "Straight / Heterosexual                                                           25346\n",
       "Prefer not to say                                                                  1253\n",
       "Bisexual                                                                           1120\n",
       "Gay or Lesbian                                                                      576\n",
       "Prefer to self-describe:                                                            304\n",
       "Bisexual;Straight / Heterosexual                                                    162\n",
       "Queer                                                                               160\n",
       "Bisexual;Queer                                                                      120\n",
       "Straight / Heterosexual;Prefer to self-describe:                                     69\n",
       "Gay or Lesbian;Queer                                                                 58\n",
       "Straight / Heterosexual;Queer                                                        44\n",
       "Bisexual;Gay or Lesbian                                                              24\n",
       "Bisexual;Gay or Lesbian;Queer                                                        21\n",
       "Prefer to self-describe:;Queer                                                       15\n",
       "Bisexual;Straight / Heterosexual;Gay or Lesbian;Queer                                11\n",
       "Bisexual;Straight / Heterosexual;Queer                                               10\n",
       "Bisexual;Prefer to self-describe:;Queer                                               8\n",
       "Straight / Heterosexual;Prefer to self-describe:;Queer                                7\n",
       "Bisexual;Straight / Heterosexual;Gay or Lesbian                                       6\n",
       "Bisexual;Prefer to self-describe:                                                     6\n",
       "Prefer to self-describe:;Gay or Lesbian;Queer                                         4\n",
       "Bisexual;Straight / Heterosexual;Prefer to self-describe:;Gay or Lesbian;Queer        4\n",
       "Prefer to self-describe:;Gay or Lesbian                                               4\n",
       "Straight / Heterosexual;Gay or Lesbian                                                4\n",
       "Bisexual;Straight / Heterosexual;Prefer to self-describe:                             3\n",
       "Bisexual;Prefer to self-describe:;Gay or Lesbian                                      1\n",
       "Name: Sexual_orientation, dtype: int64"
      ]
     },
     "execution_count": 559,
     "metadata": {},
     "output_type": "execute_result"
    }
   ],
   "source": [
    "wdf.Sexual_orientation.value_counts()"
   ]
  },
  {
   "cell_type": "code",
   "execution_count": 560,
   "metadata": {},
   "outputs": [],
   "source": [
    "def process_values(value, remove_phrase):\n",
    "    if pd.isnull(value):\n",
    "        return pd.NA\n",
    "\n",
    "    value = str(value)\n",
    "\n",
    "    if remove_phrase in value:\n",
    "        parts = value.split(';')\n",
    "        parts = [part for part in parts if part != remove_phrase]\n",
    "        \n",
    "        if not parts:\n",
    "            return pd.NA\n",
    "\n",
    "        value = ';'.join(parts)\n",
    "    \n",
    "    return value\n",
    "\n",
    "wdf['Sexual_orientation'] = wdf['Sexual_orientation'].apply(lambda x: process_values(x, 'Prefer to self-describe:'))\n"
   ]
  },
  {
   "cell_type": "code",
   "execution_count": 561,
   "metadata": {},
   "outputs": [
    {
     "data": {
      "text/plain": [
       "Straight / Heterosexual                                  25415\n",
       "Prefer not to say                                         1253\n",
       "Bisexual                                                  1126\n",
       "Gay or Lesbian                                             580\n",
       "Queer                                                      175\n",
       "Bisexual;Straight / Heterosexual                           165\n",
       "Bisexual;Queer                                             128\n",
       "Gay or Lesbian;Queer                                        62\n",
       "Straight / Heterosexual;Queer                               51\n",
       "Bisexual;Gay or Lesbian                                     25\n",
       "Bisexual;Gay or Lesbian;Queer                               21\n",
       "Bisexual;Straight / Heterosexual;Gay or Lesbian;Queer       15\n",
       "Bisexual;Straight / Heterosexual;Queer                      10\n",
       "Bisexual;Straight / Heterosexual;Gay or Lesbian              6\n",
       "Straight / Heterosexual;Gay or Lesbian                       4\n",
       "Name: Sexual_orientation, dtype: int64"
      ]
     },
     "execution_count": 561,
     "metadata": {},
     "output_type": "execute_result"
    }
   ],
   "source": [
    "wdf.Sexual_orientation.value_counts()"
   ]
  },
  {
   "cell_type": "code",
   "execution_count": 562,
   "metadata": {},
   "outputs": [],
   "source": [
    "def simplify_sexual_orientation(value):\n",
    "    if pd.isnull(value):\n",
    "        return pd.NA\n",
    "\n",
    "    value = str(value)\n",
    "\n",
    "    if 'Straight / Heterosexual' in value:\n",
    "        return 'Straight / Heterosexual'\n",
    "    elif 'Prefer not to say' in value:\n",
    "        return 'Prefer not to say'\n",
    "    elif 'Bisexual' in value:\n",
    "        return 'Bisexual'\n",
    "    elif 'Gay or Lesbian' in value:\n",
    "        return 'Gay or Lesbian'\n",
    "    elif 'Queer' in value:\n",
    "        return 'Queer'\n",
    "    else:\n",
    "        return 'Other'\n",
    "\n",
    "wdf['Sexual_orientation'] = wdf['Sexual_orientation'].apply(simplify_sexual_orientation)\n"
   ]
  },
  {
   "cell_type": "code",
   "execution_count": 563,
   "metadata": {},
   "outputs": [
    {
     "data": {
      "text/plain": [
       "Straight / Heterosexual    25666\n",
       "Bisexual                    1300\n",
       "Prefer not to say           1253\n",
       "Gay or Lesbian               642\n",
       "Queer                        175\n",
       "Name: Sexual_orientation, dtype: int64"
      ]
     },
     "execution_count": 563,
     "metadata": {},
     "output_type": "execute_result"
    }
   ],
   "source": [
    "# after processing\n",
    "wdf.Sexual_orientation.value_counts()"
   ]
  },
  {
   "cell_type": "markdown",
   "metadata": {},
   "source": [
    "- **Objective**: \n",
    "\n",
    "Streamline the 'Sexual_orientation' column by categorizing the varied responses into more general groups to facilitate easier analysis.\n",
    "\n",
    "- **Approach**:\n",
    "  - **Developing the `simplify_sexual_orientation` Function**: Formulated a function that simplifies individual entries based on specific conditions:\n",
    "    1. **Self-Described Category**: When the entry contains 'Prefer to self-describe', it is updated to 'Other'.\n",
    "    2. **Preference Not to Disclose**: Entries containing 'Prefer not to say' are left as 'Prefer not to say'.\n",
    "    3. **Multiple Values**: Entries containing multiple values, indicated by a semicolon (;), are updated to 'Other'.\n",
    "    4. **Unchanged Values**: If none of the above conditions are met, the original value is retained.\n",
    "   \n",
    "  - **Applying the Function**: Leveraged the `apply()` method to implement the `simplify_sexual_orientation` function on each value in the 'Sexual_orientation' column, thereby updating the dataset as required.\n",
    "\n",
    "- **Outcome**: The 'Sexual_orientation' column now has simplified, more manageable categories, making it more conducive to analysis.\n"
   ]
  },
  {
   "attachments": {},
   "cell_type": "markdown",
   "metadata": {},
   "source": [
    "### `Experience` column (part 1)"
   ]
  },
  {
   "cell_type": "markdown",
   "metadata": {},
   "source": [
    "Here there are a lot of missing values... we need to impute them later"
   ]
  },
  {
   "cell_type": "code",
   "execution_count": 564,
   "metadata": {},
   "outputs": [
    {
     "data": {
      "text/plain": [
       "8684"
      ]
     },
     "execution_count": 564,
     "metadata": {},
     "output_type": "execute_result"
    }
   ],
   "source": [
    "wdf.Work_experience.isna().sum()"
   ]
  },
  {
   "cell_type": "code",
   "execution_count": 565,
   "metadata": {},
   "outputs": [],
   "source": [
    "wdf[\"Work_experience\"] = wdf[\"Work_experience\"].round(1) # for simplicity, rounding one decimal"
   ]
  },
  {
   "cell_type": "code",
   "execution_count": 566,
   "metadata": {},
   "outputs": [
    {
     "data": {
      "text/html": [
       "<div>\n",
       "<style scoped>\n",
       "    .dataframe tbody tr th:only-of-type {\n",
       "        vertical-align: middle;\n",
       "    }\n",
       "\n",
       "    .dataframe tbody tr th {\n",
       "        vertical-align: top;\n",
       "    }\n",
       "\n",
       "    .dataframe thead th {\n",
       "        text-align: right;\n",
       "    }\n",
       "</style>\n",
       "<table border=\"1\" class=\"dataframe\">\n",
       "  <thead>\n",
       "    <tr style=\"text-align: right;\">\n",
       "      <th></th>\n",
       "      <th>Job_type</th>\n",
       "      <th>Remote_work</th>\n",
       "      <th>Coding_as_hobby</th>\n",
       "      <th>Education</th>\n",
       "      <th>Certifications</th>\n",
       "      <th>Job_title</th>\n",
       "      <th>Company_size</th>\n",
       "      <th>Country</th>\n",
       "      <th>Age</th>\n",
       "      <th>Gender</th>\n",
       "      <th>Sexual_orientation</th>\n",
       "      <th>Ethnicity</th>\n",
       "      <th>Physical_disability</th>\n",
       "      <th>Mental_disability</th>\n",
       "      <th>Work_experience</th>\n",
       "      <th>Coding_experience</th>\n",
       "      <th>Annual_salary</th>\n",
       "    </tr>\n",
       "  </thead>\n",
       "  <tbody>\n",
       "    <tr>\n",
       "      <th>0</th>\n",
       "      <td>Full-time employed</td>\n",
       "      <td>hybrid</td>\n",
       "      <td>yes</td>\n",
       "      <td>Master's degree</td>\n",
       "      <td>no</td>\n",
       "      <td>Data scientist or machine learning specialist;...</td>\n",
       "      <td>S</td>\n",
       "      <td>UK &amp; Northern Ireland</td>\n",
       "      <td>25-34 years old</td>\n",
       "      <td>Man</td>\n",
       "      <td>Bisexual</td>\n",
       "      <td>White / European</td>\n",
       "      <td>no</td>\n",
       "      <td>Various_disabilities</td>\n",
       "      <td>NaN</td>\n",
       "      <td>5</td>\n",
       "      <td>40205.0</td>\n",
       "    </tr>\n",
       "    <tr>\n",
       "      <th>1</th>\n",
       "      <td>Full-time employed</td>\n",
       "      <td>hybrid</td>\n",
       "      <td>no</td>\n",
       "      <td>Bachelor's degree</td>\n",
       "      <td>no</td>\n",
       "      <td>Developer, full-stack;Developer, back-end</td>\n",
       "      <td>M</td>\n",
       "      <td>UK &amp; Northern Ireland</td>\n",
       "      <td>18-24 years old</td>\n",
       "      <td>Man</td>\n",
       "      <td>Straight / Heterosexual</td>\n",
       "      <td>White / European</td>\n",
       "      <td>no</td>\n",
       "      <td>No</td>\n",
       "      <td>NaN</td>\n",
       "      <td>2</td>\n",
       "      <td>60307.0</td>\n",
       "    </tr>\n",
       "    <tr>\n",
       "      <th>2</th>\n",
       "      <td>Other</td>\n",
       "      <td>remote</td>\n",
       "      <td>yes</td>\n",
       "      <td>Bachelor's degree</td>\n",
       "      <td>no</td>\n",
       "      <td>Engineering manager</td>\n",
       "      <td>S</td>\n",
       "      <td>USA</td>\n",
       "      <td>35-44 years old</td>\n",
       "      <td>Man</td>\n",
       "      <td>Straight / Heterosexual</td>\n",
       "      <td>White / European</td>\n",
       "      <td>no</td>\n",
       "      <td>Mood_disorder</td>\n",
       "      <td>14.0</td>\n",
       "      <td>10</td>\n",
       "      <td>194400.0</td>\n",
       "    </tr>\n",
       "    <tr>\n",
       "      <th>3</th>\n",
       "      <td>Full-time employed</td>\n",
       "      <td>hybrid</td>\n",
       "      <td>yes</td>\n",
       "      <td>Bachelor's degree</td>\n",
       "      <td>no</td>\n",
       "      <td>Developer, full-stack</td>\n",
       "      <td>XS</td>\n",
       "      <td>USA</td>\n",
       "      <td>25-34 years old</td>\n",
       "      <td>Man</td>\n",
       "      <td>Straight / Heterosexual</td>\n",
       "      <td>White / European</td>\n",
       "      <td>no</td>\n",
       "      <td>No</td>\n",
       "      <td>5.0</td>\n",
       "      <td>5</td>\n",
       "      <td>65000.0</td>\n",
       "    </tr>\n",
       "    <tr>\n",
       "      <th>4</th>\n",
       "      <td>Other</td>\n",
       "      <td>remote</td>\n",
       "      <td>yes</td>\n",
       "      <td>Master's degree</td>\n",
       "      <td>no</td>\n",
       "      <td>Developer, full-stack;Academic researcher;DevO...</td>\n",
       "      <td>XL</td>\n",
       "      <td>USA</td>\n",
       "      <td>25-34 years old</td>\n",
       "      <td>Man</td>\n",
       "      <td>Straight / Heterosexual</td>\n",
       "      <td>White / European</td>\n",
       "      <td>no</td>\n",
       "      <td>No</td>\n",
       "      <td>5.0</td>\n",
       "      <td>5</td>\n",
       "      <td>110000.0</td>\n",
       "    </tr>\n",
       "  </tbody>\n",
       "</table>\n",
       "</div>"
      ],
      "text/plain": [
       "             Job_type Remote_work Coding_as_hobby          Education  \\\n",
       "0  Full-time employed      hybrid             yes    Master's degree   \n",
       "1  Full-time employed      hybrid              no  Bachelor's degree   \n",
       "2               Other      remote             yes  Bachelor's degree   \n",
       "3  Full-time employed      hybrid             yes  Bachelor's degree   \n",
       "4               Other      remote             yes    Master's degree   \n",
       "\n",
       "  Certifications                                          Job_title  \\\n",
       "0             no  Data scientist or machine learning specialist;...   \n",
       "1             no          Developer, full-stack;Developer, back-end   \n",
       "2             no                                Engineering manager   \n",
       "3             no                              Developer, full-stack   \n",
       "4             no  Developer, full-stack;Academic researcher;DevO...   \n",
       "\n",
       "  Company_size                Country              Age Gender  \\\n",
       "0            S  UK & Northern Ireland  25-34 years old    Man   \n",
       "1            M  UK & Northern Ireland  18-24 years old    Man   \n",
       "2            S                    USA  35-44 years old    Man   \n",
       "3           XS                    USA  25-34 years old    Man   \n",
       "4           XL                    USA  25-34 years old    Man   \n",
       "\n",
       "        Sexual_orientation         Ethnicity Physical_disability  \\\n",
       "0                 Bisexual  White / European                  no   \n",
       "1  Straight / Heterosexual  White / European                  no   \n",
       "2  Straight / Heterosexual  White / European                  no   \n",
       "3  Straight / Heterosexual  White / European                  no   \n",
       "4  Straight / Heterosexual  White / European                  no   \n",
       "\n",
       "      Mental_disability  Work_experience Coding_experience  Annual_salary  \n",
       "0  Various_disabilities              NaN                 5        40205.0  \n",
       "1                    No              NaN                 2        60307.0  \n",
       "2         Mood_disorder             14.0                10       194400.0  \n",
       "3                    No              5.0                 5        65000.0  \n",
       "4                    No              5.0                 5       110000.0  "
      ]
     },
     "execution_count": 566,
     "metadata": {},
     "output_type": "execute_result"
    }
   ],
   "source": [
    "wdf.head()"
   ]
  },
  {
   "attachments": {},
   "cell_type": "markdown",
   "metadata": {},
   "source": [
    "### `Annual_salary` column"
   ]
  },
  {
   "attachments": {},
   "cell_type": "markdown",
   "metadata": {},
   "source": [
    "There are a lot of trolls regarding salary data..."
   ]
  },
  {
   "cell_type": "code",
   "execution_count": 567,
   "metadata": {},
   "outputs": [
    {
     "data": {
      "text/plain": [
       "(1.0, 50000000.0)"
      ]
     },
     "execution_count": 567,
     "metadata": {},
     "output_type": "execute_result"
    }
   ],
   "source": [
    "wdf.Annual_salary.min(), wdf.Annual_salary.max()"
   ]
  },
  {
   "attachments": {},
   "cell_type": "markdown",
   "metadata": {},
   "source": [
    "Let's see the salaries distribution setting up a top limit in 500,000 $:"
   ]
  },
  {
   "cell_type": "code",
   "execution_count": 568,
   "metadata": {},
   "outputs": [
    {
     "data": {
      "image/png": "[encoded data removed]",
      "text/plain": [
       "<Figure size 432x288 with 1 Axes>"
      ]
     },
     "metadata": {
      "needs_background": "light"
     },
     "output_type": "display_data"
    }
   ],
   "source": [
    "wdf[wdf.Annual_salary < 500000].Annual_salary.hist(bins='scott')\n",
    "plt.savefig(\"../paper/data-preparation/train/salary-distrib-0-500000.pdf\");"
   ]
  },
  {
   "attachments": {},
   "cell_type": "markdown",
   "metadata": {},
   "source": [
    "As we can see in the histogram, most values don't go further than 300.000$. Let's start trimming down from 10.000$ till 350.000$."
   ]
  },
  {
   "cell_type": "code",
   "execution_count": 569,
   "metadata": {},
   "outputs": [
    {
     "name": "stdout",
     "output_type": "stream",
     "text": [
      "Lower Limit: 10000.00, Upper Limit: 350000.00\n"
     ]
    }
   ],
   "source": [
    "# Filtering extreme values\n",
    "lower_limit = 10000 #wdf['Annual_salary'].quantile(0.1)\n",
    "upper_limit = 350000 #wdf['Annual_salary'].quantile(0.95)\n",
    "wdf = wdf.loc[wdf['Annual_salary'].between(lower_limit, upper_limit)]\n",
    "\n",
    "# Reset index\n",
    "wdf = wdf.reset_index(drop=True)\n",
    "print(f\"Lower Limit: {lower_limit:.2f}, Upper Limit: {upper_limit:.2f}\")"
   ]
  },
  {
   "cell_type": "code",
   "execution_count": 570,
   "metadata": {},
   "outputs": [
    {
     "data": {
      "text/plain": [
       "26710"
      ]
     },
     "execution_count": 570,
     "metadata": {},
     "output_type": "execute_result"
    }
   ],
   "source": [
    "wdf['Annual_salary'].shape[0]"
   ]
  },
  {
   "cell_type": "code",
   "execution_count": 571,
   "metadata": {},
   "outputs": [
    {
     "data": {
      "image/png": "[encoded data removed]",
      "text/plain": [
       "<Figure size 864x576 with 1 Axes>"
      ]
     },
     "metadata": {
      "needs_background": "light"
     },
     "output_type": "display_data"
    }
   ],
   "source": [
    "# Get the top 20 countries by frequency\n",
    "top_20_countries2 = wdf['Country'].value_counts().head(20).index\n",
    "\n",
    "# Filter the dataset to include only the top 20 countries\n",
    "filtered_wdf = wdf[wdf['Country'].isin(top_20_countries2)]\n",
    "\n",
    "# Get the number of cases per country\n",
    "country_counts = filtered_wdf.groupby('Country')['Annual_salary'].count().reset_index()\n",
    "country_counts.columns = ['Country', 'Number of cases']\n",
    "\n",
    "# Merge the number of cases with the filtered_wdf2 dataset\n",
    "filtered_wdf2 = pd.merge(filtered_wdf, country_counts, on='Country')\n",
    "\n",
    "# Sort the dataset by the number of values per country\n",
    "sorted_countries2 = filtered_wdf2.groupby('Country')['Annual_salary'].median().sort_values(ascending=False).index\n",
    "\n",
    "# Create the boxplot\n",
    "fig, ax = plt.subplots(figsize=(12, 8))\n",
    "sns.boxplot(x='Annual_salary', y='Country', data=filtered_wdf, palette='Set2', ax=ax, order=sorted_countries2)\n",
    "plt.title('Boxplot of Annual Salaries by Country after thresholding')\n",
    "plt.xlabel('Annual Salary')\n",
    "plt.ylabel('Country')\n",
    "\n",
    "plt.savefig(\"../paper/data-preparation/train/outliers-before-mad.pdf\");"
   ]
  },
  {
   "attachments": {},
   "cell_type": "markdown",
   "metadata": {},
   "source": [
    "Despite salaries now have a normal distribution after applying some scalation, we still see a lot of multivariate outliers on each Country salary distribution.\n",
    "One of the more robust methods to identify outliers, is the MAD. Hence, we will make a formula to identify the outliers per country and delete them using this method"
   ]
  },
  {
   "cell_type": "code",
   "execution_count": 572,
   "metadata": {},
   "outputs": [
    {
     "data": {
      "text/plain": [
       "0"
      ]
     },
     "execution_count": 572,
     "metadata": {},
     "output_type": "execute_result"
    }
   ],
   "source": [
    "# Calcular la mediana y el MAD por país\n",
    "medians_and_mads = wdf.groupby('Country')['Annual_salary'].agg(['median', lambda x: np.median(np.abs(x - x.median()))]).reset_index()\n",
    "medians_and_mads.columns = ['Country', 'Country_median', 'Country_mad']\n",
    "# Agregar la mediana y el MAD de cada país al conjunto de datos original\n",
    "wdf_with_medians_and_mads = pd.merge(wdf, medians_and_mads, on='Country')\n",
    "wdf_with_medians_and_mads.Annual_salary.isnull().sum()"
   ]
  },
  {
   "cell_type": "code",
   "execution_count": 573,
   "metadata": {},
   "outputs": [],
   "source": [
    "C = 2\n",
    "scaled_country_mad = 1.4826 * wdf_with_medians_and_mads['Country_mad']\n",
    "lower_limit = wdf_with_medians_and_mads['Country_median'] - C * scaled_country_mad\n",
    "upper_limit = wdf_with_medians_and_mads['Country_median'] + C * scaled_country_mad\n",
    "\n",
    "cleaned_wdf = wdf_with_medians_and_mads[(wdf_with_medians_and_mads['Annual_salary'] >= lower_limit) & (wdf_with_medians_and_mads['Annual_salary'] <= upper_limit)]\n"
   ]
  },
  {
   "cell_type": "code",
   "execution_count": 574,
   "metadata": {},
   "outputs": [
    {
     "data": {
      "image/png": "[encoded data removed]",
      "text/plain": [
       "<Figure size 864x576 with 1 Axes>"
      ]
     },
     "metadata": {
      "needs_background": "light"
     },
     "output_type": "display_data"
    }
   ],
   "source": [
    "# Get the top 20 countries by frequency\n",
    "top_20_countries2 = cleaned_wdf['Country'].value_counts().head(20).index\n",
    "\n",
    "# Filter the dataset to include only the top 20 countries\n",
    "filtered_wdf = cleaned_wdf[cleaned_wdf['Country'].isin(top_20_countries2)]\n",
    "\n",
    "# Get the number of cases per country\n",
    "country_counts = filtered_wdf.groupby('Country')['Annual_salary'].count().reset_index()\n",
    "country_counts.columns = ['Country', 'Number of cases']\n",
    "\n",
    "# Merge the number of cases with the filtered_wdf2 dataset\n",
    "filtered_wdf2 = pd.merge(filtered_wdf, country_counts, on='Country')\n",
    "\n",
    "# Sort the dataset by the number of values per country\n",
    "sorted_countries2 = filtered_wdf2.groupby('Country')['Annual_salary'].median().sort_values(ascending=False).index\n",
    "\n",
    "# Create the boxplot\n",
    "fig, ax = plt.subplots(figsize=(12, 8))\n",
    "sns.boxplot(x='Annual_salary', y='Country', data=filtered_wdf, palette='Set2', ax=ax, order=sorted_countries2)\n",
    "plt.title('Boxplot of Annual Salaries by Country after thresholding')\n",
    "plt.xlabel('Annual Salary')\n",
    "plt.ylabel('Country')\n",
    "\n",
    "plt.savefig(\"../paper/data-preparation/train/outliers-after-mad.pdf\");"
   ]
  },
  {
   "cell_type": "code",
   "execution_count": 575,
   "metadata": {},
   "outputs": [
    {
     "data": {
      "text/plain": [
       "((23996, 19), (26710, 17))"
      ]
     },
     "execution_count": 575,
     "metadata": {},
     "output_type": "execute_result"
    }
   ],
   "source": [
    "cleaned_wdf.shape, wdf.shape"
   ]
  },
  {
   "cell_type": "code",
   "execution_count": 576,
   "metadata": {},
   "outputs": [
    {
     "name": "stderr",
     "output_type": "stream",
     "text": [
      "C:\\Users\\fenan\\AppData\\Local\\Temp\\ipykernel_4260\\841836538.py:2: SettingWithCopyWarning: \n",
      "A value is trying to be set on a copy of a slice from a DataFrame\n",
      "\n",
      "See the caveats in the documentation: https://pandas.pydata.org/pandas-docs/stable/user_guide/indexing.html#returning-a-view-versus-a-copy\n",
      "  wdf.drop(['Country_median', 'Country_mad'], axis=1, inplace=True)\n"
     ]
    },
    {
     "data": {
      "text/html": [
       "<div>\n",
       "<style scoped>\n",
       "    .dataframe tbody tr th:only-of-type {\n",
       "        vertical-align: middle;\n",
       "    }\n",
       "\n",
       "    .dataframe tbody tr th {\n",
       "        vertical-align: top;\n",
       "    }\n",
       "\n",
       "    .dataframe thead th {\n",
       "        text-align: right;\n",
       "    }\n",
       "</style>\n",
       "<table border=\"1\" class=\"dataframe\">\n",
       "  <thead>\n",
       "    <tr style=\"text-align: right;\">\n",
       "      <th></th>\n",
       "      <th>Job_type</th>\n",
       "      <th>Remote_work</th>\n",
       "      <th>Coding_as_hobby</th>\n",
       "      <th>Education</th>\n",
       "      <th>Certifications</th>\n",
       "      <th>Job_title</th>\n",
       "      <th>Company_size</th>\n",
       "      <th>Country</th>\n",
       "      <th>Age</th>\n",
       "      <th>Gender</th>\n",
       "      <th>Sexual_orientation</th>\n",
       "      <th>Ethnicity</th>\n",
       "      <th>Physical_disability</th>\n",
       "      <th>Mental_disability</th>\n",
       "      <th>Work_experience</th>\n",
       "      <th>Coding_experience</th>\n",
       "      <th>Annual_salary</th>\n",
       "    </tr>\n",
       "  </thead>\n",
       "  <tbody>\n",
       "    <tr>\n",
       "      <th>0</th>\n",
       "      <td>Full-time employed</td>\n",
       "      <td>hybrid</td>\n",
       "      <td>yes</td>\n",
       "      <td>Master's degree</td>\n",
       "      <td>no</td>\n",
       "      <td>Data scientist or machine learning specialist;...</td>\n",
       "      <td>S</td>\n",
       "      <td>UK &amp; Northern Ireland</td>\n",
       "      <td>25-34 years old</td>\n",
       "      <td>Man</td>\n",
       "      <td>Bisexual</td>\n",
       "      <td>White / European</td>\n",
       "      <td>no</td>\n",
       "      <td>Various_disabilities</td>\n",
       "      <td>NaN</td>\n",
       "      <td>5</td>\n",
       "      <td>40205.0</td>\n",
       "    </tr>\n",
       "    <tr>\n",
       "      <th>1</th>\n",
       "      <td>Full-time employed</td>\n",
       "      <td>hybrid</td>\n",
       "      <td>no</td>\n",
       "      <td>Bachelor's degree</td>\n",
       "      <td>no</td>\n",
       "      <td>Developer, full-stack;Developer, back-end</td>\n",
       "      <td>M</td>\n",
       "      <td>UK &amp; Northern Ireland</td>\n",
       "      <td>18-24 years old</td>\n",
       "      <td>Man</td>\n",
       "      <td>Straight / Heterosexual</td>\n",
       "      <td>White / European</td>\n",
       "      <td>no</td>\n",
       "      <td>No</td>\n",
       "      <td>NaN</td>\n",
       "      <td>2</td>\n",
       "      <td>60307.0</td>\n",
       "    </tr>\n",
       "    <tr>\n",
       "      <th>2</th>\n",
       "      <td>Full-time employed</td>\n",
       "      <td>remote</td>\n",
       "      <td>no</td>\n",
       "      <td>Bachelor's degree</td>\n",
       "      <td>no</td>\n",
       "      <td>Developer, full-stack</td>\n",
       "      <td>S</td>\n",
       "      <td>UK &amp; Northern Ireland</td>\n",
       "      <td>25-34 years old</td>\n",
       "      <td>Man</td>\n",
       "      <td>Straight / Heterosexual</td>\n",
       "      <td>White / European</td>\n",
       "      <td>no</td>\n",
       "      <td>No</td>\n",
       "      <td>7.0</td>\n",
       "      <td>7</td>\n",
       "      <td>69102.0</td>\n",
       "    </tr>\n",
       "    <tr>\n",
       "      <th>3</th>\n",
       "      <td>Full-time employed</td>\n",
       "      <td>hybrid</td>\n",
       "      <td>yes</td>\n",
       "      <td>Post grad</td>\n",
       "      <td>no</td>\n",
       "      <td>Data scientist or machine learning specialist;...</td>\n",
       "      <td>S</td>\n",
       "      <td>UK &amp; Northern Ireland</td>\n",
       "      <td>25-34 years old</td>\n",
       "      <td>Man</td>\n",
       "      <td>Straight / Heterosexual</td>\n",
       "      <td>White / European</td>\n",
       "      <td>no</td>\n",
       "      <td>No</td>\n",
       "      <td>NaN</td>\n",
       "      <td>3</td>\n",
       "      <td>52769.0</td>\n",
       "    </tr>\n",
       "    <tr>\n",
       "      <th>4</th>\n",
       "      <td>Full-time employed</td>\n",
       "      <td>remote</td>\n",
       "      <td>yes</td>\n",
       "      <td>Bachelor's degree</td>\n",
       "      <td>no</td>\n",
       "      <td>Developer, back-end;Student;DevOps specialist;...</td>\n",
       "      <td>XS</td>\n",
       "      <td>UK &amp; Northern Ireland</td>\n",
       "      <td>25-34 years old</td>\n",
       "      <td>Prefer not to say</td>\n",
       "      <td>Prefer not to say</td>\n",
       "      <td>Prefer not to say / I don't know</td>\n",
       "      <td>Prefer not to say</td>\n",
       "      <td>Various_disabilities</td>\n",
       "      <td>4.0</td>\n",
       "      <td>4</td>\n",
       "      <td>47743.0</td>\n",
       "    </tr>\n",
       "  </tbody>\n",
       "</table>\n",
       "</div>"
      ],
      "text/plain": [
       "             Job_type Remote_work Coding_as_hobby          Education  \\\n",
       "0  Full-time employed      hybrid             yes    Master's degree   \n",
       "1  Full-time employed      hybrid              no  Bachelor's degree   \n",
       "2  Full-time employed      remote              no  Bachelor's degree   \n",
       "3  Full-time employed      hybrid             yes          Post grad   \n",
       "4  Full-time employed      remote             yes  Bachelor's degree   \n",
       "\n",
       "  Certifications                                          Job_title  \\\n",
       "0             no  Data scientist or machine learning specialist;...   \n",
       "1             no          Developer, full-stack;Developer, back-end   \n",
       "2             no                              Developer, full-stack   \n",
       "3             no  Data scientist or machine learning specialist;...   \n",
       "4             no  Developer, back-end;Student;DevOps specialist;...   \n",
       "\n",
       "  Company_size                Country              Age             Gender  \\\n",
       "0            S  UK & Northern Ireland  25-34 years old                Man   \n",
       "1            M  UK & Northern Ireland  18-24 years old                Man   \n",
       "2            S  UK & Northern Ireland  25-34 years old                Man   \n",
       "3            S  UK & Northern Ireland  25-34 years old                Man   \n",
       "4           XS  UK & Northern Ireland  25-34 years old  Prefer not to say   \n",
       "\n",
       "        Sexual_orientation                         Ethnicity  \\\n",
       "0                 Bisexual                  White / European   \n",
       "1  Straight / Heterosexual                  White / European   \n",
       "2  Straight / Heterosexual                  White / European   \n",
       "3  Straight / Heterosexual                  White / European   \n",
       "4        Prefer not to say  Prefer not to say / I don't know   \n",
       "\n",
       "  Physical_disability     Mental_disability  Work_experience  \\\n",
       "0                  no  Various_disabilities              NaN   \n",
       "1                  no                    No              NaN   \n",
       "2                  no                    No              7.0   \n",
       "3                  no                    No              NaN   \n",
       "4   Prefer not to say  Various_disabilities              4.0   \n",
       "\n",
       "  Coding_experience  Annual_salary  \n",
       "0                 5        40205.0  \n",
       "1                 2        60307.0  \n",
       "2                 7        69102.0  \n",
       "3                 3        52769.0  \n",
       "4                 4        47743.0  "
      ]
     },
     "execution_count": 576,
     "metadata": {},
     "output_type": "execute_result"
    }
   ],
   "source": [
    "wdf = cleaned_wdf\n",
    "wdf.drop(['Country_median', 'Country_mad'], axis=1, inplace=True)\n",
    "wdf.head()"
   ]
  },
  {
   "cell_type": "code",
   "execution_count": 577,
   "metadata": {},
   "outputs": [
    {
     "data": {
      "image/png": "[encoded data removed]",
      "text/plain": [
       "<Figure size 432x288 with 1 Axes>"
      ]
     },
     "metadata": {
      "needs_background": "light"
     },
     "output_type": "display_data"
    }
   ],
   "source": [
    "wdf[(wdf.Annual_salary < wdf.Annual_salary.max()) & (wdf.Annual_salary > wdf.Annual_salary.min())].Annual_salary.hist(bins='scott', density=True)\n",
    "plt.savefig(\"../paper/data-preparation/train/salary-distrib-min-max.pdf\");"
   ]
  },
  {
   "cell_type": "code",
   "execution_count": 578,
   "metadata": {},
   "outputs": [
    {
     "data": {
      "image/png": "[encoded data removed]",
      "text/plain": [
       "<Figure size 432x288 with 1 Axes>"
      ]
     },
     "metadata": {
      "needs_background": "light"
     },
     "output_type": "display_data"
    }
   ],
   "source": [
    "np.sqrt(wdf[(wdf.Annual_salary < wdf.Annual_salary.max()) & (wdf.Annual_salary > wdf.Annual_salary.min())].Annual_salary).hist(bins='scott', density=True)\n",
    "plt.savefig(\"../paper/data-preparation/train/salary-distrib-min-max-sqrt.pdf\");"
   ]
  },
  {
   "cell_type": "code",
   "execution_count": 579,
   "metadata": {},
   "outputs": [
    {
     "data": {
      "image/png": "[encoded data removed]",
      "text/plain": [
       "<Figure size 432x288 with 1 Axes>"
      ]
     },
     "metadata": {
      "needs_background": "light"
     },
     "output_type": "display_data"
    }
   ],
   "source": [
    "np.log(wdf[(wdf.Annual_salary < wdf.Annual_salary.max()) & (wdf.Annual_salary > wdf.Annual_salary.min())].Annual_salary).hist(bins='scott', density=True)\n",
    "plt.savefig(\"../paper/data-preparation/train/salary-distrib-min-max-log.pdf\");"
   ]
  },
  {
   "cell_type": "code",
   "execution_count": 580,
   "metadata": {},
   "outputs": [
    {
     "data": {
      "image/png": "[encoded data removed]",
      "text/plain": [
       "<Figure size 432x288 with 1 Axes>"
      ]
     },
     "metadata": {
      "needs_background": "light"
     },
     "output_type": "display_data"
    }
   ],
   "source": [
    "salaries = np.sqrt(wdf[(wdf.Annual_salary < wdf.Annual_salary.max()) & (wdf.Annual_salary > wdf.Annual_salary.min())].Annual_salary)\n",
    "\n",
    "fig, ax = plt.subplots()\n",
    "\n",
    "sns.kdeplot(salaries, ax=ax, fill=False, color='red')\n",
    "salaries.hist(ax=ax, bins='scott', alpha=0.5, density=True)\n",
    "\n",
    "plt.xlabel('Annual salary (USD)')\n",
    "plt.ylabel('Density')\n",
    "plt.title('Annual salary distribution (USD)')\n",
    "\n",
    "plt.savefig(\"../paper/data-preparation/train/salary-distrib-min-max-sqrt-chosen.pdf\");"
   ]
  },
  {
   "cell_type": "markdown",
   "metadata": {},
   "source": [
    "\n",
    "- **Initial Analysis**\n",
    "    - **Min and Max Values**: Identified the range of the salaries.\n",
    "    - **Histogram Plotting**: Visualized the initial data distribution with salaries less than 500,000.\n",
    "\n",
    "- **Data Cleaning**\n",
    "    - **Setting Thresholds**: Established lower and upper salary thresholds.\n",
    "    - **Filtering Data**: Removed entries outside the thresholds and reset the data frame index.\n",
    "\n",
    "- **Focus on Top 20 Countries**\n",
    "    - **Identifying Top 20 Countries**: Selected top 20 countries by response count.\n",
    "    - **Boxplot**: Visualized salary distribution in these countries before and after data cleaning.\n",
    "\n",
    "- **Incorporating MAD and Median**\n",
    "    - **Calculations**: Derived Median and Median Absolute Deviation (MAD) for each country.\n",
    "    - **Data Merging**: Integrated these statistics into the main data frame for further analysis.\n",
    "\n",
    "- **Further Cleaning using MAD**\n",
    "    - **New Bounds**: Set new bounds using MAD and filtered the data to remove outliers.\n",
    "    - **Final Dataset**: Obtained a cleaner dataset by removing entries outside these bounds.\n",
    "\n",
    "- **Distribution Transformation**\n",
    "    - **Histograms**: Explored normalization using square root and log transformations through histograms.\n",
    "    - **Density Plot**: Created a density plot overlay on the square root transformed data histogram to visualize the distribution.\n",
    "\n",
    "- **Outcome**\n",
    "    - **Refined Data**: A dataset cleaned of outliers, ready for precise analyses.\n",
    "    - **Visual Insights**: Detailed visuals providing insights into salary distribution across various countries and showcasing the impact of different data transformations.\n"
   ]
  },
  {
   "attachments": {},
   "cell_type": "markdown",
   "metadata": {},
   "source": [
    "### `Job_title` column"
   ]
  },
  {
   "cell_type": "code",
   "execution_count": 581,
   "metadata": {},
   "outputs": [
    {
     "data": {
      "text/plain": [
       "['Data scientist or machine learning specialist',\n",
       " 'Developer, front-end',\n",
       " 'Engineer, data',\n",
       " 'Engineer, site reliability',\n",
       " 'Developer, full-stack',\n",
       " 'Developer, back-end',\n",
       " 'Scientist',\n",
       " 'Student',\n",
       " 'DevOps specialist',\n",
       " 'Project manager',\n",
       " 'System administrator',\n",
       " 'Data or business analyst',\n",
       " 'Cloud infrastructure engineer',\n",
       " 'Database administrator',\n",
       " 'Developer, desktop or enterprise applications',\n",
       " 'Developer, mobile',\n",
       " 'Educator',\n",
       " 'Developer, embedded applications or devices',\n",
       " 'Developer, QA or test',\n",
       " 'Engineering manager',\n",
       " 'Product manager',\n",
       " 'Designer',\n",
       " 'Senior Executive (C-Suite, VP, etc.)',\n",
       " 'Developer, game or graphics',\n",
       " 'Security professional',\n",
       " 'Blockchain',\n",
       " 'Academic researcher',\n",
       " 'Marketing or sales professional']"
      ]
     },
     "execution_count": 581,
     "metadata": {},
     "output_type": "execute_result"
    }
   ],
   "source": [
    "# Let's see the unique values of the 'Job_title' column\n",
    "devs_list = []\n",
    "\n",
    "# Itera sobre cada valor en la columna 'DevType'\n",
    "for dev_type in wdf['Job_title']:\n",
    "    # Si el valor actual no es nulo\n",
    "    if not pd.isnull(dev_type):\n",
    "        # Itera sobre cada subvalor del valor actual de 'DevType'\n",
    "        for dev_sub_type in dev_type.split(';'):\n",
    "            # Si el subvalor actual no está en devs_list y no contiene 'Other (please specify):', lo agrega\n",
    "            if dev_sub_type.strip() not in devs_list and 'Other (please specify):' not in dev_sub_type:\n",
    "                devs_list.append(dev_sub_type.strip())\n",
    "\n",
    "devs_list"
   ]
  },
  {
   "cell_type": "code",
   "execution_count": 582,
   "metadata": {},
   "outputs": [
    {
     "name": "stdout",
     "output_type": "stream",
     "text": [
      "2260\n"
     ]
    },
    {
     "name": "stderr",
     "output_type": "stream",
     "text": [
      "C:\\Users\\fenan\\AppData\\Local\\Temp\\ipykernel_4260\\2439887135.py:20: SettingWithCopyWarning: \n",
      "A value is trying to be set on a copy of a slice from a DataFrame.\n",
      "Try using .loc[row_indexer,col_indexer] = value instead\n",
      "\n",
      "See the caveats in the documentation: https://pandas.pydata.org/pandas-docs/stable/user_guide/indexing.html#returning-a-view-versus-a-copy\n",
      "  wdf['DevType_len'] = wdf['Job_title'].apply(lambda x: len(x.split(';')))\n"
     ]
    }
   ],
   "source": [
    "# Let's keep the rows with AI/ML related fields\n",
    "\n",
    "AI_ML_devs = ['Data scientist or machine learning specialist',\n",
    " 'Engineer, data',\n",
    " 'Data or business analyst',\n",
    " 'Scientist']\n",
    "\n",
    "def check_AI_ML_dev(row):\n",
    "    if pd.isna(row['Job_title']) or row['Job_title'] == '':\n",
    "        return False\n",
    "    dev_types = row['Job_title'].split(';')\n",
    "    for dev in AI_ML_devs:\n",
    "        if dev in dev_types:\n",
    "            return True\n",
    "    return False\n",
    "\n",
    "# Filter DataFrame deleting rows where check_AI_ML_dev is False\n",
    "wdf = wdf[wdf.apply(check_AI_ML_dev, axis=1)]\n",
    "\n",
    "wdf['DevType_len'] = wdf['Job_title'].apply(lambda x: len(x.split(';')))\n",
    "wdf = wdf.loc[wdf['DevType_len'] <= 4]\n",
    "wdf = wdf.drop('DevType_len', axis=1)\n",
    "\n",
    "# Let's see how many rows we have left\n",
    "print(wdf.shape[0])"
   ]
  },
  {
   "cell_type": "code",
   "execution_count": 583,
   "metadata": {},
   "outputs": [
    {
     "data": {
      "text/plain": [
       "607"
      ]
     },
     "execution_count": 583,
     "metadata": {},
     "output_type": "execute_result"
    }
   ],
   "source": [
    "wdf.Job_title.nunique()"
   ]
  },
  {
   "attachments": {},
   "cell_type": "markdown",
   "metadata": {},
   "source": [
    "We apply the following function to standardize and clean the \"Job_title\" column in the dataset. The function splits job titles, removes extra spaces, creates a list of unique titles, sorts them alphabetically, and then joins them back together with a consistent delimiter. By doing this, we ensure that the model treats job titles consistently, regardless of the order they appear in, which can lead to more accurate predictions. Also, it will 'Other (please specify):' from the options of Job titles\n"
   ]
  },
  {
   "cell_type": "code",
   "execution_count": 584,
   "metadata": {},
   "outputs": [
    {
     "data": {
      "text/html": [
       "<div>\n",
       "<style scoped>\n",
       "    .dataframe tbody tr th:only-of-type {\n",
       "        vertical-align: middle;\n",
       "    }\n",
       "\n",
       "    .dataframe tbody tr th {\n",
       "        vertical-align: top;\n",
       "    }\n",
       "\n",
       "    .dataframe thead th {\n",
       "        text-align: right;\n",
       "    }\n",
       "</style>\n",
       "<table border=\"1\" class=\"dataframe\">\n",
       "  <thead>\n",
       "    <tr style=\"text-align: right;\">\n",
       "      <th></th>\n",
       "      <th>Job_title</th>\n",
       "      <th>Cleaned_Job_title</th>\n",
       "    </tr>\n",
       "  </thead>\n",
       "  <tbody>\n",
       "    <tr>\n",
       "      <th>1861</th>\n",
       "      <td>Data scientist or machine learning specialist;...</td>\n",
       "      <td>Data or business analyst;Data scientist or mac...</td>\n",
       "    </tr>\n",
       "    <tr>\n",
       "      <th>12937</th>\n",
       "      <td>Engineer, data;Developer, back-end</td>\n",
       "      <td>Developer, back-end;Engineer, data</td>\n",
       "    </tr>\n",
       "    <tr>\n",
       "      <th>9754</th>\n",
       "      <td>Data scientist or machine learning specialist</td>\n",
       "      <td>Data scientist or machine learning specialist</td>\n",
       "    </tr>\n",
       "    <tr>\n",
       "      <th>23205</th>\n",
       "      <td>Engineer, data;Developer, back-end</td>\n",
       "      <td>Developer, back-end;Engineer, data</td>\n",
       "    </tr>\n",
       "    <tr>\n",
       "      <th>17515</th>\n",
       "      <td>Developer, full-stack;Developer, desktop or en...</td>\n",
       "      <td>Data or business analyst;Developer, desktop or...</td>\n",
       "    </tr>\n",
       "    <tr>\n",
       "      <th>1033</th>\n",
       "      <td>Engineer, data</td>\n",
       "      <td>Engineer, data</td>\n",
       "    </tr>\n",
       "    <tr>\n",
       "      <th>17352</th>\n",
       "      <td>Developer, full-stack;Data or business analyst...</td>\n",
       "      <td>Data or business analyst;Developer, full-stack...</td>\n",
       "    </tr>\n",
       "    <tr>\n",
       "      <th>1219</th>\n",
       "      <td>Engineer, data;Developer, full-stack;Database ...</td>\n",
       "      <td>Database administrator;Developer, full-stack;E...</td>\n",
       "    </tr>\n",
       "    <tr>\n",
       "      <th>15021</th>\n",
       "      <td>Data scientist or machine learning specialist;...</td>\n",
       "      <td>Data scientist or machine learning specialist;...</td>\n",
       "    </tr>\n",
       "    <tr>\n",
       "      <th>20693</th>\n",
       "      <td>Academic researcher;Scientist</td>\n",
       "      <td>Academic researcher;Scientist</td>\n",
       "    </tr>\n",
       "    <tr>\n",
       "      <th>22014</th>\n",
       "      <td>Data scientist or machine learning specialist;...</td>\n",
       "      <td>Data scientist or machine learning specialist;...</td>\n",
       "    </tr>\n",
       "    <tr>\n",
       "      <th>22286</th>\n",
       "      <td>Data scientist or machine learning specialist;...</td>\n",
       "      <td>Data scientist or machine learning specialist;...</td>\n",
       "    </tr>\n",
       "    <tr>\n",
       "      <th>24402</th>\n",
       "      <td>Engineer, data</td>\n",
       "      <td>Engineer, data</td>\n",
       "    </tr>\n",
       "    <tr>\n",
       "      <th>14913</th>\n",
       "      <td>Engineer, data</td>\n",
       "      <td>Engineer, data</td>\n",
       "    </tr>\n",
       "    <tr>\n",
       "      <th>20010</th>\n",
       "      <td>Data scientist or machine learning specialist</td>\n",
       "      <td>Data scientist or machine learning specialist</td>\n",
       "    </tr>\n",
       "    <tr>\n",
       "      <th>4002</th>\n",
       "      <td>Engineer, data</td>\n",
       "      <td>Engineer, data</td>\n",
       "    </tr>\n",
       "    <tr>\n",
       "      <th>6238</th>\n",
       "      <td>Data or business analyst</td>\n",
       "      <td>Data or business analyst</td>\n",
       "    </tr>\n",
       "    <tr>\n",
       "      <th>7159</th>\n",
       "      <td>Engineer, data</td>\n",
       "      <td>Engineer, data</td>\n",
       "    </tr>\n",
       "    <tr>\n",
       "      <th>12156</th>\n",
       "      <td>Engineer, data;Developer, back-end</td>\n",
       "      <td>Developer, back-end;Engineer, data</td>\n",
       "    </tr>\n",
       "    <tr>\n",
       "      <th>26297</th>\n",
       "      <td>Engineer, data;Developer, back-end</td>\n",
       "      <td>Developer, back-end;Engineer, data</td>\n",
       "    </tr>\n",
       "  </tbody>\n",
       "</table>\n",
       "</div>"
      ],
      "text/plain": [
       "                                               Job_title  \\\n",
       "1861   Data scientist or machine learning specialist;...   \n",
       "12937                 Engineer, data;Developer, back-end   \n",
       "9754       Data scientist or machine learning specialist   \n",
       "23205                 Engineer, data;Developer, back-end   \n",
       "17515  Developer, full-stack;Developer, desktop or en...   \n",
       "1033                                      Engineer, data   \n",
       "17352  Developer, full-stack;Data or business analyst...   \n",
       "1219   Engineer, data;Developer, full-stack;Database ...   \n",
       "15021  Data scientist or machine learning specialist;...   \n",
       "20693                      Academic researcher;Scientist   \n",
       "22014  Data scientist or machine learning specialist;...   \n",
       "22286  Data scientist or machine learning specialist;...   \n",
       "24402                                     Engineer, data   \n",
       "14913                                     Engineer, data   \n",
       "20010      Data scientist or machine learning specialist   \n",
       "4002                                      Engineer, data   \n",
       "6238                            Data or business analyst   \n",
       "7159                                      Engineer, data   \n",
       "12156                 Engineer, data;Developer, back-end   \n",
       "26297                 Engineer, data;Developer, back-end   \n",
       "\n",
       "                                       Cleaned_Job_title  \n",
       "1861   Data or business analyst;Data scientist or mac...  \n",
       "12937                 Developer, back-end;Engineer, data  \n",
       "9754       Data scientist or machine learning specialist  \n",
       "23205                 Developer, back-end;Engineer, data  \n",
       "17515  Data or business analyst;Developer, desktop or...  \n",
       "1033                                      Engineer, data  \n",
       "17352  Data or business analyst;Developer, full-stack...  \n",
       "1219   Database administrator;Developer, full-stack;E...  \n",
       "15021  Data scientist or machine learning specialist;...  \n",
       "20693                      Academic researcher;Scientist  \n",
       "22014  Data scientist or machine learning specialist;...  \n",
       "22286  Data scientist or machine learning specialist;...  \n",
       "24402                                     Engineer, data  \n",
       "14913                                     Engineer, data  \n",
       "20010      Data scientist or machine learning specialist  \n",
       "4002                                      Engineer, data  \n",
       "6238                            Data or business analyst  \n",
       "7159                                      Engineer, data  \n",
       "12156                 Developer, back-end;Engineer, data  \n",
       "26297                 Developer, back-end;Engineer, data  "
      ]
     },
     "execution_count": 584,
     "metadata": {},
     "output_type": "execute_result"
    }
   ],
   "source": [
    "def clean_job_titles(job_title):\n",
    "    job_list = job_title.split(';')\n",
    "    job_list = [job.strip() for job in job_list]\n",
    "    job_list = [job for job in job_list if job != 'Other (please specify):']\n",
    "    unique_jobs = list(set(job_list))\n",
    "    sorted_jobs = sorted(unique_jobs)\n",
    "    return ';'.join(sorted_jobs)\n",
    "\n",
    "wdf['Cleaned_Job_title'] = wdf['Job_title'].apply(clean_job_titles)\n",
    "# Imprime las columnas 'Job_title' y 'Cleaned_Job_title' lado a lado\n",
    "wdf[['Job_title', 'Cleaned_Job_title']].sample(20)\n"
   ]
  },
  {
   "cell_type": "code",
   "execution_count": 585,
   "metadata": {},
   "outputs": [
    {
     "name": "stdout",
     "output_type": "stream",
     "text": [
      "28\n",
      "['Engineer, data', 'Project manager', 'Marketing or sales professional', 'Data or business analyst', 'Scientist', 'Engineering manager', 'DevOps specialist', 'Blockchain', 'Developer, full-stack', 'Educator', 'Data scientist or machine learning specialist', 'Developer, embedded applications or devices', 'Designer', 'Developer, QA or test', 'Developer, mobile', 'Security professional', 'Developer, back-end', 'Developer, desktop or enterprise applications', 'Developer, front-end', 'Database administrator', 'Engineer, site reliability', 'Academic researcher', 'Student', 'Senior Executive (C-Suite, VP, etc.)', 'Cloud infrastructure engineer', 'Product manager', 'System administrator', 'Developer, game or graphics']\n"
     ]
    }
   ],
   "source": [
    "# Actualizar la columna 'Job_title' con los valores de 'Cleaned_Job_title'\n",
    "wdf['Job_title'] = wdf['Cleaned_Job_title']\n",
    "\n",
    "# Eliminar la columna 'Cleaned_Job_title' del DataFrame\n",
    "wdf.drop(columns=['Cleaned_Job_title'], inplace=True)\n",
    "\n",
    "# Obtener todos los títulos de trabajo únicos\n",
    "unique_job_titles = list(set(wdf['Job_title'].str.split(';', expand=True).stack()))\n",
    "\n",
    "# Contar la cantidad de títulos de trabajo únicos\n",
    "unique_job_titles_count = len(unique_job_titles)\n",
    "\n",
    "# Imprimir la cantidad de títulos de trabajo únicos\n",
    "print(unique_job_titles_count)\n",
    "print(unique_job_titles)\n",
    "\n"
   ]
  },
  {
   "cell_type": "code",
   "execution_count": 586,
   "metadata": {},
   "outputs": [
    {
     "data": {
      "text/html": [
       "<div>\n",
       "<style scoped>\n",
       "    .dataframe tbody tr th:only-of-type {\n",
       "        vertical-align: middle;\n",
       "    }\n",
       "\n",
       "    .dataframe tbody tr th {\n",
       "        vertical-align: top;\n",
       "    }\n",
       "\n",
       "    .dataframe thead th {\n",
       "        text-align: right;\n",
       "    }\n",
       "</style>\n",
       "<table border=\"1\" class=\"dataframe\">\n",
       "  <thead>\n",
       "    <tr style=\"text-align: right;\">\n",
       "      <th></th>\n",
       "      <th>Job_type</th>\n",
       "      <th>Remote_work</th>\n",
       "      <th>Coding_as_hobby</th>\n",
       "      <th>Education</th>\n",
       "      <th>Certifications</th>\n",
       "      <th>Job_title</th>\n",
       "      <th>Company_size</th>\n",
       "      <th>Country</th>\n",
       "      <th>Age</th>\n",
       "      <th>Gender</th>\n",
       "      <th>...</th>\n",
       "      <th>Engineer, site reliability</th>\n",
       "      <th>Engineering manager</th>\n",
       "      <th>Marketing or sales professional</th>\n",
       "      <th>Product manager</th>\n",
       "      <th>Project manager</th>\n",
       "      <th>Scientist</th>\n",
       "      <th>Security professional</th>\n",
       "      <th>Senior Executive (C-Suite, VP, etc.)</th>\n",
       "      <th>Student</th>\n",
       "      <th>System administrator</th>\n",
       "    </tr>\n",
       "  </thead>\n",
       "  <tbody>\n",
       "    <tr>\n",
       "      <th>0</th>\n",
       "      <td>Full-time employed</td>\n",
       "      <td>hybrid</td>\n",
       "      <td>yes</td>\n",
       "      <td>Master's degree</td>\n",
       "      <td>no</td>\n",
       "      <td>Data scientist or machine learning specialist;...</td>\n",
       "      <td>S</td>\n",
       "      <td>UK &amp; Northern Ireland</td>\n",
       "      <td>25-34 years old</td>\n",
       "      <td>Man</td>\n",
       "      <td>...</td>\n",
       "      <td>1</td>\n",
       "      <td>0</td>\n",
       "      <td>0</td>\n",
       "      <td>0</td>\n",
       "      <td>0</td>\n",
       "      <td>0</td>\n",
       "      <td>0</td>\n",
       "      <td>0</td>\n",
       "      <td>0</td>\n",
       "      <td>0</td>\n",
       "    </tr>\n",
       "    <tr>\n",
       "      <th>3</th>\n",
       "      <td>Full-time employed</td>\n",
       "      <td>hybrid</td>\n",
       "      <td>yes</td>\n",
       "      <td>Post grad</td>\n",
       "      <td>no</td>\n",
       "      <td>Data scientist or machine learning specialist;...</td>\n",
       "      <td>S</td>\n",
       "      <td>UK &amp; Northern Ireland</td>\n",
       "      <td>25-34 years old</td>\n",
       "      <td>Man</td>\n",
       "      <td>...</td>\n",
       "      <td>0</td>\n",
       "      <td>0</td>\n",
       "      <td>0</td>\n",
       "      <td>0</td>\n",
       "      <td>0</td>\n",
       "      <td>1</td>\n",
       "      <td>0</td>\n",
       "      <td>0</td>\n",
       "      <td>0</td>\n",
       "      <td>0</td>\n",
       "    </tr>\n",
       "    <tr>\n",
       "      <th>10</th>\n",
       "      <td>Full-time employed</td>\n",
       "      <td>remote</td>\n",
       "      <td>yes</td>\n",
       "      <td>Master's degree</td>\n",
       "      <td>no</td>\n",
       "      <td>Data or business analyst;Data scientist or mac...</td>\n",
       "      <td>S</td>\n",
       "      <td>UK &amp; Northern Ireland</td>\n",
       "      <td>25-34 years old</td>\n",
       "      <td>Man</td>\n",
       "      <td>...</td>\n",
       "      <td>0</td>\n",
       "      <td>0</td>\n",
       "      <td>0</td>\n",
       "      <td>0</td>\n",
       "      <td>0</td>\n",
       "      <td>0</td>\n",
       "      <td>0</td>\n",
       "      <td>0</td>\n",
       "      <td>0</td>\n",
       "      <td>0</td>\n",
       "    </tr>\n",
       "    <tr>\n",
       "      <th>35</th>\n",
       "      <td>Full-time employed</td>\n",
       "      <td>remote</td>\n",
       "      <td>yes</td>\n",
       "      <td>Master's degree</td>\n",
       "      <td>no</td>\n",
       "      <td>Engineer, data</td>\n",
       "      <td>M</td>\n",
       "      <td>UK &amp; Northern Ireland</td>\n",
       "      <td>25-34 years old</td>\n",
       "      <td>Man</td>\n",
       "      <td>...</td>\n",
       "      <td>0</td>\n",
       "      <td>0</td>\n",
       "      <td>0</td>\n",
       "      <td>0</td>\n",
       "      <td>0</td>\n",
       "      <td>0</td>\n",
       "      <td>0</td>\n",
       "      <td>0</td>\n",
       "      <td>0</td>\n",
       "      <td>0</td>\n",
       "    </tr>\n",
       "    <tr>\n",
       "      <th>56</th>\n",
       "      <td>Full-time employed</td>\n",
       "      <td>remote</td>\n",
       "      <td>yes</td>\n",
       "      <td>Less than a Bachelor's</td>\n",
       "      <td>no</td>\n",
       "      <td>Developer, full-stack;Engineer, data;System ad...</td>\n",
       "      <td>L</td>\n",
       "      <td>UK &amp; Northern Ireland</td>\n",
       "      <td>25-34 years old</td>\n",
       "      <td>Man</td>\n",
       "      <td>...</td>\n",
       "      <td>0</td>\n",
       "      <td>0</td>\n",
       "      <td>0</td>\n",
       "      <td>0</td>\n",
       "      <td>0</td>\n",
       "      <td>0</td>\n",
       "      <td>0</td>\n",
       "      <td>0</td>\n",
       "      <td>0</td>\n",
       "      <td>1</td>\n",
       "    </tr>\n",
       "  </tbody>\n",
       "</table>\n",
       "<p>5 rows × 45 columns</p>\n",
       "</div>"
      ],
      "text/plain": [
       "              Job_type Remote_work Coding_as_hobby               Education  \\\n",
       "0   Full-time employed      hybrid             yes         Master's degree   \n",
       "3   Full-time employed      hybrid             yes               Post grad   \n",
       "10  Full-time employed      remote             yes         Master's degree   \n",
       "35  Full-time employed      remote             yes         Master's degree   \n",
       "56  Full-time employed      remote             yes  Less than a Bachelor's   \n",
       "\n",
       "   Certifications                                          Job_title  \\\n",
       "0              no  Data scientist or machine learning specialist;...   \n",
       "3              no  Data scientist or machine learning specialist;...   \n",
       "10             no  Data or business analyst;Data scientist or mac...   \n",
       "35             no                                     Engineer, data   \n",
       "56             no  Developer, full-stack;Engineer, data;System ad...   \n",
       "\n",
       "   Company_size                Country              Age Gender  ...  \\\n",
       "0             S  UK & Northern Ireland  25-34 years old    Man  ...   \n",
       "3             S  UK & Northern Ireland  25-34 years old    Man  ...   \n",
       "10            S  UK & Northern Ireland  25-34 years old    Man  ...   \n",
       "35            M  UK & Northern Ireland  25-34 years old    Man  ...   \n",
       "56            L  UK & Northern Ireland  25-34 years old    Man  ...   \n",
       "\n",
       "   Engineer, site reliability Engineering manager  \\\n",
       "0                           1                   0   \n",
       "3                           0                   0   \n",
       "10                          0                   0   \n",
       "35                          0                   0   \n",
       "56                          0                   0   \n",
       "\n",
       "   Marketing or sales professional Product manager  Project manager Scientist  \\\n",
       "0                                0               0                0         0   \n",
       "3                                0               0                0         1   \n",
       "10                               0               0                0         0   \n",
       "35                               0               0                0         0   \n",
       "56                               0               0                0         0   \n",
       "\n",
       "    Security professional  Senior Executive (C-Suite, VP, etc.)  Student  \\\n",
       "0                       0                                     0        0   \n",
       "3                       0                                     0        0   \n",
       "10                      0                                     0        0   \n",
       "35                      0                                     0        0   \n",
       "56                      0                                     0        0   \n",
       "\n",
       "    System administrator  \n",
       "0                      0  \n",
       "3                      0  \n",
       "10                     0  \n",
       "35                     0  \n",
       "56                     1  \n",
       "\n",
       "[5 rows x 45 columns]"
      ]
     },
     "execution_count": 586,
     "metadata": {},
     "output_type": "execute_result"
    }
   ],
   "source": [
    "# Separa los títulos de trabajo y aplica one-hot encoding\n",
    "job_title_dummies = wdf['Job_title'].str.get_dummies(sep=';')\n",
    "\n",
    "# Une el DataFrame original (wdf) con el nuevo DataFrame (job_title_dummies)\n",
    "wdf_extended = pd.concat([wdf, job_title_dummies], axis=1)\n",
    "\n",
    "# Muestra las primeras filas del nuevo DataFrame\n",
    "wdf_extended.head()\n"
   ]
  },
  {
   "cell_type": "code",
   "execution_count": 587,
   "metadata": {},
   "outputs": [],
   "source": [
    "import numpy as np\n",
    "import pandas as pd\n",
    "from sklearn.metrics import jaccard_score\n",
    "\n",
    "# Asumiendo que df_encoded es el DataFrame después de aplicar one-hot encoding\n",
    "columnas = job_title_dummies.columns\n",
    "\n",
    "# Crear una matriz vacía de similitud\n",
    "similitud_jaccard = np.zeros((len(columnas), len(columnas)))\n",
    "\n",
    "# Calcular la correlación de Jaccard entre cada par de columnas\n",
    "for i in range(len(columnas)):\n",
    "    for j in range(len(columnas)):\n",
    "        similitud_jaccard[i, j] = jaccard_score(job_title_dummies[columnas[i]], job_title_dummies[columnas[j]])\n",
    "\n",
    "# Convertir la matriz de similitud en un DataFrame\n",
    "df_similitud_jaccard = pd.DataFrame(similitud_jaccard, index=columnas, columns=columnas)\n"
   ]
  },
  {
   "cell_type": "code",
   "execution_count": 588,
   "metadata": {},
   "outputs": [
    {
     "data": {
      "text/html": [
       "<div>\n",
       "<style scoped>\n",
       "    .dataframe tbody tr th:only-of-type {\n",
       "        vertical-align: middle;\n",
       "    }\n",
       "\n",
       "    .dataframe tbody tr th {\n",
       "        vertical-align: top;\n",
       "    }\n",
       "\n",
       "    .dataframe thead th {\n",
       "        text-align: right;\n",
       "    }\n",
       "</style>\n",
       "<table border=\"1\" class=\"dataframe\">\n",
       "  <thead>\n",
       "    <tr style=\"text-align: right;\">\n",
       "      <th></th>\n",
       "      <th>Academic researcher</th>\n",
       "      <th>Blockchain</th>\n",
       "      <th>Cloud infrastructure engineer</th>\n",
       "      <th>Data or business analyst</th>\n",
       "      <th>Data scientist or machine learning specialist</th>\n",
       "      <th>Database administrator</th>\n",
       "      <th>Designer</th>\n",
       "      <th>DevOps specialist</th>\n",
       "      <th>Developer, QA or test</th>\n",
       "      <th>Developer, back-end</th>\n",
       "      <th>...</th>\n",
       "      <th>Engineer, site reliability</th>\n",
       "      <th>Engineering manager</th>\n",
       "      <th>Marketing or sales professional</th>\n",
       "      <th>Product manager</th>\n",
       "      <th>Project manager</th>\n",
       "      <th>Scientist</th>\n",
       "      <th>Security professional</th>\n",
       "      <th>Senior Executive (C-Suite, VP, etc.)</th>\n",
       "      <th>Student</th>\n",
       "      <th>System administrator</th>\n",
       "    </tr>\n",
       "  </thead>\n",
       "  <tbody>\n",
       "    <tr>\n",
       "      <th>Academic researcher</th>\n",
       "      <td>1.000000</td>\n",
       "      <td>0.012739</td>\n",
       "      <td>0.018779</td>\n",
       "      <td>0.026539</td>\n",
       "      <td>0.131725</td>\n",
       "      <td>0.006565</td>\n",
       "      <td>0.008746</td>\n",
       "      <td>0.000000</td>\n",
       "      <td>0.002950</td>\n",
       "      <td>0.040000</td>\n",
       "      <td>...</td>\n",
       "      <td>0.006024</td>\n",
       "      <td>0.000000</td>\n",
       "      <td>0.000000</td>\n",
       "      <td>0.005848</td>\n",
       "      <td>0.026455</td>\n",
       "      <td>0.422131</td>\n",
       "      <td>0.012500</td>\n",
       "      <td>0.009404</td>\n",
       "      <td>0.044164</td>\n",
       "      <td>0.030726</td>\n",
       "    </tr>\n",
       "    <tr>\n",
       "      <th>Blockchain</th>\n",
       "      <td>0.012739</td>\n",
       "      <td>1.000000</td>\n",
       "      <td>0.000000</td>\n",
       "      <td>0.007440</td>\n",
       "      <td>0.004320</td>\n",
       "      <td>0.000000</td>\n",
       "      <td>0.000000</td>\n",
       "      <td>0.000000</td>\n",
       "      <td>0.000000</td>\n",
       "      <td>0.010955</td>\n",
       "      <td>...</td>\n",
       "      <td>0.000000</td>\n",
       "      <td>0.000000</td>\n",
       "      <td>0.000000</td>\n",
       "      <td>0.000000</td>\n",
       "      <td>0.010309</td>\n",
       "      <td>0.012531</td>\n",
       "      <td>0.000000</td>\n",
       "      <td>0.000000</td>\n",
       "      <td>0.000000</td>\n",
       "      <td>0.012821</td>\n",
       "    </tr>\n",
       "    <tr>\n",
       "      <th>Cloud infrastructure engineer</th>\n",
       "      <td>0.018779</td>\n",
       "      <td>0.000000</td>\n",
       "      <td>1.000000</td>\n",
       "      <td>0.033898</td>\n",
       "      <td>0.040796</td>\n",
       "      <td>0.051471</td>\n",
       "      <td>0.005848</td>\n",
       "      <td>0.103627</td>\n",
       "      <td>0.000000</td>\n",
       "      <td>0.090129</td>\n",
       "      <td>...</td>\n",
       "      <td>0.032258</td>\n",
       "      <td>0.011905</td>\n",
       "      <td>0.000000</td>\n",
       "      <td>0.024096</td>\n",
       "      <td>0.004695</td>\n",
       "      <td>0.005803</td>\n",
       "      <td>0.006711</td>\n",
       "      <td>0.006803</td>\n",
       "      <td>0.006410</td>\n",
       "      <td>0.015625</td>\n",
       "    </tr>\n",
       "    <tr>\n",
       "      <th>Data or business analyst</th>\n",
       "      <td>0.026539</td>\n",
       "      <td>0.007440</td>\n",
       "      <td>0.033898</td>\n",
       "      <td>1.000000</td>\n",
       "      <td>0.117481</td>\n",
       "      <td>0.126547</td>\n",
       "      <td>0.024709</td>\n",
       "      <td>0.033241</td>\n",
       "      <td>0.024927</td>\n",
       "      <td>0.130017</td>\n",
       "      <td>...</td>\n",
       "      <td>0.002894</td>\n",
       "      <td>0.007163</td>\n",
       "      <td>0.011976</td>\n",
       "      <td>0.032305</td>\n",
       "      <td>0.070201</td>\n",
       "      <td>0.022330</td>\n",
       "      <td>0.004412</td>\n",
       "      <td>0.016418</td>\n",
       "      <td>0.005831</td>\n",
       "      <td>0.032624</td>\n",
       "    </tr>\n",
       "    <tr>\n",
       "      <th>Data scientist or machine learning specialist</th>\n",
       "      <td>0.131725</td>\n",
       "      <td>0.004320</td>\n",
       "      <td>0.040796</td>\n",
       "      <td>0.117481</td>\n",
       "      <td>1.000000</td>\n",
       "      <td>0.027804</td>\n",
       "      <td>0.010549</td>\n",
       "      <td>0.028836</td>\n",
       "      <td>0.010616</td>\n",
       "      <td>0.127458</td>\n",
       "      <td>...</td>\n",
       "      <td>0.006383</td>\n",
       "      <td>0.015940</td>\n",
       "      <td>0.004324</td>\n",
       "      <td>0.012712</td>\n",
       "      <td>0.023541</td>\n",
       "      <td>0.099327</td>\n",
       "      <td>0.009709</td>\n",
       "      <td>0.004301</td>\n",
       "      <td>0.011803</td>\n",
       "      <td>0.012384</td>\n",
       "    </tr>\n",
       "    <tr>\n",
       "      <th>Database administrator</th>\n",
       "      <td>0.006565</td>\n",
       "      <td>0.000000</td>\n",
       "      <td>0.051471</td>\n",
       "      <td>0.126547</td>\n",
       "      <td>0.027804</td>\n",
       "      <td>1.000000</td>\n",
       "      <td>0.036649</td>\n",
       "      <td>0.052863</td>\n",
       "      <td>0.010526</td>\n",
       "      <td>0.066306</td>\n",
       "      <td>...</td>\n",
       "      <td>0.005405</td>\n",
       "      <td>0.005128</td>\n",
       "      <td>0.000000</td>\n",
       "      <td>0.005128</td>\n",
       "      <td>0.030043</td>\n",
       "      <td>0.001835</td>\n",
       "      <td>0.000000</td>\n",
       "      <td>0.011628</td>\n",
       "      <td>0.000000</td>\n",
       "      <td>0.067633</td>\n",
       "    </tr>\n",
       "    <tr>\n",
       "      <th>Designer</th>\n",
       "      <td>0.008746</td>\n",
       "      <td>0.000000</td>\n",
       "      <td>0.005848</td>\n",
       "      <td>0.024709</td>\n",
       "      <td>0.010549</td>\n",
       "      <td>0.036649</td>\n",
       "      <td>1.000000</td>\n",
       "      <td>0.008065</td>\n",
       "      <td>0.000000</td>\n",
       "      <td>0.012012</td>\n",
       "      <td>...</td>\n",
       "      <td>0.028571</td>\n",
       "      <td>0.012346</td>\n",
       "      <td>0.018519</td>\n",
       "      <td>0.037975</td>\n",
       "      <td>0.024390</td>\n",
       "      <td>0.016471</td>\n",
       "      <td>0.000000</td>\n",
       "      <td>0.000000</td>\n",
       "      <td>0.000000</td>\n",
       "      <td>0.028846</td>\n",
       "    </tr>\n",
       "    <tr>\n",
       "      <th>DevOps specialist</th>\n",
       "      <td>0.000000</td>\n",
       "      <td>0.000000</td>\n",
       "      <td>0.103627</td>\n",
       "      <td>0.033241</td>\n",
       "      <td>0.028836</td>\n",
       "      <td>0.052863</td>\n",
       "      <td>0.008065</td>\n",
       "      <td>1.000000</td>\n",
       "      <td>0.043860</td>\n",
       "      <td>0.059259</td>\n",
       "      <td>...</td>\n",
       "      <td>0.018018</td>\n",
       "      <td>0.016529</td>\n",
       "      <td>0.000000</td>\n",
       "      <td>0.000000</td>\n",
       "      <td>0.006024</td>\n",
       "      <td>0.010684</td>\n",
       "      <td>0.009804</td>\n",
       "      <td>0.000000</td>\n",
       "      <td>0.000000</td>\n",
       "      <td>0.034965</td>\n",
       "    </tr>\n",
       "    <tr>\n",
       "      <th>Developer, QA or test</th>\n",
       "      <td>0.002950</td>\n",
       "      <td>0.000000</td>\n",
       "      <td>0.000000</td>\n",
       "      <td>0.024927</td>\n",
       "      <td>0.010616</td>\n",
       "      <td>0.010526</td>\n",
       "      <td>0.000000</td>\n",
       "      <td>0.043860</td>\n",
       "      <td>1.000000</td>\n",
       "      <td>0.019847</td>\n",
       "      <td>...</td>\n",
       "      <td>0.000000</td>\n",
       "      <td>0.000000</td>\n",
       "      <td>0.020833</td>\n",
       "      <td>0.027027</td>\n",
       "      <td>0.016949</td>\n",
       "      <td>0.011876</td>\n",
       "      <td>0.000000</td>\n",
       "      <td>0.000000</td>\n",
       "      <td>0.000000</td>\n",
       "      <td>0.010000</td>\n",
       "    </tr>\n",
       "    <tr>\n",
       "      <th>Developer, back-end</th>\n",
       "      <td>0.040000</td>\n",
       "      <td>0.010955</td>\n",
       "      <td>0.090129</td>\n",
       "      <td>0.130017</td>\n",
       "      <td>0.127458</td>\n",
       "      <td>0.066306</td>\n",
       "      <td>0.012012</td>\n",
       "      <td>0.059259</td>\n",
       "      <td>0.019847</td>\n",
       "      <td>1.000000</td>\n",
       "      <td>...</td>\n",
       "      <td>0.015337</td>\n",
       "      <td>0.018182</td>\n",
       "      <td>0.001553</td>\n",
       "      <td>0.007496</td>\n",
       "      <td>0.024320</td>\n",
       "      <td>0.064583</td>\n",
       "      <td>0.007728</td>\n",
       "      <td>0.001541</td>\n",
       "      <td>0.003044</td>\n",
       "      <td>0.019006</td>\n",
       "    </tr>\n",
       "    <tr>\n",
       "      <th>Developer, desktop or enterprise applications</th>\n",
       "      <td>0.014925</td>\n",
       "      <td>0.000000</td>\n",
       "      <td>0.000000</td>\n",
       "      <td>0.097240</td>\n",
       "      <td>0.037178</td>\n",
       "      <td>0.058065</td>\n",
       "      <td>0.043902</td>\n",
       "      <td>0.024096</td>\n",
       "      <td>0.019608</td>\n",
       "      <td>0.060686</td>\n",
       "      <td>...</td>\n",
       "      <td>0.004975</td>\n",
       "      <td>0.014354</td>\n",
       "      <td>0.005435</td>\n",
       "      <td>0.034146</td>\n",
       "      <td>0.040650</td>\n",
       "      <td>0.054409</td>\n",
       "      <td>0.005236</td>\n",
       "      <td>0.010638</td>\n",
       "      <td>0.005051</td>\n",
       "      <td>0.048673</td>\n",
       "    </tr>\n",
       "    <tr>\n",
       "      <th>Developer, embedded applications or devices</th>\n",
       "      <td>0.016620</td>\n",
       "      <td>0.000000</td>\n",
       "      <td>0.010471</td>\n",
       "      <td>0.005540</td>\n",
       "      <td>0.027282</td>\n",
       "      <td>0.004587</td>\n",
       "      <td>0.019417</td>\n",
       "      <td>0.006897</td>\n",
       "      <td>0.020619</td>\n",
       "      <td>0.010174</td>\n",
       "      <td>...</td>\n",
       "      <td>0.000000</td>\n",
       "      <td>0.019802</td>\n",
       "      <td>0.000000</td>\n",
       "      <td>0.000000</td>\n",
       "      <td>0.006849</td>\n",
       "      <td>0.043779</td>\n",
       "      <td>0.024691</td>\n",
       "      <td>0.000000</td>\n",
       "      <td>0.000000</td>\n",
       "      <td>0.015873</td>\n",
       "    </tr>\n",
       "    <tr>\n",
       "      <th>Developer, front-end</th>\n",
       "      <td>0.010840</td>\n",
       "      <td>0.000000</td>\n",
       "      <td>0.015306</td>\n",
       "      <td>0.044223</td>\n",
       "      <td>0.014418</td>\n",
       "      <td>0.004464</td>\n",
       "      <td>0.027778</td>\n",
       "      <td>0.000000</td>\n",
       "      <td>0.060606</td>\n",
       "      <td>0.054135</td>\n",
       "      <td>...</td>\n",
       "      <td>0.020619</td>\n",
       "      <td>0.000000</td>\n",
       "      <td>0.012346</td>\n",
       "      <td>0.009259</td>\n",
       "      <td>0.006579</td>\n",
       "      <td>0.013245</td>\n",
       "      <td>0.000000</td>\n",
       "      <td>0.000000</td>\n",
       "      <td>0.000000</td>\n",
       "      <td>0.007519</td>\n",
       "    </tr>\n",
       "    <tr>\n",
       "      <th>Developer, full-stack</th>\n",
       "      <td>0.032999</td>\n",
       "      <td>0.004673</td>\n",
       "      <td>0.052023</td>\n",
       "      <td>0.163970</td>\n",
       "      <td>0.102649</td>\n",
       "      <td>0.091603</td>\n",
       "      <td>0.029213</td>\n",
       "      <td>0.041754</td>\n",
       "      <td>0.013453</td>\n",
       "      <td>0.118463</td>\n",
       "      <td>...</td>\n",
       "      <td>0.022936</td>\n",
       "      <td>0.015590</td>\n",
       "      <td>0.004684</td>\n",
       "      <td>0.013333</td>\n",
       "      <td>0.048218</td>\n",
       "      <td>0.045396</td>\n",
       "      <td>0.009259</td>\n",
       "      <td>0.023585</td>\n",
       "      <td>0.006818</td>\n",
       "      <td>0.047930</td>\n",
       "    </tr>\n",
       "    <tr>\n",
       "      <th>Developer, game or graphics</th>\n",
       "      <td>0.003175</td>\n",
       "      <td>0.000000</td>\n",
       "      <td>0.000000</td>\n",
       "      <td>0.002972</td>\n",
       "      <td>0.007600</td>\n",
       "      <td>0.000000</td>\n",
       "      <td>0.018868</td>\n",
       "      <td>0.000000</td>\n",
       "      <td>0.000000</td>\n",
       "      <td>0.004680</td>\n",
       "      <td>...</td>\n",
       "      <td>0.000000</td>\n",
       "      <td>0.000000</td>\n",
       "      <td>0.000000</td>\n",
       "      <td>0.000000</td>\n",
       "      <td>0.000000</td>\n",
       "      <td>0.007519</td>\n",
       "      <td>0.000000</td>\n",
       "      <td>0.000000</td>\n",
       "      <td>0.026316</td>\n",
       "      <td>0.000000</td>\n",
       "    </tr>\n",
       "    <tr>\n",
       "      <th>Developer, mobile</th>\n",
       "      <td>0.009063</td>\n",
       "      <td>0.023256</td>\n",
       "      <td>0.012658</td>\n",
       "      <td>0.010204</td>\n",
       "      <td>0.010684</td>\n",
       "      <td>0.000000</td>\n",
       "      <td>0.000000</td>\n",
       "      <td>0.000000</td>\n",
       "      <td>0.031250</td>\n",
       "      <td>0.012232</td>\n",
       "      <td>...</td>\n",
       "      <td>0.000000</td>\n",
       "      <td>0.029412</td>\n",
       "      <td>0.000000</td>\n",
       "      <td>0.000000</td>\n",
       "      <td>0.000000</td>\n",
       "      <td>0.014493</td>\n",
       "      <td>0.000000</td>\n",
       "      <td>0.000000</td>\n",
       "      <td>0.017857</td>\n",
       "      <td>0.000000</td>\n",
       "    </tr>\n",
       "    <tr>\n",
       "      <th>Educator</th>\n",
       "      <td>0.141566</td>\n",
       "      <td>0.000000</td>\n",
       "      <td>0.000000</td>\n",
       "      <td>0.012346</td>\n",
       "      <td>0.032292</td>\n",
       "      <td>0.013158</td>\n",
       "      <td>0.000000</td>\n",
       "      <td>0.000000</td>\n",
       "      <td>0.000000</td>\n",
       "      <td>0.017266</td>\n",
       "      <td>...</td>\n",
       "      <td>0.000000</td>\n",
       "      <td>0.008772</td>\n",
       "      <td>0.000000</td>\n",
       "      <td>0.008772</td>\n",
       "      <td>0.006329</td>\n",
       "      <td>0.099291</td>\n",
       "      <td>0.010638</td>\n",
       "      <td>0.000000</td>\n",
       "      <td>0.009901</td>\n",
       "      <td>0.021898</td>\n",
       "    </tr>\n",
       "    <tr>\n",
       "      <th>Engineer, data</th>\n",
       "      <td>0.022071</td>\n",
       "      <td>0.005501</td>\n",
       "      <td>0.086498</td>\n",
       "      <td>0.113248</td>\n",
       "      <td>0.118916</td>\n",
       "      <td>0.077551</td>\n",
       "      <td>0.011815</td>\n",
       "      <td>0.039112</td>\n",
       "      <td>0.014085</td>\n",
       "      <td>0.296108</td>\n",
       "      <td>...</td>\n",
       "      <td>0.026490</td>\n",
       "      <td>0.022851</td>\n",
       "      <td>0.003297</td>\n",
       "      <td>0.012931</td>\n",
       "      <td>0.019689</td>\n",
       "      <td>0.032000</td>\n",
       "      <td>0.004367</td>\n",
       "      <td>0.005476</td>\n",
       "      <td>0.005423</td>\n",
       "      <td>0.023330</td>\n",
       "    </tr>\n",
       "    <tr>\n",
       "      <th>Engineer, site reliability</th>\n",
       "      <td>0.006024</td>\n",
       "      <td>0.000000</td>\n",
       "      <td>0.032258</td>\n",
       "      <td>0.002894</td>\n",
       "      <td>0.006383</td>\n",
       "      <td>0.005405</td>\n",
       "      <td>0.028571</td>\n",
       "      <td>0.018018</td>\n",
       "      <td>0.000000</td>\n",
       "      <td>0.015337</td>\n",
       "      <td>...</td>\n",
       "      <td>1.000000</td>\n",
       "      <td>0.044776</td>\n",
       "      <td>0.000000</td>\n",
       "      <td>0.014493</td>\n",
       "      <td>0.017857</td>\n",
       "      <td>0.002387</td>\n",
       "      <td>0.000000</td>\n",
       "      <td>0.000000</td>\n",
       "      <td>0.000000</td>\n",
       "      <td>0.010638</td>\n",
       "    </tr>\n",
       "    <tr>\n",
       "      <th>Engineering manager</th>\n",
       "      <td>0.000000</td>\n",
       "      <td>0.000000</td>\n",
       "      <td>0.011905</td>\n",
       "      <td>0.007163</td>\n",
       "      <td>0.015940</td>\n",
       "      <td>0.005128</td>\n",
       "      <td>0.012346</td>\n",
       "      <td>0.016529</td>\n",
       "      <td>0.000000</td>\n",
       "      <td>0.018182</td>\n",
       "      <td>...</td>\n",
       "      <td>0.044776</td>\n",
       "      <td>1.000000</td>\n",
       "      <td>0.000000</td>\n",
       "      <td>0.038961</td>\n",
       "      <td>0.024793</td>\n",
       "      <td>0.002331</td>\n",
       "      <td>0.016949</td>\n",
       "      <td>0.017544</td>\n",
       "      <td>0.000000</td>\n",
       "      <td>0.009615</td>\n",
       "    </tr>\n",
       "    <tr>\n",
       "      <th>Marketing or sales professional</th>\n",
       "      <td>0.000000</td>\n",
       "      <td>0.000000</td>\n",
       "      <td>0.000000</td>\n",
       "      <td>0.011976</td>\n",
       "      <td>0.004324</td>\n",
       "      <td>0.000000</td>\n",
       "      <td>0.018519</td>\n",
       "      <td>0.000000</td>\n",
       "      <td>0.020833</td>\n",
       "      <td>0.001553</td>\n",
       "      <td>...</td>\n",
       "      <td>0.000000</td>\n",
       "      <td>0.000000</td>\n",
       "      <td>1.000000</td>\n",
       "      <td>0.019231</td>\n",
       "      <td>0.021053</td>\n",
       "      <td>0.004988</td>\n",
       "      <td>0.031250</td>\n",
       "      <td>0.000000</td>\n",
       "      <td>0.000000</td>\n",
       "      <td>0.000000</td>\n",
       "    </tr>\n",
       "    <tr>\n",
       "      <th>Product manager</th>\n",
       "      <td>0.005848</td>\n",
       "      <td>0.000000</td>\n",
       "      <td>0.024096</td>\n",
       "      <td>0.032305</td>\n",
       "      <td>0.012712</td>\n",
       "      <td>0.005128</td>\n",
       "      <td>0.037975</td>\n",
       "      <td>0.000000</td>\n",
       "      <td>0.027027</td>\n",
       "      <td>0.007496</td>\n",
       "      <td>...</td>\n",
       "      <td>0.014493</td>\n",
       "      <td>0.038961</td>\n",
       "      <td>0.019231</td>\n",
       "      <td>1.000000</td>\n",
       "      <td>0.050847</td>\n",
       "      <td>0.004673</td>\n",
       "      <td>0.016949</td>\n",
       "      <td>0.000000</td>\n",
       "      <td>0.000000</td>\n",
       "      <td>0.000000</td>\n",
       "    </tr>\n",
       "    <tr>\n",
       "      <th>Project manager</th>\n",
       "      <td>0.026455</td>\n",
       "      <td>0.010309</td>\n",
       "      <td>0.004695</td>\n",
       "      <td>0.070201</td>\n",
       "      <td>0.023541</td>\n",
       "      <td>0.030043</td>\n",
       "      <td>0.024390</td>\n",
       "      <td>0.006024</td>\n",
       "      <td>0.016949</td>\n",
       "      <td>0.024320</td>\n",
       "      <td>...</td>\n",
       "      <td>0.017857</td>\n",
       "      <td>0.024793</td>\n",
       "      <td>0.021053</td>\n",
       "      <td>0.050847</td>\n",
       "      <td>1.000000</td>\n",
       "      <td>0.019355</td>\n",
       "      <td>0.000000</td>\n",
       "      <td>0.030303</td>\n",
       "      <td>0.000000</td>\n",
       "      <td>0.034722</td>\n",
       "    </tr>\n",
       "    <tr>\n",
       "      <th>Scientist</th>\n",
       "      <td>0.422131</td>\n",
       "      <td>0.012531</td>\n",
       "      <td>0.005803</td>\n",
       "      <td>0.022330</td>\n",
       "      <td>0.099327</td>\n",
       "      <td>0.001835</td>\n",
       "      <td>0.016471</td>\n",
       "      <td>0.010684</td>\n",
       "      <td>0.011876</td>\n",
       "      <td>0.064583</td>\n",
       "      <td>...</td>\n",
       "      <td>0.002387</td>\n",
       "      <td>0.002331</td>\n",
       "      <td>0.004988</td>\n",
       "      <td>0.004673</td>\n",
       "      <td>0.019355</td>\n",
       "      <td>1.000000</td>\n",
       "      <td>0.017370</td>\n",
       "      <td>0.007407</td>\n",
       "      <td>0.037313</td>\n",
       "      <td>0.031746</td>\n",
       "    </tr>\n",
       "    <tr>\n",
       "      <th>Security professional</th>\n",
       "      <td>0.012500</td>\n",
       "      <td>0.000000</td>\n",
       "      <td>0.006711</td>\n",
       "      <td>0.004412</td>\n",
       "      <td>0.009709</td>\n",
       "      <td>0.000000</td>\n",
       "      <td>0.000000</td>\n",
       "      <td>0.009804</td>\n",
       "      <td>0.000000</td>\n",
       "      <td>0.007728</td>\n",
       "      <td>...</td>\n",
       "      <td>0.000000</td>\n",
       "      <td>0.016949</td>\n",
       "      <td>0.031250</td>\n",
       "      <td>0.016949</td>\n",
       "      <td>0.000000</td>\n",
       "      <td>0.017370</td>\n",
       "      <td>1.000000</td>\n",
       "      <td>0.027027</td>\n",
       "      <td>0.000000</td>\n",
       "      <td>0.000000</td>\n",
       "    </tr>\n",
       "    <tr>\n",
       "      <th>Senior Executive (C-Suite, VP, etc.)</th>\n",
       "      <td>0.009404</td>\n",
       "      <td>0.000000</td>\n",
       "      <td>0.006803</td>\n",
       "      <td>0.016418</td>\n",
       "      <td>0.004301</td>\n",
       "      <td>0.011628</td>\n",
       "      <td>0.000000</td>\n",
       "      <td>0.000000</td>\n",
       "      <td>0.000000</td>\n",
       "      <td>0.001541</td>\n",
       "      <td>...</td>\n",
       "      <td>0.000000</td>\n",
       "      <td>0.017544</td>\n",
       "      <td>0.000000</td>\n",
       "      <td>0.000000</td>\n",
       "      <td>0.030303</td>\n",
       "      <td>0.007407</td>\n",
       "      <td>0.027027</td>\n",
       "      <td>1.000000</td>\n",
       "      <td>0.000000</td>\n",
       "      <td>0.024691</td>\n",
       "    </tr>\n",
       "    <tr>\n",
       "      <th>Student</th>\n",
       "      <td>0.044164</td>\n",
       "      <td>0.000000</td>\n",
       "      <td>0.006410</td>\n",
       "      <td>0.005831</td>\n",
       "      <td>0.011803</td>\n",
       "      <td>0.000000</td>\n",
       "      <td>0.000000</td>\n",
       "      <td>0.000000</td>\n",
       "      <td>0.000000</td>\n",
       "      <td>0.003044</td>\n",
       "      <td>...</td>\n",
       "      <td>0.000000</td>\n",
       "      <td>0.000000</td>\n",
       "      <td>0.000000</td>\n",
       "      <td>0.000000</td>\n",
       "      <td>0.000000</td>\n",
       "      <td>0.037313</td>\n",
       "      <td>0.000000</td>\n",
       "      <td>0.000000</td>\n",
       "      <td>1.000000</td>\n",
       "      <td>0.010989</td>\n",
       "    </tr>\n",
       "    <tr>\n",
       "      <th>System administrator</th>\n",
       "      <td>0.030726</td>\n",
       "      <td>0.012821</td>\n",
       "      <td>0.015625</td>\n",
       "      <td>0.032624</td>\n",
       "      <td>0.012384</td>\n",
       "      <td>0.067633</td>\n",
       "      <td>0.028846</td>\n",
       "      <td>0.034965</td>\n",
       "      <td>0.010000</td>\n",
       "      <td>0.019006</td>\n",
       "      <td>...</td>\n",
       "      <td>0.010638</td>\n",
       "      <td>0.009615</td>\n",
       "      <td>0.000000</td>\n",
       "      <td>0.000000</td>\n",
       "      <td>0.034722</td>\n",
       "      <td>0.031746</td>\n",
       "      <td>0.000000</td>\n",
       "      <td>0.024691</td>\n",
       "      <td>0.010989</td>\n",
       "      <td>1.000000</td>\n",
       "    </tr>\n",
       "  </tbody>\n",
       "</table>\n",
       "<p>28 rows × 28 columns</p>\n",
       "</div>"
      ],
      "text/plain": [
       "                                               Academic researcher  \\\n",
       "Academic researcher                                       1.000000   \n",
       "Blockchain                                                0.012739   \n",
       "Cloud infrastructure engineer                             0.018779   \n",
       "Data or business analyst                                  0.026539   \n",
       "Data scientist or machine learning specialist             0.131725   \n",
       "Database administrator                                    0.006565   \n",
       "Designer                                                  0.008746   \n",
       "DevOps specialist                                         0.000000   \n",
       "Developer, QA or test                                     0.002950   \n",
       "Developer, back-end                                       0.040000   \n",
       "Developer, desktop or enterprise applications             0.014925   \n",
       "Developer, embedded applications or devices               0.016620   \n",
       "Developer, front-end                                      0.010840   \n",
       "Developer, full-stack                                     0.032999   \n",
       "Developer, game or graphics                               0.003175   \n",
       "Developer, mobile                                         0.009063   \n",
       "Educator                                                  0.141566   \n",
       "Engineer, data                                            0.022071   \n",
       "Engineer, site reliability                                0.006024   \n",
       "Engineering manager                                       0.000000   \n",
       "Marketing or sales professional                           0.000000   \n",
       "Product manager                                           0.005848   \n",
       "Project manager                                           0.026455   \n",
       "Scientist                                                 0.422131   \n",
       "Security professional                                     0.012500   \n",
       "Senior Executive (C-Suite, VP, etc.)                      0.009404   \n",
       "Student                                                   0.044164   \n",
       "System administrator                                      0.030726   \n",
       "\n",
       "                                               Blockchain  \\\n",
       "Academic researcher                              0.012739   \n",
       "Blockchain                                       1.000000   \n",
       "Cloud infrastructure engineer                    0.000000   \n",
       "Data or business analyst                         0.007440   \n",
       "Data scientist or machine learning specialist    0.004320   \n",
       "Database administrator                           0.000000   \n",
       "Designer                                         0.000000   \n",
       "DevOps specialist                                0.000000   \n",
       "Developer, QA or test                            0.000000   \n",
       "Developer, back-end                              0.010955   \n",
       "Developer, desktop or enterprise applications    0.000000   \n",
       "Developer, embedded applications or devices      0.000000   \n",
       "Developer, front-end                             0.000000   \n",
       "Developer, full-stack                            0.004673   \n",
       "Developer, game or graphics                      0.000000   \n",
       "Developer, mobile                                0.023256   \n",
       "Educator                                         0.000000   \n",
       "Engineer, data                                   0.005501   \n",
       "Engineer, site reliability                       0.000000   \n",
       "Engineering manager                              0.000000   \n",
       "Marketing or sales professional                  0.000000   \n",
       "Product manager                                  0.000000   \n",
       "Project manager                                  0.010309   \n",
       "Scientist                                        0.012531   \n",
       "Security professional                            0.000000   \n",
       "Senior Executive (C-Suite, VP, etc.)             0.000000   \n",
       "Student                                          0.000000   \n",
       "System administrator                             0.012821   \n",
       "\n",
       "                                               Cloud infrastructure engineer  \\\n",
       "Academic researcher                                                 0.018779   \n",
       "Blockchain                                                          0.000000   \n",
       "Cloud infrastructure engineer                                       1.000000   \n",
       "Data or business analyst                                            0.033898   \n",
       "Data scientist or machine learning specialist                       0.040796   \n",
       "Database administrator                                              0.051471   \n",
       "Designer                                                            0.005848   \n",
       "DevOps specialist                                                   0.103627   \n",
       "Developer, QA or test                                               0.000000   \n",
       "Developer, back-end                                                 0.090129   \n",
       "Developer, desktop or enterprise applications                       0.000000   \n",
       "Developer, embedded applications or devices                         0.010471   \n",
       "Developer, front-end                                                0.015306   \n",
       "Developer, full-stack                                               0.052023   \n",
       "Developer, game or graphics                                         0.000000   \n",
       "Developer, mobile                                                   0.012658   \n",
       "Educator                                                            0.000000   \n",
       "Engineer, data                                                      0.086498   \n",
       "Engineer, site reliability                                          0.032258   \n",
       "Engineering manager                                                 0.011905   \n",
       "Marketing or sales professional                                     0.000000   \n",
       "Product manager                                                     0.024096   \n",
       "Project manager                                                     0.004695   \n",
       "Scientist                                                           0.005803   \n",
       "Security professional                                               0.006711   \n",
       "Senior Executive (C-Suite, VP, etc.)                                0.006803   \n",
       "Student                                                             0.006410   \n",
       "System administrator                                                0.015625   \n",
       "\n",
       "                                               Data or business analyst  \\\n",
       "Academic researcher                                            0.026539   \n",
       "Blockchain                                                     0.007440   \n",
       "Cloud infrastructure engineer                                  0.033898   \n",
       "Data or business analyst                                       1.000000   \n",
       "Data scientist or machine learning specialist                  0.117481   \n",
       "Database administrator                                         0.126547   \n",
       "Designer                                                       0.024709   \n",
       "DevOps specialist                                              0.033241   \n",
       "Developer, QA or test                                          0.024927   \n",
       "Developer, back-end                                            0.130017   \n",
       "Developer, desktop or enterprise applications                  0.097240   \n",
       "Developer, embedded applications or devices                    0.005540   \n",
       "Developer, front-end                                           0.044223   \n",
       "Developer, full-stack                                          0.163970   \n",
       "Developer, game or graphics                                    0.002972   \n",
       "Developer, mobile                                              0.010204   \n",
       "Educator                                                       0.012346   \n",
       "Engineer, data                                                 0.113248   \n",
       "Engineer, site reliability                                     0.002894   \n",
       "Engineering manager                                            0.007163   \n",
       "Marketing or sales professional                                0.011976   \n",
       "Product manager                                                0.032305   \n",
       "Project manager                                                0.070201   \n",
       "Scientist                                                      0.022330   \n",
       "Security professional                                          0.004412   \n",
       "Senior Executive (C-Suite, VP, etc.)                           0.016418   \n",
       "Student                                                        0.005831   \n",
       "System administrator                                           0.032624   \n",
       "\n",
       "                                               Data scientist or machine learning specialist  \\\n",
       "Academic researcher                                                                 0.131725   \n",
       "Blockchain                                                                          0.004320   \n",
       "Cloud infrastructure engineer                                                       0.040796   \n",
       "Data or business analyst                                                            0.117481   \n",
       "Data scientist or machine learning specialist                                       1.000000   \n",
       "Database administrator                                                              0.027804   \n",
       "Designer                                                                            0.010549   \n",
       "DevOps specialist                                                                   0.028836   \n",
       "Developer, QA or test                                                               0.010616   \n",
       "Developer, back-end                                                                 0.127458   \n",
       "Developer, desktop or enterprise applications                                       0.037178   \n",
       "Developer, embedded applications or devices                                         0.027282   \n",
       "Developer, front-end                                                                0.014418   \n",
       "Developer, full-stack                                                               0.102649   \n",
       "Developer, game or graphics                                                         0.007600   \n",
       "Developer, mobile                                                                   0.010684   \n",
       "Educator                                                                            0.032292   \n",
       "Engineer, data                                                                      0.118916   \n",
       "Engineer, site reliability                                                          0.006383   \n",
       "Engineering manager                                                                 0.015940   \n",
       "Marketing or sales professional                                                     0.004324   \n",
       "Product manager                                                                     0.012712   \n",
       "Project manager                                                                     0.023541   \n",
       "Scientist                                                                           0.099327   \n",
       "Security professional                                                               0.009709   \n",
       "Senior Executive (C-Suite, VP, etc.)                                                0.004301   \n",
       "Student                                                                             0.011803   \n",
       "System administrator                                                                0.012384   \n",
       "\n",
       "                                               Database administrator  \\\n",
       "Academic researcher                                          0.006565   \n",
       "Blockchain                                                   0.000000   \n",
       "Cloud infrastructure engineer                                0.051471   \n",
       "Data or business analyst                                     0.126547   \n",
       "Data scientist or machine learning specialist                0.027804   \n",
       "Database administrator                                       1.000000   \n",
       "Designer                                                     0.036649   \n",
       "DevOps specialist                                            0.052863   \n",
       "Developer, QA or test                                        0.010526   \n",
       "Developer, back-end                                          0.066306   \n",
       "Developer, desktop or enterprise applications                0.058065   \n",
       "Developer, embedded applications or devices                  0.004587   \n",
       "Developer, front-end                                         0.004464   \n",
       "Developer, full-stack                                        0.091603   \n",
       "Developer, game or graphics                                  0.000000   \n",
       "Developer, mobile                                            0.000000   \n",
       "Educator                                                     0.013158   \n",
       "Engineer, data                                               0.077551   \n",
       "Engineer, site reliability                                   0.005405   \n",
       "Engineering manager                                          0.005128   \n",
       "Marketing or sales professional                              0.000000   \n",
       "Product manager                                              0.005128   \n",
       "Project manager                                              0.030043   \n",
       "Scientist                                                    0.001835   \n",
       "Security professional                                        0.000000   \n",
       "Senior Executive (C-Suite, VP, etc.)                         0.011628   \n",
       "Student                                                      0.000000   \n",
       "System administrator                                         0.067633   \n",
       "\n",
       "                                               Designer  DevOps specialist  \\\n",
       "Academic researcher                            0.008746           0.000000   \n",
       "Blockchain                                     0.000000           0.000000   \n",
       "Cloud infrastructure engineer                  0.005848           0.103627   \n",
       "Data or business analyst                       0.024709           0.033241   \n",
       "Data scientist or machine learning specialist  0.010549           0.028836   \n",
       "Database administrator                         0.036649           0.052863   \n",
       "Designer                                       1.000000           0.008065   \n",
       "DevOps specialist                              0.008065           1.000000   \n",
       "Developer, QA or test                          0.000000           0.043860   \n",
       "Developer, back-end                            0.012012           0.059259   \n",
       "Developer, desktop or enterprise applications  0.043902           0.024096   \n",
       "Developer, embedded applications or devices    0.019417           0.006897   \n",
       "Developer, front-end                           0.027778           0.000000   \n",
       "Developer, full-stack                          0.029213           0.041754   \n",
       "Developer, game or graphics                    0.018868           0.000000   \n",
       "Developer, mobile                              0.000000           0.000000   \n",
       "Educator                                       0.000000           0.000000   \n",
       "Engineer, data                                 0.011815           0.039112   \n",
       "Engineer, site reliability                     0.028571           0.018018   \n",
       "Engineering manager                            0.012346           0.016529   \n",
       "Marketing or sales professional                0.018519           0.000000   \n",
       "Product manager                                0.037975           0.000000   \n",
       "Project manager                                0.024390           0.006024   \n",
       "Scientist                                      0.016471           0.010684   \n",
       "Security professional                          0.000000           0.009804   \n",
       "Senior Executive (C-Suite, VP, etc.)           0.000000           0.000000   \n",
       "Student                                        0.000000           0.000000   \n",
       "System administrator                           0.028846           0.034965   \n",
       "\n",
       "                                               Developer, QA or test  \\\n",
       "Academic researcher                                         0.002950   \n",
       "Blockchain                                                  0.000000   \n",
       "Cloud infrastructure engineer                               0.000000   \n",
       "Data or business analyst                                    0.024927   \n",
       "Data scientist or machine learning specialist               0.010616   \n",
       "Database administrator                                      0.010526   \n",
       "Designer                                                    0.000000   \n",
       "DevOps specialist                                           0.043860   \n",
       "Developer, QA or test                                       1.000000   \n",
       "Developer, back-end                                         0.019847   \n",
       "Developer, desktop or enterprise applications               0.019608   \n",
       "Developer, embedded applications or devices                 0.020619   \n",
       "Developer, front-end                                        0.060606   \n",
       "Developer, full-stack                                       0.013453   \n",
       "Developer, game or graphics                                 0.000000   \n",
       "Developer, mobile                                           0.031250   \n",
       "Educator                                                    0.000000   \n",
       "Engineer, data                                              0.014085   \n",
       "Engineer, site reliability                                  0.000000   \n",
       "Engineering manager                                         0.000000   \n",
       "Marketing or sales professional                             0.020833   \n",
       "Product manager                                             0.027027   \n",
       "Project manager                                             0.016949   \n",
       "Scientist                                                   0.011876   \n",
       "Security professional                                       0.000000   \n",
       "Senior Executive (C-Suite, VP, etc.)                        0.000000   \n",
       "Student                                                     0.000000   \n",
       "System administrator                                        0.010000   \n",
       "\n",
       "                                               Developer, back-end  ...  \\\n",
       "Academic researcher                                       0.040000  ...   \n",
       "Blockchain                                                0.010955  ...   \n",
       "Cloud infrastructure engineer                             0.090129  ...   \n",
       "Data or business analyst                                  0.130017  ...   \n",
       "Data scientist or machine learning specialist             0.127458  ...   \n",
       "Database administrator                                    0.066306  ...   \n",
       "Designer                                                  0.012012  ...   \n",
       "DevOps specialist                                         0.059259  ...   \n",
       "Developer, QA or test                                     0.019847  ...   \n",
       "Developer, back-end                                       1.000000  ...   \n",
       "Developer, desktop or enterprise applications             0.060686  ...   \n",
       "Developer, embedded applications or devices               0.010174  ...   \n",
       "Developer, front-end                                      0.054135  ...   \n",
       "Developer, full-stack                                     0.118463  ...   \n",
       "Developer, game or graphics                               0.004680  ...   \n",
       "Developer, mobile                                         0.012232  ...   \n",
       "Educator                                                  0.017266  ...   \n",
       "Engineer, data                                            0.296108  ...   \n",
       "Engineer, site reliability                                0.015337  ...   \n",
       "Engineering manager                                       0.018182  ...   \n",
       "Marketing or sales professional                           0.001553  ...   \n",
       "Product manager                                           0.007496  ...   \n",
       "Project manager                                           0.024320  ...   \n",
       "Scientist                                                 0.064583  ...   \n",
       "Security professional                                     0.007728  ...   \n",
       "Senior Executive (C-Suite, VP, etc.)                      0.001541  ...   \n",
       "Student                                                   0.003044  ...   \n",
       "System administrator                                      0.019006  ...   \n",
       "\n",
       "                                               Engineer, site reliability  \\\n",
       "Academic researcher                                              0.006024   \n",
       "Blockchain                                                       0.000000   \n",
       "Cloud infrastructure engineer                                    0.032258   \n",
       "Data or business analyst                                         0.002894   \n",
       "Data scientist or machine learning specialist                    0.006383   \n",
       "Database administrator                                           0.005405   \n",
       "Designer                                                         0.028571   \n",
       "DevOps specialist                                                0.018018   \n",
       "Developer, QA or test                                            0.000000   \n",
       "Developer, back-end                                              0.015337   \n",
       "Developer, desktop or enterprise applications                    0.004975   \n",
       "Developer, embedded applications or devices                      0.000000   \n",
       "Developer, front-end                                             0.020619   \n",
       "Developer, full-stack                                            0.022936   \n",
       "Developer, game or graphics                                      0.000000   \n",
       "Developer, mobile                                                0.000000   \n",
       "Educator                                                         0.000000   \n",
       "Engineer, data                                                   0.026490   \n",
       "Engineer, site reliability                                       1.000000   \n",
       "Engineering manager                                              0.044776   \n",
       "Marketing or sales professional                                  0.000000   \n",
       "Product manager                                                  0.014493   \n",
       "Project manager                                                  0.017857   \n",
       "Scientist                                                        0.002387   \n",
       "Security professional                                            0.000000   \n",
       "Senior Executive (C-Suite, VP, etc.)                             0.000000   \n",
       "Student                                                          0.000000   \n",
       "System administrator                                             0.010638   \n",
       "\n",
       "                                               Engineering manager  \\\n",
       "Academic researcher                                       0.000000   \n",
       "Blockchain                                                0.000000   \n",
       "Cloud infrastructure engineer                             0.011905   \n",
       "Data or business analyst                                  0.007163   \n",
       "Data scientist or machine learning specialist             0.015940   \n",
       "Database administrator                                    0.005128   \n",
       "Designer                                                  0.012346   \n",
       "DevOps specialist                                         0.016529   \n",
       "Developer, QA or test                                     0.000000   \n",
       "Developer, back-end                                       0.018182   \n",
       "Developer, desktop or enterprise applications             0.014354   \n",
       "Developer, embedded applications or devices               0.019802   \n",
       "Developer, front-end                                      0.000000   \n",
       "Developer, full-stack                                     0.015590   \n",
       "Developer, game or graphics                               0.000000   \n",
       "Developer, mobile                                         0.029412   \n",
       "Educator                                                  0.008772   \n",
       "Engineer, data                                            0.022851   \n",
       "Engineer, site reliability                                0.044776   \n",
       "Engineering manager                                       1.000000   \n",
       "Marketing or sales professional                           0.000000   \n",
       "Product manager                                           0.038961   \n",
       "Project manager                                           0.024793   \n",
       "Scientist                                                 0.002331   \n",
       "Security professional                                     0.016949   \n",
       "Senior Executive (C-Suite, VP, etc.)                      0.017544   \n",
       "Student                                                   0.000000   \n",
       "System administrator                                      0.009615   \n",
       "\n",
       "                                               Marketing or sales professional  \\\n",
       "Academic researcher                                                   0.000000   \n",
       "Blockchain                                                            0.000000   \n",
       "Cloud infrastructure engineer                                         0.000000   \n",
       "Data or business analyst                                              0.011976   \n",
       "Data scientist or machine learning specialist                         0.004324   \n",
       "Database administrator                                                0.000000   \n",
       "Designer                                                              0.018519   \n",
       "DevOps specialist                                                     0.000000   \n",
       "Developer, QA or test                                                 0.020833   \n",
       "Developer, back-end                                                   0.001553   \n",
       "Developer, desktop or enterprise applications                         0.005435   \n",
       "Developer, embedded applications or devices                           0.000000   \n",
       "Developer, front-end                                                  0.012346   \n",
       "Developer, full-stack                                                 0.004684   \n",
       "Developer, game or graphics                                           0.000000   \n",
       "Developer, mobile                                                     0.000000   \n",
       "Educator                                                              0.000000   \n",
       "Engineer, data                                                        0.003297   \n",
       "Engineer, site reliability                                            0.000000   \n",
       "Engineering manager                                                   0.000000   \n",
       "Marketing or sales professional                                       1.000000   \n",
       "Product manager                                                       0.019231   \n",
       "Project manager                                                       0.021053   \n",
       "Scientist                                                             0.004988   \n",
       "Security professional                                                 0.031250   \n",
       "Senior Executive (C-Suite, VP, etc.)                                  0.000000   \n",
       "Student                                                               0.000000   \n",
       "System administrator                                                  0.000000   \n",
       "\n",
       "                                               Product manager  \\\n",
       "Academic researcher                                   0.005848   \n",
       "Blockchain                                            0.000000   \n",
       "Cloud infrastructure engineer                         0.024096   \n",
       "Data or business analyst                              0.032305   \n",
       "Data scientist or machine learning specialist         0.012712   \n",
       "Database administrator                                0.005128   \n",
       "Designer                                              0.037975   \n",
       "DevOps specialist                                     0.000000   \n",
       "Developer, QA or test                                 0.027027   \n",
       "Developer, back-end                                   0.007496   \n",
       "Developer, desktop or enterprise applications         0.034146   \n",
       "Developer, embedded applications or devices           0.000000   \n",
       "Developer, front-end                                  0.009259   \n",
       "Developer, full-stack                                 0.013333   \n",
       "Developer, game or graphics                           0.000000   \n",
       "Developer, mobile                                     0.000000   \n",
       "Educator                                              0.008772   \n",
       "Engineer, data                                        0.012931   \n",
       "Engineer, site reliability                            0.014493   \n",
       "Engineering manager                                   0.038961   \n",
       "Marketing or sales professional                       0.019231   \n",
       "Product manager                                       1.000000   \n",
       "Project manager                                       0.050847   \n",
       "Scientist                                             0.004673   \n",
       "Security professional                                 0.016949   \n",
       "Senior Executive (C-Suite, VP, etc.)                  0.000000   \n",
       "Student                                               0.000000   \n",
       "System administrator                                  0.000000   \n",
       "\n",
       "                                               Project manager  Scientist  \\\n",
       "Academic researcher                                   0.026455   0.422131   \n",
       "Blockchain                                            0.010309   0.012531   \n",
       "Cloud infrastructure engineer                         0.004695   0.005803   \n",
       "Data or business analyst                              0.070201   0.022330   \n",
       "Data scientist or machine learning specialist         0.023541   0.099327   \n",
       "Database administrator                                0.030043   0.001835   \n",
       "Designer                                              0.024390   0.016471   \n",
       "DevOps specialist                                     0.006024   0.010684   \n",
       "Developer, QA or test                                 0.016949   0.011876   \n",
       "Developer, back-end                                   0.024320   0.064583   \n",
       "Developer, desktop or enterprise applications         0.040650   0.054409   \n",
       "Developer, embedded applications or devices           0.006849   0.043779   \n",
       "Developer, front-end                                  0.006579   0.013245   \n",
       "Developer, full-stack                                 0.048218   0.045396   \n",
       "Developer, game or graphics                           0.000000   0.007519   \n",
       "Developer, mobile                                     0.000000   0.014493   \n",
       "Educator                                              0.006329   0.099291   \n",
       "Engineer, data                                        0.019689   0.032000   \n",
       "Engineer, site reliability                            0.017857   0.002387   \n",
       "Engineering manager                                   0.024793   0.002331   \n",
       "Marketing or sales professional                       0.021053   0.004988   \n",
       "Product manager                                       0.050847   0.004673   \n",
       "Project manager                                       1.000000   0.019355   \n",
       "Scientist                                             0.019355   1.000000   \n",
       "Security professional                                 0.000000   0.017370   \n",
       "Senior Executive (C-Suite, VP, etc.)                  0.030303   0.007407   \n",
       "Student                                               0.000000   0.037313   \n",
       "System administrator                                  0.034722   0.031746   \n",
       "\n",
       "                                               Security professional  \\\n",
       "Academic researcher                                         0.012500   \n",
       "Blockchain                                                  0.000000   \n",
       "Cloud infrastructure engineer                               0.006711   \n",
       "Data or business analyst                                    0.004412   \n",
       "Data scientist or machine learning specialist               0.009709   \n",
       "Database administrator                                      0.000000   \n",
       "Designer                                                    0.000000   \n",
       "DevOps specialist                                           0.009804   \n",
       "Developer, QA or test                                       0.000000   \n",
       "Developer, back-end                                         0.007728   \n",
       "Developer, desktop or enterprise applications               0.005236   \n",
       "Developer, embedded applications or devices                 0.024691   \n",
       "Developer, front-end                                        0.000000   \n",
       "Developer, full-stack                                       0.009259   \n",
       "Developer, game or graphics                                 0.000000   \n",
       "Developer, mobile                                           0.000000   \n",
       "Educator                                                    0.010638   \n",
       "Engineer, data                                              0.004367   \n",
       "Engineer, site reliability                                  0.000000   \n",
       "Engineering manager                                         0.016949   \n",
       "Marketing or sales professional                             0.031250   \n",
       "Product manager                                             0.016949   \n",
       "Project manager                                             0.000000   \n",
       "Scientist                                                   0.017370   \n",
       "Security professional                                       1.000000   \n",
       "Senior Executive (C-Suite, VP, etc.)                        0.027027   \n",
       "Student                                                     0.000000   \n",
       "System administrator                                        0.000000   \n",
       "\n",
       "                                               Senior Executive (C-Suite, VP, etc.)  \\\n",
       "Academic researcher                                                        0.009404   \n",
       "Blockchain                                                                 0.000000   \n",
       "Cloud infrastructure engineer                                              0.006803   \n",
       "Data or business analyst                                                   0.016418   \n",
       "Data scientist or machine learning specialist                              0.004301   \n",
       "Database administrator                                                     0.011628   \n",
       "Designer                                                                   0.000000   \n",
       "DevOps specialist                                                          0.000000   \n",
       "Developer, QA or test                                                      0.000000   \n",
       "Developer, back-end                                                        0.001541   \n",
       "Developer, desktop or enterprise applications                              0.010638   \n",
       "Developer, embedded applications or devices                                0.000000   \n",
       "Developer, front-end                                                       0.000000   \n",
       "Developer, full-stack                                                      0.023585   \n",
       "Developer, game or graphics                                                0.000000   \n",
       "Developer, mobile                                                          0.000000   \n",
       "Educator                                                                   0.000000   \n",
       "Engineer, data                                                             0.005476   \n",
       "Engineer, site reliability                                                 0.000000   \n",
       "Engineering manager                                                        0.017544   \n",
       "Marketing or sales professional                                            0.000000   \n",
       "Product manager                                                            0.000000   \n",
       "Project manager                                                            0.030303   \n",
       "Scientist                                                                  0.007407   \n",
       "Security professional                                                      0.027027   \n",
       "Senior Executive (C-Suite, VP, etc.)                                       1.000000   \n",
       "Student                                                                    0.000000   \n",
       "System administrator                                                       0.024691   \n",
       "\n",
       "                                                Student  System administrator  \n",
       "Academic researcher                            0.044164              0.030726  \n",
       "Blockchain                                     0.000000              0.012821  \n",
       "Cloud infrastructure engineer                  0.006410              0.015625  \n",
       "Data or business analyst                       0.005831              0.032624  \n",
       "Data scientist or machine learning specialist  0.011803              0.012384  \n",
       "Database administrator                         0.000000              0.067633  \n",
       "Designer                                       0.000000              0.028846  \n",
       "DevOps specialist                              0.000000              0.034965  \n",
       "Developer, QA or test                          0.000000              0.010000  \n",
       "Developer, back-end                            0.003044              0.019006  \n",
       "Developer, desktop or enterprise applications  0.005051              0.048673  \n",
       "Developer, embedded applications or devices    0.000000              0.015873  \n",
       "Developer, front-end                           0.000000              0.007519  \n",
       "Developer, full-stack                          0.006818              0.047930  \n",
       "Developer, game or graphics                    0.026316              0.000000  \n",
       "Developer, mobile                              0.017857              0.000000  \n",
       "Educator                                       0.009901              0.021898  \n",
       "Engineer, data                                 0.005423              0.023330  \n",
       "Engineer, site reliability                     0.000000              0.010638  \n",
       "Engineering manager                            0.000000              0.009615  \n",
       "Marketing or sales professional                0.000000              0.000000  \n",
       "Product manager                                0.000000              0.000000  \n",
       "Project manager                                0.000000              0.034722  \n",
       "Scientist                                      0.037313              0.031746  \n",
       "Security professional                          0.000000              0.000000  \n",
       "Senior Executive (C-Suite, VP, etc.)           0.000000              0.024691  \n",
       "Student                                        1.000000              0.010989  \n",
       "System administrator                           0.010989              1.000000  \n",
       "\n",
       "[28 rows x 28 columns]"
      ]
     },
     "execution_count": 588,
     "metadata": {},
     "output_type": "execute_result"
    }
   ],
   "source": [
    "df_similitud_jaccard"
   ]
  },
  {
   "cell_type": "code",
   "execution_count": 589,
   "metadata": {},
   "outputs": [
    {
     "data": {
      "image/png": "[encoded data removed]",
      "text/plain": [
       "<Figure size 864x864 with 2 Axes>"
      ]
     },
     "metadata": {
      "needs_background": "light"
     },
     "output_type": "display_data"
    }
   ],
   "source": [
    "# Asumiendo que df_similitud_jaccard es el DataFrame que contiene la matriz de similitud de Jaccard\n",
    "plt.figure(figsize=(12, 12))  # Ajusta el tamaño de la figura (ancho, alto) en pulgadas\n",
    "sns.heatmap(df_similitud_jaccard, annot=False, cmap=\"coolwarm\", vmin=0, vmax=1)\n",
    "\n",
    "plt.title(\"Matriz de similitud de Jaccard\")\n",
    "\n",
    "plt.savefig(\"../paper/data-preparation/train/jaccard-jobs.pdf\");"
   ]
  },
  {
   "cell_type": "code",
   "execution_count": 590,
   "metadata": {},
   "outputs": [
    {
     "data": {
      "text/plain": [
       "\"import pandas as pd\\nfrom sklearn.feature_extraction.text import CountVectorizer\\n\\n# Suponiendo que tu DataFrame se llama wdf y tiene una columna llamada 'Job_title'\\njob_titles = wdf['Job_title']\\n\\n# Creamos una instancia de CountVectorizer con el patrón de token adecuado para separar los títulos de trabajo\\nvectorizer = CountVectorizer(token_pattern=r'[^;]+')\\n\\n# Ajustamos y transformamos la columna 'Job_title'\\njob_title_vectors = vectorizer.fit_transform(job_titles)\\n\\n# Muestra el vocabulario\\nprint(vectorizer.vocabulary_)\""
      ]
     },
     "execution_count": 590,
     "metadata": {},
     "output_type": "execute_result"
    }
   ],
   "source": [
    "# Another similar approach: Splitting Job_Title using CountVectorizer\n",
    "'''import pandas as pd\n",
    "from sklearn.feature_extraction.text import CountVectorizer\n",
    "\n",
    "# Suponiendo que tu DataFrame se llama wdf y tiene una columna llamada 'Job_title'\n",
    "job_titles = wdf['Job_title']\n",
    "\n",
    "# Creamos una instancia de CountVectorizer con el patrón de token adecuado para separar los títulos de trabajo\n",
    "vectorizer = CountVectorizer(token_pattern=r'[^;]+')\n",
    "\n",
    "# Ajustamos y transformamos la columna 'Job_title'\n",
    "job_title_vectors = vectorizer.fit_transform(job_titles)\n",
    "\n",
    "# Muestra el vocabulario\n",
    "print(vectorizer.vocabulary_)'''"
   ]
  },
  {
   "cell_type": "code",
   "execution_count": 591,
   "metadata": {},
   "outputs": [
    {
     "data": {
      "text/plain": [
       "'job_title_vectors'"
      ]
     },
     "execution_count": 591,
     "metadata": {},
     "output_type": "execute_result"
    }
   ],
   "source": [
    "'''job_title_vectors'''"
   ]
  },
  {
   "cell_type": "markdown",
   "metadata": {},
   "source": [
    "- **Objective**\n",
    "\n",
    "Clean and structure the 'Job_title' column for better analysis and understanding of job titles especially focusing on AI/ML related fields.\n",
    "\n",
    "- **Approach**\n",
    "    - **Identifying Unique Job Titles**: Iterated over the 'Job_title' column to create a list of unique job titles excluding 'Other (please specify):'.\n",
    "    - **Filtering AI/ML Fields**: Created a function to identify rows with AI/ML related fields and retained only those rows in the data frame.\n",
    "    - **Cleaning Job Titles**: Developed a function to clean the 'Job_title' entries by removing unnecessary parts and formatting the entries for uniformity. This includes sorting the job titles alphabetically and joining them with semicolons.\n",
    "    - **One-Hot Encoding**: Expanded the unique job titles into separate columns using one-hot encoding for each job title present in the data frame.\n",
    "    - **Jaccard Similarity Matrix**: Utilized the Jaccard similarity metric to find the similarity between different job titles and visualized it using a heatmap.\n",
    "    \n",
    "\n",
    "- **Outcome**\n",
    "\n",
    "    - **Cleaned Job Titles**: The 'Job_title' column was streamlined with cleaned, sorted, and uniquely identified job titles.\n",
    "    - **Focused Data Frame**: The data frame now mainly includes entries with AI/ML related fields, facilitating focused analysis.\n",
    "    - **Similarity Insights**: The heatmap based on Jaccard similarity provides insights into the relationships between different job titles, aiding in understanding commonalities and differences in the roles. "
   ]
  },
  {
   "attachments": {},
   "cell_type": "markdown",
   "metadata": {},
   "source": [
    "## Missing values\n",
    "\n",
    "### Overview"
   ]
  },
  {
   "cell_type": "code",
   "execution_count": 592,
   "metadata": {},
   "outputs": [
    {
     "data": {
      "text/plain": [
       "Job_type                                           0\n",
       "Remote_work                                        0\n",
       "Coding_as_hobby                                    0\n",
       "Education                                          0\n",
       "Certifications                                     0\n",
       "Job_title                                          0\n",
       "Company_size                                      41\n",
       "Country                                            0\n",
       "Age                                                7\n",
       "Gender                                            13\n",
       "Sexual_orientation                                74\n",
       "Ethnicity                                         38\n",
       "Physical_disability                                0\n",
       "Mental_disability                                  0\n",
       "Work_experience                                  673\n",
       "Coding_experience                                  9\n",
       "Annual_salary                                      0\n",
       "Academic researcher                                0\n",
       "Blockchain                                         0\n",
       "Cloud infrastructure engineer                      0\n",
       "Data or business analyst                           0\n",
       "Data scientist or machine learning specialist      0\n",
       "Database administrator                             0\n",
       "Designer                                           0\n",
       "DevOps specialist                                  0\n",
       "Developer, QA or test                              0\n",
       "Developer, back-end                                0\n",
       "Developer, desktop or enterprise applications      0\n",
       "Developer, embedded applications or devices        0\n",
       "Developer, front-end                               0\n",
       "Developer, full-stack                              0\n",
       "Developer, game or graphics                        0\n",
       "Developer, mobile                                  0\n",
       "Educator                                           0\n",
       "Engineer, data                                     0\n",
       "Engineer, site reliability                         0\n",
       "Engineering manager                                0\n",
       "Marketing or sales professional                    0\n",
       "Product manager                                    0\n",
       "Project manager                                    0\n",
       "Scientist                                          0\n",
       "Security professional                              0\n",
       "Senior Executive (C-Suite, VP, etc.)               0\n",
       "Student                                            0\n",
       "System administrator                               0\n",
       "dtype: int64"
      ]
     },
     "execution_count": 592,
     "metadata": {},
     "output_type": "execute_result"
    }
   ],
   "source": [
    "wdf_extended.isna().sum() # The missing values in the 'Experience' should be imputed, they're a lot and its valuable data"
   ]
  },
  {
   "attachments": {},
   "cell_type": "markdown",
   "metadata": {},
   "source": [
    "### Imputation strategies for each column \n",
    "\n"
   ]
  },
  {
   "cell_type": "markdown",
   "metadata": {},
   "source": [
    "#### `Company_size`\n",
    "\n",
    "Since `Company_size` is a categorical variable and has a relatively small number of missing values, you can use the mode (the most common value) to impute the missing values"
   ]
  },
  {
   "cell_type": "code",
   "execution_count": 593,
   "metadata": {},
   "outputs": [],
   "source": [
    "wdf_extended['Company_size'].fillna(wdf_extended['Company_size'].mode()[0], inplace=True)"
   ]
  },
  {
   "cell_type": "code",
   "execution_count": 594,
   "metadata": {},
   "outputs": [],
   "source": [
    "# You could also use the following code to impute the missing values but there is no mode for all the combinations of Job_title and Country\n",
    "\n",
    "# wdf_extended['Company_size'] = wdf_extended.groupby(['Job_title', 'Country'])['Company_size'].apply(lambda x: x.fillna(x.mode().iloc[0]))"
   ]
  },
  {
   "attachments": {},
   "cell_type": "markdown",
   "metadata": {},
   "source": [
    "\n",
    "#### `Age`\n",
    "`Age` have only 9 missing values, so we will drop them."
   ]
  },
  {
   "cell_type": "code",
   "execution_count": 595,
   "metadata": {},
   "outputs": [],
   "source": [
    "# we will drop the rows with missing values in the 'Age' column\n",
    "\n",
    "wdf_extended.dropna(subset=['Age'], inplace=True)"
   ]
  },
  {
   "attachments": {},
   "cell_type": "markdown",
   "metadata": {},
   "source": [
    "#### `Coding_Experience`\n",
    "\n",
    "Since `Coding_Experience` is a categorical variable and has a relatively small number of missing values, you can use the mode (the most common value) to impute the missing values\n",
    "It also has only 9 missing values, so same process as `Age`"
   ]
  },
  {
   "cell_type": "code",
   "execution_count": 596,
   "metadata": {},
   "outputs": [
    {
     "data": {
      "text/plain": [
       "Job_type                                           0\n",
       "Remote_work                                        0\n",
       "Coding_as_hobby                                    0\n",
       "Education                                          0\n",
       "Certifications                                     0\n",
       "Job_title                                          0\n",
       "Company_size                                       0\n",
       "Country                                            0\n",
       "Age                                                0\n",
       "Gender                                             8\n",
       "Sexual_orientation                                69\n",
       "Ethnicity                                         33\n",
       "Physical_disability                                0\n",
       "Mental_disability                                  0\n",
       "Work_experience                                  669\n",
       "Coding_experience                                  9\n",
       "Annual_salary                                      0\n",
       "Academic researcher                                0\n",
       "Blockchain                                         0\n",
       "Cloud infrastructure engineer                      0\n",
       "Data or business analyst                           0\n",
       "Data scientist or machine learning specialist      0\n",
       "Database administrator                             0\n",
       "Designer                                           0\n",
       "DevOps specialist                                  0\n",
       "Developer, QA or test                              0\n",
       "Developer, back-end                                0\n",
       "Developer, desktop or enterprise applications      0\n",
       "Developer, embedded applications or devices        0\n",
       "Developer, front-end                               0\n",
       "Developer, full-stack                              0\n",
       "Developer, game or graphics                        0\n",
       "Developer, mobile                                  0\n",
       "Educator                                           0\n",
       "Engineer, data                                     0\n",
       "Engineer, site reliability                         0\n",
       "Engineering manager                                0\n",
       "Marketing or sales professional                    0\n",
       "Product manager                                    0\n",
       "Project manager                                    0\n",
       "Scientist                                          0\n",
       "Security professional                              0\n",
       "Senior Executive (C-Suite, VP, etc.)               0\n",
       "Student                                            0\n",
       "System administrator                               0\n",
       "dtype: int64"
      ]
     },
     "execution_count": 596,
     "metadata": {},
     "output_type": "execute_result"
    }
   ],
   "source": [
    "wdf_extended.isnull().sum()"
   ]
  },
  {
   "cell_type": "code",
   "execution_count": 597,
   "metadata": {},
   "outputs": [],
   "source": [
    "# we will drop the rows with missing values in the 'Coding_experience' column\n",
    "\n",
    "wdf_extended.dropna(subset=['Coding_experience'], inplace=True)"
   ]
  },
  {
   "cell_type": "code",
   "execution_count": 598,
   "metadata": {},
   "outputs": [
    {
     "data": {
      "text/plain": [
       "array(['5', '3', '6', '10', 'Less than 1 year', '26', '15', '9', '28',\n",
       "       '2', '1', '4', '24', '30', '12', '25', '18', '17', '8', '35', '14',\n",
       "       '11', '7', '20', '40', '16', '19', '38', '13', '31', '37', '27',\n",
       "       '22', '21', '23', '41', '46', '34', '32', '42', '50', '45',\n",
       "       'More than 50 years', '36', '29', '33', '48', '43'], dtype=object)"
      ]
     },
     "execution_count": 598,
     "metadata": {},
     "output_type": "execute_result"
    }
   ],
   "source": [
    "wdf_extended.Coding_experience.unique()"
   ]
  },
  {
   "cell_type": "code",
   "execution_count": 599,
   "metadata": {},
   "outputs": [
    {
     "data": {
      "text/plain": [
       "array([ 5. ,  3. ,  6. , 10. ,  0.5, 26. , 15. ,  9. , 28. ,  2. ,  1. ,\n",
       "        4. , 24. , 30. , 12. , 25. , 18. , 17. ,  8. , 35. , 14. , 11. ,\n",
       "        7. , 20. , 40. , 16. , 19. , 38. , 13. , 31. , 37. , 27. , 22. ,\n",
       "       21. , 23. , 41. , 46. , 34. , 32. , 42. , 50. , 45. , 51. , 36. ,\n",
       "       29. , 33. , 48. , 43. ])"
      ]
     },
     "execution_count": 599,
     "metadata": {},
     "output_type": "execute_result"
    }
   ],
   "source": [
    "wdf_extended['Coding_experience'] = pd.to_numeric(wdf_extended['Coding_experience'].replace({'Less than 1 year': 0.5, 'More than 50 years': 51}), errors='coerce')\n",
    "wdf_extended.Coding_experience.unique()"
   ]
  },
  {
   "attachments": {},
   "cell_type": "markdown",
   "metadata": {},
   "source": [
    "#### `Gender` \n",
    "\n",
    "`Gender` is a categorical variable, and you can use the mode grouped by `Job_title` or `Country`, assuming that these features may have an influence on the gender.\n",
    "\n"
   ]
  },
  {
   "cell_type": "code",
   "execution_count": 600,
   "metadata": {},
   "outputs": [],
   "source": [
    "wdf_extended['Gender'] = wdf_extended.groupby('Country')['Gender'].apply(lambda x: x.fillna(x.mode().iloc[0])) # with Job_title and Country there's no mode"
   ]
  },
  {
   "attachments": {},
   "cell_type": "markdown",
   "metadata": {},
   "source": [
    "\n",
    "#### `Sexual_orientation` \n",
    "\n",
    "Since `Sexual_orientation` is a categorical variable and has a significant number of missing values, you can create a new category called \"Unknown\" to represent the missing values.\n",
    "\n"
   ]
  },
  {
   "cell_type": "code",
   "execution_count": 601,
   "metadata": {},
   "outputs": [
    {
     "data": {
      "text/plain": [
       "array(['Bisexual', 'Straight / Heterosexual', 'Prefer not to say',\n",
       "       'Unknown', 'Gay or Lesbian', 'Queer'], dtype=object)"
      ]
     },
     "execution_count": 601,
     "metadata": {},
     "output_type": "execute_result"
    }
   ],
   "source": [
    "wdf_extended['Sexual_orientation'].fillna('Unknown', inplace=True)\n",
    "wdf_extended['Sexual_orientation'].unique()"
   ]
  },
  {
   "attachments": {},
   "cell_type": "markdown",
   "metadata": {},
   "source": [
    "#### `Ethnicity`\n",
    "\n",
    "`Ethnicity` is a categorical variable, and you can use the mode grouped by `Country`, assuming that the country of origin may have an influence on the ethnicity.\n"
   ]
  },
  {
   "cell_type": "code",
   "execution_count": 602,
   "metadata": {},
   "outputs": [
    {
     "data": {
      "text/plain": [
       "32"
      ]
     },
     "execution_count": 602,
     "metadata": {},
     "output_type": "execute_result"
    }
   ],
   "source": [
    "wdf_extended['Ethnicity'].isna().sum()"
   ]
  },
  {
   "cell_type": "code",
   "execution_count": 603,
   "metadata": {},
   "outputs": [],
   "source": [
    "# For Train data we can use this code:\n",
    "wdf_extended['Ethnicity'] = wdf_extended.groupby('Country')['Ethnicity'].apply(lambda x: x.fillna(x.mode().iloc[0]))"
   ]
  },
  {
   "cell_type": "code",
   "execution_count": 604,
   "metadata": {},
   "outputs": [
    {
     "data": {
      "text/plain": [
       "\"# Getting the mode of the entire 'Ethnicity' column to use as a fallback\\nglobal_mode = wdf_extended['Ethnicity'].mode().iloc[0]\\n\\n# Define a function to fill NaN values with the mode of the group\\n# If the group has no mode (all unique values or all NaNs), it uses the global mode\\ndef fillna_with_mode(x):\\n    # Check if the mode series is empty (no mode found in the group)\\n    if x.mode().shape[0] == 0:\\n        # If the mode series is empty, fill NaNs with the global mode\\n        return x.fillna(global_mode)\\n    else:\\n        # If a mode is found in the group, fill NaNs with the mode of the group\\n        return x.fillna(x.mode().iloc[0])\\n\\n# Apply the function to each group formed by 'groupby('Country')'\\n# and assign the result back to the 'Ethnicity' column\\nwdf_extended['Ethnicity'] = wdf_extended.groupby('Country')['Ethnicity'].apply(fillna_with_mode)\""
      ]
     },
     "execution_count": 604,
     "metadata": {},
     "output_type": "execute_result"
    }
   ],
   "source": [
    "# For test data use this:\n",
    "\n",
    "\"\"\"# Getting the mode of the entire 'Ethnicity' column to use as a fallback\n",
    "global_mode = wdf_extended['Ethnicity'].mode().iloc[0]\n",
    "\n",
    "# Define a function to fill NaN values with the mode of the group\n",
    "# If the group has no mode (all unique values or all NaNs), it uses the global mode\n",
    "def fillna_with_mode(x):\n",
    "    # Check if the mode series is empty (no mode found in the group)\n",
    "    if x.mode().shape[0] == 0:\n",
    "        # If the mode series is empty, fill NaNs with the global mode\n",
    "        return x.fillna(global_mode)\n",
    "    else:\n",
    "        # If a mode is found in the group, fill NaNs with the mode of the group\n",
    "        return x.fillna(x.mode().iloc[0])\n",
    "\n",
    "# Apply the function to each group formed by 'groupby('Country')'\n",
    "# and assign the result back to the 'Ethnicity' column\n",
    "wdf_extended['Ethnicity'] = wdf_extended.groupby('Country')['Ethnicity'].apply(fillna_with_mode)\"\"\"\n"
   ]
  },
  {
   "attachments": {},
   "cell_type": "markdown",
   "metadata": {},
   "source": [
    "\n",
    "#### `Work_Exp`\n",
    "\n",
    "Since `Experience` is a numeric variable and has a significant number of missing values (1/3 of the total rows), I recommend using a more advanced approach like KNN Imputer. KNN Imputer uses the k-nearest neighbors to estimate the missing values."
   ]
  },
  {
   "cell_type": "code",
   "execution_count": 605,
   "metadata": {},
   "outputs": [],
   "source": [
    "wdf_before_kNNImputer = wdf_extended.copy()"
   ]
  },
  {
   "cell_type": "code",
   "execution_count": 606,
   "metadata": {},
   "outputs": [
    {
     "data": {
      "text/plain": [
       "(2244, 45)"
      ]
     },
     "execution_count": 606,
     "metadata": {},
     "output_type": "execute_result"
    }
   ],
   "source": [
    "wdf_before_kNNImputer.shape"
   ]
  },
  {
   "cell_type": "code",
   "execution_count": 607,
   "metadata": {},
   "outputs": [
    {
     "name": "stdout",
     "output_type": "stream",
     "text": [
      "<class 'pandas.core.frame.DataFrame'>\n",
      "Int64Index: 2244 entries, 0 to 26704\n",
      "Data columns (total 45 columns):\n",
      " #   Column                                         Non-Null Count  Dtype  \n",
      "---  ------                                         --------------  -----  \n",
      " 0   Job_type                                       2244 non-null   object \n",
      " 1   Remote_work                                    2244 non-null   object \n",
      " 2   Coding_as_hobby                                2244 non-null   object \n",
      " 3   Education                                      2244 non-null   object \n",
      " 4   Certifications                                 2244 non-null   object \n",
      " 5   Job_title                                      2244 non-null   object \n",
      " 6   Company_size                                   2244 non-null   object \n",
      " 7   Country                                        2244 non-null   object \n",
      " 8   Age                                            2244 non-null   object \n",
      " 9   Gender                                         2244 non-null   object \n",
      " 10  Sexual_orientation                             2244 non-null   object \n",
      " 11  Ethnicity                                      2244 non-null   object \n",
      " 12  Physical_disability                            2244 non-null   object \n",
      " 13  Mental_disability                              2244 non-null   object \n",
      " 14  Work_experience                                1579 non-null   float64\n",
      " 15  Coding_experience                              2244 non-null   float64\n",
      " 16  Annual_salary                                  2244 non-null   float64\n",
      " 17  Academic researcher                            2244 non-null   int64  \n",
      " 18  Blockchain                                     2244 non-null   int64  \n",
      " 19  Cloud infrastructure engineer                  2244 non-null   int64  \n",
      " 20  Data or business analyst                       2244 non-null   int64  \n",
      " 21  Data scientist or machine learning specialist  2244 non-null   int64  \n",
      " 22  Database administrator                         2244 non-null   int64  \n",
      " 23  Designer                                       2244 non-null   int64  \n",
      " 24  DevOps specialist                              2244 non-null   int64  \n",
      " 25  Developer, QA or test                          2244 non-null   int64  \n",
      " 26  Developer, back-end                            2244 non-null   int64  \n",
      " 27  Developer, desktop or enterprise applications  2244 non-null   int64  \n",
      " 28  Developer, embedded applications or devices    2244 non-null   int64  \n",
      " 29  Developer, front-end                           2244 non-null   int64  \n",
      " 30  Developer, full-stack                          2244 non-null   int64  \n",
      " 31  Developer, game or graphics                    2244 non-null   int64  \n",
      " 32  Developer, mobile                              2244 non-null   int64  \n",
      " 33  Educator                                       2244 non-null   int64  \n",
      " 34  Engineer, data                                 2244 non-null   int64  \n",
      " 35  Engineer, site reliability                     2244 non-null   int64  \n",
      " 36  Engineering manager                            2244 non-null   int64  \n",
      " 37  Marketing or sales professional                2244 non-null   int64  \n",
      " 38  Product manager                                2244 non-null   int64  \n",
      " 39  Project manager                                2244 non-null   int64  \n",
      " 40  Scientist                                      2244 non-null   int64  \n",
      " 41  Security professional                          2244 non-null   int64  \n",
      " 42  Senior Executive (C-Suite, VP, etc.)           2244 non-null   int64  \n",
      " 43  Student                                        2244 non-null   int64  \n",
      " 44  System administrator                           2244 non-null   int64  \n",
      "dtypes: float64(3), int64(28), object(14)\n",
      "memory usage: 806.4+ KB\n"
     ]
    }
   ],
   "source": [
    "wdf_before_kNNImputer.info()"
   ]
  },
  {
   "cell_type": "code",
   "execution_count": 608,
   "metadata": {},
   "outputs": [
    {
     "name": "stdout",
     "output_type": "stream",
     "text": [
      "Number of imputed values: 665\n",
      "Number of unique imputed values: 140\n"
     ]
    }
   ],
   "source": [
    "import pandas as pd\n",
    "import numpy as np\n",
    "from sklearn.compose import ColumnTransformer\n",
    "from sklearn.pipeline import Pipeline\n",
    "from sklearn.preprocessing import OrdinalEncoder, OneHotEncoder\n",
    "from sklearn.impute import KNNImputer\n",
    "\n",
    "# Define ordinal cols and order\n",
    "ordinal_columns = ['Education', 'Company_size', 'Age', 'Coding_as_hobby', 'Certifications']\n",
    "ordinal_categories = [\n",
    "    ['Less than a Bachelor\\'s', 'Bachelor\\'s degree', 'Master\\'s degree', 'Post grad'],\n",
    "    ['XS', 'S', 'M', 'L', 'XL'],\n",
    "    ['Prefer not to say','Under 18 years old', '18-24 years old', '25-34 years old', '35-44 years old', '45-54 years old', '55-64 years old', '65 years or older'],\n",
    "    ['no', 'yes'],\n",
    "    ['no', 'yes']\n",
    "]\n",
    "\n",
    "# Define one-hot cols\n",
    "onehot_columns = ['Job_type', 'Remote_work', 'Gender', 'Sexual_orientation', 'Ethnicity', 'Physical_disability', 'Mental_disability']\n",
    "\n",
    "# set transformations\n",
    "ordinal_transformer = OrdinalEncoder(categories=ordinal_categories)\n",
    "onehot_transformer = OneHotEncoder(sparse=False)\n",
    "\n",
    "# Adjust and transform ordinal cols\n",
    "wdf_extended_ordinal_transformed = ordinal_transformer.fit_transform(wdf_extended[ordinal_columns])\n",
    "\n",
    "# Adjust and transform one-hot cols \n",
    "wdf_extended_onehot_transformed = onehot_transformer.fit_transform(wdf_extended[onehot_columns])\n",
    "\n",
    "# Concatenate\n",
    "wdf_extended_transformed = np.hstack([wdf_extended_ordinal_transformed, wdf_extended_onehot_transformed])\n",
    "\n",
    "# Create a KNNImputer\n",
    "knn_imputer = KNNImputer(n_neighbors=5)\n",
    "\n",
    "# Impute missing values from 'Experience' using transformed characteristics\n",
    "experience_transformed = knn_imputer.fit_transform(np.hstack([wdf_extended_transformed, wdf_extended['Work_experience'].values.reshape(-1, 1)]))\n",
    "\n",
    "# Rounding\n",
    "experience_imputed_rounded = np.round(experience_transformed[:, -1], 1)\n",
    "\n",
    "# Replace with imputed values\n",
    "wdf_extended['Work_experience'] = experience_imputed_rounded\n",
    "\n",
    "# Reverse one-hot transformations\n",
    "wdf_extended.loc[:, onehot_columns] = onehot_transformer.inverse_transform(wdf_extended_onehot_transformed)\n",
    "\n",
    "#wdf_extended.reset_index(drop=True, inplace=True)\n",
    "\n",
    "# Correct comparison\n",
    "comparison = pd.DataFrame({'Original': wdf_before_kNNImputer['Work_experience'], 'Imputed': wdf_extended['Work_experience']})\n",
    "comparison['Difference'] = comparison.apply(lambda row: pd.isna(row['Original']) and not pd.isna(row['Imputed']), axis=1)\n",
    "\n",
    "imputed_values = comparison[comparison['Difference']]\n",
    "\n",
    "num_imputed_values = len(imputed_values)\n",
    "unique_imputed_values = imputed_values['Imputed'].nunique()\n",
    "\n",
    "print(f\"Number of imputed values: {num_imputed_values}\")\n",
    "print(f\"Number of unique imputed values: {unique_imputed_values}\")"
   ]
  },
  {
   "cell_type": "code",
   "execution_count": 609,
   "metadata": {},
   "outputs": [
    {
     "data": {
      "text/html": [
       "<div>\n",
       "<style scoped>\n",
       "    .dataframe tbody tr th:only-of-type {\n",
       "        vertical-align: middle;\n",
       "    }\n",
       "\n",
       "    .dataframe tbody tr th {\n",
       "        vertical-align: top;\n",
       "    }\n",
       "\n",
       "    .dataframe thead th {\n",
       "        text-align: right;\n",
       "    }\n",
       "</style>\n",
       "<table border=\"1\" class=\"dataframe\">\n",
       "  <thead>\n",
       "    <tr style=\"text-align: right;\">\n",
       "      <th></th>\n",
       "      <th>Age</th>\n",
       "      <th>Work_experience</th>\n",
       "    </tr>\n",
       "  </thead>\n",
       "  <tbody>\n",
       "    <tr>\n",
       "      <th>9803</th>\n",
       "      <td>18-24 years old</td>\n",
       "      <td>4.4</td>\n",
       "    </tr>\n",
       "    <tr>\n",
       "      <th>4825</th>\n",
       "      <td>18-24 years old</td>\n",
       "      <td>4.0</td>\n",
       "    </tr>\n",
       "    <tr>\n",
       "      <th>6322</th>\n",
       "      <td>55-64 years old</td>\n",
       "      <td>26.8</td>\n",
       "    </tr>\n",
       "    <tr>\n",
       "      <th>16754</th>\n",
       "      <td>25-34 years old</td>\n",
       "      <td>4.2</td>\n",
       "    </tr>\n",
       "    <tr>\n",
       "      <th>2664</th>\n",
       "      <td>25-34 years old</td>\n",
       "      <td>6.0</td>\n",
       "    </tr>\n",
       "    <tr>\n",
       "      <th>9464</th>\n",
       "      <td>25-34 years old</td>\n",
       "      <td>6.4</td>\n",
       "    </tr>\n",
       "    <tr>\n",
       "      <th>21834</th>\n",
       "      <td>25-34 years old</td>\n",
       "      <td>6.2</td>\n",
       "    </tr>\n",
       "    <tr>\n",
       "      <th>20742</th>\n",
       "      <td>25-34 years old</td>\n",
       "      <td>7.2</td>\n",
       "    </tr>\n",
       "    <tr>\n",
       "      <th>20142</th>\n",
       "      <td>25-34 years old</td>\n",
       "      <td>4.8</td>\n",
       "    </tr>\n",
       "    <tr>\n",
       "      <th>3105</th>\n",
       "      <td>25-34 years old</td>\n",
       "      <td>9.0</td>\n",
       "    </tr>\n",
       "    <tr>\n",
       "      <th>1861</th>\n",
       "      <td>25-34 years old</td>\n",
       "      <td>6.2</td>\n",
       "    </tr>\n",
       "    <tr>\n",
       "      <th>20735</th>\n",
       "      <td>35-44 years old</td>\n",
       "      <td>11.8</td>\n",
       "    </tr>\n",
       "    <tr>\n",
       "      <th>23921</th>\n",
       "      <td>18-24 years old</td>\n",
       "      <td>3.4</td>\n",
       "    </tr>\n",
       "    <tr>\n",
       "      <th>944</th>\n",
       "      <td>18-24 years old</td>\n",
       "      <td>5.2</td>\n",
       "    </tr>\n",
       "    <tr>\n",
       "      <th>2947</th>\n",
       "      <td>25-34 years old</td>\n",
       "      <td>4.0</td>\n",
       "    </tr>\n",
       "    <tr>\n",
       "      <th>12560</th>\n",
       "      <td>35-44 years old</td>\n",
       "      <td>11.8</td>\n",
       "    </tr>\n",
       "    <tr>\n",
       "      <th>12020</th>\n",
       "      <td>35-44 years old</td>\n",
       "      <td>10.0</td>\n",
       "    </tr>\n",
       "    <tr>\n",
       "      <th>19936</th>\n",
       "      <td>25-34 years old</td>\n",
       "      <td>4.0</td>\n",
       "    </tr>\n",
       "    <tr>\n",
       "      <th>2820</th>\n",
       "      <td>25-34 years old</td>\n",
       "      <td>4.2</td>\n",
       "    </tr>\n",
       "    <tr>\n",
       "      <th>9220</th>\n",
       "      <td>35-44 years old</td>\n",
       "      <td>6.6</td>\n",
       "    </tr>\n",
       "  </tbody>\n",
       "</table>\n",
       "</div>"
      ],
      "text/plain": [
       "                   Age  Work_experience\n",
       "9803   18-24 years old              4.4\n",
       "4825   18-24 years old              4.0\n",
       "6322   55-64 years old             26.8\n",
       "16754  25-34 years old              4.2\n",
       "2664   25-34 years old              6.0\n",
       "9464   25-34 years old              6.4\n",
       "21834  25-34 years old              6.2\n",
       "20742  25-34 years old              7.2\n",
       "20142  25-34 years old              4.8\n",
       "3105   25-34 years old              9.0\n",
       "1861   25-34 years old              6.2\n",
       "20735  35-44 years old             11.8\n",
       "23921  18-24 years old              3.4\n",
       "944    18-24 years old              5.2\n",
       "2947   25-34 years old              4.0\n",
       "12560  35-44 years old             11.8\n",
       "12020  35-44 years old             10.0\n",
       "19936  25-34 years old              4.0\n",
       "2820   25-34 years old              4.2\n",
       "9220   35-44 years old              6.6"
      ]
     },
     "execution_count": 609,
     "metadata": {},
     "output_type": "execute_result"
    }
   ],
   "source": [
    "# Makes sense?:\n",
    "wdf_extended.loc[imputed_values.index, ['Age','Work_experience']].sample(20)"
   ]
  },
  {
   "cell_type": "code",
   "execution_count": 610,
   "metadata": {},
   "outputs": [
    {
     "data": {
      "text/plain": [
       "0"
      ]
     },
     "execution_count": 610,
     "metadata": {},
     "output_type": "execute_result"
    }
   ],
   "source": [
    "wdf_extended.isna().any().sum()"
   ]
  },
  {
   "cell_type": "code",
   "execution_count": 611,
   "metadata": {},
   "outputs": [
    {
     "name": "stdout",
     "output_type": "stream",
     "text": [
      "<class 'pandas.core.series.Series'>\n",
      "Int64Index: 2244 entries, 0 to 26704\n",
      "Series name: Annual_salary\n",
      "Non-Null Count  Dtype  \n",
      "--------------  -----  \n",
      "2244 non-null   float64\n",
      "dtypes: float64(1)\n",
      "memory usage: 99.6 KB\n"
     ]
    }
   ],
   "source": [
    "wdf_extended.Annual_salary.info()"
   ]
  },
  {
   "attachments": {},
   "cell_type": "markdown",
   "metadata": {},
   "source": [
    "To see how the encoded dataset looks like"
   ]
  },
  {
   "cell_type": "code",
   "execution_count": 612,
   "metadata": {},
   "outputs": [
    {
     "name": "stdout",
     "output_type": "stream",
     "text": [
      "(2244, 76)\n"
     ]
    }
   ],
   "source": [
    "# Crear un DataFrame para las columnas ordinales transformadas\n",
    "wdf_extended_ordinal_transformed_df = pd.DataFrame(wdf_extended_ordinal_transformed, columns=ordinal_columns)\n",
    "\n",
    "# Obtener los nombres de las nuevas columnas generadas por el OneHotEncoder\n",
    "onehot_transformer_columns = onehot_transformer.get_feature_names_out(onehot_columns)\n",
    "\n",
    "# Crear un DataFrame para las columnas one-hot transformadas\n",
    "wdf_extended_onehot_transformed_df = pd.DataFrame(wdf_extended_onehot_transformed, columns=onehot_transformer_columns)\n",
    "\n",
    "# Restablecer los índices de todos los DataFrames\n",
    "wdf_extended_ordinal_transformed_df.reset_index(drop=True, inplace=True)\n",
    "wdf_extended_onehot_transformed_df.reset_index(drop=True, inplace=True)\n",
    "wdf_extended['Work_experience'].reset_index(drop=True, inplace=True)\n",
    "wdf_extended['Coding_experience'].reset_index(drop=True, inplace=True)\n",
    "wdf_extended['Country'].reset_index(drop=True, inplace=True)\n",
    "\n",
    "# Añadir la siguiente línea después de restablecer los índices de todos los DataFrames\n",
    "wdf_extended['Annual_salary'].reset_index(drop=True, inplace=True)\n",
    "job_title_dummies.reset_index(drop=True, inplace=True)\n",
    "\n",
    "# Concatenar los DataFrames transformados y la columna 'Experience'\n",
    "wdf_extended_full_encoded = pd.concat([wdf_extended_ordinal_transformed_df, wdf_extended_onehot_transformed_df, job_title_dummies, \n",
    "                                           wdf_extended['Work_experience'],wdf_extended['Coding_experience'],\n",
    "                                           wdf_extended['Annual_salary'], wdf_extended['Country']], axis=1)\n",
    "\n",
    "# Job_title_dummies has 22 rows more, consequently, some NANs were generated. Let's drop all NAN rows:\n",
    "\n",
    "wdf_extended_full_encoded.dropna(inplace=True)\n",
    "\n",
    "# Verificar la forma del DataFrame transformado completo\n",
    "print(wdf_extended_full_encoded.shape)"
   ]
  },
  {
   "cell_type": "code",
   "execution_count": 613,
   "metadata": {},
   "outputs": [
    {
     "data": {
      "text/plain": [
       "0      5.0\n",
       "3      3.0\n",
       "10     5.0\n",
       "35     6.0\n",
       "56    10.0\n",
       "Name: Coding_experience, dtype: float64"
      ]
     },
     "execution_count": 613,
     "metadata": {},
     "output_type": "execute_result"
    }
   ],
   "source": [
    "wdf_before_kNNImputer.Coding_experience.head()"
   ]
  },
  {
   "cell_type": "code",
   "execution_count": 614,
   "metadata": {},
   "outputs": [
    {
     "data": {
      "text/plain": [
       "0     5.0\n",
       "1     3.0\n",
       "2     5.0\n",
       "3     6.0\n",
       "4    10.0\n",
       "Name: Coding_experience, dtype: float64"
      ]
     },
     "execution_count": 614,
     "metadata": {},
     "output_type": "execute_result"
    }
   ],
   "source": [
    "wdf_extended_full_encoded.Coding_experience.head()"
   ]
  },
  {
   "attachments": {},
   "cell_type": "markdown",
   "metadata": {},
   "source": [
    "## Save the encoded dataset"
   ]
  },
  {
   "cell_type": "code",
   "execution_count": 615,
   "metadata": {},
   "outputs": [
    {
     "data": {
      "text/plain": [
       "Education               0\n",
       "Company_size            0\n",
       "Age                     0\n",
       "Coding_as_hobby         0\n",
       "Certifications          0\n",
       "                       ..\n",
       "System administrator    0\n",
       "Work_experience         0\n",
       "Coding_experience       0\n",
       "Annual_salary           0\n",
       "Country                 0\n",
       "Length: 76, dtype: int64"
      ]
     },
     "execution_count": 615,
     "metadata": {},
     "output_type": "execute_result"
    }
   ],
   "source": [
    "wdf_extended_full_encoded.isnull().sum()"
   ]
  },
  {
   "cell_type": "code",
   "execution_count": 616,
   "metadata": {},
   "outputs": [],
   "source": [
    "import os\n",
    "\n",
    "# ...\n",
    "\n",
    "clean_and_encoded_df = wdf_extended_full_encoded.copy()\n",
    "clean_and_encoded_df.to_csv('../output/clean_train_df.csv', index=False)\n",
    "\n",
    "clean_and_encoded_df.to_csv('../input/clean_train_df.csv', index=False)\n",
    "\n",
    "# Save in Baseline models folder\n",
    "# baseline_models_path = os.path.join('..', 'Baseline_Models', 'clean_test_df.csv')\n",
    "# clean_and_encoded_df.to_csv(baseline_models_path, index=False)\n"
   ]
  },
  {
   "cell_type": "code",
   "execution_count": 617,
   "metadata": {},
   "outputs": [
    {
     "data": {
      "text/html": [
       "<div>\n",
       "<style scoped>\n",
       "    .dataframe tbody tr th:only-of-type {\n",
       "        vertical-align: middle;\n",
       "    }\n",
       "\n",
       "    .dataframe tbody tr th {\n",
       "        vertical-align: top;\n",
       "    }\n",
       "\n",
       "    .dataframe thead th {\n",
       "        text-align: right;\n",
       "    }\n",
       "</style>\n",
       "<table border=\"1\" class=\"dataframe\">\n",
       "  <thead>\n",
       "    <tr style=\"text-align: right;\">\n",
       "      <th></th>\n",
       "      <th>Education</th>\n",
       "      <th>Company_size</th>\n",
       "      <th>Age</th>\n",
       "      <th>Coding_as_hobby</th>\n",
       "      <th>Certifications</th>\n",
       "      <th>Job_type_Full-time employed</th>\n",
       "      <th>Job_type_Independent contractor / Freelancer / Self-employed</th>\n",
       "      <th>Job_type_Other</th>\n",
       "      <th>Job_type_Part-time employed</th>\n",
       "      <th>Remote_work_hybrid</th>\n",
       "      <th>...</th>\n",
       "      <th>Project manager</th>\n",
       "      <th>Scientist</th>\n",
       "      <th>Security professional</th>\n",
       "      <th>Senior Executive (C-Suite, VP, etc.)</th>\n",
       "      <th>Student</th>\n",
       "      <th>System administrator</th>\n",
       "      <th>Work_experience</th>\n",
       "      <th>Coding_experience</th>\n",
       "      <th>Annual_salary</th>\n",
       "      <th>Country</th>\n",
       "    </tr>\n",
       "  </thead>\n",
       "  <tbody>\n",
       "    <tr>\n",
       "      <th>1197</th>\n",
       "      <td>1.0</td>\n",
       "      <td>4.0</td>\n",
       "      <td>3.0</td>\n",
       "      <td>0.0</td>\n",
       "      <td>1.0</td>\n",
       "      <td>1.0</td>\n",
       "      <td>0.0</td>\n",
       "      <td>0.0</td>\n",
       "      <td>0.0</td>\n",
       "      <td>0.0</td>\n",
       "      <td>...</td>\n",
       "      <td>0</td>\n",
       "      <td>0</td>\n",
       "      <td>0</td>\n",
       "      <td>0</td>\n",
       "      <td>0</td>\n",
       "      <td>0</td>\n",
       "      <td>4.0</td>\n",
       "      <td>3.0</td>\n",
       "      <td>140496.0</td>\n",
       "      <td>Israel</td>\n",
       "    </tr>\n",
       "    <tr>\n",
       "      <th>261</th>\n",
       "      <td>3.0</td>\n",
       "      <td>2.0</td>\n",
       "      <td>3.0</td>\n",
       "      <td>0.0</td>\n",
       "      <td>0.0</td>\n",
       "      <td>1.0</td>\n",
       "      <td>0.0</td>\n",
       "      <td>0.0</td>\n",
       "      <td>0.0</td>\n",
       "      <td>0.0</td>\n",
       "      <td>...</td>\n",
       "      <td>0</td>\n",
       "      <td>0</td>\n",
       "      <td>0</td>\n",
       "      <td>0</td>\n",
       "      <td>0</td>\n",
       "      <td>0</td>\n",
       "      <td>4.0</td>\n",
       "      <td>3.0</td>\n",
       "      <td>90000.0</td>\n",
       "      <td>USA</td>\n",
       "    </tr>\n",
       "    <tr>\n",
       "      <th>1605</th>\n",
       "      <td>1.0</td>\n",
       "      <td>1.0</td>\n",
       "      <td>3.0</td>\n",
       "      <td>1.0</td>\n",
       "      <td>1.0</td>\n",
       "      <td>1.0</td>\n",
       "      <td>0.0</td>\n",
       "      <td>0.0</td>\n",
       "      <td>0.0</td>\n",
       "      <td>0.0</td>\n",
       "      <td>...</td>\n",
       "      <td>0</td>\n",
       "      <td>0</td>\n",
       "      <td>0</td>\n",
       "      <td>0</td>\n",
       "      <td>0</td>\n",
       "      <td>0</td>\n",
       "      <td>9.0</td>\n",
       "      <td>9.0</td>\n",
       "      <td>36112.0</td>\n",
       "      <td>India</td>\n",
       "    </tr>\n",
       "    <tr>\n",
       "      <th>507</th>\n",
       "      <td>1.0</td>\n",
       "      <td>4.0</td>\n",
       "      <td>3.0</td>\n",
       "      <td>1.0</td>\n",
       "      <td>1.0</td>\n",
       "      <td>1.0</td>\n",
       "      <td>0.0</td>\n",
       "      <td>0.0</td>\n",
       "      <td>0.0</td>\n",
       "      <td>1.0</td>\n",
       "      <td>...</td>\n",
       "      <td>0</td>\n",
       "      <td>0</td>\n",
       "      <td>1</td>\n",
       "      <td>0</td>\n",
       "      <td>0</td>\n",
       "      <td>0</td>\n",
       "      <td>9.0</td>\n",
       "      <td>9.0</td>\n",
       "      <td>160000.0</td>\n",
       "      <td>USA</td>\n",
       "    </tr>\n",
       "    <tr>\n",
       "      <th>1097</th>\n",
       "      <td>3.0</td>\n",
       "      <td>4.0</td>\n",
       "      <td>4.0</td>\n",
       "      <td>0.0</td>\n",
       "      <td>0.0</td>\n",
       "      <td>1.0</td>\n",
       "      <td>0.0</td>\n",
       "      <td>0.0</td>\n",
       "      <td>0.0</td>\n",
       "      <td>1.0</td>\n",
       "      <td>...</td>\n",
       "      <td>0</td>\n",
       "      <td>0</td>\n",
       "      <td>0</td>\n",
       "      <td>1</td>\n",
       "      <td>0</td>\n",
       "      <td>0</td>\n",
       "      <td>11.8</td>\n",
       "      <td>11.0</td>\n",
       "      <td>95979.0</td>\n",
       "      <td>Germany</td>\n",
       "    </tr>\n",
       "    <tr>\n",
       "      <th>1972</th>\n",
       "      <td>2.0</td>\n",
       "      <td>2.0</td>\n",
       "      <td>5.0</td>\n",
       "      <td>1.0</td>\n",
       "      <td>1.0</td>\n",
       "      <td>1.0</td>\n",
       "      <td>0.0</td>\n",
       "      <td>0.0</td>\n",
       "      <td>0.0</td>\n",
       "      <td>0.0</td>\n",
       "      <td>...</td>\n",
       "      <td>0</td>\n",
       "      <td>0</td>\n",
       "      <td>0</td>\n",
       "      <td>0</td>\n",
       "      <td>0</td>\n",
       "      <td>0</td>\n",
       "      <td>25.0</td>\n",
       "      <td>4.0</td>\n",
       "      <td>74310.0</td>\n",
       "      <td>Australia</td>\n",
       "    </tr>\n",
       "    <tr>\n",
       "      <th>526</th>\n",
       "      <td>1.0</td>\n",
       "      <td>2.0</td>\n",
       "      <td>3.0</td>\n",
       "      <td>1.0</td>\n",
       "      <td>1.0</td>\n",
       "      <td>1.0</td>\n",
       "      <td>0.0</td>\n",
       "      <td>0.0</td>\n",
       "      <td>0.0</td>\n",
       "      <td>0.0</td>\n",
       "      <td>...</td>\n",
       "      <td>0</td>\n",
       "      <td>0</td>\n",
       "      <td>0</td>\n",
       "      <td>0</td>\n",
       "      <td>0</td>\n",
       "      <td>0</td>\n",
       "      <td>11.0</td>\n",
       "      <td>10.0</td>\n",
       "      <td>126000.0</td>\n",
       "      <td>USA</td>\n",
       "    </tr>\n",
       "    <tr>\n",
       "      <th>1217</th>\n",
       "      <td>2.0</td>\n",
       "      <td>3.0</td>\n",
       "      <td>3.0</td>\n",
       "      <td>1.0</td>\n",
       "      <td>1.0</td>\n",
       "      <td>1.0</td>\n",
       "      <td>0.0</td>\n",
       "      <td>0.0</td>\n",
       "      <td>0.0</td>\n",
       "      <td>0.0</td>\n",
       "      <td>...</td>\n",
       "      <td>0</td>\n",
       "      <td>0</td>\n",
       "      <td>0</td>\n",
       "      <td>0</td>\n",
       "      <td>0</td>\n",
       "      <td>0</td>\n",
       "      <td>5.0</td>\n",
       "      <td>5.0</td>\n",
       "      <td>107616.0</td>\n",
       "      <td>Israel</td>\n",
       "    </tr>\n",
       "    <tr>\n",
       "      <th>1302</th>\n",
       "      <td>2.0</td>\n",
       "      <td>0.0</td>\n",
       "      <td>4.0</td>\n",
       "      <td>0.0</td>\n",
       "      <td>0.0</td>\n",
       "      <td>1.0</td>\n",
       "      <td>0.0</td>\n",
       "      <td>0.0</td>\n",
       "      <td>0.0</td>\n",
       "      <td>0.0</td>\n",
       "      <td>...</td>\n",
       "      <td>0</td>\n",
       "      <td>0</td>\n",
       "      <td>0</td>\n",
       "      <td>0</td>\n",
       "      <td>1</td>\n",
       "      <td>0</td>\n",
       "      <td>8.0</td>\n",
       "      <td>8.0</td>\n",
       "      <td>44148.0</td>\n",
       "      <td>France</td>\n",
       "    </tr>\n",
       "    <tr>\n",
       "      <th>1835</th>\n",
       "      <td>2.0</td>\n",
       "      <td>0.0</td>\n",
       "      <td>3.0</td>\n",
       "      <td>1.0</td>\n",
       "      <td>0.0</td>\n",
       "      <td>1.0</td>\n",
       "      <td>0.0</td>\n",
       "      <td>0.0</td>\n",
       "      <td>0.0</td>\n",
       "      <td>0.0</td>\n",
       "      <td>...</td>\n",
       "      <td>0</td>\n",
       "      <td>0</td>\n",
       "      <td>0</td>\n",
       "      <td>0</td>\n",
       "      <td>0</td>\n",
       "      <td>0</td>\n",
       "      <td>10.2</td>\n",
       "      <td>2.0</td>\n",
       "      <td>22764.0</td>\n",
       "      <td>South Africa</td>\n",
       "    </tr>\n",
       "  </tbody>\n",
       "</table>\n",
       "<p>10 rows × 76 columns</p>\n",
       "</div>"
      ],
      "text/plain": [
       "      Education  Company_size  Age  Coding_as_hobby  Certifications  \\\n",
       "1197        1.0           4.0  3.0              0.0             1.0   \n",
       "261         3.0           2.0  3.0              0.0             0.0   \n",
       "1605        1.0           1.0  3.0              1.0             1.0   \n",
       "507         1.0           4.0  3.0              1.0             1.0   \n",
       "1097        3.0           4.0  4.0              0.0             0.0   \n",
       "1972        2.0           2.0  5.0              1.0             1.0   \n",
       "526         1.0           2.0  3.0              1.0             1.0   \n",
       "1217        2.0           3.0  3.0              1.0             1.0   \n",
       "1302        2.0           0.0  4.0              0.0             0.0   \n",
       "1835        2.0           0.0  3.0              1.0             0.0   \n",
       "\n",
       "      Job_type_Full-time employed  \\\n",
       "1197                          1.0   \n",
       "261                           1.0   \n",
       "1605                          1.0   \n",
       "507                           1.0   \n",
       "1097                          1.0   \n",
       "1972                          1.0   \n",
       "526                           1.0   \n",
       "1217                          1.0   \n",
       "1302                          1.0   \n",
       "1835                          1.0   \n",
       "\n",
       "      Job_type_Independent contractor / Freelancer / Self-employed  \\\n",
       "1197                                                0.0              \n",
       "261                                                 0.0              \n",
       "1605                                                0.0              \n",
       "507                                                 0.0              \n",
       "1097                                                0.0              \n",
       "1972                                                0.0              \n",
       "526                                                 0.0              \n",
       "1217                                                0.0              \n",
       "1302                                                0.0              \n",
       "1835                                                0.0              \n",
       "\n",
       "      Job_type_Other  Job_type_Part-time employed  Remote_work_hybrid  ...  \\\n",
       "1197             0.0                          0.0                 0.0  ...   \n",
       "261              0.0                          0.0                 0.0  ...   \n",
       "1605             0.0                          0.0                 0.0  ...   \n",
       "507              0.0                          0.0                 1.0  ...   \n",
       "1097             0.0                          0.0                 1.0  ...   \n",
       "1972             0.0                          0.0                 0.0  ...   \n",
       "526              0.0                          0.0                 0.0  ...   \n",
       "1217             0.0                          0.0                 0.0  ...   \n",
       "1302             0.0                          0.0                 0.0  ...   \n",
       "1835             0.0                          0.0                 0.0  ...   \n",
       "\n",
       "      Project manager  Scientist  Security professional  \\\n",
       "1197                0          0                      0   \n",
       "261                 0          0                      0   \n",
       "1605                0          0                      0   \n",
       "507                 0          0                      1   \n",
       "1097                0          0                      0   \n",
       "1972                0          0                      0   \n",
       "526                 0          0                      0   \n",
       "1217                0          0                      0   \n",
       "1302                0          0                      0   \n",
       "1835                0          0                      0   \n",
       "\n",
       "      Senior Executive (C-Suite, VP, etc.)  Student  System administrator  \\\n",
       "1197                                     0        0                     0   \n",
       "261                                      0        0                     0   \n",
       "1605                                     0        0                     0   \n",
       "507                                      0        0                     0   \n",
       "1097                                     1        0                     0   \n",
       "1972                                     0        0                     0   \n",
       "526                                      0        0                     0   \n",
       "1217                                     0        0                     0   \n",
       "1302                                     0        1                     0   \n",
       "1835                                     0        0                     0   \n",
       "\n",
       "      Work_experience  Coding_experience  Annual_salary       Country  \n",
       "1197              4.0                3.0       140496.0        Israel  \n",
       "261               4.0                3.0        90000.0           USA  \n",
       "1605              9.0                9.0        36112.0         India  \n",
       "507               9.0                9.0       160000.0           USA  \n",
       "1097             11.8               11.0        95979.0       Germany  \n",
       "1972             25.0                4.0        74310.0     Australia  \n",
       "526              11.0               10.0       126000.0           USA  \n",
       "1217              5.0                5.0       107616.0        Israel  \n",
       "1302              8.0                8.0        44148.0        France  \n",
       "1835             10.2                2.0        22764.0  South Africa  \n",
       "\n",
       "[10 rows x 76 columns]"
      ]
     },
     "execution_count": 617,
     "metadata": {},
     "output_type": "execute_result"
    }
   ],
   "source": [
    "pd.read_csv('../input/clean_train_df.csv').sample(10)"
   ]
  },
  {
   "cell_type": "markdown",
   "metadata": {},
   "source": [
    "### Correlation Matrix"
   ]
  },
  {
   "cell_type": "code",
   "execution_count": 618,
   "metadata": {},
   "outputs": [
    {
     "data": {
      "image/png": "[encoded data removed]",
      "text/plain": [
       "<Figure size 1440x1440 with 2 Axes>"
      ]
     },
     "metadata": {},
     "output_type": "display_data"
    }
   ],
   "source": [
    "# Calculate the correlation matrix\n",
    "corr_matrix = wdf_extended_full_encoded.corr()\n",
    "\n",
    "# Set the threshold for selecting the top n features\n",
    "n = 20\n",
    "\n",
    "# Select the top n most correlated features\n",
    "top_corr_features = corr_matrix.nlargest(n, 'Annual_salary')['Annual_salary'].index\n",
    "\n",
    "# Calculate the correlation matrix for the top n features\n",
    "top_corr_matrix = wdf_extended_full_encoded[top_corr_features].corr()\n",
    "\n",
    "# Create a heatmap of the correlation matrix\n",
    "sns.set(font_scale=0.7)\n",
    "fig, ax = plt.subplots(figsize=(20, 20))\n",
    "sns.heatmap(top_corr_matrix, cmap=\"YlGnBu\", annot=True, fmt=\".2f\", square=True, linewidths=.5, cbar_kws={\"shrink\": .5})\n",
    "plt.savefig(\"../paper/data-preparation/train/corr-matrix.pdf\");"
   ]
  },
  {
   "cell_type": "markdown",
   "metadata": {},
   "source": [
    "## Additional Resources"
   ]
  },
  {
   "cell_type": "markdown",
   "metadata": {},
   "source": [
    "**Links:**\n",
    "\n",
    "Survey insights\n",
    "\n",
    "-  https://survey.stackoverflow.co/2022/\n",
    "\n",
    "Kaggle:\n",
    "- EDA y XGBoostRegressor(https://www.kaggle.com/code/do1likethis/which-devs-get-paid-more-and-why)\n",
    "- Data Preprocessing (https://www.kaggle.com/code/th1402/data-preprocessing-analysis-for-so-dev-survey-2022#Fill-remaining-missing-values)\n",
    "- Easy Data Cleaning and regressors comparison with Pycaret (https://www.kaggle.com/code/soheiltehranipour/stackoverflow-2022-salary-prediction)\n",
    "\n",
    "**Notes**\n",
    "\n",
    "One-hot encoding can be used to handle categorical features, but it can make the data too complex to analyze. One-hot encoding creates multiple binary features for each possible option in a categorical feature. This can lead to a high number of features, making it difficult to interpret the data. Therefore, another method is needed to gain insights from the data."
   ]
  }
 ],
 "metadata": {
  "kernelspec": {
   "display_name": "base",
   "language": "python",
   "name": "python3"
  },
  "language_info": {
   "codemirror_mode": {
    "name": "ipython",
    "version": 3
   },
   "file_extension": ".py",
   "mimetype": "text/x-python",
   "name": "python",
   "nbconvert_exporter": "python",
   "pygments_lexer": "ipython3",
   "version": "3.9.12"
  },
  "orig_nbformat": 4,
  "vscode": {
   "interpreter": {
    "hash": "bb04cf8ae90a962192c1ba30dd442a3acf4745e72f6beeb0c6c1932c1d839d66"
   }
  }
 },
 "nbformat": 4,
 "nbformat_minor": 2
}
